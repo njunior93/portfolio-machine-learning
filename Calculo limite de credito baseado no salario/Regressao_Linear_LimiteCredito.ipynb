{
  "nbformat": 4,
  "nbformat_minor": 0,
  "metadata": {
    "colab": {
      "provenance": [],
      "collapsed_sections": [
        "98mOBVLNac9s",
        "iF9zqsdJazqr",
        "krdoOILVb6IJ",
        "_qx1L_IedrbI",
        "GviFgh1ssiLb",
        "lpsxP4lntaC6",
        "D-fPh0nj0Pyr"
      ]
    },
    "kernelspec": {
      "name": "python3",
      "display_name": "Python 3"
    },
    "language_info": {
      "name": "python"
    }
  },
  "cells": [
    {
      "cell_type": "markdown",
      "source": [
        "# Modelo Regressão Linear"
      ],
      "metadata": {
        "id": "98mOBVLNac9s"
      }
    },
    {
      "cell_type": "markdown",
      "source": [
        "## Os dados"
      ],
      "metadata": {
        "id": "zafIJReVagyQ"
      }
    },
    {
      "cell_type": "markdown",
      "source": [
        "### Importando os dados"
      ],
      "metadata": {
        "id": "YHXmUwluajVC"
      }
    },
    {
      "cell_type": "code",
      "source": [
        "import pandas as pd"
      ],
      "metadata": {
        "id": "3jGIpus0ala3"
      },
      "execution_count": 195,
      "outputs": []
    },
    {
      "cell_type": "code",
      "source": [
        "dados = pd.read_excel('/content/drive/MyDrive/Regressao_Linear/BaseDados_RegressaoLinear.xlsx')"
      ],
      "metadata": {
        "id": "OUgMIBlHaqw_"
      },
      "execution_count": 196,
      "outputs": []
    },
    {
      "cell_type": "markdown",
      "source": [
        "### Visualizando os dados"
      ],
      "metadata": {
        "id": "iF9zqsdJazqr"
      }
    },
    {
      "cell_type": "code",
      "source": [
        "dados.head()"
      ],
      "metadata": {
        "colab": {
          "base_uri": "https://localhost:8080/",
          "height": 0
        },
        "id": "wzBPHwpHwhr8",
        "outputId": "d738b0da-a9ed-4314-9c39-1e7ac3d457a2"
      },
      "execution_count": 197,
      "outputs": [
        {
          "output_type": "execute_result",
          "data": {
            "text/plain": [
              "       Salario  Limite_Emprestimo\n",
              "0  1250.219130        2900.124323\n",
              "1  1262.721321        2929.125566\n",
              "2  1275.348535        2958.416822\n",
              "3  1288.102020        2988.000990\n",
              "4  1300.983040        3017.881000"
            ],
            "text/html": [
              "\n",
              "  <div id=\"df-34dbf89d-49aa-4f1a-837c-6052bf51598c\" class=\"colab-df-container\">\n",
              "    <div>\n",
              "<style scoped>\n",
              "    .dataframe tbody tr th:only-of-type {\n",
              "        vertical-align: middle;\n",
              "    }\n",
              "\n",
              "    .dataframe tbody tr th {\n",
              "        vertical-align: top;\n",
              "    }\n",
              "\n",
              "    .dataframe thead th {\n",
              "        text-align: right;\n",
              "    }\n",
              "</style>\n",
              "<table border=\"1\" class=\"dataframe\">\n",
              "  <thead>\n",
              "    <tr style=\"text-align: right;\">\n",
              "      <th></th>\n",
              "      <th>Salario</th>\n",
              "      <th>Limite_Emprestimo</th>\n",
              "    </tr>\n",
              "  </thead>\n",
              "  <tbody>\n",
              "    <tr>\n",
              "      <th>0</th>\n",
              "      <td>1250.219130</td>\n",
              "      <td>2900.124323</td>\n",
              "    </tr>\n",
              "    <tr>\n",
              "      <th>1</th>\n",
              "      <td>1262.721321</td>\n",
              "      <td>2929.125566</td>\n",
              "    </tr>\n",
              "    <tr>\n",
              "      <th>2</th>\n",
              "      <td>1275.348535</td>\n",
              "      <td>2958.416822</td>\n",
              "    </tr>\n",
              "    <tr>\n",
              "      <th>3</th>\n",
              "      <td>1288.102020</td>\n",
              "      <td>2988.000990</td>\n",
              "    </tr>\n",
              "    <tr>\n",
              "      <th>4</th>\n",
              "      <td>1300.983040</td>\n",
              "      <td>3017.881000</td>\n",
              "    </tr>\n",
              "  </tbody>\n",
              "</table>\n",
              "</div>\n",
              "    <div class=\"colab-df-buttons\">\n",
              "\n",
              "  <div class=\"colab-df-container\">\n",
              "    <button class=\"colab-df-convert\" onclick=\"convertToInteractive('df-34dbf89d-49aa-4f1a-837c-6052bf51598c')\"\n",
              "            title=\"Convert this dataframe to an interactive table.\"\n",
              "            style=\"display:none;\">\n",
              "\n",
              "  <svg xmlns=\"http://www.w3.org/2000/svg\" height=\"24px\" viewBox=\"0 -960 960 960\">\n",
              "    <path d=\"M120-120v-720h720v720H120Zm60-500h600v-160H180v160Zm220 220h160v-160H400v160Zm0 220h160v-160H400v160ZM180-400h160v-160H180v160Zm440 0h160v-160H620v160ZM180-180h160v-160H180v160Zm440 0h160v-160H620v160Z\"/>\n",
              "  </svg>\n",
              "    </button>\n",
              "\n",
              "  <style>\n",
              "    .colab-df-container {\n",
              "      display:flex;\n",
              "      gap: 12px;\n",
              "    }\n",
              "\n",
              "    .colab-df-convert {\n",
              "      background-color: #E8F0FE;\n",
              "      border: none;\n",
              "      border-radius: 50%;\n",
              "      cursor: pointer;\n",
              "      display: none;\n",
              "      fill: #1967D2;\n",
              "      height: 32px;\n",
              "      padding: 0 0 0 0;\n",
              "      width: 32px;\n",
              "    }\n",
              "\n",
              "    .colab-df-convert:hover {\n",
              "      background-color: #E2EBFA;\n",
              "      box-shadow: 0px 1px 2px rgba(60, 64, 67, 0.3), 0px 1px 3px 1px rgba(60, 64, 67, 0.15);\n",
              "      fill: #174EA6;\n",
              "    }\n",
              "\n",
              "    .colab-df-buttons div {\n",
              "      margin-bottom: 4px;\n",
              "    }\n",
              "\n",
              "    [theme=dark] .colab-df-convert {\n",
              "      background-color: #3B4455;\n",
              "      fill: #D2E3FC;\n",
              "    }\n",
              "\n",
              "    [theme=dark] .colab-df-convert:hover {\n",
              "      background-color: #434B5C;\n",
              "      box-shadow: 0px 1px 3px 1px rgba(0, 0, 0, 0.15);\n",
              "      filter: drop-shadow(0px 1px 2px rgba(0, 0, 0, 0.3));\n",
              "      fill: #FFFFFF;\n",
              "    }\n",
              "  </style>\n",
              "\n",
              "    <script>\n",
              "      const buttonEl =\n",
              "        document.querySelector('#df-34dbf89d-49aa-4f1a-837c-6052bf51598c button.colab-df-convert');\n",
              "      buttonEl.style.display =\n",
              "        google.colab.kernel.accessAllowed ? 'block' : 'none';\n",
              "\n",
              "      async function convertToInteractive(key) {\n",
              "        const element = document.querySelector('#df-34dbf89d-49aa-4f1a-837c-6052bf51598c');\n",
              "        const dataTable =\n",
              "          await google.colab.kernel.invokeFunction('convertToInteractive',\n",
              "                                                    [key], {});\n",
              "        if (!dataTable) return;\n",
              "\n",
              "        const docLinkHtml = 'Like what you see? Visit the ' +\n",
              "          '<a target=\"_blank\" href=https://colab.research.google.com/notebooks/data_table.ipynb>data table notebook</a>'\n",
              "          + ' to learn more about interactive tables.';\n",
              "        element.innerHTML = '';\n",
              "        dataTable['output_type'] = 'display_data';\n",
              "        await google.colab.output.renderOutput(dataTable, element);\n",
              "        const docLink = document.createElement('div');\n",
              "        docLink.innerHTML = docLinkHtml;\n",
              "        element.appendChild(docLink);\n",
              "      }\n",
              "    </script>\n",
              "  </div>\n",
              "\n",
              "\n",
              "<div id=\"df-6e27ef1d-af4a-4616-8fc9-1f61c109721c\">\n",
              "  <button class=\"colab-df-quickchart\" onclick=\"quickchart('df-6e27ef1d-af4a-4616-8fc9-1f61c109721c')\"\n",
              "            title=\"Suggest charts\"\n",
              "            style=\"display:none;\">\n",
              "\n",
              "<svg xmlns=\"http://www.w3.org/2000/svg\" height=\"24px\"viewBox=\"0 0 24 24\"\n",
              "     width=\"24px\">\n",
              "    <g>\n",
              "        <path d=\"M19 3H5c-1.1 0-2 .9-2 2v14c0 1.1.9 2 2 2h14c1.1 0 2-.9 2-2V5c0-1.1-.9-2-2-2zM9 17H7v-7h2v7zm4 0h-2V7h2v10zm4 0h-2v-4h2v4z\"/>\n",
              "    </g>\n",
              "</svg>\n",
              "  </button>\n",
              "\n",
              "<style>\n",
              "  .colab-df-quickchart {\n",
              "      --bg-color: #E8F0FE;\n",
              "      --fill-color: #1967D2;\n",
              "      --hover-bg-color: #E2EBFA;\n",
              "      --hover-fill-color: #174EA6;\n",
              "      --disabled-fill-color: #AAA;\n",
              "      --disabled-bg-color: #DDD;\n",
              "  }\n",
              "\n",
              "  [theme=dark] .colab-df-quickchart {\n",
              "      --bg-color: #3B4455;\n",
              "      --fill-color: #D2E3FC;\n",
              "      --hover-bg-color: #434B5C;\n",
              "      --hover-fill-color: #FFFFFF;\n",
              "      --disabled-bg-color: #3B4455;\n",
              "      --disabled-fill-color: #666;\n",
              "  }\n",
              "\n",
              "  .colab-df-quickchart {\n",
              "    background-color: var(--bg-color);\n",
              "    border: none;\n",
              "    border-radius: 50%;\n",
              "    cursor: pointer;\n",
              "    display: none;\n",
              "    fill: var(--fill-color);\n",
              "    height: 32px;\n",
              "    padding: 0;\n",
              "    width: 32px;\n",
              "  }\n",
              "\n",
              "  .colab-df-quickchart:hover {\n",
              "    background-color: var(--hover-bg-color);\n",
              "    box-shadow: 0 1px 2px rgba(60, 64, 67, 0.3), 0 1px 3px 1px rgba(60, 64, 67, 0.15);\n",
              "    fill: var(--button-hover-fill-color);\n",
              "  }\n",
              "\n",
              "  .colab-df-quickchart-complete:disabled,\n",
              "  .colab-df-quickchart-complete:disabled:hover {\n",
              "    background-color: var(--disabled-bg-color);\n",
              "    fill: var(--disabled-fill-color);\n",
              "    box-shadow: none;\n",
              "  }\n",
              "\n",
              "  .colab-df-spinner {\n",
              "    border: 2px solid var(--fill-color);\n",
              "    border-color: transparent;\n",
              "    border-bottom-color: var(--fill-color);\n",
              "    animation:\n",
              "      spin 1s steps(1) infinite;\n",
              "  }\n",
              "\n",
              "  @keyframes spin {\n",
              "    0% {\n",
              "      border-color: transparent;\n",
              "      border-bottom-color: var(--fill-color);\n",
              "      border-left-color: var(--fill-color);\n",
              "    }\n",
              "    20% {\n",
              "      border-color: transparent;\n",
              "      border-left-color: var(--fill-color);\n",
              "      border-top-color: var(--fill-color);\n",
              "    }\n",
              "    30% {\n",
              "      border-color: transparent;\n",
              "      border-left-color: var(--fill-color);\n",
              "      border-top-color: var(--fill-color);\n",
              "      border-right-color: var(--fill-color);\n",
              "    }\n",
              "    40% {\n",
              "      border-color: transparent;\n",
              "      border-right-color: var(--fill-color);\n",
              "      border-top-color: var(--fill-color);\n",
              "    }\n",
              "    60% {\n",
              "      border-color: transparent;\n",
              "      border-right-color: var(--fill-color);\n",
              "    }\n",
              "    80% {\n",
              "      border-color: transparent;\n",
              "      border-right-color: var(--fill-color);\n",
              "      border-bottom-color: var(--fill-color);\n",
              "    }\n",
              "    90% {\n",
              "      border-color: transparent;\n",
              "      border-bottom-color: var(--fill-color);\n",
              "    }\n",
              "  }\n",
              "</style>\n",
              "\n",
              "  <script>\n",
              "    async function quickchart(key) {\n",
              "      const quickchartButtonEl =\n",
              "        document.querySelector('#' + key + ' button');\n",
              "      quickchartButtonEl.disabled = true;  // To prevent multiple clicks.\n",
              "      quickchartButtonEl.classList.add('colab-df-spinner');\n",
              "      try {\n",
              "        const charts = await google.colab.kernel.invokeFunction(\n",
              "            'suggestCharts', [key], {});\n",
              "      } catch (error) {\n",
              "        console.error('Error during call to suggestCharts:', error);\n",
              "      }\n",
              "      quickchartButtonEl.classList.remove('colab-df-spinner');\n",
              "      quickchartButtonEl.classList.add('colab-df-quickchart-complete');\n",
              "    }\n",
              "    (() => {\n",
              "      let quickchartButtonEl =\n",
              "        document.querySelector('#df-6e27ef1d-af4a-4616-8fc9-1f61c109721c button');\n",
              "      quickchartButtonEl.style.display =\n",
              "        google.colab.kernel.accessAllowed ? 'block' : 'none';\n",
              "    })();\n",
              "  </script>\n",
              "</div>\n",
              "\n",
              "    </div>\n",
              "  </div>\n"
            ],
            "application/vnd.google.colaboratory.intrinsic+json": {
              "type": "dataframe",
              "variable_name": "dados",
              "summary": "{\n  \"name\": \"dados\",\n  \"rows\": 99,\n  \"fields\": [\n    {\n      \"column\": \"Salario\",\n      \"properties\": {\n        \"dtype\": \"number\",\n        \"std\": 600.8329833362092,\n        \"min\": 1250.21913,\n        \"max\": 3314.9789164114777,\n        \"num_unique_values\": 99,\n        \"samples\": [\n          2316.9214721683175,\n          1861.4059216952176,\n          3217.485876856839\n        ],\n        \"semantic_type\": \"\",\n        \"description\": \"\"\n      }\n    },\n    {\n      \"column\": \"Limite_Emprestimo\",\n      \"properties\": {\n        \"dtype\": \"number\",\n        \"std\": 1378.1139612151221,\n        \"min\": 2900.124323,\n        \"max\": 7423.3849095556725,\n        \"num_unique_values\": 93,\n        \"samples\": [\n          4583.5271660247045,\n          3719.2122213428934,\n          5321.3327458497115\n        ],\n        \"semantic_type\": \"\",\n        \"description\": \"\"\n      }\n    }\n  ]\n}"
            }
          },
          "metadata": {},
          "execution_count": 197
        }
      ]
    },
    {
      "cell_type": "code",
      "source": [
        "dados.info() #informações da tabela importada"
      ],
      "metadata": {
        "colab": {
          "base_uri": "https://localhost:8080/"
        },
        "id": "DLz0kaVUa3q-",
        "outputId": "df13692b-a69d-41a6-d4a0-2ae11774197a"
      },
      "execution_count": 198,
      "outputs": [
        {
          "output_type": "stream",
          "name": "stdout",
          "text": [
            "<class 'pandas.core.frame.DataFrame'>\n",
            "RangeIndex: 99 entries, 0 to 98\n",
            "Data columns (total 2 columns):\n",
            " #   Column             Non-Null Count  Dtype  \n",
            "---  ------             --------------  -----  \n",
            " 0   Salario            99 non-null     float64\n",
            " 1   Limite_Emprestimo  99 non-null     float64\n",
            "dtypes: float64(2)\n",
            "memory usage: 1.7 KB\n"
          ]
        }
      ]
    },
    {
      "cell_type": "code",
      "source": [
        "dados.describe() #Informacoes estatisticas da tabela"
      ],
      "metadata": {
        "colab": {
          "base_uri": "https://localhost:8080/",
          "height": 0
        },
        "id": "VLx8To-Ya_SJ",
        "outputId": "b120628a-a32c-4a0c-c552-81dc72aa2153"
      },
      "execution_count": 199,
      "outputs": [
        {
          "output_type": "execute_result",
          "data": {
            "text/plain": [
              "           Salario  Limite_Emprestimo\n",
              "count    99.000000          99.000000\n",
              "mean   2119.100581        4900.652060\n",
              "std     600.832983        1378.113961\n",
              "min    1250.219130        2900.124323\n",
              "25%    1595.383780        3700.800280\n",
              "50%    2035.792243        4722.412623\n",
              "75%    2597.840528        6026.191986\n",
              "max    3314.978916        7423.384910"
            ],
            "text/html": [
              "\n",
              "  <div id=\"df-c7ddbcc7-0595-4d23-91ce-7f466fae9bf4\" class=\"colab-df-container\">\n",
              "    <div>\n",
              "<style scoped>\n",
              "    .dataframe tbody tr th:only-of-type {\n",
              "        vertical-align: middle;\n",
              "    }\n",
              "\n",
              "    .dataframe tbody tr th {\n",
              "        vertical-align: top;\n",
              "    }\n",
              "\n",
              "    .dataframe thead th {\n",
              "        text-align: right;\n",
              "    }\n",
              "</style>\n",
              "<table border=\"1\" class=\"dataframe\">\n",
              "  <thead>\n",
              "    <tr style=\"text-align: right;\">\n",
              "      <th></th>\n",
              "      <th>Salario</th>\n",
              "      <th>Limite_Emprestimo</th>\n",
              "    </tr>\n",
              "  </thead>\n",
              "  <tbody>\n",
              "    <tr>\n",
              "      <th>count</th>\n",
              "      <td>99.000000</td>\n",
              "      <td>99.000000</td>\n",
              "    </tr>\n",
              "    <tr>\n",
              "      <th>mean</th>\n",
              "      <td>2119.100581</td>\n",
              "      <td>4900.652060</td>\n",
              "    </tr>\n",
              "    <tr>\n",
              "      <th>std</th>\n",
              "      <td>600.832983</td>\n",
              "      <td>1378.113961</td>\n",
              "    </tr>\n",
              "    <tr>\n",
              "      <th>min</th>\n",
              "      <td>1250.219130</td>\n",
              "      <td>2900.124323</td>\n",
              "    </tr>\n",
              "    <tr>\n",
              "      <th>25%</th>\n",
              "      <td>1595.383780</td>\n",
              "      <td>3700.800280</td>\n",
              "    </tr>\n",
              "    <tr>\n",
              "      <th>50%</th>\n",
              "      <td>2035.792243</td>\n",
              "      <td>4722.412623</td>\n",
              "    </tr>\n",
              "    <tr>\n",
              "      <th>75%</th>\n",
              "      <td>2597.840528</td>\n",
              "      <td>6026.191986</td>\n",
              "    </tr>\n",
              "    <tr>\n",
              "      <th>max</th>\n",
              "      <td>3314.978916</td>\n",
              "      <td>7423.384910</td>\n",
              "    </tr>\n",
              "  </tbody>\n",
              "</table>\n",
              "</div>\n",
              "    <div class=\"colab-df-buttons\">\n",
              "\n",
              "  <div class=\"colab-df-container\">\n",
              "    <button class=\"colab-df-convert\" onclick=\"convertToInteractive('df-c7ddbcc7-0595-4d23-91ce-7f466fae9bf4')\"\n",
              "            title=\"Convert this dataframe to an interactive table.\"\n",
              "            style=\"display:none;\">\n",
              "\n",
              "  <svg xmlns=\"http://www.w3.org/2000/svg\" height=\"24px\" viewBox=\"0 -960 960 960\">\n",
              "    <path d=\"M120-120v-720h720v720H120Zm60-500h600v-160H180v160Zm220 220h160v-160H400v160Zm0 220h160v-160H400v160ZM180-400h160v-160H180v160Zm440 0h160v-160H620v160ZM180-180h160v-160H180v160Zm440 0h160v-160H620v160Z\"/>\n",
              "  </svg>\n",
              "    </button>\n",
              "\n",
              "  <style>\n",
              "    .colab-df-container {\n",
              "      display:flex;\n",
              "      gap: 12px;\n",
              "    }\n",
              "\n",
              "    .colab-df-convert {\n",
              "      background-color: #E8F0FE;\n",
              "      border: none;\n",
              "      border-radius: 50%;\n",
              "      cursor: pointer;\n",
              "      display: none;\n",
              "      fill: #1967D2;\n",
              "      height: 32px;\n",
              "      padding: 0 0 0 0;\n",
              "      width: 32px;\n",
              "    }\n",
              "\n",
              "    .colab-df-convert:hover {\n",
              "      background-color: #E2EBFA;\n",
              "      box-shadow: 0px 1px 2px rgba(60, 64, 67, 0.3), 0px 1px 3px 1px rgba(60, 64, 67, 0.15);\n",
              "      fill: #174EA6;\n",
              "    }\n",
              "\n",
              "    .colab-df-buttons div {\n",
              "      margin-bottom: 4px;\n",
              "    }\n",
              "\n",
              "    [theme=dark] .colab-df-convert {\n",
              "      background-color: #3B4455;\n",
              "      fill: #D2E3FC;\n",
              "    }\n",
              "\n",
              "    [theme=dark] .colab-df-convert:hover {\n",
              "      background-color: #434B5C;\n",
              "      box-shadow: 0px 1px 3px 1px rgba(0, 0, 0, 0.15);\n",
              "      filter: drop-shadow(0px 1px 2px rgba(0, 0, 0, 0.3));\n",
              "      fill: #FFFFFF;\n",
              "    }\n",
              "  </style>\n",
              "\n",
              "    <script>\n",
              "      const buttonEl =\n",
              "        document.querySelector('#df-c7ddbcc7-0595-4d23-91ce-7f466fae9bf4 button.colab-df-convert');\n",
              "      buttonEl.style.display =\n",
              "        google.colab.kernel.accessAllowed ? 'block' : 'none';\n",
              "\n",
              "      async function convertToInteractive(key) {\n",
              "        const element = document.querySelector('#df-c7ddbcc7-0595-4d23-91ce-7f466fae9bf4');\n",
              "        const dataTable =\n",
              "          await google.colab.kernel.invokeFunction('convertToInteractive',\n",
              "                                                    [key], {});\n",
              "        if (!dataTable) return;\n",
              "\n",
              "        const docLinkHtml = 'Like what you see? Visit the ' +\n",
              "          '<a target=\"_blank\" href=https://colab.research.google.com/notebooks/data_table.ipynb>data table notebook</a>'\n",
              "          + ' to learn more about interactive tables.';\n",
              "        element.innerHTML = '';\n",
              "        dataTable['output_type'] = 'display_data';\n",
              "        await google.colab.output.renderOutput(dataTable, element);\n",
              "        const docLink = document.createElement('div');\n",
              "        docLink.innerHTML = docLinkHtml;\n",
              "        element.appendChild(docLink);\n",
              "      }\n",
              "    </script>\n",
              "  </div>\n",
              "\n",
              "\n",
              "<div id=\"df-1ecbc9db-06d7-46b5-b34b-3943e0a9da93\">\n",
              "  <button class=\"colab-df-quickchart\" onclick=\"quickchart('df-1ecbc9db-06d7-46b5-b34b-3943e0a9da93')\"\n",
              "            title=\"Suggest charts\"\n",
              "            style=\"display:none;\">\n",
              "\n",
              "<svg xmlns=\"http://www.w3.org/2000/svg\" height=\"24px\"viewBox=\"0 0 24 24\"\n",
              "     width=\"24px\">\n",
              "    <g>\n",
              "        <path d=\"M19 3H5c-1.1 0-2 .9-2 2v14c0 1.1.9 2 2 2h14c1.1 0 2-.9 2-2V5c0-1.1-.9-2-2-2zM9 17H7v-7h2v7zm4 0h-2V7h2v10zm4 0h-2v-4h2v4z\"/>\n",
              "    </g>\n",
              "</svg>\n",
              "  </button>\n",
              "\n",
              "<style>\n",
              "  .colab-df-quickchart {\n",
              "      --bg-color: #E8F0FE;\n",
              "      --fill-color: #1967D2;\n",
              "      --hover-bg-color: #E2EBFA;\n",
              "      --hover-fill-color: #174EA6;\n",
              "      --disabled-fill-color: #AAA;\n",
              "      --disabled-bg-color: #DDD;\n",
              "  }\n",
              "\n",
              "  [theme=dark] .colab-df-quickchart {\n",
              "      --bg-color: #3B4455;\n",
              "      --fill-color: #D2E3FC;\n",
              "      --hover-bg-color: #434B5C;\n",
              "      --hover-fill-color: #FFFFFF;\n",
              "      --disabled-bg-color: #3B4455;\n",
              "      --disabled-fill-color: #666;\n",
              "  }\n",
              "\n",
              "  .colab-df-quickchart {\n",
              "    background-color: var(--bg-color);\n",
              "    border: none;\n",
              "    border-radius: 50%;\n",
              "    cursor: pointer;\n",
              "    display: none;\n",
              "    fill: var(--fill-color);\n",
              "    height: 32px;\n",
              "    padding: 0;\n",
              "    width: 32px;\n",
              "  }\n",
              "\n",
              "  .colab-df-quickchart:hover {\n",
              "    background-color: var(--hover-bg-color);\n",
              "    box-shadow: 0 1px 2px rgba(60, 64, 67, 0.3), 0 1px 3px 1px rgba(60, 64, 67, 0.15);\n",
              "    fill: var(--button-hover-fill-color);\n",
              "  }\n",
              "\n",
              "  .colab-df-quickchart-complete:disabled,\n",
              "  .colab-df-quickchart-complete:disabled:hover {\n",
              "    background-color: var(--disabled-bg-color);\n",
              "    fill: var(--disabled-fill-color);\n",
              "    box-shadow: none;\n",
              "  }\n",
              "\n",
              "  .colab-df-spinner {\n",
              "    border: 2px solid var(--fill-color);\n",
              "    border-color: transparent;\n",
              "    border-bottom-color: var(--fill-color);\n",
              "    animation:\n",
              "      spin 1s steps(1) infinite;\n",
              "  }\n",
              "\n",
              "  @keyframes spin {\n",
              "    0% {\n",
              "      border-color: transparent;\n",
              "      border-bottom-color: var(--fill-color);\n",
              "      border-left-color: var(--fill-color);\n",
              "    }\n",
              "    20% {\n",
              "      border-color: transparent;\n",
              "      border-left-color: var(--fill-color);\n",
              "      border-top-color: var(--fill-color);\n",
              "    }\n",
              "    30% {\n",
              "      border-color: transparent;\n",
              "      border-left-color: var(--fill-color);\n",
              "      border-top-color: var(--fill-color);\n",
              "      border-right-color: var(--fill-color);\n",
              "    }\n",
              "    40% {\n",
              "      border-color: transparent;\n",
              "      border-right-color: var(--fill-color);\n",
              "      border-top-color: var(--fill-color);\n",
              "    }\n",
              "    60% {\n",
              "      border-color: transparent;\n",
              "      border-right-color: var(--fill-color);\n",
              "    }\n",
              "    80% {\n",
              "      border-color: transparent;\n",
              "      border-right-color: var(--fill-color);\n",
              "      border-bottom-color: var(--fill-color);\n",
              "    }\n",
              "    90% {\n",
              "      border-color: transparent;\n",
              "      border-bottom-color: var(--fill-color);\n",
              "    }\n",
              "  }\n",
              "</style>\n",
              "\n",
              "  <script>\n",
              "    async function quickchart(key) {\n",
              "      const quickchartButtonEl =\n",
              "        document.querySelector('#' + key + ' button');\n",
              "      quickchartButtonEl.disabled = true;  // To prevent multiple clicks.\n",
              "      quickchartButtonEl.classList.add('colab-df-spinner');\n",
              "      try {\n",
              "        const charts = await google.colab.kernel.invokeFunction(\n",
              "            'suggestCharts', [key], {});\n",
              "      } catch (error) {\n",
              "        console.error('Error during call to suggestCharts:', error);\n",
              "      }\n",
              "      quickchartButtonEl.classList.remove('colab-df-spinner');\n",
              "      quickchartButtonEl.classList.add('colab-df-quickchart-complete');\n",
              "    }\n",
              "    (() => {\n",
              "      let quickchartButtonEl =\n",
              "        document.querySelector('#df-1ecbc9db-06d7-46b5-b34b-3943e0a9da93 button');\n",
              "      quickchartButtonEl.style.display =\n",
              "        google.colab.kernel.accessAllowed ? 'block' : 'none';\n",
              "    })();\n",
              "  </script>\n",
              "</div>\n",
              "\n",
              "    </div>\n",
              "  </div>\n"
            ],
            "application/vnd.google.colaboratory.intrinsic+json": {
              "type": "dataframe",
              "summary": "{\n  \"name\": \"dados\",\n  \"rows\": 8,\n  \"fields\": [\n    {\n      \"column\": \"Salario\",\n      \"properties\": {\n        \"dtype\": \"number\",\n        \"std\": 1047.9415978527206,\n        \"min\": 99.0,\n        \"max\": 3314.9789164114777,\n        \"num_unique_values\": 8,\n        \"samples\": [\n          2119.1005813894876,\n          2035.792243045518,\n          99.0\n        ],\n        \"semantic_type\": \"\",\n        \"description\": \"\"\n      }\n    },\n    {\n      \"column\": \"Limite_Emprestimo\",\n      \"properties\": {\n        \"dtype\": \"number\",\n        \"std\": 2404.140436964499,\n        \"min\": 99.0,\n        \"max\": 7423.3849095556725,\n        \"num_unique_values\": 8,\n        \"samples\": [\n          4900.652059560774,\n          4722.412622682419,\n          99.0\n        ],\n        \"semantic_type\": \"\",\n        \"description\": \"\"\n      }\n    }\n  ]\n}"
            }
          },
          "metadata": {},
          "execution_count": 199
        }
      ]
    },
    {
      "cell_type": "markdown",
      "source": [
        "### Separando os dados"
      ],
      "metadata": {
        "id": "krdoOILVb6IJ"
      }
    },
    {
      "cell_type": "code",
      "source": [
        "x = dados[['Salario']] #As variaveis"
      ],
      "metadata": {
        "id": "34LEJ5Pwb8mK"
      },
      "execution_count": 200,
      "outputs": []
    },
    {
      "cell_type": "code",
      "source": [
        "y = dados['Limite_Emprestimo'] #O \"Target\"."
      ],
      "metadata": {
        "id": "Y2zcsMIjcDAV"
      },
      "execution_count": 201,
      "outputs": []
    },
    {
      "cell_type": "code",
      "source": [
        "x.shape"
      ],
      "metadata": {
        "colab": {
          "base_uri": "https://localhost:8080/"
        },
        "id": "5Kqj6APPcG0U",
        "outputId": "d5653a1c-8611-42d6-fb13-61a4f33dd79a"
      },
      "execution_count": 202,
      "outputs": [
        {
          "output_type": "execute_result",
          "data": {
            "text/plain": [
              "(99, 1)"
            ]
          },
          "metadata": {},
          "execution_count": 202
        }
      ]
    },
    {
      "cell_type": "code",
      "source": [
        "y.shape"
      ],
      "metadata": {
        "colab": {
          "base_uri": "https://localhost:8080/"
        },
        "id": "i6aS-1ZvcH6K",
        "outputId": "509bfa8e-b87e-499f-eca8-bd39fbd89d8d"
      },
      "execution_count": 203,
      "outputs": [
        {
          "output_type": "execute_result",
          "data": {
            "text/plain": [
              "(99,)"
            ]
          },
          "metadata": {},
          "execution_count": 203
        }
      ]
    },
    {
      "cell_type": "markdown",
      "source": [
        "**Separação dos dados de treino e teste**"
      ],
      "metadata": {
        "id": "LrlNLYidcXgr"
      }
    },
    {
      "cell_type": "code",
      "source": [
        "from sklearn.model_selection import train_test_split"
      ],
      "metadata": {
        "id": "iY6SJYCQccHM"
      },
      "execution_count": 204,
      "outputs": []
    },
    {
      "cell_type": "code",
      "source": [
        "x_treino, x_teste, y_treino,y_teste = train_test_split(x,y, test_size=0.20) #Separando os dados de treino e de teste. X e Y, cada um irao ser divididos desta forma. Sendo 30% para teste e 70% para treino"
      ],
      "metadata": {
        "id": "TUnLM0iTcdas"
      },
      "execution_count": 205,
      "outputs": []
    },
    {
      "cell_type": "code",
      "source": [
        "print(len(x_treino),len(x_teste))"
      ],
      "metadata": {
        "colab": {
          "base_uri": "https://localhost:8080/"
        },
        "id": "gGYFA5Xzw5Hf",
        "outputId": "9271c0c2-4211-47b7-ea7a-f315de97df84"
      },
      "execution_count": 206,
      "outputs": [
        {
          "output_type": "stream",
          "name": "stdout",
          "text": [
            "79 20\n"
          ]
        }
      ]
    },
    {
      "cell_type": "markdown",
      "source": [
        "### Relação entre o eixo x com y"
      ],
      "metadata": {
        "id": "_qx1L_IedrbI"
      }
    },
    {
      "cell_type": "markdown",
      "source": [
        "**Visualizando com seaborn**"
      ],
      "metadata": {
        "id": "enZPrOpdd3Mc"
      }
    },
    {
      "cell_type": "code",
      "source": [
        "import seaborn as sns"
      ],
      "metadata": {
        "id": "KT06TE8WcdJZ"
      },
      "execution_count": 207,
      "outputs": []
    },
    {
      "cell_type": "code",
      "source": [
        "sns.pairplot(dados, x_vars=['Salario'], y_vars=['Limite_Emprestimo'], size=7, kind='reg')"
      ],
      "metadata": {
        "colab": {
          "base_uri": "https://localhost:8080/",
          "height": 0
        },
        "id": "WvNjCq81d8Rs",
        "outputId": "950c5a06-e4e2-499b-835a-7785faf1ad55"
      },
      "execution_count": 208,
      "outputs": [
        {
          "output_type": "stream",
          "name": "stderr",
          "text": [
            "/usr/local/lib/python3.10/dist-packages/seaborn/axisgrid.py:2100: UserWarning: The `size` parameter has been renamed to `height`; please update your code.\n",
            "  warnings.warn(msg, UserWarning)\n"
          ]
        },
        {
          "output_type": "execute_result",
          "data": {
            "text/plain": [
              "<seaborn.axisgrid.PairGrid at 0x7e2b03593820>"
            ]
          },
          "metadata": {},
          "execution_count": 208
        },
        {
          "output_type": "display_data",
          "data": {
            "text/plain": [
              "<Figure size 700x700 with 1 Axes>"
            ],
            "image/png": "[encoded data removed]"
          },
          "metadata": {}
        }
      ]
    },
    {
      "cell_type": "markdown",
      "source": [
        "*O uso do grafico acima é para verificar a linha de regressao (releção entre o eixe x e o eixo y). Quanto menos a linha for horizontal, sendo mais inclinada, maior a relação.*"
      ],
      "metadata": {
        "id": "yszRyLl0qLKl"
      }
    },
    {
      "cell_type": "markdown",
      "source": [
        "**Usando o numpy as np**"
      ],
      "metadata": {
        "id": "jLg7Q_07pChF"
      }
    },
    {
      "cell_type": "code",
      "source": [
        "import numpy as np"
      ],
      "metadata": {
        "id": "1lNbux2od8OD"
      },
      "execution_count": 209,
      "outputs": []
    },
    {
      "cell_type": "code",
      "source": [
        "x_var = dados['Salario'].values"
      ],
      "metadata": {
        "id": "q6N-vHdfd8JF"
      },
      "execution_count": 210,
      "outputs": []
    },
    {
      "cell_type": "code",
      "source": [
        "y_var = dados['Limite_Emprestimo'].values"
      ],
      "metadata": {
        "id": "FFEFH02-d8DB"
      },
      "execution_count": 211,
      "outputs": []
    },
    {
      "cell_type": "code",
      "source": [
        "correlação = np.corrcoef(x_var.T,y_var)"
      ],
      "metadata": {
        "id": "0jMPyP6QpQN_"
      },
      "execution_count": 212,
      "outputs": []
    },
    {
      "cell_type": "code",
      "source": [
        "correlação"
      ],
      "metadata": {
        "colab": {
          "base_uri": "https://localhost:8080/"
        },
        "id": "aJ1plIuZpYiW",
        "outputId": "94bb47b1-59df-4dec-dab4-0d5982fc8b8f"
      },
      "execution_count": 213,
      "outputs": [
        {
          "output_type": "execute_result",
          "data": {
            "text/plain": [
              "array([[1.        , 0.99949773],\n",
              "       [0.99949773, 1.        ]])"
            ]
          },
          "metadata": {},
          "execution_count": 213
        }
      ]
    },
    {
      "cell_type": "markdown",
      "source": [
        "*A função \"[corrcoef](https://numpy.org/doc/2.0/reference/generated/numpy.corrcoef.html)\" funcionara para verificar se a relação entre a varivel e o resultado alvo é forte ou fraca. Abaixo um grafico que mostra como funciona o nivel de relação que vai de -1 a 1. Quanto mais proximo de 1 mais forte é a relação*\n",
        "\n",
        "*No caso, a relação da variavel com o resultado alvo é de 0.99%*"
      ],
      "metadata": {
        "id": "Gq2Nc55Rqv1s"
      }
    },
    {
      "cell_type": "markdown",
      "source": [
        "![image.png](data:image/png;base64,iVBORw0KGgoAAAANSUhEUgAAAigAAAFoCAIAAADy35cjAAAgAElEQVR4Aex9h3sTx9b396++N4B7N50kpJeb3CTUFDoGG0NopjdjOjYuGNzlIsuS1aVt03fne86MtMg2GENoSXaf86zXq61nZ+Y3p/8/GiwBBwIOBBwIOBBw4B1y4P+9w3sFtwo4EHAg4EDAgYADNACeoBEEHAg4EHAg4MA75UAAPO+U3cHNAg4EHAg4EHAgAJ6gDQQcCDgQcCDgwDvlQAA875Tdwc0CDgQcCDgQcCAAnqANBBwIOBBwIODAO+VAADyvxG72SkcHBwccCDgQcCDgwFIOBMADPCGMYkVFBjFKOaWcMIYZ/Eqp3iMYZRp8iNpPiicEfwMOBByAfqKWgBUBB5bnQAA8wB/MKALgYQpgnq3VfoIBajilglLBKePqIKLgSmHS8hwOfg048C/iwL8ceFhhXvov+uKv96oB8ADfSoBHKIwpqNQwI4hhzEhR4uEAPGQB9rwe34OzAg4EHAg48K/lQAA88Ok18CDGCXUJFYQxpUkjiCHEHMwcSrVSDVBHYCCu9HPF/f/a9hO8eMCBgAMLOEBIoIBfwJDn/vOBAM8z7dYiZVfJv899/jez0wceRCViLmIMgayDEHcQtwF4GC5gjEMBhhzMKeFKP/dmniC4SsCBgAP/CA4EwLOSz/i+gGcR0oAlf1kq6L5W8kqvd4zyL+CIScQ8hwmbU5tjhzsOszCzCKCNsvUgZQ5C4Gyg3BGC2c3r8Ts4K+BAwIF/LwfeC/AUfMaWRZpFOPQWgafgr0YooxwxF1NpM5nnrsmZyZFB8hbJIm4TijgiFHNMBCICU4EpJ4CXwRJwIOBAwIGAA6/AgQB4io7SBLynCbiuuQ5z84IbgpjcsYhBaI5SCyQdRAjhqAg8CnUC4HmF1hYcGnAg4EDAAUrfT3bqD1TiEdqjgAqbcUMwi2PEHGRlnfgsSsclwZwypIAHE6EgirNA4gm6UcCBgAMBB16RA4HE80ziERCbQzBhFmMmJ+BTYBtONJLu6c4ND4tsjhDqUO6Ans2lVDAaAM8rNrfg8IADAQcCDnyYEg9jOpim1MzzLmw8XMWEOpTZjDmMCGq7qUTm4aOxw63hS1fJTITayKHcpi5mAfAEvSfgQMCBgAOvyYF3L/Esp2djTPikMgUo7CEqZka9oI6LfnPhwQXnOgY3A7hjlFBCOWMuwdIy5OhY7HDr6BffTv++D99/KDMZ4WBCGGJcpTkIJJ7XbHbBaQEHPkAOvOnh5QN8xQ/lkd498JTKMYu3fdTRG9rtjRBGCCVqYYwJtTDGuFr+GiP9B1Bgw5hHiUuIJETatpyPy+s3Zz7/Zq5pQ+zr/6JTZ+T0lDQsjrD2qQY/uMDG89c+QHB2wIEPhwMB8Lyzb/GBAg/nLucuA40Wfy7wEEIYY67r/jVOPRd4sKRYIkeOjBgHj840bU5Xr42s/Tj/xwHZ2y8zeQ9hUgjqYYFzwV/jf3B2wIEPiAMB8Lyzj/FhAY9OxAm5OLkrhCeEx5jAmGIEcZq+lIMxRghcm/+yzk2r2ihlhGDEMPIokZRIRmU6bVy7MfvtT/G6TaxmY7J+0/zX/0PnLsnZeekQAbIOVZmqA3fqd9ZWgxsFHAg48A/hwAcCPJD4uTSelINGzfM8qbGHMe5PRhhjtm07jvMmgEd/RUKIg5FFke1q4MHYmZgIHToytvmL+cp1vGpDrn7L9MYvZn4/YA2OuHlLCi1pBRLPP6QbBK8RcCDgwLvkwAcCPOAk5gMPo5wTLrjreZIzF4z5CNu2jTHmHCSMNwo8oDajFFKwMYoExSDxmEb8Ue/o3gPhL39MNX7qlK/LNm2d+/zHyIHWdO8gzeQZ0SV8WJC54F021uBeAQcCDvwzOPBegAeyAygqgA2jLi+UumGccE5cy0SCu5wxy7JjsVhkbi6eTNgIUqSBUgxBuA1VLge+lUbrvHR9tqIGbcE3WuROV3TQVvYajhhHnEEZBJcRiRGaDVsPH5DT5+Jf/pBs2Jz76n/eiQ6vu5fORnHe0HkAX0nVph9swQMV/2FQ44eXElOqvOLvb+vvIoaUclJvF1n0Sg9AGEUc8tqBdlRVLQIjnd6EOClGdBEjFmT2fiW+vvLBSz+vZjmiFKnJlvaN0VI711/K/0yFDfhYhc+nCx8ubBLQz1Rfg2pVOvVH8Vv7XRB8UrVbqmrVumUteBmVJpFgBlQ8vXCANqaqxlRQiuhZKaNc54jHqlRjsVrjgssu+kc/UGkjX/guiw73W+yC/aV6lwU/LPjHP7ewofv+szVlhBby38PO56SpXPbRFtzr7/rP+wIe3YwK/GVEcCJUm2CwASM/eJblDTo5k7jXPXiv+/HY1GzespXKDcwrLheCMYZJaUsqjHQqo7Uu11b6WZZ2xOKvGGObEAcUbhgSUTNk8WxKpuKy+1F2157Ex19mf/lV3rovZ+e8bJ46SBl4IMUOh/u/fClmv9Z5RhcfD8ADcPuMPhzgWdyHFo9MClpKdqpQKCiqpzAG3lcNCoVOR6keX+AsGAU1Oi3mR/D/G+GAHmkXrSmgDtPAA2WlVDeBnqG+kE7B/uybEwUGPh4UPxdc07+uelZOqFAYgEkhj3vx2oA6WFDI5u4Dj99n9UV0XRK/MehHUrM6+F1dVueygpBtQYQLQ4SaKkIWeQq2WYYVYi3Ht6Xdf9nRHStsxouuuDLg8c/VG1AmYSFp4CEEHvu5wLOiUWXRs/29/n0vwKMbnoYJ+DZ6FgN7CWfEYxRQx7BkOO7d7o22n+89daW3ZyicMmwmPM4FpVQ5vYHerZT8luTv9PcUoOIFxyNkE4oJxZhhBA0fe9iSRkYOPont2jOz5Yvkrj3ywSOZSnPDRI6DMFZzPCZWADwgAjCq0l3DxtKipQp4FPRqACZQYPsdNKOlXdHnm95g6tto8Fj5mkLpPIwYcRgF9aUarvx5QBGK4P1WMlF9B3z419xCNSqGFfAA9BertzPIeAs1qBakWi+dLfk/gFijSvEqMR1EGQyjP8AAfG6OMKAaUf1M6zP0XeCzq/2MUQiScwlxi1N91dr99s9dAuiiJqCCgSAFpLKECEZcTqQLa64aEsYMEWYTZqqXWu5LLm3ty/YxrORCmGKWLq8HPKVXKG4TX+5cOCb5XbB44D/073sBHv3FFeuh1I3D1ISIUyKoKyiE0CRy8umkPHcr/9ufMz+3jh44H3owlk/YAnFPuaDB6C0Y04Wo9bcCUV99JHB+IxSyTFMmGXc5iEaEEOw41EGFhqyas++xoDAQ+o/NuC0E4uBLJy1TDo/M7Px9dOOnoW27xKNeaeYZQjBd1JM3KEX68rnJIuDRo62aYKopPzADtIul9EaAp/QWz91eSZN+Kd4UykQogPG3bU5NzgzOLc6RKgasgQc+uTpSX1aVG38OEq/kwYJjXsqBJR8dE+bAMM1twh3KMUzhGEOYO9RDzMMQQg0LAZsnsSixGDEJtgiGmT9ES6vuSoVDPESEMsVSk4scYSbjBiMmsxGzQZMEfqJC4YvAcLqNqY2QjZCDkeMi00WWix0OAhKhME9xCXJBRwvyGFatRGCbIyhMwm3EEaI2EskczVgyZwgbCfVgtulkEckwlmXMXp4hS4HHH+P9DUbAgxbZcG2KTUYs/RPYdBGiSqzyfWsppY7jIITw4gUUJ6A7AazVMpN/B9ggBGFiYWJgDHZrzdwl8LP82/ztf30vwOOPQoVphQIeEMaRTY0siURQ/zDv6Mz/fiL+w5H4f4/F915K3p1g87Z0mARtsjITlAAPFAbVEyjVvJgA4IHO4RHIhcBh1kUYxhxh+KlQZxS6kprC6OeBSgdQAk5wwpiHibQtOTQyvX33yMZPJrbtZL190spDuywCj0aflTSBBZPHhWO0Egi4nt/52PNGwoOU6hww8kXkT2OXeYWFKoJFGgP4d9HFEUx7qclpTrCs4AYXiAGbOchwoDZxFGnIKchDy848l3m24KdlOKAwnqh6hv4aq9qGtk1Ni5gmMlWiDoGItLE0kbRBCIHPRCi1Cc4hxyTExDAGI8YI54gSSChFXYtKh0vHlSZ3M9RNIpYhPM+YwZBTqJpICeEg1RAAHkANamPQZiOKkYdND5sALBjr7IgOdh0sEGYYw+EEcYI8ZLuO49qOayHXIW7aEsOz+a7+mZFwPm17JueOYDY1EclwluGvBTyl01BlpAIZjmKAXUYswUD9obCCUowpgqfVQo+OZ1+MOIX/FwCPUicq0NbQDWuiOoFKeA86Z0jXEgDPMo35jfykZx6+0AMjmw88loGnJ5N370yeujD7e+vML0cS3x0xvm03fr9i3Al5MQeAB6TvBcCj5B7CVc1qJZZTJlTNHBcRlzCXMgHabDA6QC0dLboXJB5IWMBhZOTw+aGNgRGCUSIRlqYpnw7N/LJjbOOWiW07eW+fNHMUIVAZFEQS0NW+jCmgW1Cd+dnB/ny/OP2HY7SrAjwGqNoUJqqdyhqiWm/hGP/g5Tb0WWDDfDEpZctyFyk+1XLHKDMpU8XCYY0ZsznLC5ZxWdrlWSFsVngdQhlizOKAPQXgUTVcNTNfyseX8Tn4vZQDYKXXxo+l2GNT28RW3jYdhEGecGQmL+fiOBK3LUeVmALJhhgImZjaFKZimDPCoSqITbhFZZ7ImCmjlgwbbDrHZvJ8Hsk0d3Oc2qDKg1Lxyi1BaODREg8h4BRECZbE9iiM7IQ4iGKbCotJk0uTC9U8KGIeotLB0iHSJtKm0hFwu3tjmT1nHx27PjQ4h2JYZqibx8ghec6yLwUerWwvlXuKQwHMUxWB3lzl7KKMmII5ghGwvMK0SetXKAXxDTtq0aIKqFIWLz7w6MENLAilpHo4gKZgWN3O5cxV44/uKb5auvSD/tO2373E84yD/nxZCfcgSBh5+rg/eubMk5b20N7W6M7W7A+tztdtxu5LuVshHnMkYpIToWxyCjNgLAbY4Ap4PEKBMHVV9QKGmUu4R4UgHIq2QTNY4IygfXG0AKTWRFCHE0cQRzqONPJycDD8y7bxjZsnt20XfX3SyLmYgIaPwzhZaFbPXmjpFrRzpZjWmjTh6wa1CKaGBqqGBrCLlHh8PWupCg5h1lWwhC1sxKUN+r1s+49XnBqCuj8veMrlccFSghlcO/CABdjmOA8TXVClYCUbaQuQ7vkB9ixtQK+1R1lxmIOBkJrlcMw4DPkUEU4c4mBKmOu5HoRKm4YMTdkP+uZ7BhOxBMNEuOBPSiBoW+hqvARz6FEQdsBkLOsOhJxLPfOn7k4e7xo+8yB8a9Tsj9FJzNLctcCj0Srcl0K/U69QsLcz8DUAHbjLsIPzKTubJk6auSkmY0JGXG/OFfPCTXIvzWSOyjyVBnUN6qapHM/Kq8PW98effHa49/er4VthNoVkikrCuQfZ5F+iaoMOq1pYKfZAfyxAC+Egq1MBMz/GiOkJQAXiuLbhYMeG1yJEK+cNw8hkMrZt6wD252EP1iKRmiIvdB0CDMMK1TTwcEE9QT2l7SiMD/+GjvBBAI8acBFhOJNFjx5N/3ny0akLM+duoJYL9Ic2+/Mj6V0XM10hFlUSzyLgAZ2pkob99gSTfDUxQQQL1colpSDUI5si+Ngc4nWUUpkgSRC40BXIkcjysCmRBXq2bFoO9Id//nliw8bJbdtcAJ6shwjAzkpTJijgoUXDKcCkkrxgNoocjmwOY7HNkQXa7AIpeymA2iJSnbbgnKpdVD+QddHRtmBToJQ4nBic5Dg2GXYYBvUKhZc1Bc4JbHESAM9rIcoKT1oCPAoAlHsYeAY4YK+gQqGOkZfTU07nrfDpS+M3HsRm5gjCwvMAeDDFTLiYCQQjLoIuxGiGyIFpu+NuZOfJvt1ne/dc6v/j/Miha9MXBtM9STOCRB6mFKbCPPA7ULl0YYapiYEdl0lQM+C8Y0ZyuVAqP54iI2n5JOMNZEV/lj3J8OG0GE2JiZQ7meRTSTqZJI/jbue0ONyT//jEeO2+vi1tT/fcnL4zi2eRtIUrJRZ8sSPAUmap2vWgfygo0GBjEfAor1ooap9Hdm4uHJmfy8Qi83Ozs8n4vJnL6ZSRs7Oz/f394XD4xUJPAXiUmAVqSqY8YBXIUQ4mbYdTi1MEgxcB1GFYjRJKugqAZ+m3e1N7lPRRdNZUkzKY8mfzaGg4cqNruPtJvm9cnr8vf/kTfXEktetiumuCzT0PeIjqVEXHgsLjQZgPWPBsiW3p2IAiRh6AJJuSZk5aeVgbRcrnZIGyMpuRuTSsM2mZmJePeuZ++mlyw8bpbdvdfpB4CkZVkHpermVThyhJBcJ09CnQCQnMQ9WElDqghWCaLOWfY1MGIoFPgiJBgFyCvDdKYM9906QflREwBxBsU2wD9BCwF2vgURJPADxvqh899zrPBx4CQg9InyrBuku5TMRpaMy8fzf659nxllNjF+8mpqLcIZ4QjEJogc0hxoGBbY4TJsDwP52TVx9nDl0OHe4Mn+mLXx7OnOkz912J7L8+fWFkfiSDM1Ad3lBNGoAKxvqCpln5r4L4zz3VG9IWehLJnH8w3n57suVW7MCd2N67sT13owfuxA7fjh29FW27FT3eFTnRFT5xK3z49vz2q/OfnArXHp2uPjK9tn16a/vQbzcm74WdmOPaLiMc7LXPZYe/8+XAA+oEsPFilInNTXde67zQca3zelfntWv37twaGx5OJ1OGYTx58qSjo6OnpyebzaqJJGjbFsk9WuJ5BjyYqVBFrqbJCFSS1ATHT3CvUCJQADz+d3prG4UZEJj7C6S99YlpO/FkLjSdmMuImbTsHJTbT9lfHEmuEHgKjRzaAmbEZnbWTc+zyXH2ZNB59Mh6cN++fw8/vE+6H9Luh6z7Ie/pFiUku7vlg26vu1t098juR/L+fXnufOyHHyfXrgtv2y77+6UJwAORnq8EPGAG0XF4EKDKKXIZkKRK3iKOJLaklqSmZJZkDhBFkKj0bVNB4HMkfkME76II2xIpvLdNBfw2QzZi2FISHgBRoGp7a70LZAuGaKmqTUs8VIADGwTaCO5KB8nBx/FbnTMdZ8cPt4/tORE61ZWajiszKqcUgw0GpuJ6es4wFyJjOA8mrJbO2T/Oh04/yvSl5LAtH8zJ1lvZXWdDJ7pjY1mZZ5Iwg8Bcygce7cGjNOsAPEwID3OZsLwHIev3c0Nftz3dcnRqfet0c1u4qW12fevs5tbZj1vDW1unv2id/Kp14uvWic9bZza0RMr+mFlzOF11zGg6aTYenV1/dGhP1+zdKSvsCBO8iMB5dRm+vhR41DDEGabYyYyPPvl1168H97VeOn/50oUL7W2t5zs6hp4+TSaTPT097e3t9+7d84FH33cR9ih3VWWsVX4+WolHEMKO5VhZx8rYZs6xbGSBUxVxOMP+9HSZl/iH/PReVG3K/Aienb4aGsrbEK4sj4znbZwlcjYvrz/2tp/Of9ka333p5RJPiamGgjO0Y7ipSHage/rMqZE9e5/u3D38y/bRn34Z/3nbxLYdE9t2jG/bEdq+c2KHT7umtu+O/LJ7avvuie2/hrb/Ov/zzsTP22Pf/jeyYfPsth3eQL+0cgJCvgo2HgC4lzQDJdYr1Z+y4EBwi8C2zOfcVNJNzMv4vIzHZDwqE3MyGZbJiExFZTIqk/MyES9QMi41peIQ0/pmKZ2Qb4OS6r1iURmLymRSZrLCsihxEIh6erZBAhvPS9rO6//8IuBRnmNQux3EnbzBBwcTDx7Md3bFjl+Y23M6fPJObiopbYhBYB53PGZ7zHGpI5jDQX8tEinrav/83ovj+y9N35mgM0RGpRzOyfOPrD86ptpuhUdibh57lBlQIx4+NEwAVTJdFeJAoZcL8ObxHC5jtrwzQXednfzsyGTTofnalkR1S6q6JVN3ON10OL3ucGrDofjmw/Mft0Q/aYl+fDS1tiVXvj+7+igpO8ZqTrDGY87a1uiXJ0D2uj9lJqxCcMQybFs58LjCDo0P7d6x+9SJ8xOjodmZma7O6wf3779+7drMzExvb++xY8fu3LmTTqdN04xEIkNDQxMTE8PDw6FQKJ/PI7VEo9FwODwzPTM2PDY6NBGenstnDDNvZDPJUGj06dP+J497h54MDj8dScUzyKIB8Czz7d7ITxp4dNNUwxAVhZAYiBgTFmE56s3m5LV+tuNM9su26K+XU8uo2rSNR/tJe4S4GEjathuLxm7ffrx3/4Ovvnn4yec967f0rds8sOGTwU2fPt706cCmTx9v3jqweWv/Fk2fDWz+7Mmmz/o3f/5oy+d9W74Y27B15tMv57Z+GWveFPmlCDwQolC08mhvr+VYomUwFQTgOMyxhGWIRAINDhn3u83OO+zGbXG9i1/vpDdukM5r5OZVcvMqu3mV37wqbl7TxG9e4zevsa5rdCGxLtjp06JfX/ovu3Wd3brOb9/wSe9Zfu0f7G8sOp533fC6Or2bQLKzk3XedG7ftvv66NyscAydEE9LuogRm4OfG6VMEKCiouRlaL4cw4PfIDC3KPHYJbYWiDjA1CPMU2tpO15sHoUjfGTCO9+V2Xtu7tRDZywlTSa5EFJglzmCArncESDme+ksPnd/bs+FySM35h7NijiTaVdGLNk1SA92TLZdCT2dIjlLKpsfKNZUZL5S7yn/SB0xzKH7uDaT8468NSG2nw1/2jrX3Go2tNl1baiujTS0keY2uq6Nbmwjm4+hLe3Ox+1ocztd3y4a2tzqY7K6zatpFU3t7obj9paj0a9bJw5cn+0P5SxLtxzQL1ACAtCi1rBy4OHMCI0P7dq+6+qlrkwyaxnGQN+j9tbWcx0d4+PjfX197e3td+7cSSQSk5OTN27cOHv2bGdn5/nz58+dOzc8PJzP59Pp9O3bty+cv3Dj2vWL5y+ePnnufMeVkaGxTDqVSEQf9ty7cu3S1Svnr1y8cPZ0R/eDnkw6T8HNoeDOuujJ/3n/vieJB7JFQfPQ5kcVOM1JwUtAWFjkqFTAQ3ecSX91bO63q8nlgQc8vlSAj0uwwAgkHhvLZD7b/3T27IXIoaPJ/Yezew7lfztg/HHI2ttiKjL2thj7WvJFyu1rye1rSe8/ktp/NLPvKP2jBe/4I7n161jDBgU8fdLKgm+cAh4dHrS0cS9tIkr7i7hjMyPH4vPW4NPYqfNjO/ZOfb8z/c2O/Ne/ZL/5Kfntj8lvf0h89238u68S33+Vehmlv/8qU0JZtZ3+/qsl9GXquy9T332R/PY5lPr2i1JKfvtF4pvPnkvJbz7XVyg9Xm8nvvm85JQvUl9/aXz9Teqb7+Lf/nf+2/+Gv/9h9H8/TR5pyfV1u0aKU8sjDqUg9zgcWwA8YAMTEKzujxPaq2IpI4M9K+TAIuDB0MsgKY4KLuASwzxPYiLzJs0aMjwvz9/K/NEx+2cPfpoGXRllXJkdQC0MsSwQ4k0IdTNZ2nE39sf5qdau6EBMZDigVNyQ95+wQ6fHjl0YHQohw5JgLQfLTsGhQLkVaEjQX5YRJmwm47a8NeFt65j9uDXa2GY3tjn1bbiujda3iYZjbmObt+6Y3HDcUyTXtcu1ipqPybXHZONRt/mYt+k423wku3Hv1Fet4+fvhGPRPPROxgnEBEJFlUXKt5UDj2BmaHzo5//9fOHs1VhkPh6N3rnVdfjAgfPnzoVCIR94Jicnu7q6Wltbr1+/PjEx8fDhw/b29mvXrkWj0ZmZmTNnzuzbu/fq5cvdDx5eudx56FDb1as3otFwOpsYeNo/MDQYGh8a6O1uPdJ6+tSZqakZFSTi+z2s8Fv/XQ97L8CjmQU4A5ADSQZcMF/CDgazIeIWgGeA7jiT+urY7GsAj4uwdJCbyojQlBwalsOjcnxSjoXk6IQcGYf1IhqbkJrGJ+R4SI6G5NCYvHIz/e1P0eYts9t2ioE+z8oyDG2bwrRNO7ctnlU9pyEQwhyH5vNOfN4MTaTvP5jcf6Tvk6/HmrYmaj/NVW/KVW9I165L1zYl6+rjdbVAtdWJ2qplKFlblap5RumaKk2Z6qpSylZXZWteSJnqykx1Zbqqwie95znrqgWH+cenqyoWHlyVq6qxq+qzNQ2J2sa5+sZQY2PPuvUDO3Y4Az3STEliSmxxCm6+AfA8p6m8mV0+8GhlF6AOpoA6ysKttQuSUGk5PAeJqeS5W6lfz4aPPXCG0tKgkoATtArdUR764BjiIMfm+ZzouDf3+4Xxo7fCA/M0xWWey7mcvP3YOXB6uPXCk6Fpy7AhpY0LGgxtyl3wSqB1hsQH0qIyYcs7Y3LH2cgnrXNNbVZTq92gsKehjTe2ibXH3A3t3sbjQpG3vt0D7DkuG1rdtcdlc5u77hjfchx/0pb5+EDos0P9pzvHIrNpjIlKqSUY84RwOVhjn/XQlQMPRpnQ+NAP3/2w9/fDnddudl6//ufxY6dPnuzteZRIJAYGBtrb22/fvj00NPTnn38ePnz43r17o6OjT548OXr0aGtr68TExPT09OnTp0+0t48MDaeT6YnxyJ8nzp861TE9PZ63MrPxyFQ0Ep2bGhrsbTvaun//wZGRsYUpDBbw7Z/3z3sBnoJDIyQWVKltMPVKgcehpcCT/OrY7O+vJPEQLIAgbBrgx7Ig+Y1jQ0woxKQhaSNYLyWEoPAodiRSvxqmfDyU/OXXqfUfT23bwQf6PDPzOsCDETENOxlPTU1E+3sj166Fft//dOPnszWbaMUmd/Vab02jKKsX5TW8oppVVtKKSlZewcrLaVkZWbPGJ1pWRsvKWHk5Ky/n5RVuCXll5e6aMnd1mbdqzTNaXSbXlAOVVwBVVBWovFJqKquQZRVyTdkz0nsWrfVF1pR7q8uAlt5CX7+8QpZVybJqWVYry+t4RT2qakjXN42s3xDa+4cceyKtpMRZifIcHPkCieftDSYaeJAysSilgprhqfBerMuPgJ80FQ5mhiPDSdlxa37XmcnWe8ZoWhpIOjbE6YNkzwQXknJhgwu2a+bdq32p3y+MH+6a6aPMgkIAACAASURBVI3zeS7jRM5k5fVe88DZkfarQ0Nhw3BcF4LqwJtGLToheaF0vUqTxW0iLSJTjrw35u4+M/PF0fCGtuyG1vy6NnNtm72+DW84RjcdYx8fo5+0Y0VkSzvd3M43Hhdrj7F1x/m6drr+qLm1PfdF29z3bWP7r4X6JjKmqRLQqSwAMIF1XZ1lwGf0S4FH5YoU4FyAMpMTwz98/+O2n349eeL02dOnr1y88Li/PxaNZjKZ/v7+48eP3759u7e3d69aTp48qfVs+/fvP3Xq1Pj4eCgUOnPmzPmOjkg47Fj2fCzX0XHt1KmOmfBEIh3rHui5fPPGlSvnzpw89tvu3Qf2HxwaGlkYZOg/9T9z4wMBHlc7F2iJ5xnw9JMdZ14VeFSaDkKEClVTnpwQ9iVg8gN/S4kyUUqEc6x87CkHdQMg09BYdNfvY5s+mdi2g/f3ema6ADzKq01bM1/aLjijyMyn58JTg33DXTeGT5+a/G3P2Iaticr1cvU6+Z8G+VGdXFUjV1fKNRWyTEHF6jK5eo1ctVp+tGoxrVoNPwEVAWN1mfxotfzPqsX00WrY/9FquWoNEFyzSHqPXvuHvfbGqjJZoHK5qkKuqpKrquXqGllWa1fXz2zaFD16WE6NKODJSJQVGnjAyS1Qtb20+bzGAT7w+AmNwF0LUtgwmwoIBYUATuVXbSI5m5Rnb83tOjN+7F5uIiUtAB7uYNB428h1sETYxZDVU9qWd3vI2ntpav+16e6oF2EyzmQoLS/3WAfPhU7fnhybRyZ2lZsPhFuquiVC5c5hahuKmSDCbezZRKYd+WAU/35q/OuW8Y0tkY0t0fUt82tbkutb0htashtbsltaMh8fSX18JLnlSHrzkeymI7kNR421bea6E07jkcz6Q7FPWmb+ezzU0hm5N23ELZcxqe5SMKzq2l2vJPEoAQ+Ah+LcVGjkl//9fPJ4x8jQ6FQoFJubtQzDtqxUKtXb26uBp7+/f/fu3fv27bt27drDhw97enq0GJROp2dnZzs6Os6fOxcJh5HlxOfz5xTwTE+PDw717zu8v6X92K2ua13XL+/fs/fQwcNDQyOcuSUhRq/x3f9Op7wX4CkwSMvdSugRkDqzoGoTDhUGlZGcvN6PAXjaVq5qK+Rhkzp1m86LQzlzJeaeTVybeM+IetZCMqkwGLEh/JS5iEmTyKHxmd2/D2/+ZHzbDt7XK400V6o25dmm4hNKBPkXfXZMcT6fic6Enj568OjKhYETxyZ27w5t/CRTvV5+1Cz/r1r+pwqGaRAsyuSaNbBevUqu/kiu+o/86P9eSKv+AwcsoP+Tq0qp+Ovqj+BqpbTgrOJhy99OPwlcv+R42F5VJAVvq8rk6nK5qlLDj11ZFd36ca7jlJwdl3bKUxIPhDCqwFLlXBDYeF7UcF57vw88friC3nAgN41rEW4C/EDuAGIiGUnIjluRXWfG2u9nx+KQn4ZSiYhMmTyRofGEk8khhF3OQGvwaNLbfznye0fo+jCeNGUMyccz8vSt3N6zk5ceJaYyns1kEXioyhMqCfZ87FHAA2lKHSazSHaPGH+cHPzm8OPNLRObW0KbWqY3tIQ3tkQ2tUQ3t0Q/PhTZcmh688GpzQenNx2c3XBwbt3BaO2B2eb21IbjqU2Hpr9sGz/clbg/TSZtlsGMMRBxdNJOpjJtI6jc9cxXZSUSj4pPp5TkwtPju7bvvHjuaiwScyxLBUJApsZkMtnd3X3s2LG7d+8+efLk4MGDLS0tg4ODuVwunU4nk8lMJmNZ1uTkZAF4ZsK2acXmMmdOXz59uiM0OXb3wZ3tv+7svHM7HpudGhs+2X48AJ7XbuuvdKISuJV/gTqtMEMpXAKajLCIjGXlrT5zz6nwT0fGD16euzuJ5x2JuISEenAMTKgg+6ca/1XaMQhI1slXoGiCEMp9AUK4hOtSxm2ELNuGXLIqvhQTyEOlCVJkU+6ApymHEj9YeIhLk8rhidlf94xv3jrx8w7+6JGbS3MCz418P+plgafwYgQhK5+ORYYf99y7cv7+ibanf+wd+fzbSP1GsqbZW1Xv/acaxB0QR1YDgXRSpKUSz4v2rFoNEtJfpBdd3N8PMLPoLkuAZ1W5XF3JV1Xhj6qMmqbMD//DXddlbEo6aU7yEpuCQJC5A6UiYCZezAi3koDcV2pm/+aDn+egAcE9pU0eOZg42Isl6YXbY7+dfXzqQWIq6iIqXSkRlfMp+mQ4fe/h3OOhZDoDCQdsxxuPyo676T9Ojxy7Ebn91BmYcq8+Mg5fCLVdDT0KmQlbYi6hD0K35KrYI/iZqoxtOhU1zOqgozGZQ3JwOnvh3ljr9ZGDnbOKIgc65w50zh28Gd13Pbzv8tS+y6E9l0N/XJ789crMzqvz352PrmsLNbaMbTk+9cnRx3tvhu/OOLNIppiwloR0az1b6dpvEP6ooUz5yl4LsobKzAYxpFCYcmYqtGv7zssXrsRj85DSTqdrY8w0ze7u7vb29u7u7rGxsUuXLu3bt6+zs3NGLU+fPp2cnEylUuPj42fOnDl18uTU5KRt23OR2OnTgESTkxP3uh/8smvn2Qvnx0eHe+7d3f/7Hwf2HxgdHVMimv9o/sP+Mzfei8SDix1AZw7XneTZmlDuYJnIyHu9uUMnJ3YdHjp6ceqhataISZCT4Os8J1jM/2hcLf5kh3Ol8IWsUWrKBckKgfw0/iBvFQqNuJR6jLgKeIgcHo/8uie06bPJn3fyR70APCqMW2fngKmUStr2oqZRTM5BkJXPxOdGn/bdu36xq/1o3559j7/6PtS02apo5msaxUfVYnWFAMj5SJESegqmF6V5K1pZQCrS4/5StZhv0fEPfq5irVTJ5h/gbywGlUUYU9TalV4EVH+rgAo7y+Sqcnd1JSmrQdXN+bWbrd/3eH09XiLMnTShhkdsoXLF62o9WnZ8EQOD/W+UA4X4OZhlKXIIsbFIpNHN7vGWS48vdMci85CsmrmQmjMaJw8fzZ84PXjx6vBk2LTBNuolDPlgGLVdDu07PXj4zGD7+actHYNtl4avdkdCcZxDHoJku3oyqIEHag2DsZWAjk+lI6TgYsc9A4uphBHOopm8mDJkKYUMOZYREyk+nuJjKT6SESM52ZeWV6fdr08PrT9w74u2nj3Xx7pjeNYReUgAgCD7zcuWRcwsPmdx6gqPXYiQEIzPTE0fPHDg9q07Rt7QU1iVUBjqooyMjFy7du3JkyepVGpqaur06dO7d+/+7bff9u3bt2fPHh3fE41Gb9y4cfXq1Wg0ihCKxWKdsNyMRGan52aPnzm998D+o0dajh9tPdl27OL5CxMTE4se75/973sBHkSZpcgu9IFCLV7tf4kIoQjLRFref5Q6cmL4t0P9Jy6OP57M5xyJIW0tFAthnBdsly/+Pj7wgNQDi/K5ppBNZynwqM6ia3JLRjwAHgv5wDOzfbfsfyzNvFC5nXAxSegrAE8yNhUaHnh4+0HHqe69+/q//XFi/SdmzXpS0URX1/A1lWLNam/NR2oQXxZ4fJBYtOHjjb/hH7AAJ7RCbInVxz/4pRuLrgZS2ipvzaqilFbmrS5nayrt8ppcdVPm462kvV1OjUuUoySPdH4qJS9q1Nclw178DYNf3iAHFgOPDeWRwOFmKmrc6Jm+8zgRS4LlHzFpYRmN0+7eeGt7z4nTPU9GEjaShEmDyLgp+0L4bNfEqSuD52886Xo43TeamZwnGcdF1C3kI4SnfgY8FKqUKO2e0lRAdQHOLSjf5llC5qibZ95CcnOEmpAJW5hU5JjIuXLGYndCqR+P3fj+yNVDV/p6pvNxIi3BGM17NC+oo0BjOfBZOSsJIbZtz8/P5/N5fxjxzUWmaWYymVwup1V5iURiYmJicHBwaGhobGwskUjoFAbZbFYfA2VfEcrlctlsFiHkUBLPpGPx+fj8fDqRyMYTmXTasiz/+it/zr/vke8FePwOYBcRqDAFK+IQdWyZSrl9/YkzZ4da23ouXxuemMoYNsyVHIIdECWeeUmukPtKK1YaW1BI6aE1v+oiUF6OQk5PDkpuy5LDo1rimQbgGZBmTjBI9OuoofOlEo/K1AQJ1ZFtZVOJ8EzoSd/De+fP3D14oPvHn0a2fJZp3GRWr0Xlday8hpVXuGVlXlkZuBgAeBR9B/yNl0LCOz6g8GBrZNlqr2y1euBy9fBV3ppaXN6QqV2X+uo7cuGiDM9IbDFBMDh4QF4QqHutSAuFK/yCwWF/jQOFVFU6XyeFKjscChDAZM5LGzxjQvCbTaRDAXtyeTk8nD99su/K5SfhsEGYRBTcDXKWjOeAUjmRzdGcQQ3bNRzhKM035DgoLAXg0Qn/Vc/SmnHdB0H5QLlgwkXFKk26VpOjaivYUPoH0oTYmFiMm643a6L745E9p6+f7Oztn0rOGSxHucOQYJYkFmSS8xXgxSd42381wNi2bRhGTi0aWnR1OH33pUjIhSg0fuXp5KqCYfqwt/3AH8713wvw6A4A6aQKOrcFEg84cmLk5bLu2Ejm1s3QxfMD9+6MhWczlgMNEYw0IMDodOuvwMmlwKPTKWt48OVuPVWDfNVQgfQvAg9clVFGMMrnsnNz4dGnjx9evXTnaMuDX7Y9/fSLRPPmTO1as6Keltey8kpRVu4C/U2Ap4BzYJfyQO5ZA24Fqyu91ZWirNapbEo3bcn8vIPfvC2j867jQDQfBxs1RMEXtDGFPMGv8BWDQ/8SB54ptCGCuxBIJ6BbEYGZJAKIuhIzGYvTvkex65dGersjqSSlHAoQYMRti5uOJFxyJl39NbnHwOvaVTLHYuBRaTcLOXVVdmqlKVdF6FxdIHhxySiKKELMZqquD6TRpa4l3ASiQ3Ppm/0TA6FYwuIWlw7nGJLNg/JWhQ35t14pjxawY6UnPTtOA4+uQ+orYHS+HP2vLy09O4dSIQqVXmEUK1IAPKUseqvbRfhZMlWBeQCVnEozKxNRPjdjx6N2Jm07CEE8NIQY6Cydr/Z4CngWtLQl9TmIrhTDKfaw8yLgIQxKMRYStb1E8IIJvXYkNQwjFotOjAz3dt283d52Z8eOvs+/nFv3cap2nVHRQMvreHmVBh5eXuGBU/USiefN7ykH7+1SeuktAGyKjg/P2QB/Nnd1JSurNaqbEhu3ZvYccLv7ZCLj2ghmvkwKCqX8fGW6xvtX+5DB0W+MAzpOnhEKJakth2AO/p9ESBN5YxPpu7cneu6Gw5O2aag68sJlRGBb6CoiFHkcQ/5qIVwmXMoFF8rdp2A0KUg8JcCjUtlAuIpK/oGpx7jHIRu0motAwhhNBLL+OCppgsrlzqD2QYbw6ZQ5nbSjOWRQF3seFLKBcFhdXvqVmQJjwZKSHq90FY0uGFJDMKEW13V94HnRpUqBZ5E89KJT/nn734vEUzS6F+a7hdmQz1xIekE8V0CVKtuStilhkmWa4MYGc2WQd6CNLwxL9k9f+YYPPErKwS513IIRArsvAB5P9Q2YLKplJWpZv3WmMunJqdBA94OeC+du79/b/cOP05u3pqvX2eWNpLyBlVeLsnIBIaIQPcrLy0RZmVa+gf4NVHAlpJRy3rLrxaeUnq63lz1dX3zBTZdeYY16MP148ITlcnWFXF0hympytc3Rr74xz56R4xMykxem7UIqKkkJxMyrin2uqlsKoYYr/2TBkW+UA4WuR/RECoJswPUNEWHaPJEiU5NGNELzWQ85HjjdCMmYxMjFyEWOixyBEfgOcO4J4XEBKWp0hFtJPIqfA6Z0o6An5xzAaukbuQRSs7uUCA4FqbFwbeEZzI0bTspBOUwtJrAnIDWPC95z0JFfWfW+9LZLcGgRLIEL0uJF927tvuS6roYfPUzpQ33Rx9/wf12EOisZTBbf/m/7/wcCPL7qRbcgqNbO1CDl2K5tebbNbNuGZqqkVD2/eFPAo3V2UK2A2i41VY0mBMBjP0fV5lEuoKjoqwGPBstcPh+Ziww/Hui9dvn2kUMPf/ll/OPPYjVrjYpGXN5Ay6s54M0aUlFOIT1BGWBP+TPsKYUZtwxgaRnyEav0rEXbb+Qipdd015RrouU16frm+C8/i9tdci4iDcu1HI8IAZADhIEgahjiDCFgL1jeCwcWD9hQQYdiRLCDmWW7pikdS2IEgTiQyYB7nHmMeSpAB1Ki6Q3GXAAeXojOfhnqPFOS+z269OUZuMFhSYkHiRNURXvuYe45zMsj8DiwmXCYi1WRXiqEmgpCiEXpRV57e4FKpGiJ9HcuvexLgWfpKYHEQyn9cICndELEVcRZQVTHkP4GfNhgNlWUeLTD9F+cI2iJpwR4LJcanEIdtjcLPFrVa1kWOMCMjXZ3Xu1qP3J35/YnW7+Yql+XrmpCCnggTU7FGlRRRirKaHmZwp5yUa4NP4BAiuBfoWCJF9blCrEAqBTpf8uLx5cpu9FzL1I4Up3+nO3irfW5L1qXPliFWwbimlNZnWhel/zjN/HogUwlpO0IuwA8CnIC4Fk6HH0Ie4gqWQ1hNpQTBB0ORBz1ZFBWUZlwtJa70Ft1XkuVGMT1c4L8deDhFCaeLhS+EpRBRm2isAdBYLeLYVsnPHUp9wrJT5fE8bxLhgohXLUIAZqY5efEAfB8yMADMwnOmesy1y0K8UXgAc3Yy77uSprdOwYex3HS6fTU5ET3va4bp9tv/rGr95tvRtZvitetdSoacHk1qSjHFWucyjJUvoaWl/GKcl5RISoq3IoKoaQfEID0vxUgEgGpY3gFDPd6D6+oKNDCU9wKgCtF5cWLFI/0T1m4oW+tD37RunhN9WDlFaK8klZV5iur4ps2JVoOyImn0spKjIWD1RzVC4BnJS3zPR1DELW1DzNzoaQCCKOQ1chi3GDcotTWGQFKHg+0D4voLwKPVg/oXJ8EUpGoUg7cxVxoQlxgKKPhUSg656nUJyAYqfuWPNo72dRzSj0n1nijFWjL3DwAng8XeFTjo1CH1sVCOEKAdceXeP6mwKN9+WdnZ/oHursunr51eG/fTz8Of/xJrGGdXdGAKqpxCfCA0FMEFVFRodVuHyDwcI1/5eW8otKtqHIrq2lNtVlfn/nqS3SxQ0YnJcp7GHswfghBPFTQswWqtmWGpvf1E0HUIdymwmYuZBBXFh+HcVthD4T9FMPdIOpAk0pUswB73gTwQFpFoqJ/IIMwlZB3VFXPwOACztEz4AHpGTHvPQLPc13XlvmEAfC8X+ApmHNe0EyV4RliZnSjdxgDyd8vOf3SacUyH97/SRtqtG6YUcSpJcDGs0jVtje06fPpbb/K/kFpGqB3Vhl79EVWouvTPpeEEAc5hmnOxSIjI/13O893tR/s3v3L488/m1m3IVcNwEMqKnBFGaooQ+VluKKMVJbTygpaWcEqK1hFeZEqWAX8S31Sxyz697mnFK9Qrq4Al9XXf9FaXUTf7oVrWg5aQQqPV8krq3hVNatvyK5dm/3lJ3anUybCEhsCDMWgLnGJ+0zigSz9TAmdS022/icKNt4qB3wbT8HfB+vqbRyp1NVQI5gwh3EgyhxwNiuEhZYCzwLUYQXJY4HmvKSPL7DElE4lS94THsZ2SNZwDJsgApWEKJCAyk3ge80hsT20HxdDdBGU61ZptxdcvOSCH9amP2joQax0/WE96Nt8mvdo4/Ffa2kbZVCsEJCmNMeBzlOje4h/7pvbYA5jFgevtlLgGYvs3hfa9MX0tt9k/xNpWh4lBZFe+Rf4bWiZ5wDgIQRh7GBkOPZ8IjY+0n//9qXO0y239+149P1XE5s3J+oaHAU8RBl4NPzgynJcWfGhk7ZIAYZVssoqWlVN6xuTmzdl9/1Oe+/LVEQQkzDMwSTNPKKmsUroAWW9Mgg/szUvw8Tgp7fCAd+hlFMKfmvK3YOqegrgXoAZKNwomHyQMv/4wOOfuNRDdWl39vfouOHlfUnggoTyTN6anI3NxdMWgjw7frgLaDugZqCWe1yHeQ6Dct0YqiEEy9+GA+8FeDR3wG9TBVEvbbsAPCDXQ05DP7nOhwA8xmsDj4OxTbCJUTKbmpx82vPw+u0L7Xdafuv58dvxTz6ONzSZldWoooIA2KxGysXgbwE8qAKEM1xZQSorSVUVrq7GDY3ZLz5D7Ufl8IDMRDkxkMoFCuZgQG1Xe7UFwPMBDBI+fhSBh3LtaqhqZlsKeyy1DUVjMfgf+olw9LlLO68PM0s3Vgo8mLBYMt3zeHhkMmyBkzdEH4N4BL7TGKQeZXpCDIDHZtJiEgXA8wG0p5U/wnsBHp0ypxRRljZfFV7qpzYABPq7Ag9kaiLEJthSlDGy0+HR/v7b92+cuffnge6dP45++Vm0uRlqd1ZU4MoyXLUKVSoXg8pyVFXxoZPSDSqxDIAHVVdbTY3Z/34jLp2V0yPSiDNs2DBmUU65C2l/Pao9qpkLdYrVSLby9hoc+UY5sAh4pDKoQI0SJd/YJcBTyC+lEk5LJR6VFo9ZijHP3bNS4EGYhefitx72D45O2iDvQEtRUaaYM6xuDD4PPvCYPACeN9ou3v7F3gfwgALNpCyvyACZBpZFLVVnBvCzujl/d+CxKDEZsSjJO8ZsLPRk6GH33YsPzrd279k+/N2XkfXr0jW1ZkUl+FJXrXYqy+zKMqeq3Kmq+JAJVVU4z4CnilRVO9U1+bVrM7/8KO9cl/EZaSYZNiyGHAZ58l3qulQyAhVfCHVVkUuoZPH30M2//d74zu+wFHgU9kBCQqz0bFrocZTyDapWK8iBz1fEHq14XtR5X/TvSoBH6dKoOxWev37n0eDotKPcqsHbCMq0IcGQywgvuBgUJJ4AeN55y/mrN3wvwOMoyMlQlqEsS5mh4rQWNVb9Yr7c8/cGHocQi+vYVGYRZz4ZHpno63t0/cHVEw8P7Bz+4evwhvXJ2oZ8ZbVTUUkqAHWsyjKrqtyuqviQCYCnsgwpWxSprKZVtU5NfX7Dpvyvu2TvfZmdl1aGYdNiyIJAUQAej0pBNPa4jILrUgA8f7UTv/75zwUeiZ8DPBSrQvUKckqB55XknhUCDyXUC03Hr9/tHxwLOxRqb6sQIlwEHsgOH0g8r//ZP4Az3wvwaInHAMgBMot5irWPje9po9njRw37PmhvZ368IueC17HxQI1hKHoGfgsOZxbGyUxuampqsK/nQeeV20cP927fPrzl00h9c7qy1q5Qlp6aGlxdg2tqUHW1U1XtVFU51dWlZFdX21VVy5N/vH+Y3vPs3OI1Fx3glFzcqa5wqivt6uK9qqvh9Joqq7rCqgZQdKpAH4irKkhljVVbn2hsmt36afzIATnSL82URDlOLDVfhkxHnEE6YqYqnOsE44s+9gfQI/7Wj6A7CwgNUAOEgEWEg7umJiiDozKnMSh6phJrqg0ogCawENjlGHyWIXITVBAYhndovDp5PDgF6F3KK0TdgkItPyieCKQzzMCp8Byqm4IqlShZBRImMXXE8s4FwH+buOOzqc4HTwbGwhbE8QgBUg6G5y60GO3bptzbKLhKKgF6weRVOb8BDwoEaTJUUpy/9Rf+pzz8+wAeyADoV0JUG8/JgfTOGfw2gcdWwGOrbDwmJhmTRqOp0aHRh3fvdp74895ve/o//2aqaUO8usGorDWrqnFtHa6pIzWwxtW1qLoW19aXEqqpc2pqlyf/eH0YqqnTe/xzl+5ZckoNrq3GtTWotniv2jqnts6pq7Vrq+yaSqemktbXOlUVdkUFqqrN1jWF166PbvuFdF2T82Hp5DxscGLrb+m7jb7zT/vvuaFOvEuhWiYVqgQ1UhkIHVhDNKariLkEu5DU2XEJcqE2NYOkNIh5Doa4GBW0qZLVYNVmbaZ9fChyuONwhFTBgoJ+HGMX2y52BFYlGlUFezXVwASGeizAqQTCcFQyUAC8l34Pk7pjc+kbD5/2j4Ut4hHquspNmzGhfFIUpIJyXqOQKKr+njl5F2sRa4larzkC7AF7UfHEtzOFfenrBQe8p5Q5unuUlsb5AD7FOwIeZhGatfh8Mjc6Hrr/4MGVUyfv7D/w6Jv/jq/fEq1dm6luzFbXWbX1SCNNXT1WROoaSgl2LoSipf/6x/s/6T3+v7iuftGeJafUkTogXFeH1COhunpUX4/q65y6aqeuCtVW0/o6s6IcVdc41Q2ZhvXT6zbP//q77O2V6YREJsc21O1TE4sAeN5+K18eeLhLpEs8QCDIh2t4xJTElgSpIEwCNagcotMZ6Zx6LkFKQ2wwrZlgjsMdWwGPKtoLtQ0EsVxieMTyoLAoDP0qxpMocII+DmE4rwg8BnVH5tLXu58OjM3aoJh1Ife1ym6OIGQHoEhZhRcBD2QsXYZ86adoUQ6A5+03yRfc4b1IPC94lve7+20DD6MWIw4HRz3TEumUMRmaftTT09lx9n5LS///fp7Y9Gm0fl22utGqrrer6wriiEad+gYNP+9+DUgD1IDqGhU1OHX1Tl2tU1eDgGpRba1RXima1ps1axNNm+c+/3b+0GE5MiJNQ8Kw5St/3u/X/Zfc/RWBhxoKeDCU30FEIrwEeBwO2QsNBt5ANqVYA4/NsS4gixnh1HKp6VILqpupuE4I+ebE5tiBUteY01cGnjx1h6Lpa91PByciiEhBPA+ygXpMhYtqkWwR8DDqcSqeEaTJWECc8GIxDl/i+Ze0ig/xNd8X8JRabj6MwPW3BjwOJbZCHYsRxKE6PMYyk7GmZmb7Bx/fvnbl4Ynjvdt3jH3y+VzThmxds1nTYNfWO7VKyFDjPq57b8CjYKbeqWtw6hqduia1LgCPU1fj1NVa1TVmZQ1t3GA3bkpt+Gzumx9zp8/KySlpWS4pKe76ITb+f94zLQ88VIk7rgqoQq4GDOJ4hEnseoA9WMEP8UCmgIBfAcYhk1OTAepAPIPDkQ2EHQ7GHwRWE8yYDXYg0LQJhwmLc0MQkHYBn14HeHLMfRpNX+1++iQ0h0FKcxXwuCXAs1jiYYA6C1xjIVa5qdcO0gAAIABJREFUhKC+Api1VAJuUPdhLYj/8xrB3+KN3gvwfJCqNqjZrjMXOCo7NVJlEUozF+iUOa+cuQBR4mjgoQA8mHFCZTpnh8KR/pGhO7dv3j976uGvu59+/sX0uo2JhuZsXYMJUsUCeveyDlaYZ9fX2/UNdl2DXddo1zXbAD9g43Hqa4Dqas3qaqumnjRtROs+SW/5cu6HbbSzS85FpW0r4PkwZhV/i774Bh7SBx6w/LuEgAmHOkIT1DDggrhqTRSoOCoeU+3ETGAswGBDBKZaXFCuBzaUolaoQyFfAIgyNgg0hSQfDmOIEWXUEQ7IOtzkDIBHYEsBj/JdBJ8FVf+NQOGFly05BhLPQuDhnAoKgaLPUbURVV2w4CgBfhNAAt6XCIIVEVWlFJws1LsghaNB43zZl3hrv78X4Hlrb/NaFy4GryKVLMdSLkDExRiK0A1r4Plsevuvsv+xNHMexa+cMgdaOrEIRpQwqHzlUibzJorMzw+FRnu77z263NHbsn/wh+9GN2+ca27ONjTkG+rN+nq7iD0w+tctIKegAdN6sLe1durq1a0bAXgAfhoVDtXa9dWazNqqfHW1UVNvN20wN3wa++Sr1B8HgFHJpHQsl8K49rzqWa/1nYKTluUAKziqwaRejbzYJeBToCQTmEsply5INqNz0qikZ1rpBDt0PlAQzgFEGIMKawWLPi2UpgaTPoLEbQwmUiAKgVhjcggVsDmEc9qMAUwBJhXEHSXzwk21pksJGS8HHq1q08CDqOTEFQxKJBAO2XGQykhNwHMPvKwpFSpXm6eSlsLb6dspFz4olqBeGMJP/cSm/pHqx2XZGvz4djgQAA+0XNU6lwee3bJ/4C8AD7UpAeCB0iUu49K0cSyZnAhPDj/pG+i83N/eMrDtxycfb5pZ25RurM821Ocb6i2NN/VqAySPElqIQ4tg6Y39q25t1TcqalDrequ+1qqvtuqrzfpqo7YyV1Odq603mjZkNn0a+/L7/NF2OTous1mJwGkKQuA/BJfFt9N5Pqiraj2Sv4bErOCxBnN8WkAdHZsJ8gxS7mFQ3gZ8kQUEyKhPhQlUlseYY/Al01GiMNGCMqCKVPQMYI/FtX6AKHOOcJgHl+K+9KNd2rTzcwEJFEj4MtlyzMtTd7go8fjAA/mqS4AHF4GHPAMe7VkAD6xd9tVaYw9TbnGlrgd+6OtyT/IGf/MrkL7Ba/59LxUAz9sHHqVOdijBGniYYELaiMbT6ZnYbGjs6dDdzr6TrQO/b+v/bMvE+qZEU32msT6nhB6rHkQfswAAgEDvmIz6eqO+UVGDWtcbDbVGQ7WmfF1ltqY6W1ufbd4Q3/Jp5Pv/mWc65PS0NPMS9ItOoEl/Z0ODDzl6QwEPcaF0qO/foaNePMwl4pDRGdJrUqDiv55DhA21kwQCQw+4VWvhAICHFRFLFQO1mOeTzaRDwTxEhQfdSdlRig9AQcmm6C0Bj5Z4EDyqDzw+qGgBCESuVwWeleT/Xebj+rUSNN5AIpbi4p+li1v+xRv5V/t7bQTA89aBRyf/QarZcZXbHWHPwdzCeD6TCI09HbzX2dPR/ujA7r7/fjm0ee1cU31KAY/R0GA1NJiNQJbafvdro7HBaGxS1KjWDUZjndFYoylfX52rrcnWN6TXb5zd+tns7l+97odyPiqtvNBRh4EJ912NB0uAh2jTejH5dwF1EFMww6VJpMlkDsuM45lM5gls55G0sGcT16ECEYGh8q8qTk4Y1PqEyjcSc4AZgywgk0gLScYhkBNidyj2CJaEwP+qkM6rqtpWKPFAUCpzEeRq0zGkvkxT0LFpNSJUSoXq3S4lPil9JCg7ni0+SOh6DX4hUcYYlDVxHJAHX7bosAGNNP6xhBCEEMbYvwXgM8b+wf6R/5KNAHjeOvAU9egw51G9getMZYixrJWbmRod7rnTf/VsX+u+ge0/PPlk40xTfaKhPltfvzzwaEB6q2ujsSEP1KSoUa0b8o11+aYaoMaabEO1UVebbWiMb9gY+fKr+KGDcnBApualnecB8LzbIeR5wKPDNqHRqcxEIMQ4KpezQQFpkracy/LpOA7Nk8l5NhNn8TzPY2lSaVLPoq5DwSGaEK0t5Y5Ds3keiaHQjBWaJeOzfHxWjM16o7NydNadmOPJvMw7Aqu4UeW2AGUw3obEo+N4lLcCaK8V8LiF/Akqi4LGG1oETkJUbm3EsSbMlSiowenZdyrKJFB2EiE0Pz8/VbLE4/F8Pl+KHD66lEotpfFquhYXVgsqLr4whBAKgOcZ9/9tW2/bxuNHDajGDkmaKUwEBWbMcMzZcGhk4GHfjQuPzhzt+2P74JefTjU3Rhvr040NucbGfJGMxsZFpCBBA8PbWucaG7JNDdmmJkWNat2QbarLNdUUqLHaqK/NNjXGNm2c+e6b5IljcnxI5uIuyjPlCkUYLoxa/7ZW9c7fV6eD8V0MhCofoLIPgKIJ2huFmmk2kwaTOSrTSI5FnYfDiWsPpy7eHb9yb6bzYXR4yk4YcIDBPIu7NuMIqr+pOgSMW5YzOZO9+zB87sroqUsTf14OH788d+xyrO1S7NilyPlbcwMTZtryMNMZc0DLpxq/L3ysNFfby2w8kjBwfNCJChjjmLsIRDSOCHcoEFQQgsLdkMoHKnGA9CYczB3MtSSnFJC66/sdVEEsATOX4zipVKqzs7Ojo+PChQvnz5+/dOlSf39/PB53HEcjh49Sula3jze+nOQ4TiaTicViyWRSS0saegLgeV8VSN95p1z2hu8AeHTPKyTuKAIPojRjZmcj02PD/Y/uXLl98Xj3od+e/PfrqfXrZpubEs1NmebmdFNTpjDuN2ebSqlJQYIGhre1zjQ1pIGaFDWqdUO6uS6jgCffVGM019pN9bl1zbEtm6a3/2jdvCRnx10zwXBOJQnyc+kv+wGCH98cB1RjxoIiofzZPIKVmQcym0GlTg08XKapnEyyy/cnWy89Pni+/9iVwdYLw+3nQ5dvzQ+GUMKSee4aUO+a2hTK8BAQLrhpWBNTuZv3I6cuzxzuCB88n9rTkd992vjpaPx/h6baLkX7QjRtS/02ejhXemYoJIwg8agqcLACd+plgMdRBirCPcaEC2W3KQfgUaijcMUiwqDCBOIW4yaiWQOns07eohYRFnUtmPMJJSCShZE/hZSphJBcLhcKhfbs2XPgwIHLly9fu3atq6treHg4kUhoCLEsK5vN5vN5jUOMMV98YYw5jmOaZiaTGR4evnbt2uDgoGVZjDGtW4NkdLZtqQVjjJAu+PLmGsHf4UqBqu1dqNoWA4/KaUgYM2wjEg2HQkOPe+/cvX6mr/3Q6M6fpz75eHZtU7K5MdvclGlqzDY15hq1tFEKPI25pvpSehs49BzgaW5IN9ekm6szzdXZJiC0vsnYuC629ePYHzvkwEOZmZNOkhOQeASMWWBoDpZ3xoES4IG0EZ5KV8PB3OMhVanTYjIv5ExO3Bqc2/vn3ZYLA5d7Y/fGc50D2T+vhltOj1y5NzcWw3GHZQg3IUQUgnqgBBynlmXF0/Zk1HkyiR6Osbtj8vpTeew2231qfveJqYsPUpMZkJYWvaxyTADs+cvA4xIufeDh3PUY98DNGoDHoiKPgbLUzVA3y9wsk1nqxU3yeDxyq2e4dzQSzpIMlyki8+BY4UJE6WKCxkoIMU1zdHR0+/btJ06cCIVCiUQimUxms1nLshBCiURibGysu7u7v79/amoqnU5rC1BaLZFIZGRkZHh4eGJiorOz88CBAxcvXpycnMxkMoQQy7IikcjY2NjTp09HR0djsZhtF5IZLuLbP/vfAHjeJ/CYjhmJzU7OjD592n3/zqWe00ef/rEz9PUX4fXNieYGAJ5mBTwAP82ZEso2N2XhgFJqzDS/eUo3N6abmxQ1ppub0wA8tem1NdnmAtkb1ua2bI599UWu7bAcG5SZqMRpRvMqogMSqwTA8y5HkIXAQz1IkiY4+EZ7jtKeGdzNcDkaJ6e7Rvccv9txd7J/jkxZciwpbw3Yreem/rw61Rey5yyRYhwsdRzCShFHmBMbo5zpZEyaMGXEklOG7I/Kjj528Mr8kauz90aNWVNYwlvyvsX80NDVVhRA+hyJh3LOXYe4DvjjeUjBBsMQYUQod5TyMElkkso4kzFF80zOExk2vIv3h3cevbiz9fLJ20/vTKRH0jxiyxyRUOlHW12fwU9hloQQGh8f3759+5UrV7LZrFajcc4dx5menr58+XJ7e3tra+vBgwfb2tru3LmTSqUQQvfv3z979uzJkyf//PPPs2fPXr58+eDBg999992OHTtOnTrV39+fSCQeP3585syZP//88+TJk0eOHLl06VI4HNbubUv49k/eEQDP+wQeyzHn4pHpSOjpSO+9+1fud7T17d81/P1XUxvXxpoaCsN9U2MGlF3NC6kp1dxYSgohGt/KuqkIPLDRmG6uTzfXZpvrcoryG9ant26N/fe/zrkzMjwhjYQkWZVT0ua0kNHrn9yBPrB3Wwg8pRKP6zDIKZAXPM3lQNg+fK7/wKlHt5+mJvJehMqpvLw/RNovx05cneuZIGHLi3OeFSpPgUAO5CAAB3lEiEOYyby0kFEi++bksbvxluuzFx6lh+ZpnHJzgZuY5o4vWEBZhJVkp14KPKAr5K5p00TOjiVz8VQ2kcqkkqlUMh1P5edS9mSajWa84Yz3JCMGM3wwwwZT/EnK7Y/RQ5d6P/v11MZfjm3d0/Fd642WG/+fvfd+bhtpHj6f//Su6qreq/vlqu77Ps9jy5aVnCVZVs7BclLOsiwHBStamZQoSmLOCSTiBCSKVz2QaDmsw67X9u4S1QVBIAiAg8F8pnt6uve3/HxcgWmnn9R4IGXwOXjGx8d9Pl88Hk+lUqIoxmIxS4l5+fJlIBDY39/v7+9/9OjR/v6+pmnT09PV1dWDg4M7Ozt+v//k5GRubq63t3dqaur4+DiVSvl8vqGhoZGREYfDEYvF5ufnHzx48PbtW0mSLH+5/PDPL1atvv/tFMDz48GjswkHpqbpGCtJLhGJh45O7Bubc2+fD+08anPU3PEVX4n/57/cv99J+t//zlwQ7t//Sf7nvxeFg0+/s8aT/vf/cP/5H+7f/+b+/b/PN8620//5H/7f/yP8+39Sl4sS129G6xv0Nwu5iD8np3KqaMWUNMDUBpG8vn+1LZzxN0rgAnggZsHFMR5sQBgbCzzbXvnh9P6D8d23LjlIc1EzF0S5Ldfp4Mv005nwkgO7hGzcyPKmxgLkWKkQWOg9CPiZQ2YubeQ8Qm7eIXXOuJ7Oh1eO1ZCSy2RPJRNcl99fzsADsXMgks2XdeCPwaMR1dBMWaYv51eGx6cHRycGR8dGR0ZHRsaGRib7Rp93jy20jK82ja/Wj6/UjS/XTSzVjy83Tq7fH16+1fvqStN4UdN4cdtkUcv4zZ5n/S83j0JJheaJmN/4UOO5fft2U1NTY2NjT0/PysqKzWYbGxsbHBw8PDzUdV2SpJWVFQsesizPzMw0NTW9fftWEARFUURR3N3dHRwcXFpakiRJFEWbzdbV1TU9PX18fByJRA4ODh4/fvzy5ctYLJYf/nm/6P62//2jwZOfWcde148jF6Cc0xVu6fZcqfDXt+X29nOyeKp9c6w2dnJQ5lmYQo2lw7KSoWkqIYLAJ1Nxr9+1Z9tafz27PNC32NJycPNW8Oo1rqgkc6mYB7kqXbpyUYRLV9KXr2ZArqQvX+EuX+EvXxYvXRIvXZIu/Ve69B/p0n9FENjzR0S4dOl9uSxcKmJyRbpczP/7SuLytdidqnBXd/bAnhNSp6qUVWVVU1QY4yFsEsjf9uX5pX6YFQJHhSgyZ/nfdI1Y/iyaplIdI0ORDCSZRpLk1o9Q76Src8S26aVBkosz8Gx6cr0vuI7p2PM9fMRnYwAeFZsEsRw8EEgH8tjAML6omgk1txsyh95EW8ecE+uJ/Wg2TnOZrC4ZhMLMn7MowPk4PVYQAfbvl6fCWCFzXm459j0RDHHYshBNQTMI1k7cAbvjaN/hdBw4HPv7BwcOu+Nkz+HZOIosn6SWT1JLJ6k3rtSiK7Vwwi2cZGbssaax1SuNQ5dr+260jVc9fP5wdmP9OJKUwduCaTzvvNryDxRj7HK5Ghsbnzx5srm5abfbnU6n3+/f398fHR2dmJiIRCLZbJZS6nQ6u7q6FhYWOI6bnZ198ODB0dGR5WsgCIIFnuXlZUmSMpnM8vJyU1NTQ0NDT0/Po0eP+vr6mpubp6am4vF4ATz5wv/7b4C9mb0K4BAJgXityIcwKpulag7lwXOdgecgJ/+eDKR58Jx3qyBsFJuCoOlUVWQlneaCoYDDcbC2uPR6dGKq8+FW5T1vaUX8Slnmcil/uYS/XCxfek/Ey8WZy8U8W6eLrnJFV/jLReLlyxLIJfnyf+XL/xUvX/6isOOtb33luki6fFW6VCxeKpEul/H/KY0VlYUr74ef9OX83hyWDAiPr1BNoSzPGPxCaIMKy59eAlZUGzZgDmlyWCxOSMJmqLqmU2IoiiGJhiwaegLn1p20d9LXNerY8uthjYEH5zZ8uQfzfNtsevpAP+CzEcPkTUpMfA4eUBB0cFM2BZINSbkFB+6Z8fc8c8/vC67MaUo75U1VPKMUUXUIx8kiH55lIP36yAVWdOoXWw67J4IAD1ldpaauq1RDWJMRwZhoCFOsYIRlpIrISOJchJxJmORCJBfAOT/KHXLZJ693rrcPVTT39U2vrR3HTziSoOCkQCHYwScsg9aj8nq9jY2Nz58/j8fjiqIgthwdHY2NjU1NTUWj0dPTU0KIw+FobW2dn5/nOO7FixcPHz48OTkxTdPyUNjZ2RkYGFheXhZFMZPJLC0ttba2joyMLC0tra+vb21tbW5uulwuQRD+OUY2q3j/2RrPzwHPu6FMQwOlR+SFSCTidDo3V9YWJp/N9D7duV/rKb8RuVKW/gx4ioozRcXpomIO5EqmqEg4Aw+wR7z8X+Hy5c/LOai+EjnWYWfgES5d4y+VZi6Vxa7djNY1i89mc+FwDsssJCUiGiqA509HzfsX+Bx4IFgbUQxFNBCvqQmUW3fi3kl3+8jByjEOUgBPWM3tRHI9C5m2l6kph2oXjJBhZgA8SAb2EKpTU1dN7VRlMQuOYrmJtVTnlGdsObYXNmJqjtNzGYOKBmKgwhRCiYK5D/pb3xgy5zfAo2kwK8wgoDIZzCkN9Cqs6lg9FfVcxnxP0jrcUkjMLe56R15tLGwfe2JyWDbixBQgrFwWLH8fgSc/HcftdtfV1c3MzGQyGWsGqKqqfr9/cnJyYGDg5OREURSO41ZXV7u6ura3tyVJev369UXwEEJ2d3f7+/vn5uY4jkun03t7e729va9evfJ4PIlEguO4WCxmOSbk56K+/1T/tv8VwMMmuf1Qjec98BiqhhQlkUi4PO7tra03L1+/GBrdbGp03rgRKC5PFpVmikDjkS69J8JloM7H4DknzSXhK8BzfvAX+PT+YUXC5atM0ypJXy7lrpRHb1RG27vMjc3TaPgUy7qGdbUAnp/QXvw2eGCeJdF1zCJGy7ou6rnDoPl40tkysDNnz3hkAE9Izb315bpno90vo4tew6WcRlUzRVVJU+WsKZsQGNTQ9VM9p9OcqOR2jtVHz1y9z90L+7xXyKWMXFo/FUxDBn8ESFT6J4EHYhAwA+45eCDoO9FNpGeReaqcCYxCKXpO0XIizsU4EkvjlECxfiqphqKb1DA1w9AhfOi78ag8ciAWgml6PJ6WlpZnz54lEgkr2g2llOO4ubm5np6e2dnZg4ODjY2NoaGhsbGxYDCoKMqrV69aW1sPDg4gI55pUkrtdvvTp0/HxsaOj4+j0WgoFBoZGenv719eXna73S6X6+joKBqN5qMh/HP0ngJ4fjZ4NJ1ikk6n/YGA3WZbXXzzamJ6o711/9ZNz7Xy+JVSGOkpKhYuF4sXxALPubpTzBVdzRQV8Zcvn8sl/vIltl3EX/6+coW/XJwuusYVlaaulKeKb0Qra/n+odzxSY5LmlhWIekd2EGYxkOYqe0ntML/wEt+EjxM1chq2inVs8AeSNlmSnrOEz8dn/d2jdqn18N7EeyRc8eZ3PwB6p72Dy1zu9FcTINJpnFJ9SfEACenkKZoWV0/NWiOKLlo7HT+bbJ3wjG8GLSF1Liay2RzvJ4Vjaxi6j8WPIRohPmwGKoBRKGQ+sdUjSyFPHCnVD2VFU1BOiY6BN5+P8zAB/Ukzx5KaSgUmpiY2NjYSKfTlsZDKUUIud3uFy9e9Pf3Dw4O9vf3T0xMbG1t8TyvqurW1tbMzIzH47Gm5qiqGgqF5ufn+/v7Z2ZmDg8PU6nU9vb21NTU8PDwOFtevnzpdrv/ObzJF3gBPD8TPKaum6zfJQliNBJxOg43VtcWZl9s9nTt3r55UloevVqaKipJF8FwzgdiqTupouLUFWZtu1zEXb6Ul/TlS5lLRZ+X9KUiDr71OUlfLroo4M4A1ClJFpUlrlYkS2/H61rozItcOJITMgZWVBaUmmhI1YmpwmteGOHJv2x/6obKkhecj/Gc5dmEIX31lMUGBPbgM80gF+Zz81uRx9OHQ3Mnr/eCa+7UsjMzOOftfxWet2M3l+P1HCeZTi+3uhfYdsYCSSzRnK7nKDb5tHbskqZeux9O2F5uJ1zpbErP8UZW0LOykUOGiQ1MDDCAMVMbOTO1sSwGX5mP5zOmto80HkI0zPzodEM3QYs5F6bNwMVlGSEFE0xgPpGmWW9cPrDCxw9FVSFWm6Iobrc7Ho9bIQnyAXIQQtFo1OFwbG5u2my24+PjRCJhBSZIpVLRaFQQBIyxFVcUIRSJRPb29iwHa0mSksmkx+PZ3d3d3Nzc2dlxuVypVOrje/jb7ymA56eBx9T1rGFkDdPUdSTL8XjcfXJi39pZfT2//bh3p+rOYVl5oLg0fqWEY2M56ffXFniSV4oTTJJXrqSuXH5firgrn5PUlaLPC3elKF10JqBRgVxJF11NFV1LFF2LXi0Lld0MNLYYq2u5ZDwnCQZRVJXoKowHqDpkfiyA58e2IJbhiGi6AgKuM5DSTdNOVci7AymtsW7K2mmanDrDwqsN3+AL28DL3YHXtqcv9wbmDmY2gydxg1dzipqLJfWVreDo7MHU/JHDw8skh6muSCQelbZ3QmMzttFZ2/ZRKi5leTUnqqdWXFGiGcwSpmi6rOmQD5uNo1gJcnQWvQ1qxeeXz4CHBTwFE5kV8wZ+ILDGNHTDBIGe3Hl/7iwV6bvMpBQ6Q5ZYEHpnaPv8DbFwBnmDmDXRx4p5oyhKPnpbXmGy1CorQighBCFECISnt0xwhBCMsSiKkiRZX/84cPWXbucv/3kBPL8EeBRJ5pIpv9tzuGt7u/Bmu//xdl31/vUKz7XSyNWS5JVi0GyYcFeucVeupa+UZK6Upq+UcFdLUldLkldLUsXFqeKrqeIrqeIr3FeLdfxvrbniK2lLrhaliy5nii6ni4q4oqvsiqXRa+X+G7cjXT3m9k6Oz+QU2aBEVSED5jl4VCt55V/+Lfkr/QAVmnto9BUWJsBKgAaRC1QtB3FCdVPRs4KeS5JTV4wu28IzK0fjiwdTq0evdvxHMZohkGJA0yCZ38Ze4uHIVv+kbf+EV0iOUF0UUTwu2g6i8yuu5W3/SUjkMQS6ltRTpGWRloW4Y3ADEpN34NHOPDm/agLpV4OHTU5goGHgeUcdptZ8CB5wlWDCUnKD1/dv+rR99MTzGo/lBZCHygdxPy9+L/8VKzCBcb6oqmqyJZ+PxwpubSlJF8/wN94ugOdngocpPaahaYooZbh02Oc/2T/YXl7dmxja7Wjcv3vnuKQ0WFwSv1KcPJNrXHEpV1yaKS7jiysy18oy18rS18q4a2VcSSlXco0rKeZKitNfLdbxn1mfnar4KnflMkhRUfpKcaakLF12PX79VqCyKt7Xn3U4crKUxQii+4Ipg1l9dJi3xPqnX9+t/Bu/aD/sp10ED5Q/y+RmWdvAgZjoBjJMychl9FxKyUX505Ow4ooTd5KGxCyHchLJEZLTSU7I5LZsqSeTtuk5j9MtKzhHKTi3SYoejMjeCA6ltJSclegpJONhKXwwxMBWGfbEDzSePx88JtN4LL0H1lbShAtrzYDUqmfCMnx/ONX1osryxQd2MeXBJw/Og8f69OLJrW1LMbKiWV9MrPDJs/3NdhbA89PAw5oE3dQgyRSSZZEXEuGIz3m8t/bW9nzC9qhzv6bqpLwidA0UmjMpLkmXlqdLy/nSCqn0hlR6XSytEMoq+LKKdFl5urw0XV6SKQPhv0KsIz+/zjMsc+0qKEBXrwpXr/HFpZnyG/FbdwN1danJyVOvO4dljSKqMndXpvFoOuRiKYDnh7cXnwSPZW07pRq4GCiGIRlZwYTcPBCyWs9JGiRKENRTiZiUmjrJEsmMxcj2fmp60bu8nQjENERzmsqc1aiJVMjZI+mQSk6GHKaQOI6FATUgFwGoO5adTT0P0gFjLYwB31njYXOD4OS6dpbn1HLd/sT6fWdShuTf2SXKE+Xixmce9Ae+Ax/8+5kv/o0/KoDnZ4IH3hhmjSIKUiSJiyWCJ27b283dV1P2wd79xtrjmzcCpWXx4pJkcUmquCR1rZSzwFNSIV27LpZcF0oqMmxPqqwsVVbKlZVwZde+o6TY2dJl1/iykkzpNb7kmnitNHOtjCu7Eb1TFWlvV9dWc4lojsiUKIRCkkVdZZlQIDhKATw/vun4JHgsjSfL0hOoiqFb4GFZO4E9inZq5RGQiQY5MqmuyHogLG07Eqv7yUM/ScugLRkaoaqBVRNrYK+TjSzk7GEWNqbrGCxvDz2njsaoA9M/rWGePxk8pqFmPyMwB+lD9vxO8Pz4h/r3u+I/GzzMCg4DEVAl85ELsKHRLKUscsHJdwmZczEohwWbC2vdUDXIPKUofDIXe9+eAAAgAElEQVQVdHtsm1ubc9O740/sHU3OytuB8vIE8KaCKylPlZSnysq50nK+pEK+ViFdq+BLKtKlsCdZVpYsK02BlDC5lir7o5Isu5ZkJ0mXlWTKSzPlpUJZmVhaniktT1TcDFXXxJ88yTkdOT6VpTIhMiKIQDBJypyXLPB8xnvo7/c2/SK/iLJRFszuxhrbNy3NQ4XQeSo4VRumDA7HMMVH1bIsfxp4AiAVXI5VTaf0lOM1b0R2x0iMP1XApe3U1ClVTaJlwWWexfnAkCkue5Zajc2JgYgJcCbKTHwwVsQ2LKUEwvnoX+Hn+BtjPDpo1Mx5jzkXnCWaYzgxde1z1DHUrK6e8e8Cfgrg+Wk19h8NHqvU2atJz+PlKGyDZCnOITnnPA63dnqulPsbWnJ7tpwsnEI+eeg4aWw843dYZs+8fJhbpzXGY+o6pF/HRMrw0WDoaP9ga+3l1vPBvYftjvtVwRs3hIobmfKbXElFqqQiWVbBlVfwJeXKtXL5WrlQApa3PHiSZaUXBLDxx4UrL2FGvLJMRblYXiGWlWfKr4ev3ww1NqWeTeeioRwSNVVGRMSg9yCTWkG9mDL30yp24cJfWQJQH1UI8Qa4UQ0EjiEQcOeUYFPBpqyCr4Fu5LJGzlBPCTgRGIpOMByJ2ZdzoGecuZmduXGza0PqT/aufHP7/jF4NEpMsNXB+CGkBgLDHWRUZBjTWSbsL4LH/MoS+cxhKvMUhDhb5wdZYbesvFP5+FvnHxb+/mYJFMBjqTs/GTzWbGxFkhLRmPv45GD7jf316MFgz1FTTfDWjUzZdf7G7VTp9WRJebwMlJ5Mabl0DUQsge1kWTnjzQeYKU6WXf1jUnyu9JSAOlVexpeXC+UV6es3opXV8e4etLSY41M5IumqTFQZIrOo5FQD5yLjdzD5N2tp4YM/pQRYHwgiB5q6kTW0bFbVs0g1KdUgoQXoQ2bWOD3Nnp5CMhwja0DeaPBeUzQIUAHO2jCyYp5TB7GASZRZEPLRaCz199vu/3eBx7oNnd3MJ9ZsNOjbbuPjo1XIjMcCPJ5/VgDPeUl8298CeH4F8LBxV1XDspKKJ3xuj2N3dW9+cn/0yWFHk7fybur6Lf5WZbL0RqKkPFZalixj/gUlQB1L40kBe0qTZSXvS3Gy7A9Joqw4UVYCUl6aKCtNlJdmysqF8uvpG7diNbXJx0/IxnpOSOewqKmKrpOsqZ3qWk43spAXEpZvq4yFo39sCbAJLuCRzOaTqVmT6FmF5Y9WQQOHsR4YFTIMCuZTQjWsUprFMKijE6Z8AHjOdB0rwC5iyoBl2YNIhJqOmNnt237Yx+BRCTENMNT9tsZjvJuvA1l/PpQLWsq33czFowvguVgaf2S7AJ6fD54s9DfBdIBkJZ1KBby+A9vmztLLnclhe2/30b2a6I27qRuVqbKb8Wvl8bKyBBvmyZSWZ5i6Y5naUjDGc1EsDn2gA33bv4myknh5KUhZaay0JAaeC+VCxc307cpkY3NqaBjbdnOSYCJJoyhraDnTyJnGqa5nmcbzR+pl4bs/oARYWjYrB6eqq0jTZNWQiY5UA3QeGYP5VCWCSmSVYBUDeFRQegysAZHOHdUoiwSqGJrCNB7Lp8Aysn1H8GDgzufAY00phWlkn5QCeH5Ajfr6SxTA80uAx9RgmAfJMp9OR0Ihx+G+bXN99+WLrSdP7bVN/lv3EterU2V3kiXXz8Z4yirE0ooMG+9Jl4NHdbr8eqr8xvtSkSr/g1KeqCgDKQcTX7y8PFFRkbp1O1FdE2ptT808z8XDOYqzFJKNZjX1VFNPVTWrwoB1Qdn5+pfw5x15lpEKtBcNqZqs65j5QwNVVI2qFGsg4OsGBiZi6JrOAhMwh0XwTAD3aOaYYwWiZuY38FmwwKMxdSc/IPK1P/RTGs8XwWON+nzouMaGgr7bcGNB4/naR/il4wrg+dHggW6b5Ud3FuvDNA14nzUVcvNk0pl4LOZyeQ527XsLbzYHR7ab2o9v10Zv3EuU3UmVAlr4CnA34CuucxUVqevXueuwJ3P9ZvpDuZG+/oeEg5NXpCrKkxXlifKKeEVF8vqN5O270fu14Z5H/JvlXDqVo+ABCK5RbHI8xGYpgOdLb90v8/kZEpi3GWg5VuIBCEOjQbAdltfHchWB/yDyG9trdSvYEBEM71vpf9jYh8aGUtgnZ32Pb6aOpmmCnj2IpWdZPh4rEZxOVZPpWKxyQR5FyHHH7GnsisA567X6zPqPFzuA+iPV6SznHXPl/OOX+IecoQCenwAeq25Zs5et4BnM0qZhjAVBSCaTPn/YaT+yL61vj0/tdDxwVDYEb9bEATw3ufKbQsVN/voN7kZF4np54sb15I2b3I2PqfNd9txIX2d4q6iIl5fHK66nbt5O3K6MNTTF+4fJjv2US+cgCDDkQz5VjVMK6wJ4/tJtx68wvZHXs/sMPPueCNHAa86kWhbS51g9nKyumVno4qhM5bJyyX99+Ju/9PP5m9x8ATw/GTxWACcTIoXqlFJZljOZTCASdzrd++tbtmezjof9J7VtgVu10fJKruy2UH6Lr7iZuX4jdQE8qRs3038ae7iK66mK6wmgzp30nSru3v14a6cw9SLnDuYE5ZTqEIOeCbCnAJ6/eMtQAM9f/AH+NW6/AJ6fCZ58sCYT7G3QZbPC1obj3Inbv7+5u/96/mhwzN3c7blTF7xelai4k7l+W2DgSd6oSNysiN+8nrh5M3njZorpPdyfsb5+I3X9ZvLGrfTdqlTVvXhtfby7l7xZyyX5LCIQmwTsHmfsYQQqjPH8NV7+j+/SckT86e6IH2s8kHAb5hsZzJRb0Hg+fnR/sT0F8Px88EBgGcOwlB5VVRVFiaV4ry/s3Ds4eLN0PDHt6nx0XFnnvVEVu343ff22eB1MbYw6FfGbN+I3byZunLEnxQj0fdfczVupm7e525WZqnvJe/cj9Y2Jx0/NLVtOQOD9pILp32LPOX4K4PmLtQL52/1lwaMXwJN/SH+LjQJ4vh489u8SueCT1UbX9Ww2a7EHY8xxYiQU9x4eO9fXj5+/OHnU76iud9+sit64m7lxW7xxKw3guR4HYeBh7EncAAJ9R2GjR7dTN+8kb91J3alMV91L1NyPNrekh0ZzB0c5hZrgv3TmN3RB7/luTkSfLKvCzj+vBArg+fPKtnDmiyVQAA+UBjjk6Aji9sJcBGRo+ZA5Vqy26/76ttzefk6WTrWzWIO/O2TOxdK3ti0vAys6uqqqhBAlI6fDyYDTdbS5dTQ37+gfcjS1Ht+uit6sFG7cydy4k7p5O3b7Zuz2zfjtWzGQ27Hbt+K33pPErVt/UJK3bqVu3kncvhu7czdWVRmtqQnX1cU6u4XZWdPjzWFq6iZM6INoc4Af8Ho6dy76+GcW9vziJZC3sOU3ftYNf2xqA40HomEwlwINTG2svwOzRNnknrz39s+65cJ1v60ECuCxyotqXwbPwZ8EHmukx8IPTHygVBWRFOPCLp/bZj9ZWXFOTB60dR7dvRe9XSXdquRvV6bu3I1W3ondvRO/C+toZWXs7t04+ze/Tty98wcleecud7syfqcyWnk3Wl0Zrq0JNTbGHj6U37zJhkM5THQWDJ+cg+dc+/m2Klg4+hcpgTxv8hs/68a+HjzMtxlitVk5v3/WDReu+60lUACPVWI/GTx59lj5DTUJKYl0zBP0OhyujY2j2ef27u7De/cjd6vl21X83apkZWWk+m606m6s6m60qjJSXRWtqoyxf611vOpu4g9LsrIyc7cqUVkVra6K1lRFGurCba2xvj688TaXjJ9irGoG0UEsjacAnm99/X6p4/O8yW/8rNsrgOdnlfwPu24BPFZR/3zwXHzkqoxJWuT8EZ/Teby9ZX81u/v4kb2uPlBVI9yp4u5Wxasqw9V3I2dSGa6uilVVfkCaZOXdL8oHX/ng32RlZRquVQVgu18dbayPdHWkJsbMw/1cJmUSTAvgufjY/uLbed7kN37WD/oYPBqmBozGvpvHY5naChrPz3pGf/C6BfBYBfhrgUdDhPJyJhz3n5wc23b25l/ahgf2W5oDNbU8A0+sqjJ472642pLK4L2qSPV7Gk+s6u4XlR7Qlqo/J7GqymRlVbSqKnyvMlJbFWluiPQ+EF+/zvm9OZE3KVV1s6Dx/ME38Nf5ep43+Y2fdW8F8Pyskv9h1y2AxyrqXwg8EPMDq6qIxDgX8nqPD/Z2l+b2p8Ycne2Bujq+sjoFMKj037sbqrakMnCvKvwxQi5Y3i5a4fLb5wpTXnP6cCNaXWmpO6F7leG66mhbc6zvKX37NhcN5xQZ0puw2TsUhnxZBJMzJ7cPopb8sMpcuNAHJfDuQbDgee/+ZQFx8gefxXxhwcRZUBi2lT86f5wVf4/FwMmH4ssfBXsuXCX/pY838t/9+KOzPR+DR8fUhNg9FzUeneXjASv1x2M8n7zGxXv95AG/eUN/zgcf3M/Ffz++4MVPf4Wb//gOv2lPATxWcf0q4DmLckU0VcJKio+GgkdOm21zyTE75ejp9NXVpiur2QDPHf+926F7t0PVd0LVd4P37kaq78Sqbl+UaPXtyGclWv3e8Re/y7bvxGDcqCpUXRWsqQrV34u0NyZHh/R9ey6TyhFiwuyjrKafqvop1bKWsJRcZw7W50M+f4PX5JveqV/kYKsqwfAby3h9lj/Neihs6pWVDJSFaNOxpkM2UapjqhNwUWTHmapqalTVKWSH0yGONUQKhTSmBoW1TllaNljDHo3A2nr6OsMQfFfTL6bkse7qC0X0AXhMNXtKtFPV0N+BJ8tmLluR40xVy1Hwc4HbY06q8AvySdus/ZC79H356fUyD9Iv3tjZs7xw/7/r5qFILsjvCaP3hSf31R8XwGMV1a8HHoUgXkpEIycnjv2dtYNXM44nvZ7mxkTlPaaFVAbvwTBPuLoSwHCvKloNtrWLktdsft9GFAxxldF71eF71cGae8GG2lBnR2Jywjh25hQ5B97Thg4p37KanmXpjSGUVj7P8R99R766BhcO/I0S+Ag84APC1BKWP1NnFMG6hnXIJEogR4JOdBVQYaiqToBAOjTa9Aw8lPkug1pzThqDgq01ey4m1SGdNvM0YeCBNNhWS5dv434neLJUPYVpD/q5bg1xda1wnSokB8qCT/8F6hjnoXgvKgpfbN9/oyT/rN0/HDx/1g/5Hef9l1pYoASIqimaJuuqrKuKrmKToFNFOj08DjV3ua9U+OpaT3f3TyUxq1J4K1VVpdSKavV9y09jJ4fEJwpBgpxKxD3uowPbpm3hhX24/6ijPVBZHa6sjlRVh6uqo1VVEUsjYV5t8arKiwIzb36P3I1UMqliVLtXFay557tf421o9Hc/SMy+0D3uU0UBO5uV5hH6kbqqwrwmJtB0vS/a9y2iwtm+rgSsqgSqCtGYRqNpBB4FYX1ejaqGbJiCbgr6Ka+dCtqprJ8q2ilgR6NUQ4qKkIaRihWNKCrGFOsq0VSNUFOmpxI5VVQQUT0VVPi6pJ0qqok1A3gFlYFqKmSk1VSiqvCysMW6q/P/fuNvRjPtUe755oHdHcbqqU5NgxCTnQRODvixFsjWQDQNayZRIWW3Ctw8E6brsW2SRyekegCSWm/ZeZXN1918TbWcSylbrHu0tq312bVZC5D/BZ/cmf80v6EoiizLZ2cjRCcUUsVbwiICQQryT90Yu2f45To7zLpc/rTWDWOMJUlCCH2yabIumv/Kz90ogMcq/18LPKypUKmMhTQX8HsOHXt7a4u2mcnDx49c9+6Hqmtj1bXJe7XcvbpkTW3sfk3kfk3i/v3U/dqLkqytTXyjxGpqgGSVlWHwZKuO3KuO1FaH6mr99U2+tu5g/7D0djMbjeqypKmURcM/0/gvVOKz9u4Ce/Kv84WjCpt/egl8CB6kaYiBBwIDmmC7yhinQcXwCpqHN9xpMySdZsgp0k4J6DuKiBWBKKKKRA1LKlKIolFMsJHK6L6Y7k2ehtKnwZTpTWvutOHOGFF8ylNDZpAjGoBHV4lJvw94dIoNyIFq0Q8MRqBvsz4PA49BoLsDgDHOBQYeqWoQqiKkY2jigYeEqoTpdRcq6LuOEmvOKaW6riuKkkql4vG41ZQTtmC2aJomyzLHcZIkYYwhWyvGlkeG9e8HTXweErIsHx8f22y2VColSZLICxThU91QMdEI4BByxjO0vLsli5GUquz+rQNAdbNG5FQVIUwI0XWDEBKPx3d2doLBoHU/VhXTdd0wDFVVMcYIIZgm+AssBfBYD+HXAs+ZyRxRReCjIb/r+MC+vX4w//JoeOi4tj5Y05CoaeCYpGrq4/drI7X3E7V1ydr6i5Korf+8xOvqY+9LtLYuVH0vWFUdqr4XulcTuX8/Vn8/0lAfbGr1dz6Mjk+TfUc2lVKxomoqRGhj6g5YM85fYw26uvn/rI0CeH7Ki/4heBTNUMCIBoMdVD2VyalPOF0+4cfXfE9eHQ0u+Ga3kvshPSmdIpKlhOUfxZjHCq8hkSoWeAT+1OZQJubCj6Y8fc+8T6eOHs4cdj9z9M27dkI4SU9FLQvjRX8eeDQVM7FycRMNY40qkJ5OM3Vq6jSr01MmpkZ0FWsUqUTRKQIK6voHVfPDf8/BQwiJRqMvX76cGJ/c2txKpznQlaDoYH53IpFYX1+fmZnZ2NjgOC7foFvEsg5jl/rwufM8v7CwMDAw4HK5khyHEWKkVCnCFGONUDCGUvhlzNLJFDX2OsF+Qg1Ng/ANTD2CYTiqUkJUpp8ahomxcnJ8PDQ4tLW1JcuypQOBCsgW9ssMS5WiFC7ycwH0rzOl75/9R6VYpYpKZY1KUI0pNjDKymLWcRRs7nIVlXvrWrI7tiz4EBOdPTRKiNV3+O4lp0K/TNeJThWKeDERCXlPDh17m/tvFg7Hx49b2oK1zfF7Danq+tS9+vj9unDt/WBtTbS2FuJGn0ustv5jibOd0dp6SyK19ZG69yR0vzZQcz9wryZQcz9cWxepr4vU10aam4KtnYEHfYnnr4nzROfSVJbBkKKpoPhT1WD9Sh36o6w6U2ZZoWCMJGz93YuocMKvKwFCIGc1SH5DpVinWVnKBqLm7Gbi8WtP59R+56Tt0Yzr8TPP+HJ84xBHuSyiqoxVQcFpWc4gSSIIU0IJTiWzS+tc14izZeikZ8r36JnnwbPjB8+Phhfde0GJo4aoqYqqKiolKoH3iBAdEpgS9eyOoVZ88eZ5ahyEuRdvD/ZPwphkdWKC0wNrkBWqy1RXqKZQrFBFoUiG1NwaBoOeoqmKocmmKhtU0uF1RpggGWNEVazqqp4lWpaoJqWaDmrdmeWN1Vu4SWiMKaWEKArvdjlbW1rq6xqePH5y5HSoFGkq1TVV4Hm7zdb35Gltzf2R4eFQMEgwpoRghGRR4lKpZDIpwwvy7mdauU4ymUw8Hp9bmOvr73N7PRmRxwpSMcWyIvKiLEqKLBOM4WsIG4joCGNZkUWJIKRiIvG8IkmyKBKEKMIqJirCFGGMVFFEIlw67rDbHz98vLq6IQsZHWJvEVmWBUHgeV5RFIs37GZZhSDwkNiTsR6Kah3AyuDdzX/xYf2+AwrggarG8vsi7Qw8SKPEwBjezjPwlHnrm7M7u1kxY8J7C83rnwYeuB2VQDZhijTES1w0EnAfH9l391eWDmeeeR48CjW0JWoauao6UHfq6oN19wP1NZG62g/Ulw/+jdeBAhSrq4++D5uL7Anerw0wCdXVhRsaoo2N0cb6WGtbuONBtG9MWFxTvQEtw+sKpEPWVTBPm4RaAi5R5+w5e4Epq9i/r2IWvvVHS4BQVcGqglSFAAigX8W6Vsig2Uw6u7EnNg3am8edY2vJ5SM0ty0Pzka7JwPTS8pxOCtSQ1ENiai8jCSkYGZZJYSk09nVLeHhlPfpXGp211hzZzd82Q2vuReggTQRVSRritV9Qyq0agah+Yrx9Y2ZSM2jUPr1+qHjJEJx1iBZHRs6zRKaVUhWBjFlSmVKZEokqkrUkClVqIJVWVVFjfIqETSKCKUZhQTTip9DYV4TtaxoZGUji9WsRjSdwKjXOXWsJN+s50QwwenjI1vd/ZqGuoa25uaFuVdCJmFogNJYJPJmYaGro6P2Xs3o0LDf40WSrEhSMp5wHR9vrL9dX1/3eDyCIBBCEEKCIPh8vp2dHZvNtre3NzE19XSgzxf0yRRhBaUTnPvYvbOzZ7PZvV6vpT8pgijGEqlI1OfxOJ3OWCSSSabcR8cO+/7ezu7xoTMRi2FJNqmmIsyleK835Dhw7tu2Vt8s9vY8WlvfxQKHxHQoFNrf39/a2trZ2XG73clEykILdEOYnJPG6jFabiQGcyb5+mf1O6tpATy/NHiIKPPxeMTnPnHYnBtrrrnXgb6BUEtntKYxXlmbrKmP19eH6mv9DTWhutqLCPl4O1oHOlC0rj5cVx9iEq6v/0BCdXXBWhDY39gYaWqMNjdGW9uiXQ9To8/o1n42msgqyADAEENTs0TNMvCwPWcaz7neAzUS2p7fWTMLX/uDJfAheDSKoIMFTU42GM5Oz4UbBvf738RssWxYyToj2debuHs02DfDbTizSSUrq1lFzcpEUwgYdIimIoK5THZ9Fz1+Fng6l35lz+4EswfRrJvL+jNZDmVlqiBNljUsaljRMKUwsvLngMdijy5TQ6SmQLO8avIq5TUiUFmkokglkeppkg2I+oIjPLToeLET3gsTn5yNkiyvZZFqggLzEXjYOBDRVMF9ctBYV/fkYV9PV/f46JDP48walCD52Hk4OT7++OGjzvb28dGxgM+nSFLA53s2OTU6NDw6DMvk5OTm5mYsFkun0ycnJ8+fP+/r6xseHu7v729pb+t80OUOeDNI9Pv8b+YWZ6ZmRkfGRkfHZmZm9vb24vF40OtbeTn3bGz8+bNnc3Nz7pOTA5vt+dT0+Ojo2MhI3+MnC3NzsVDYoGoqlni7vj0+Pj0yPDLQ//DRg+762sbFpQ0+EfG7jxYWFqampiYnJ/v7+8fGxuz2fUXGLAo+xFSFMTgmjDTWW2uNkelfo5X+wdpZAM+vCx4V65qMZS4VD/pcRwdHOxuepUX/6Ki3o9tf2xipro3fr483NITqa30NNcH62jCDym+tI+e6TqiuPlh/JiHg1jux9ofqGxh1mqItzdGWpmhrW7j7YebZa/PQnU3zWTCeMKaooOJYXVpLxbE09gJ4/uA7+Z2+/iF4DKqYBOtERShrP1YfTLhqBu3PbaJfznIkG5eym4fmw+l4zyS3YDNDYlaC1hlsboiBh+oaIjjJZVd3pN5JT8dkoG8uNbnKv96W3h4brlg2jbKKqiLQeGRRlxVNoSrSCSg9lir89b3oz2g8gmzwks7LOi9rvKxmZDWt6JySjcrZgJwNymZY1iISBZGzfjl7wGV7Fk5KHi6VPl5tfnE0sc+9jZCQkuVpFpEPwQN+46qWNXRDkzwuR2Nd/cjg5OTY5EDf062NVaxImVRqfXV1oK9v9tlM3+MnE2NjQb8/nUwtzM21NDW/eD67u73zdn19aGjo0aNHOzs7fr9/YWHh6dOns7Oza2trL168aG5taeloO/a5Ilz89avXA0/6517N2fb2V1ZWR0ZGZmZmvF6vw2Yf6H7Q3dq2OLdw5HTGo7Ejh2NzbX1/z7a/Z5sYG3/U27u7uaUI4smhc3xsanxsen3t7cLcbN+jhzX36uYW19PxcMjn2tra2t/fdzqdi4uLT548efVqLs3xppnNmlkDpkDAGC1zyLCMOD9W47G8Nf7JaxigIzACqRJJJSLbwDpCpiSaB85AU+dJUamnrsnc2TWFtEEQ6zMSgsGZhJncvm/hwe2A7w4TTSFKJp0I+z0nh8f2Hffasmdy4qS7x1XXEKi+D0M19WBq8zbW+Otrg3V1nxGwntXVherqAnV1gXoQf92HEmyoDzY0hBobw01NkebmSHNztLU50tYefvBYfPXGdAdMXjQIDIRigghlI6KYaBj0dmthhQn/UvY/pgSKqbD8hBLAhMoKlRVVxswoZWDJxLKOqSCZ6wdyw5Dj3qjj5aEUVkweaWnJ3DvSHj6Ldk5yL/dMH2+KqqlQHROCCGYaD4AnlTZXttPd40dNI0cdU+7eGU/vlGfodWRpTwwkjbREJYIkVRQ1UVYlQmUNIx1jq4ZYVeJrSkIghjPIvVp3HByHCTJ1bGqKrhFTUXTnSWj/0Gt3eOwOt93hsjlcew7PjsO/fBB6vR+Z2w8t7Afe2L1v7J5Fe+i1PTaxk7g1bP+/61//nzUv/t/25eKnG82z+0uHkXCGIGKqGNKQsFEwpBLEml7Ie6JR3nV8UHf//uTYi5WltaH+gZnpqVg4EvD6Xs2+GB8dW37zpv/p09Hh4YDPF/D6nj563P/0qev4WBLEZDK5tLTU29v7+vVru90+NTU1NjZ2eHiYSqWOT46f9vc1t7c6TpyuoLenu6errWtpcfn4yLW2tv706dO+vr7d3d297Z3BnocTQ8NBn18SRYpJMhbzuz1Hh4cH+wfPp591trWvLL5JRWOba+tPHvUtLKwk4slI0L28MN/W2vlmZYtPRNLxcCAQCAaDbrd7ZWWlp6dnYnwyEomBJZ+5/1iKDiFWe2YZ3zRw8IY9X/+svuZ5fuKYf31i3z9s1y8KHmKAxoOIwmdSsVDY5/Yc2Lxbb73Pn7kePXI1Nvvu1VrgCdTf9zTW+BvqQg0Nn5cwOyDY0BBoBPE31PvrP5QAfNoYam4KtzRHWlpi7W3xzq7E0wG8/NYMxUxJogSBTylB5GzQ+sxgbNWaAnh+mbcHwCOrIBZ4TCyaWNAxSkvmyoF4f8jR8Nyz4EZRZCqEiIppPyFPZ8Ptk4nnu5pXMHnVVAj0MRSCsaZSQ8eUZkRz60AYXggMLScmNzLTm5nHL2LtI+7+Wb/djRKCKRJVUmVJFRGVKJH17wQeVdE0YvI83thxLK5sv70RnaAAACAASURBVF5cf7249npx5dXiysvFtdnFjYk3e0Nv9off2Eff7I4vbk0sbo7N2UYXjp4seCoG7P9P8/L/Ubvwf9Uv/a/6V9efrEwuO/0xBX8KPBqhFCOKM8dOe+29mpmpefex79WLVyNDQwd2+97OzuT4+Jv5hX2bbWhgYHhw0O/1nTiPujs6Z2dmErE4khWO42w229OnT8fHx1dXV4eGhqanp/1+vyzLyWTy+YsXXb09Dpfz0HPc1NjU2tgyNTH9+tXcs2czAwMDY2Njuzs7tp2dyf6h1YVFPsURBWFZ8bncK4tvZqannz971vfkSUtT0+qbpWgguPBqrrf70ebGrihKEhc72NvtefDozdp2OhqKBbzb29vz8/Ozs7MDAwONjY0jI2OhYAQmZIEHOBgmLOZilH9rC+D5ga/vLwoeS+lBRBEELh4NB70e575/b8s3/9LR/+SgvdXT1BRqbAg11nvra91N9wMtjaGW5nfC9BVLawk3NeUl1NRkSbi5+WMJNDX6GxuCzc3+xgZ/Y2O4tTXe0RF58IB7NqM5nGaa0xQJMS8hBM0RUhFW0Vl/FvS/C/IDH2DhUp8sAYzPwYOorGPZAo+BkYDM5QOxcez4/tTxgodEsCkS2Gl3ocG5aMdUaHYPeXmTJ6ZMVAUTiWARKxJWEMUxER1GhC0vbw8bJ0nzKG7O25WuSV/z4OHrnWQoYwqqKamKpMoMPJIO7KEa84AGt7ivWz6h8SDQeBAyA5H0kTt8eBI8PPEfunyHLt+BK3DgCttcsV13fNcds7vD+67ggTto98S33OkFZ7rpufNS18r/1/bmWs9q9fD28Jpnx5OKZLAMd/WexgPdfkwoRsy5wF53v3bu5Woimrbt2oYHByfGxifHx6cnJg/sdtfxyVD/wNDAgMflOnIcdnd0zkxPJ+NxRZLT6fTe3t7jx49HR0fX1tYGBgamp6eDwaAgCKlUamZ29lHfkxOf+8DlbGxo7GrrfPXi1dra262t7a2trYODA6/Hs72xOfykb3XxjQUePsXNPpsZGRx6/fLVytLS+Mhob1fX+tJyNBB8/fxFb/ej3d19RUESF9vZfNva0f166S0fDe2+XX369OnU1NTKysrz5887OjqGh0dDwQjA5oJYHDrf8wPBY02J+ievwRsSKxTLFIsUC2wDaYpiiIJx4PQ3dZ5cBlObsb1j8JyOrUncMBcL+v1gcvu+C3PORDASTMAXCSNRzKQS4aDXe+Lw2bd9y/OO0UF7V8dxc5Ovqd7XWO9prPe01PlbGwMtzXkJtjSHzyXU3MykKdB8JsGW5lBrS7i19aKEWlv9zU3epgZ/S7OnscHT2BhsbYt2dIQfPhIWFgyfzxAyiiRIiqQoClJkosjMZwrwky+F/Mb3LZTC2b69BBAikkRBFCJpSDKQyARlJGNlX2wbc9WMOWedkk800hinFWPPhfpfhLumA6/scpA3eGJIGAAiYiwgWcISwlJSkUIy8opaCBkRxQgIxppbf/gi2jh0NPk26kqoKaSJFIlUVhiwVCyriKhIhek076rJF34Nj3VnIPVyzXFwHMIsJzD4aIP9WxcVXSbGuWgS0UVqCNQQCBNqSESTCVUI4Ykex4ZHMPpWPbf6Vm4PvH267Fs45vdjJCzrvGooRKMIJn8yFYe5Z2NwUCZIQUrq5MjeUFv3fHo+FU97XO6hgf7Guvrurq65l68CPr/H5e5/2jfQ1+dxe3wez9NHj/seP3GfnMiiFI/FFhYWuru7Z2dnbTbb1NTU6Oiow+FIp9Mej+dpf39XT9eR58QV8HR2dPZ0dm+sbcRjSY7LcByXTqdTyaR9Z3ekb2DtzZLApamCQj5/H5jy+o4OndFweHFu/kFn19LcfCwQXJ1ffNj9aHV1I53OJIKe1y9n6xpbZhdWU0Hf4ouZ1tbW1dXVYDC4tbXV3d09NDQcCISAreD+zSDLtB+LPWytglkUq/irn9QXHuRvf/yv3/7on/LJLwkeNtIEryvBiixkuGjY7/cc+xy73vU3zmfj9t7uo9ZmT3ODr6nB29zoaa3ztzYFW1suCkNLS7i1JdQCEryApUBrS6itNQTgufCVthZfS7OnudHf2uJpbvQ0NQXa2mNd3dG+PrS2ZkTChiwosiCic/DIsiYjFfrBsIAG9E+pMn+J34kwkeRz8FAM7NGRYihUlIzdI/romb9mxDmxx7t5I4mMpGLsurS+59GeZ4E3B3JM1CXVkImuYEMhukKpQmSMBA4JMYzDyIiqRowaQclY9xoPXyeaRl3jG+HjpJrEukixRBVEZPgLXTpEMaGIfn2n5FPgoSrWENZl/I46MlEloopUF4khEV0mRCYYEYVgiRIJZsFREpbIwlF46K3r5VHSntDcghEhBkd1XgU4UfwReIA9SJGTAJ66+tlnc6kEFwr4Z6Ym7t+rbmtp2d7YzHCc3+sdHhwcGRoKeH2pRGJ2Zqalqfn5s5mtjY2lN2+ePn3a399vs9l8Pt/i4mJe83g2M9Pc2trY2ux0HweT0VcvX/V2PZgcn9rc3N7bA2drt9sdDUcc9v2J4ZGNldVMIoUlOejx9j1+/Pjhw/WV1e3NrYnR0a629qW5+Uw84di1DT4eHBoaX1ldW198NdD3pKaucX5lMx0JLr6YaWhoGBsb29raevXqVWtr6+AggIdSLQ+ec0WHBUQCCBXA8wNf7V8SPKDxgH8BszhLYiYWCwUCbs+x3b29cvj6ma3vobOzzdVc72lu8LQ2uVvrfG1NgbaWd8KIEmhu8p+Lr7nJy8TX0uRrafa1NAcuUCfQ2uJvbfG2Nntbm31tbKOtNdjZGXvwIDY0iDY2jGjEQKKCxA/AAy0Mo45MGHu+vnX5gY/4H3kpAI9yLgj0D1lFio4wkg2X1xie8dYPH/WtprZCRhAZroQxty12DR/1vQjsuHBa0mTVEBUjHlNjKSoSgxgGUSkn4wCHXAnVwxte0ThOGvOHRs+LeNPY0cxeFJQn1fgIPBZ7MOuZfFXn5FPgISpoI6qENRkYo8lElQmRCIFRJdCBGBqBdoKKMypOU8ojKmWwHBBkv0D9ghojRpxoSUIzFAsEK6xj/6HGwxQgJCcDvpPhwcHtjd1MKp2MR+17G5PjwzPTE16PWxKEcDC0tLC4vPgmGg4jWXYfn4yPjj3q7X3Q3dPZ2Tk4OPj27dtUKsVxnNPpHBsb6+zs7O3t7evvHxoZmX7+zOXzJMV0MBB89fzlw56HD3oePnkMY0Jv374NBgKuo+OVxTdu55HINJ50PLE0v/Cgu7vvyZPhgcGRwaGJ4ZH9nV0lwydCkaW5pYcPnz54+Gior3dseGhsbGrHdpSOhZz7u48fP25vbx8YGBgZGRkYGJh7PW85F4D7EoXpsD8TPOgfv2CECJIJkggSCOLZhqLKsi7w+v6hv7Hj+HKJu7ZR39rWMykNyRSOR0hRELO2fe/yg9vBCmg8FLGoGBhJQiaRiIRCXp/7wG1bP1x6aR/tP+xqP2quczc3eFoaATytjf7W5osSaGn2NTf6ms7E29QIekxzo7e50dvS5G1p8p0zyYKTj+30tjb721u9bS3+jvZgV3fi8RNucpLu7urxuKpIkiIKiijLsgKmF0mVFCJDOcgYSRjWCoSDKiy/QgkoCIuWyFiUiKhgkSBRU2RZ0EMRfW4l1jrubpvxj29yi4eZF1up/ue+7rGD2bdJV1gXJD2RVk+8wtpmeG035IshnuoCVsNJunecfrEefL6ZmrMpL3fkgdfJ9vFA74vgsosPCDqHdRFjEWqCRJDI3iaZvV8KRjJCUFu+uGSQdhhIvlg92D8KIha2l8owXV9BREREwpQJljASMRIIEbAmYSxjScYixjxBaYo4gtIICxKW05ikEE0qJIUxR0iaEIHASRRAIbzLBCnsDmW2DXuwkhL4uNftioSiSJZlMZPmwtGwPxoOCpk0VhSR56PhSCqREHmeICQJQiQYcjoO11fXtjY3XS5XIpGQJMkK6eb1evf29nZ3d09crmA4FIyE0lJGwBKf4SPByN723tv1ze3tHafTGQ6HhQzPJRKRQJCLJZAoUVnBohQLh/d2dux7e84Dh+fkJBoMCSlOUzDmpbA/bLM5tnf3Tg7tAZ8nEAjFkyKRMlwi4nA4Njc3d3d3XS6X3+8PhcKSpFg/l2CVQrghCmEQrDKANUVIZes//TX+1xcrwT/hAPxF8Nxv0rd29Az3Y8ADrt0QuEfXIKgCViQhlYrFYkG/z+l2bjvX5w+mRhwPug6b690tjd7WZndbg6+t+Z26c676MOWmKb+2eAPIaW225AKoQOPxtDR521p8Ha3+jtZgV2fowYPU4LD48pXuONSTKSxLgiLyigjvkwUe+R14RMYeCzwwAHYu/4T680v+RgVBZwAGZiQsCUSSoFEWVCSoRBcE3XEijy7HmsYOm8b22sa2OkZ324Z2xhbcNi9OCros6cGQvPI22D+6Ozi1u3vCJWU9I+mhuL5uS/bPONpH7V1jRy2DB20jh92Trsn12EFYiSu6QHQJw7CQgoE05w26wvokyleDRz0MJF6s7QN4FF1VNCrLlEELfg8mEgbqSNiKZIoFokqYyOABISswFgXeEgSoJCmwU80oOKOgNJIzCPEYC0wZBF39U+AB5wLEq0SSeB5+hAQnRkoagttIAlZk5uoHwWywrOiqipWzbVkQ0ylOEAQLOVbHlBAC8UBFMZPJQFBRcE+3QKdAzFUZiYKUyQgcx/E8D8EOFAXLioqwziYqWLFNkSRJgoBkWchkFFGCcG2Y6FSlkqLwMpfiuXRGEdJYlmQJQbweJKkYguVYYUytiR8Q4gpyK8EoDmERghAiioIVeGkt5l4Ej/UG/1lV+x8NHngzzjrp0GV/X+NR4O3cdzKNp8x9v1nf2tUzaQ0pP0DjoQw8CLNah1UiISGThm5QyONwbh9uLe/PTuw+6jkAO1uzv631pL3J0/YOJ3muWKRxNze6mxo8TY3+pmZL73E3N7ib6z0tDV6QJm9Ls7elxdPS4mlt9nS0ejpbA53t4e7OcG9vYmhUfrOsuz16hpcVOY2kFBJ5BSq4IotEAv8CjOAV51nxyfDSvid/et/pz3o1/urnhQYFussIC4RkCGEwkBXMI6ooWOV4dccrzWyFHs/aHj/fH5w7mV4PbLmSEY5Iko4Vncvo61uxh33bDwY3bEcZXtA1Uc/wusPPT60fP50/ePLKMTR3PLx0PLcfPIrxSRmUDwAAUgWmlCAEkXowVJBvWzJIPQzEX6zZ948CDDwqlSAcD4ZWGf6ca9iKDOzBPFFFDEqRjFQ27KhCeDPQkSyvfw1RVVIwc4zBEiK8ggQZbumci2eAZGY3GOsAk4YkKZJMFEIUpguwnTAMAiNDmMCpWT1n7s5Iggg4ABJmebZMu9A9Y4uiKFYgUUEQZFlmRyGFjbRQdime5yUJhk7BlsD+wPwry2UUYdBXZQXJMpJlhdGOnJGJaoioMKSFiIyoIiMJsKNIMhIlrEDECStsj1X6cBfMcxomjV4Ej2yBxyLND3p9C+CxrENfA569HwIe6CcRBXqMMmKvDYI+q5DhkqlYKOI/ctlO9tYdc7PbA/22jvaTtg5vW6e7o93b3uZva/1AfG2tXhi5YdLS4mtp87XAHk9ri7u1ydPa6Glp8LQ0eVqaPS0t7pYWb1u7t7PT19UV7OwOPXgYfPQkNjYhrK3pwaAuiiIDT5qBR1QkWRbhfWO2E2bxAPwoBfB8Wxv7Jx4NvocKkqBbgHlwicYyVmQsyliWFCQjPSLoPk51J6k3qZ/EVHechgVdQLoCXi26ougnbmFkbHNkevPYn0YYAtcSoiclzcMhZwIfRvFJXHWn1aBAE4gKGImKLEG9VQUYjIHWn4EHmvFvWs7BY7sAHsjMgEFjwjIoN5h1GaG/LoEGY4EHml9ogZlAu00gXhtRwaPbAo+MiIwJqE1MN/8t8FitPJYVRYK2HoxQ58gBR4kL4LHwjmQw07GQndC0X1zA74YRxdJ7RFG0vGHPEvOwOJ4WbyxcQYxQRVFgLFXCsgz3IFo4kZAE7LEsYhQCjBJAqwI/hoUNxXDb0pkoFsPYiIA1z90CJcY0Dx5marNIY3UO8qpPHj/f3Gn4ygf9LwDsP3WREajQMjxnCYHWzmMlw9R3mUqyxvOa/dDX0H50qcx1v0nb3NXSnApuxKCdWs+VjfV8/+KzKpAkQ/RBJAtIzMgiL4jpZDrmDRz7HDvONwtbI2PbXQ8O23pcLT3utm5fR1ego/OT4m/vsMTX3uVr7/C2d3g62t0dbd72Zl9bk6+tBfjU1uZpa/O1d3rbu0IPHoe6HgUePPE/HeBevyZOh5aIEUnkZSnDTG2CLAmyKMqiLElQeKz4BFaY0Ll7X6wDvn8ZFc74pRLI97clpAhIEdkDgtYLKyKARxPBBkV4pHESTYqUk7SURGU2Lwsjmkjwu7uuicmF12+2fcE4QqpGVEVGvKRkiJpEWkLWUkjjsJbGNIMgliiM/SlIVihMH2WxowmzkH3pTj/8PK1Qhz/2YnXP7vRDzFGZUhEc5RCcHPwlZMAb+PSzayIBURj7UQAnFwTJCMsIK6CEYVFWxLPbg50ye4nPigRefxDL/AFtrQytAqgA7E3P243fbcDNMLDDbwaB462dHzW9Zw+C/bGy+1g0uvizrS+daTzsouyE7JwyXEiRQTGBNbuQ9S8UB8JnNyDDMWd3xe7t4vnPWizQ87ClszHXCqsxy7+j59d89xLnP/rgZH/03wJ4fkXwQAUCTV9AMo+kNBI5WchIksDxKX/I63PYnW+W9yZmdx/2OzqeHDc/9LT2+jse+Du7Pys9vs4Hvs5ub1e3p6vb1d3p7WwLdLT4Otp8He2+jg5fR0egvdvf3hN9OBB5MODrHfQNTSSXFtWAR+NTiJm3RazICKwB0PViG/kKCG0Aq+4F8OTL5NfZsPpYZ+0rtLJIhmEXgXW2BEgdAGNy5x1ehaTTvNcb2NrcWV/fODpxp7g0c/5ECIysAmuYz7vW531sBSZ4vddygTkJFJNvbrw+Bg+zoGEEyAGkyQpRIEOQTKCpRRKi0kfgEWVZYl0iqJlIEWVIzWn1FM/7i6DRvC9ffmLn3/3ykT/+iHfc+p3Xfu/xsQ7kNz+7r7xyATy/FnisDgu454ChVsSSiCUBjFuSICtSRkgHw4HgkdOzunH07JWzb9TVM+Bufexte+hnUPF1dufF29FlyfkeCzw9F8DT7j+jTqevo9PX0eVv6wp29EYf9Ed6hwKPR0OTs8LGuhb2qQw859ohUxGBMswefV7R8l2tAnjOi+Sn/7We0dlaRvIF8CjQ94VwBBCUwDITwcQWGG8HE5kgKJFI/OTYGwlF+YyE/n/23vs7juPYF9d/+33n3HOffd/1tS3b13732ZIVKMqSKAZgMyKJRAJMIAgip11gc5oNkztOXpCifvye6lksFyBIQBQjiEadQe/MbE9PdXV/qqqre+EHduDXsMHgh4Cwp09h1QwYBPDTpGCICC+PAJ4n+xB/1qNXGLpOAzxP9vch4qDT+Qk0IAj+ErDXE8PHAneecQA8w2ACCa1JxNftH0Bmzz/1zhvsV1bgJOB5xg3ReQ/1X/Hotwg8/Wbgx5aH+XHwSkO85H7Hg5iXjg2urU7wkx/87Dg/58vtHwaqf/ibdPHHn3f2frb40w44XiHCUsRKCgP2NbMNDGeIW/b3Pe+xDyT8bK4buNzhuq7qktRO79Xnl2sTs1JqojE42owMtaOJdjR+iCKxdo+6l+CeZizeiMeleKwViyjRQUFRJRpTonFlMK5FkkZ8VE/eUMZmzHuLfj73M0E/e+4TeN99GF8EwwTbRHTbwduH9j6I/nN0cMv5/7fMgaDT6adDH0RzBo87viCYS4CVwaBcgCERBI9tyyOE+27nyf7Tx2KQ3+88DfwnHZgsgglt0I2grcHUFWIRBKLxf70AWJ2fSjK+v57NV+RO8DOs1gH/GiBn0PkpADsH5jNEvF7wGGbTfwo6T56TO3j3IPCDwBeTLKEJJGoKhk7YzcCx0KO33Dxv4nEvHZH6hSHMH6kCqA991OvTR257DR8/eQ1lfLBFvJ/AA+wM/H2BN/uBB7vU+K7b8WwBPMjUjVZTzhWklY367L3G2EwzfqMRG25G489gpoc3hzLxdiQunGyxejxeT8Ra8YgSGwSKR5V4XIkntFhKjw5p8RFtZFKbnOPLG51642fGf/Zh0kv416ByAl0CCG07Tx8yB/Yh9taH4VzMH4D+BWu0xAyjv+84vmW5AehlEC11kIFxWtwD0SWCXj8LngeeJz7YNVANATz7Angegw4EAHoAPP2DpsBEgTyhHfD6a/melRhCzkuB58QaHwGeE+9/9RvOgee9s3igMZ8HnsB1Ape7FsamqchquSJvZtr3F5sTs1JyohEbaUbjrUMw02fuiPOtSKw5CPc0o7FGPN5IxNuANxE1HlXjcUFJIz6ix0eU+Ig6OmXeuudv7f6s6j/bzs+w98o58Lx6N3vPvwlzO+LnMnvA43mB6/o98tzAExG/z9RhEe91DjzvT8u+VuABE/aNpnPg+TCAx/ddL/BszyYEI0PTqjV5Z6/1cFmavl0fnpLio81Yogs8RxxufR9bEQCeVjTWjsfbibgcjwnUOQCeRMpIjJrJMSUxqoxPm7cfBLv5nxH62fd/DoKfzoHnjXbEd1o47PoKC1eCHvCAUwvMCRHj4u8HgvbBnQXTAI9hQgUCjd8a8EDIWncqBlxt5xbPsfISLlw99tLpTvZ7SU/3jVe965PgI04+hAUHEBQM/939wN4PrH3I+E88/6ltP82VWt9fq/z+b/VvLj3d2X3K2U8BxNfviz4aNvMb4Z/vdUDJhCjqjt/NwGIezyYUm4am1upKJtdcXqvfulcbm5ZS11vxVDsKEWuC4nLseUrIsWQ4CQRXE3E1GVOTUUFxNZlUU0NGctRIjcvJUfnGtHnvYadQfkrI08D/yfcf+7BmVLysDy8ObIPMeToDHAhHDw8SLGQ8Qj70kGcn9/chHld4XP0ggC+89sSDJ8U2ure+lyu3A/8pLEE6cLX5wRNYQwlhEsF+VwhhDwE/xMi+eoKQii0D3mA/fe1v/usK9OFneT6MdA48HwbwQFRbx3d9hzKCkK43Gma+rGzuNO8/rN+YbQzfaCeGlXhSTSTVREocw3z/MaUmhtR4UoknlHhCTcTVBACPkoyqqYSaAuAxU2Pm0PV2clSeuEkfrT2VWk85e+p7T4PgHHg+jA79SrV8OfA8Qx1/PwShcI4n6HjnwPNK/H5TX3pV4AkVCE8EYrypuh0p96MGnh4vYBOywBHmjiUy3hPPfWpbT3PF1g9XK7//a/2bH57upJ9y+lPgvQ2LJ/D9wPPBDoPgAkAd3w0Cz/UcxinChtJqKqVyO51uLC5LN+9UR29IqeFWMqUmU2pqWE0MaYkhgUCp/qOSTCnJpJpIhKQB9sTbyXg7mZCTAEtmagwNX2+nRpWZWXtr56lhPHatpx3vp8fgdulPENTX//nX5iH06KX0ax9w/v3TceCZZfMMbw6ZEb0bQhF4rVJwUMXnLZ59F3ZFF/rPiyyefSGSvVq9kYodVPDs/Q9739t7r0/8jz6BYxs8WlbH54Ksju88du2fLPZTNt/84XL593+pXfz+p+2dnxh5Aptk+h3f9z0v1C/eBP88mMp1vcCF7QIOvG0Q2+ba3KKImHK72SqXW3u79UfLldnbpfEbldRwIzkkJ1NyckiJD2mxlDBukgqYOF2SE0k5AU42RUQTaBDJFm8m481Eop1IKvEhIzliDo+3h0e1udtOJvOTaXR8+3HH3e+AvfUmk+f7L6c3+fDzsrscEF0BpPsX0etnH/MfF1rm3bW9bKnle/DzqB0HdkWHJQb+Y/hJKH9fVNELQGwCcfLNCujrf8mPu8Rz4PE/LOBxHIsyoqmyUqvJ2ay0slqeu1OcmKgMjzRSQ61kspVIyScBjxqPa4KUeLyRjDeSidYB8KCR6/LodfRgISjkfyII7L+O0wncoANAe57ONAfOgedMN+/79HLnwPNhAA+42nzX910AHk6RoZnNhlYsNdY3y/fu56anyiOjADyJlwGPMH0gclqLx/VYXBcWz1HgGb2hTkzx9fUnDeknRvYDp+PbncAFtfI8nXEOvL/A8xh2lj63eM6O/J0DzwcFPMLysByOTZ2020a50tzaLj94kL05UxodlZKpZiIRWjz6ca42iD4IUSceNw6AB1xtSXC1qfEhMzmKxyb1qZtuOvOTqvxksxB4At/xAfbO09nmwDnwnO32fY/e7hMRQ/lRH3zPCzwn8HjgMUE88Ox9x3rC2ZNsvvH95dJ//aX6zXdPtrafMPzYczpwv+e5riemed4E78TSPcf1HR8q1iXfczzfDWPbGEFElvVKtbG9U1xYyN26WRwZrSeSjXiiGU/K8ZQeT4XRa3I80U/PzJ0Y2D0wxyOoJb4F63jGJtXpWS+Xe2KaT2zue5Yg2/PgfV81wYxYHx1TTP/l5/PHfOH81EkceJ6NB/NohxojvE0UBl3BFyRkPDhoskCc78BmGl3q3iYKPFTaQTn9Dz+pos9dZ95+vmncXd3NFpue+2Tf3d93g47fcb2O4z92vMcehN34gef6IJa+4+3DMreT06+R4UOl+4c+neZD/6N7zDnNF8/mPefAA93mfQOel8haEASu43BCqabrdamVzVaWl/Ozc4WRsWo8KcUTrXhKjQ8Z8SE5GldicTWeaMNJIDmeCDcpUGIxJRZVxFqfdjwhi2khJT4iJ0bl65P6/XmrXHrC6JN93/Ydx3dcP+w24Uj0ktode0kwGMaFHh3ttiG4ihVLru85vuuKW2G5fMf3AvfAywceP1eEITzT3Y595PnJA6l+prjASO3uBxAd6fdaopcBVQrOBzC6wygOXHd81/ZtB5pLrHODr+8HbgdW74hxv6cV9TKiaXulJDyWbAAAIABJREFUhpmjzX1i6zwPPB0n8L2O5XaY/4T7T2z/sRAnGMEdr2P7TwTwOJ73UvKtvhtOrMUxN7geYF0o0L7IH3PT0VMuPNS3PS/U3gLP6wjq7029q0e/fFY/nwPPBwY8wtZyLcYYxprcbldK9Z2t4vz9/Nh4KZaoxbrAo8dSrYEoYI8AnuZxwKMKWFITKS05rCZH1ORYKzXWmrxJ1zcCRX5i88B33gLw9IbIcKmsa3PPtcP9tTzPd13PcV0PVGsfUCdwjmDPWe2Zv/K9elztQcLzwNNxwVLYF0gjwMEP3E7HBcsi8GDRmONbdsAd3/EAtAJBEGjSB12wurmfRDn7ntdPrwV4fN8LLC9gwWPmP7ZhB10Y+WFQ9wPbfwz6yMtRB0Z/S4z+ITi9CoN/BfCEj3YFXobM6QOeZ7D0KrX6EL/zifvRJw92pLJ9l/WR1bH5Y0Yf7+Wk734s/defK9/86/Hm1mOK9l073MTKdRxXeNveMv9s23Zdl3OOMJaVdrNeqWcz5aXF3Pj1QjRZiSabiSElMaxEks1rkfag+PWdeKIRh7i1diwhbJ2YHI3KUbB41HhSTab01KieGtVSY82RG+1bd3hmt2MagcVcz7Y82/ZsBwZ/V+zc5f3y9xUM7tv4y3VhwOjRAf9t2JnBsWzOLIvbvmf7MNC4wb4LsQ1CI/ds37dg+ICO2k2/vD4fxTd6XBWybYujBz8oCLN1gOdgVjruvqAO2LQumDxOEDhu4IDR6XiW7THLZ7Znua7jd+lQQ4pywsK7RyEfHdftp18sM9Tt5Bv6nZXMXrHhOo8hrNKG6nHXo36H+R0Ob+C4IJm27bncC8CacO0TyOOuax3c8ypi4ABbQHYFuyB/iuTAQ6HuXDzag33mgT9hGaIA4DAw+RSlnZFbzoEnFKMPBngckbjFTYJbckuqleu53dLKo8LkdCExXI4m64mhVnKoFUk0BPDI0XhLAE8znjgMPBH4HYRYogc8+tB4c2xSuffALhQ6FAMGvCngebb7pCu89OHgCDszuLZjMcu2mOcyr8O8fbvz2N4PHN9zXcdxWKdj+wH3fN6bczojHfF1v8YrAQ+MhYFrBa51GHhgvPaBuDiGGNNDoOeB51D7Cg3jl73eccBj+55r+z71feZD89sAOZbtWdxzmO/bgAHvK/AA6jBBlmDEOfC458DzgQFPqOc7jkMoURSlUatI+b3K2kr51lxpZLwUT9USqWYCgKcpXG0yON/A4nkeeORoTI7GwdU2NKoNjepD4+2xKbq49Lhae8xZ4FrOmwKesON1lWIPAsXBXQMz1+BAsW3fJf4+dh8j57HpPCbgxO+4gDxcAA/zfHYOPC8fy08DPKHRI0ycsDDHd3ngQtML4HFsz7J8boO9ax8AT4g9ltAVwDDqs6hsD4b+0CpwPLAHIP/yeh579TngCQL7KPBYIJwW9y3mA/BYpwGeX21VvA6Lxz3G4ulC5qvw6lgGvv8nz4EH2shzbdCwn3nb+l1tENVWufDd483txxS/c1dbuF2C57iMMk3VWvV6o5ivb23U798vj98opYZqiWQrnoKNqAejcgwCCpoCeMDbFku0IaAg1o5G28Lb1o7GlGRSGRqWh0bbI+OtyRm2tvG40Xjs8H3P6rnawnmWQ86Bl4n2Mzea0HaP6L9Cqz7kiglglBQ++0DEJhHHk4iXV4NduZNT9+ssoN5j8K85Nvjz/dBrIRyd4GA5T8ABCO8CcsWIDxggoMIBx5rjBQ640UJXW3hbj2vhaOe4ju3ZoWLuuZbwJ3mO6BgOWKVuAE5m5nnEBWKOxx3PgRtcRxB4vRwowfaEeSTQyzqAoi7+hJLRe/SLMoeBZ7/jeIENsaZO1xvucd+xfABF7nPm28z3LHht52QSHjoHBPpUdTlw6D4TM5hxPKAXAEXveu8RwtvWReXQZR0clBHyIEToF5T3IjZ9yOc/CV03H/3RclzmutRzqOcwz+GBxfYZ2d/N1f91pfi7/658/f3+xs4+wR0x3e45jmPbjpjmecus82E/k8B3XItwXdFbdalRKtR2NusPH1SnpkqjI9U4/MZoazDaGIi0Y/FWNC7F4nVBUizZiIlfII3GmpFoKxJpRQbbiXgzlawPDVVGR8sz0zST3lfa+x7f9y3Xt7kLDjfoz44rujU4vF6awttOMwYcuseFuWw4YztBw+CrZWNqyxhdJZPbfEt2VHefuAG3YVxzXAvYD3eeWJmX1vRsXRQz667n2EKA2cHR9WxYHeDbHR8yPlgvwL1wrgOUC+7B0YKZEpt5nHnccm2IZQQKQvJsz7etwMG2p3NPZx5iHmOeTT2P+j7xPeo7zLOYZ9kuuL4ChwU2CxzuOZYruool2ioUjhMZT5xOTtJvL2/vFuqODeZOYNHAZY54BAP3Guce4x4V1YCacBeedAryLKdLp5GfcGz3POgAp0vPy38opTZwvZtggvgg/5H+PweesOE/JOCBzd4dz2U2NrDaarcq5UY2LS09rMxM5keHyvFYIxprDUabAxFZ/BhPIwbYI+gY4Gkm441UsjY8XBkbq96e5fncvqnve1bHtxzf5uBGfxvAIyDHt10Ima3IbHa9cWm68M318tXZ1lLFUpx94u4zblk2t20AHstxTzNwfDzd+uXA49nwE7bwK7bCMBGT3QGzO/SAiBNgJyBuQF2fuYHt7Avq2E5gA/x4nmMFDnVcwj3CXEYdB9u+aQemG5iuj1yXeRZ1uSWAp2Pzjm0FtuU5FuhoAhJ6ysuJjSKAR7u9vHUAPNYrAM+BKQYGmQAkmOIHOgXwCL8uVNOyLC6SLRTNF9Xc7kvPmV1djAlv6S/h+TP9V892/hx4wvb9YIAn/MkU3/Vc7hDMdFWVpVqzmJVWl0qz09nrw4VErBaPN6Kx9mBMiyUguCAaD7GnHktKMZGPxhqRaDMSaUYGm4mYNJSsDg/XJiakB/fdWmUfG/se98CVYVl+N6pNWHf+KTS15zW+Q5YNDEKhZQMDAyjoluValmNbYFs53r7l7VcUZ2ZFvjCW+0ei8PVY9V7WatsAPJTZ3LIty3Yc17LPgefQ0HQS8Oy7dscFFPG543E3YE6H2vuyGVTarNJi5SaVdEcmHWzvM3efO/vc8WGMdl3u+pYLKn8AzgCHMdukdku3K7JValtlzZGwLzMfOR4WkVueY3Vse9+2OzY0MAzfrwg8m8cADyhDoA+FRg/zGfM5+CiEU68/uqA7yyS8hVABUFY82/VDgvyLzQ7P8xhjjUajUqnUarVKpVKv11VVZYwdYvqBz8O2bcuyukByINgg57bnOG54NbxBfB0sHtt2wvt/iTl15OEf8MdPwpf/6I/cdqjjENcmrk1dG4S5Q3Enk619e7nwu7+Uv/6us77dwQiUONsORSlUgt4y60L/nuu4NrcJZYZhqO1Gs5KvbawU7t7KTIzkUvFKMl6Px+WoAJ7wt66jsXosVoWFPpCpRWP1aFSKRKTooBSPVZPx6shw89ZNdW2lo7Q6DPkus8CXwkOLBwb5A1fbSe8L+u1LiPPuDZzbPWLMgrzl2m6Hu52q4s6saBdGS3+Pl78crt7Zc1tWBzsdyhweopTtMdu1DrruSVX6KK6L+WnHtS3XZn3kiAmXjmt1BBwE3A4Id6kdmNyXtM5aRpldzE/e3bk5v/dwo75Tpk2zY7DQEnKYYzHHIq5LHZc7jmdZFvWaEt7LygsrlVsPijfu5mYeVVfzqCC7LdoxrA5zIColsJwOh6NrgaONOzY0uxhroe+clLAdZOvq3PJmJl+zLd+3uM+J7zDb5aFDTwAP4yCiIKUAPN2ppnDC6dDRch1uW9xxbNd3fQjMtmCGCuSnO/Y/Vx/Hcdrt9uzs7MTExMzMzNTU1Nzc3O7urmEYlkjiG90pmdAwCnHFAsXICemgF8BDLAuW3vXusW1QtjjnYWFhmT3oeq46Z/DEOfCEjfrBAE8P7bhlUcYQRromt6VyPb1eeDCXmRnPjiQrQ0kpmTwReOrRSD06WE/EaqlEbWxUuXObZDMdpHUYclwqejUAD5gibwx4QgMIRksL3DSWA5p4RXamluSvR4p/j5c+TxbnMrzJAXiYBStMIIrW8pjlcaEA2OB8O0/288Dj28yFod8/QJ2OZXeY02Fuh7qdStt8sCEN39pJTm8O39qJT6xHx1dnFmpbBdZGHWx1wOfmOMyxketi12UwQW7rbba71bx7J3N9emv01m58ejcyuZe4lZtba+Zarso6zO64lhtYbod7gYiAs22PO4A9vxB4tLnlrR7weBZMvjouCGRIlsuABPCEE7OHfGsAM0DcsS3Hppwxzi3HgzCFLvBAhV6EgoyxfD5/4cKFy5cv37p1a25ubn5+fm9vTzd0y2Kcc8YYIYwQGjriKKV6NxkYUwExXfXLsmxKKcaYEBIijVj8jXVdN03T4hajAEhh+njk+Bx4wrb+YICnpxaBDsUZphhsnma1nt0uLN3PzE5lx4bLQ6l6ItnuWTyRWCMSk6KxWiwB5g6YPrFqNFqLReuxiJSM1YaStetj+sI8K+UCqrsWdkJd0mXM5dzhlmOF2mroN3hp9zjZ4nFhVU5gcZdzF/w3HiAKA2W5w7wOcjp5uTO+yL4eaf4j2fxytDWz0ynjjsw7GgOdGvMOYx1iCX+9gKxw2valtTr7F8GnJVR42PrBhlCvwKK+ZbtW4FgAOZbtc9tlTsC8jkI6y9vNxNT20K3MvQ1pJWvcW1OS09nBib3pVTmvdkw7YL5HHZu6rum4pu1S22WMa22W2Wo8uJ9feFR7tG3c2yRDc62r18uxm6W1ImmRDrE6LjzJCQ6AxwLgcUMACLHnxMbAlr9XU2eXttO5usU7YvEl9+H1POYEXFhTAlds7tpiyVfAQHWhXXIYdzgYFa7NBFAQxhi3LdsXq2M9sMKgEuDhfVFldnd3P/vss5GRkWKxWKvVJEnSNM00DU2Ta7VaPl/c2cmsra3V6/VarZbJZB4+fLiwsLC6ulouVyhlvudzbsmynMnsLi2trKysZrM5VdU0Tcvlc2trq4uPFpaWHuXzBVXVhOXzzFn3oiqdpfOfHGDtR/6fWTaxbexY2LGIY1GP0YCgIL1X+/bH/H/+pfTVd8H6VoBM3+JgJIs5xwPD+a2y7sA8hzlPyijCpqbJzUatlkvnVxd279zcGx8pplLVeKIZiSmxRHswJg1GpMFIPRKtRRO1KPjZAHgAgaK1WKSejNeGh2qTN4yVR7RWcKnBbcwdSkOyGbMZuMEgQYc96W2fuRp6Pof+DGO2A4vHfc5cSm3GPUS9covu1axsI8g0gk0puJcNrt1x/idp/Dmq/jWpRhaDe8VgpRasVoO1WrBTC2rtQCUOdTzGuWOBMn1SrT6W64L7zLWoz2nAqcdtB4zWgFsesy1qc2p72AkqcjB1r3R1ZOPmUm23ZTVokG8Ht1fR5RuFgTvVBwUsM5t4HnYc7Lia5WjcxpZLqUUMp1WnxQKuSk5VDTLN4Naac22qdeVGcSlnSshH4OfjHrV85vpi7oVbLrUdZlvMtkIxOrExEPd2a8rs4vbOXp1DOJvvMFA0HCsQbjxxtAMLcMijrk/cgDgOcWgfQTfGlq1iVpZapXqrqSBMfQqs8EMzxYLqvLBG6XT6s88+m5ycVBSlZ6mYpp7Npicnp0ZGxkZGxoaHh9fX1xcXF2/cuJFIJAZEmpmZqVarlFJZlh8+fBiPxQcGIvF4cnJyOpPZS6fTk1MTw8PJZDJy+fKl4eHhdDpNKeMcJi/76EQmfdg3nANP2H4fHPBwDp42ggXwNBq1WnE3v/Fod34ue2OskEpVYvETgSeEn3oyWR8dlm5Ok+0N1qo6lslsTB3K7JBeP/BwZjmWy5nLmEOoXappEw+LA7eKV2aV72bYtzP862nnb0PstwP0f18jvxlEfxt3vrwZXJwNLt60vrmJrtzWbq6hmuZg7jKYF4I4t/MUcuAQ8DDL564jNCUOkEOpw4jtKTTYLNLB8c1LQyt3N9tlHLSdoE6C5Zwfua38cKs2mzFryEZegJwAOZ5mObrlIOHYslnAaIBwgFigWEFOD25tupcmaleny6sl0qIBsTwAHsZ95vw64FFnF3d6wGMz8Bk6VkBZl7gN81XMCYgTIDfQ3UBz/QMKNPgYyFZQ1Z3bK5mhmQfDMwvL6VpV5hr1CVhG1jMP13PSQylNp9NffPFFKpVaW1vb3d3NZDL1er0tNx89mv/hhx8GBqILDx6l05larbazs7O1tZXP57e2tsbGxuLx+Pb2tmEYm5ubQ0NDw8Mj62ubu5nsxsZmqVQplcrr6yu7e1u53Pbdu3M//nhpbm5OUTSh1YHVdqClPVens3XiHHjC9vxggCecooQgzyPAU8kWd1azj+7uTV7PDaWKELcWU+PJYy2eWjwOkW8iwq2RTNXGRpp3Znk+42HFshGFIZ3yLva8fuBhlDswqeNTamNsbe3WotPbnyV2/pqUfhdFv4/iTxP8dzH+7xHr36LWv8ft/xry/jDsfTps/2mI/ldC/n+jjdQDrdi2TQpLThzwlzhCVTxbXfOV3uY54HFgYt1iHJQJRByCHadFgkdpfHlo68fhjfmMWiF+0w4kGqyV3YG51sXJ4uSmUjaY7gSm45m2q9uuYbsEPHWBAzHSAbUCZMGwvlrzYncaXw/txe5IWy2nZQXItm0uHAZgWdgOB72A2vYvt3iOAI/r8IDTwDC9tmypmqvotqJbbd1qmfBGVRoUaJAXlCNBSLtmsNYIrsxs/u7rod/8PfJF7O7og9xKQZeQZzoBhcnCQ6nny6KU7u7ufv755//4xz++/PLLixcvXrp06e7du/lCduHh3WvXBiYmZpoNGWNCKTUMQxGpWq1OTU0NDAxsbm7Ksnznzp1IJLKw8FDTDEp5SBiTdrupG7LUKG9url65cvnGjYlWs90FHhF0ELpUDtXszH04B56wST944KnXCqW9zdzKg73pib2hofxJwFOPxZthpHVqqH59vHX/Di9lA2ZyGxOHcIdxm3Iwet4M8ECYacC5i4mVztaHZ7a+Gdr9bET+8xD96xD52xD7fZz/Z9L+j5T1n8P2H0acv4w5fx2z/zbK/jRk/GO0NfRAqyg+5uBBEhgWxhGdud75y1/oMPAwH9bVwNZ3AnhM7GLkOG0aLGzTy0O7Pw5vz6eNCgkOgMe+OitdmMjd2GyVDaoL1EG2Zzgecn3i+MwOLCtgLMAsMK2gbAS30+TyTOHSVGV6k2b0oM5cnTObE49Rn3NPTA4K4AE/2y90tfUBD/UhtoAHFPubW5WHi7sPH+0tPMosLKXnl9J3ljJzj/bGlyqJ5WZiqZFYasSXGvFHzfijVmyxeeVu5dOr9/6/z4b/1+cjv/lm6vffT10Yuj+ztFdUOIbXOZR6wMM5D4MLotHo/Pz85uZmOp1uNpuK0l5dXUwkkvfuPtB1BO5uSsvl8r1794RxM3zx4sWvv/56aWmpVqvNzc3FYrG1tXXhSQMR5cxqNBrLy48mJseGhmLxePTLL7+Ympr+GIEndHd+9EfKLWJZyObI5sTm1KXUx6a/s1u9+GPuP/9c/PJf/tqmbxoeZ46IAhZhMuAgfsusozQMpGGMU5jjQYaqtiWpWq8VS9nt3NpiZnoynRrai8TqgzEllmwNROsDEUHReiQGMz0w2ROrC2RqROL15HB9YqL14D6tFDyGqIWJTZlFuSBqMWoxJiJ5Qjf0Se8rAqP7QqV7MdNhBqovLB7HERYPsYrl5r35veGbxcht7cfb9Ooc+uEm/ccY/WNS/8+Y/Mdh/X/GyTe3rO9n2eVZ9v00ujojz67oNcUl3GccPG0WPO5tN8RJfHg31y0Y96kDQz/xGfEYAxWCc2YRapvIxqbttqn/YAtfHtr7cTh9f4dUsN/gfp34a0U7ervx7XRhclsua1i3HINZOrNkbivc1pllUo6BbIO6dcNbydPYXPm76zvDC+qa5Jeo37R9HdqBOIyCI5VZNswQWtTiTNApmWIwN11Vbj3c2d6rU+rb1OXEsZmPdOfBg+2JqYXxG/fHb9wbu3FnZOLu0MT91NSDgZtbl+byl24Xfrwj6Hbh8p3y5Tvl72/l/3Tt/r99df3fL0z+29eT//7V2N+uTI3c28i1qcm7kz3P1wpjvLe399VXX01MTNTrdYwxFUnT1NW1pWQyOX//oaEjSqmmadevX7927drMzMzCwkIqlfr66wv3798vFIpTU9PxeGJzcws6KuWUUMMwFx8uXr16dXg4de/+3Pz8/e+///7GjRvNZkt0LgFO3b7zfKXO1JlPztTbvNLLiJGSCrzBAnioLSa++4Dn0+JX3/prG76pedCrQTTeFfD0vSKDUB0RYmCautSolUt7xfRm4f799MjY7mC8PphoR1ONgUQd8jFpMNYYjDYGo9JgtBGJNSNx2Eg0lqoPj9Vv3cKZHd9QbY6pRSkMFF3xtziEFgiHOAztr290DwuDI+NO23CapieZft0A2q75ww/w31LVP0TLf05Vh1e8zaZfNvym6bdNv6W7LZViiE0NVwK9vkr1MfcDzDLOqcVBkh2OXYZD4PGYBTP73KGWjWzbtIHDj9L6tfHtgRs7i3u0hgF1aoa/mmMDk6WL13NzGVrVPJP7JrV1ylvMlbmrccuwsGFR3eIK83cb7vj9+g+jO5Fb+fkcK2C/bvlNx9UdS4gQg20moIFcC+I/QDmwuPjNCw5C+/JkcDddU249ymwB8DgWYJgNkd3M1XWqaUTXsKHomqKrqqGopqxiSeNV3e2niuZUdTfXoOO3V/7+7eCn/7z0z2sjiZsLD7by5bZucE7tZyvJnpel7e3tv//97+Pj46qqhvolpVRVlYcPH1y7du3+/QemgRBC+Xz+6tWrExMTxWJRkqQ7d+5c/vHKwsJitVKbm7sTicSWl1c0TaeUmqZZr0s3bty4du1aJpNutaRMJn3lytWx0fFms3kQ2BaOLjDAnO10DjwwmMLMK9AR4EEHFs+nxa8u+mvr7xnwgGSGXQJjs9GWypVCOZsuLy7ujk/sRlK1wWQrOtQYDIEnLg3GmoPRpsCeZiTWGgTgaSWHayPj9Tt3aSHnE8Oy+oEH1FWhsb4J4Ol2K6i/ZVPbp7ZPbJdYPuF+VfGnV/DnY5W/pCp/H6vfTPsV7BswJwSBVZRx1kXA1wqFH3xHB1vyGfBw5IHFQz3GYSEod6nlmDBb47epv1EikYnt7xKLc6vNgupLxK+o/uI2ik+Xr86U72dp3XCw5SPm6NRtMr/NPdVyVIvKnMvcLyj27Hr7x/GdH8YzU6vyjuxXmC85ftOxNIcTmxGLg7LCnRB4QkGCbSeEQXYip0Pguflod2uvJoCHOgI+beYw8DjA1mwuA53IAkmAp1Dug/D0ERZnFJPfX1yLpcaTY5OPtndriqlgZlBKOIVVy13dpYdAXSWGMZbJZL755pswqq0PeNSlpUepVOrRoyXTRISQYrF47dq1kZGRzc3N3d3d8bHxH76/tLS0oqr62tpmLJYYH7++LdKySGNjYwMDA2tra+n0zs2bNy9e/PbGjUkBPLAfFGwJBW909nWpT0Bt/rgTB08StRixGLKYKTIQS+wh09vJVC5eyv6fTwtfXfRW1zxDdRm14X7GKA0NjnfLvHAtG8JmU26WKsVSNlNZWs5N3tyLDZcjiUY0JQlzR1g8YO4cWDzR5mCsGU00UyO18Qlpfp6Wix7SKEfYIoTDejuLcYj7gYHeEu4xBkbeG3lbLuLnwF1OKSPErbbc6WX1n2OFv6WKn1+vzWW8OvaI7YkbMAyv0ACQwtfvfvjY/1HGKAdJxjZDDjNthl0IMGY2yKyDuW1AfJqnud5eyx29k/su8XDyYSUteQ3qFdrevVUleiObulNdLfOGybHlmdRTiSdRINX2FMtqYEfC3lKWRGYKF1Lb8buNRyWvgLwa8yTLa9qWanNkcWgksMUtxgBrLAqCJCQKfLcnNpTOnHRVnlnMbO5WCeiEREw4WpZ4ERHpD7EvoQ4Ck5DMoUDdQMxuBkTX1gyczRX3csVKTQLfmOXBvCW3AHpAmoUf+dmxK+DhzE0ikZifn1dVFeQSejw41jY3N6empjY3NxHqutpmZma+/fbbS5cuXb169dq1gaHU8NbWjq6bxWL57t37P3x/KYxNGB8f39nZWVpaGhgYuHLlyo8//phIJK5cuXpzZrbRaITC/PHI8znwwGD64QJP2B8QMlpKqyZVS9lMbWW1fPN2PjlWiiZr0WToZ+sHHoCfSLQVTbRiqebwaH1yqrW8RKWqjdQQeLAlFnozmBl4K8ADIGdzGJI4ZZw69ZY19Uj6fHjnv+M7/xjJzm5TCXnU8hjoqVgMY+eo8/zofQh4bFChsM3EhB2MyA5mNszZcFe1vbxsTy4UfhhaiM5s3N6QVnJoYVsfnc3HJ/fubRpV01Oo10Zetkrvr0oPdlsFhRuOp9teC3vpijfxQPnXcOm70dr1BTaf8Zby3lKWpuu0ojKFuoYFIBcqKzCeCin6lcDjUOEwFBgDRg+zjwBPqA0+zxTGGEII9ggQm9kQYhEEZmE4awlA3Uf9X0cIFYvFVqtFCISu9ZJpmrVaTVVVQmBZKsa4VqttbW2trKxsbm7mcvlqta4oGqXMNHG93tjc3F5YWFheXs7n8/ADWo1GOp1eWloSS03LpVK50WhhhMM4hf4KnO38OfCcBeAhBMmaLDVqlfyetL7RuLdQHZssRpPVaLIaiVcjsVokBlM7fRZPO5psxlON0fHG7BxKpx2lxbFOqIk5Di0ecMW/LeARzxLmFAwDTr3Fpher/xza/O/Y5t+Hdm5tGHXDI5YH4RSMih1QwFtztnvmL3+7o8DDGRbmO2MCeAizMbNM5hqW1yLeWhaN3NkdnFy5dn0xNrmWmNxJTqbnFis7Vdak8MsHxSa9u1S/OrQ2MLWWriKTwy8iVNvewjqKXq9/da16Mda+PKZHbrQ3CS21AAAgAElEQVQGr1cGxzKT9wrpIm0jz+AueQfA85zF0zOAqEVApbEIoWDOE5jGZLBm84i5Y/VM+jC8LdTqepDTs3t6sQZi45wuLBmGEZ4P3XeMWSJ+mmFEDMMwTbP3dU3TZFnWdR22voPddKjY9xa2bvvljf6hfuMceD544BHdA2uGJjXq9WK+sb3TXlyRpuZy0WQZgCdRExFukggrkAajdbGLAZg7qZHGjQn5wTwt5j1DZcSgDJFnwNMNRYIuJLwab87VJtRV6HUwhUOdpmbNbzev3cp+N7V7+WZ2YdeUEAAPEwF9luPA3NN5OsqBHvBQMHTA3AGLR7i2LMpcwmzCbEQ9xD2DeQ3d2yiim0uF0bn1sdsbU/N7D9bqe1WzAcjhGdSWVO/+cutqauvyyPJOwYAvUq8mewvr+uitZmxCi0+R1C06fEsdvtUYm63MLVT3ylw2PXQgMDAb11VfQjM1HOlfxdV2osUjXG2hw+3wEXxyDuUOYA9El4lIBdiZA2YKX+Rq6zm++lEnzIeGTohJvWNor1gWYBuFvddczmArOA4PAh9deEOIPRCTINx04dfDDd/CXUSPNunZ/fzJ85z92M6EoY6cYk5NTg2RITYhrmm425nyNz/s/Z8/5r/8xl1ZdXXFEfoSTEeEIiY8v++cY4QQ3dAaUr1eyEuZ3ebqZvnm3Uw8WYgkqpFEfSAmKFobjNQGI5VIpBKLSYmUNDxam5hoLT6k5aJrqhRpJlIRNTEDHwL4vY4SdKE3kGC/RQraKBUbL3IFORmJPcjId3ea85nWbpM1iWsQm1LbgbWiHOp1no7jgBBm0PAdQlyCHIIgjJcyOEFtCKkmri7IoG7LdEstkqkqe5JSaGlVBbWRg5iLmWMSrhru2jYenigM30jvFTEmLsdENtxi090sWGt5d73obpbd7aq7U3UzVZ6XaEOzYZFq2JJhDDHljIiIUQJzPqFIHVfxQ+c0au9U2jOLmY1MBROLEWyDDQURCxQ2YLAZtWxCOaFMYAmFVwOz5hiCQHJODtYHENZ/zzHyTETqWSeio4fnuoZLz9wJa9zviCOEiM1AKQeXYBfVQuAJiwi3Cu0Wd/CgfkPnEBfO9Idz4An7B0wefLjAA8Ga2Gy1pEa5VN/dlda3irfuppND2XiyGIlXBmPVgVht4BDw1JOp+vBIfWpKXVvhUtXFOsE6QiomJmGEA6BCFz2MPcd01NfTOwTmdMcrQhF1G9gtGW7RcIu62ySuxlyTWpRAFBPjjMBgep6O4UAPeEBzIsQ+CjwWIo4JKO4a1NWpqxBXpa7KHJ05BncMZmNY0cZNihttsrzevHW3vrgqN9ouoS4hDFGuEkumbotCu0jEVW1XhShqF9kWophaoDwA0h1AwrsHHtYFnudg6ag89yDhWODBGCOEelZOyP0jwCNKOIhZECvgRA86pqXCU0dMmhfed+YunAPPGQEeTLAit5q1aj2brW9uF27fzwyP7iWShUi8fAA81cFIdTBSjkTKsVgtmaoMj9Rvzhg7m3ZbcqlJKToCPIdRJ/RUvP4eAPGBwtLpbjQPXdnSqSuL5SMyc3XmmuAm4uEsL1hHMK6dp2M40Ac8YPSIEEUixlcwFMAyILBzDiI2YjZijkEtg1nI4ohTxAkCRyt8TcdqqSqtbpS3M3qpQnUzBB4wPExqGdzVLVdlQLoFZNo2sghmsMZUtE7YQGCgvAfAY4UWz4nA08/QEGD6z4T5Y6HiwGkmYAj8BWDuCLfes3mjI1889uPzjzurZz7pgfxHmxH+HcwIYsRgRBcZYmHsGLqzlS5d+GH3P/6Y+/KCs7ziaLJNMBejZMiufkv83TIQE6Qq7Va9Vsvlqls7ubvzmfHx3WQqNxgrDUSr16LVa5HywGBpYLA4OFiMRqvJodLISP32LNrLWGrToibh2DBVRAzQWykFrRV+caSf6Ft7R0yJzmwdNHELA9J0H40pQYLeWk0+rAd1nZUh5HSbEIsmZGDHEpsSBxMLEYYpwZSYBCGKMEeY6ZhphKqEAfYYWK1JUi5fb7UYxo5w3dlgQYW4RR2DOrogA/K2wbjBoGkwxYRiQuDnZ4gAMQq+MgvctwcidSJLVWJtl1vTD9PrmQrCnBIE0AH1F6hIhO0rRFN4aMOTgHgvJDDBjl4VZvaJdXmFGyD6sr/j9MDjFco6q185B55wYuEsAI+uym2pXs/nazvp/IPFvenp3ZER8LYNRksD0fKAAJ7BwUJksBiP1YaGa9evtx7cJ6Uc01uEGgJ4NETMHvDgo9jz9oCHUII4Mxg1YdQUY5kY0ULUASg6T8dxoAc8MP8BYz1h5BDwMOIQwhEJEQIRahJqUqYTphCqEKrB5B7nYF4SpmkEI1ugGNhOYjB1CJRgIcpN6pjUMQgzCBGEQhgTZb4u4KkibL0G4DkOk94M8EAkwTnwHCebh859qMBzMB9wMJEJLwXnwPnff+7Qy77wA4XO+bzFYzhbGWHxfJr74qKzvOZoin3Q/8Ky3h+LhxBsaKosSY1yubq7t7e0vDc7uzs2thuL5wcHCwMDxYFrhYErhWtXC5HBQjxWGxmpz0zLK0tUqjCiIWogZiJiYoKE0koE6kDsqdCUGRPz/29svD/SnjBNS2g4LBqUweCIKUIUC+ChCBDxPB3PAcFKoeE/s3iwsDbA4hFGDyMEUaoxokEoIzEZRZQiQmApPmWEc8I5Agul+wTAKdEkRIBQCEWhKQz+z+PrAeeZCF8OLVYRj/Piu/sLUYm1VWnNPNxez1QRROchDv0OFn0Kq8uG1Z/CcSbEEp5CIBzzqE3z8jOnq0t/vU6V7xt/ulIdWjyn+vJHc9OZAR6QcgoqHpCQ+Bf1h762Fd4G0XHAhXPY1UYcowc8fxLAs+5o6nsMPMTUdLXZatXqtXwxt7m1d+fu3sRkJpHMRyKFwYFS5Fpx8ApgT2SgEI9XR0akO7N6epO1JUYNg2g60TBFmGAMSwsIhoGCw+YnhAtHBwxEp+BpH3tPm6WYsn6C2AFicqJzojKiUqphaqCjwPNm6nLaOr+H94VGRlgxKvpC2BNCpQoARbi8LNE9DEZlThQO2ANWpRguxQwRNLMJPjeiEfA8m2ANAyEMLO+O8uGoHWJL2N8Oet1x534htxQAnubNh1trmRrCNscICDoqF/YWxJYymPQDCvv7yzHm2KtvCHh+4bt+pLd/gs9IgvESBktB4EeAEfSkRDAi4Y2IYJNinWKNQgac3rau25vp4oXvd//j0+w/L9rLa7aqWBgzMTKHRYcBlCc95i1dR7qhttpyXZKK5XJmN/9gPjs9k0kOZSOD+UExtTN4rTh4rTA4mI3FS2Njjfm7uJCxNIlSRcOygmXwsxEkCIOWixnFnGEWbkosXPdv4l1gbOsnDO2nWVixsWzhNsUKJuADNAkyCTYJ3H+q9n0TlX1/y0R9VQNXGugPQEiINKGiNSF4E07qlLQZlhlWhdhjIjQOgSuEEBNj1UQKRjrFCBNDkAmdJSzyoH91tZRDZ48711ez02RlzDfLjZmF9dV0xUQWQ6YAHngFjG0qVij1tBUqqoRAafpldC5Cp2mLN3TPewo8IRz0H495/0OXQdyfySLoZfSYrxw5dYaAB8YEwzRkRZEajXK1srdXXF7euzW3kxrJRmLFwWhhcDA/OFAaGCxEonvxRO76uPRoAdcKNpYZN3Ss6FjtjSoIOPP2gAcJt1rvKIY3AB4LtzluESxjrOEuKELF0DnwHJFk+PgagEcsNMGMAYUFil6EMAYf7FsDHmHxtG4+3BLAwxnSOdKFzgfYw4Qy1NMyMQafLNA58BwjFe/pqfcReGDAO0zHYIjADDE+hlYLqHhM/FoINSEvjJ6TmH6GgAe8IAgjVdOarWalWt7dK66uZW/fTY+MZ6PJwmCsOBgpDEYrcIztJlLZyan6yjKWqjbWMTUNrJvYeFfA06cxh2o6qOQcqxxUcpkQhRC9BzwQMnWgcZ/UwB/V9dcAPAiBvgEBcLBEV8zNAKu7IPQWgcfersi3FnbW0mUTUYY1CykW1hlYb6HLAWRA9HEQGPMceD40Sf8k3L/hXR8xQiFBRTBEeB4icmz9QA1DPcKg8BCGCDEQNkFdO/ZLh06Kr4sbTYwMgjSCVAIZmGi3NM3a2Cl8/X3mt59m//mNtbRqKTIXFevVJ1xTdqjMd/QBPPMII80wWnKzUiukd3Ora4X5h9kb09n4UG4gXhiI5wdi5auR/GBsb2ikfOeeurfHVYUhpOmaZhjgbIZeLFxtwDwMoxBiIVfF3LNYQff6XxAedJhgX0eMNIJVglXws2EdYWhX0Vjh/a+/HmeoRJD/Pp4aBD6KeUzExHmd4DZFMkWKEHsk+kso1yYwH+wnaH2MmJAEwRuQil6pByLSd4rArc+35pGeeOTjMVyXsbVZat96sLO2UzRNzJDCjSZHbSK8f8Q0MFSxO0iYoR+w/3WfVbJX22MzJ9fkmMqdn3odHHgnwGMiZCBk9tWfIdQb0kF6BQr1MAUyAg/MnqRgkC1qYqJjpBJTBbQxCDIZQlQ3aThA9T3g+OwZAh5wQSBGTWy0lWalVsnmcmvrhUfL2Zu3s4mR7LV44Wq8fDVauRopxRPZsfHS/EI7X0Ca1htsYH8q2K6AhOYmxBl0KezH0LN7/D+en69+tqd5PNM/QugLiwwVjD6ZeWMVefVXeO++eYSnACVdgnYULDUOesARtOj/GGoizw/cz5qg/0GCC/0nwtt6BYZo8Xxph87IyNoqNm/eW1/byiMTcSRbRKZmi5kyQTJBKkKmii0VWxpmBsjpgZiEb3ba43vXZB9Phd4J8KDngIcjZCHQrbr6djjQ9B9D4OkTT4ixBJTBWCVIIaYJO74YBBnY1Anoy6dIB91O6NcftsVDEGOIU5MYbUWuS7V8obC5VVhZzc7dzabGs4OJ4rV49Vq8NhArxVO5GxPVpRW5VMEGRDSFvBKb5Ig9QhFmQN3G6OP5QQc/BWtf7y3hQNkHPK+3+PPS+hv5lPlQavrVx5ewsR94jpWsQw8F4Ck0bt1bW9vIIt3kSGaoTc02RyoF4NFMhBRiKcTSsGWAqJ6qu7+kfueX3jIH3hXw9F4zVI5OBp5QcoW+BMOi2N/DQojrGAI/VYJ0YpjgjdER1kEHOo0oni3goYA9xJRVRWrUC8ViOl1a2yjce5AdvbE3mCwOJKqDqXokXk4OFWZuNja29JqEDZNTGrIKnPoinI8JFeDY4eE0TO017WvMnAPPa2TmcUUdGvcPO89edCmUhTcBPFRGfKsgzd5bXVvfMzWTGQo22sRQONIZ0jDSTSyABywey8CW0JHelWwex87zcydx4BPzXSZkmlgQNU0OEysmWC6miUxkHCY4Z4oLxMSwmtBkxOTI5IbJNERVRFRsqtjUsKEjw4Cvn+LFkGmgsGQDmbooQMGQMalhclXl69v5r79L//aPe59f4I9WudzuVTEsPfyNqVM86Y3fgk1KTFiAEQKPVCyVs9nK1nb54VL++tRuJJUbSFYiqXosVR0Zq927p+5lUauNDRMLTolZZUJNJMikJlDYGGELhcfTMPVNvKpoJcM04XdNztMb4EB/I58yH8rCKVuk19PJCySr91C4QUYsU23ML21up/OGahLdQIaGDF30Pt1Euo5MGTMZcxVx3eSmCb+69gbYcl7km+LAOweeUBBZP/AYCGnI0HAfIVMLQQImPgkRgywxYX2CaVIBPFQD7MEqNvUulpyCZb8YeOT3GHiALbBJtaLpzVarWqvl87V0pra8Vpi8uRtN5QYBeKTEcP36RPPholksMVXDBwAdBsWEjRGizjnwnEKAzswtvXH/9Jk3CDwqYqWWurlbKJYkU8fEgAVm2IBJXWyCSqojU8FYwUxDoHoe6EhnpjnO/ou8G+AJoUFEpFFkctPgAnioKcwc2J0fGQoyFQRrGoEwbSMqm0QDq4iFywghdA3UHGKYTEdcR0wDoiL+6VjwOXgs6PhdMrp4JmaGTJWYMlhNpkENo8/i+XTv82/4ozUuK0dk/L2xeECjFEYPMVVdb8uyJEmlYn1vr7K6lp+eTcdT2UiyEk1JqVFpaqa9vIqqNabpAmPQwWCDepDTy8CqzT4S1ugB73pMfPOZsIbPmu2Vnnj2e/Orv+GBCHQ9EKf5+EaBh0iqXqhJ1XrL1GHBMMM8VDfDp+oIeqmGsQ7rikMdKbzy6iw4/+bb5MC7Ah4DmSqEthnM1JmpiaNpaqaumrpiGoppyCZrm6xpMElndZ3VdFY3WMNkssl08LlA3xCyhkDyDAbwI0gzmWIS7XguHh27dHioaYKZpBFTJmYL8M7UiK4xRWHrW7mvvtv5zZ92P/uWLa6xtix0LvEb7uLnbI9/yDs4i0R1AIY1zVAVpSU1pHKpms3mV1fz9+6lR0YzkXg5lqoOj0kzs9r6Fmo1mWFQA5yKPSKaEdKzMwYA+/tPoel2tHUP49M7aJYP55GGYeq6aRhdOsy5nqOsH5BM4fnUT/2KYeOAiHbd6S9QYAwTawgpptnWVEU1TB0j8G0wbDDwpBvgb9VRl4TFHpZ86oqc3/gecOCdAI8hPGcKyItBTJ2aOjFBnjTVlGVTkU2jZZKmzuoqy9XZVhFvFMz1vLlZRrkGq6msbSANBkNkmiFw6KKfUNMM4YdqJnpBhzg6NJ094DFMU9P1VrvVlOrVfC63tlp5+DA3Pb0TT+YTQ+XxG9K9eXM3ixQZRhEIyHhGSDdCCk9+WDpkOAX0kuN70N3e0yrouq6qmqrAei5NM3TQxY70lH7ICfNvDngAVFTQPjUdppBgMQUxqakjpa1qhqGZ4GrTTEMT/f895el5tV7KgXcCPOChRWZbaC3INMBta5iabiqqKTcNuWGYksb2qvTRjjoxXxm+lU3MZOIz6eTs3tRCdSmt5eqmpFLVpBAaYMoISO36zMTbvnga+kh3Anw6MxaPiKmA/aVV02ypitSUyqXC7vpaeelR8fZceng4mxwqTU41Fh7ifJGqCn3OlMG6EVJo4pzGjDjK0OdGrLdzw0uF/PziCRwwDEPXDE01dB3sntD0OdySPeAJrZ9QJwHb44Sin10OBeF5i6dXcjcTGjQwy9vVHiGglSCqq0ar2ZYNUzZNFSMFwOkXPP5ZRc5z7wEHPjHeQVJNo20aTdNQxcNN3TDAP2TKLUOWdLVu0O0SubUkRSYyF6KrX0aWvogsfTH46J+Djy5E12NThVuPpJ2yKelUNpFmNA1DMo0mNtrYkJEhm4ZiGPoLXuuZMyH0KoACBbdqpqGKrzfByWeoWFOpLNO1zdyX323/5tPdzy7Sh6u01abgHjRN6KkveMK7OW3qutBVDaxh3DaNuirXWlKxXEhvrpfWlnN3bm+Pju4NDeenp6VHj0ipTBWF6gY5iXo20PufeTeMPxNP1XVdU/WexRPaPWEH0XVDB1EPOw4EjGJMQcWBpP+SbtArAYuv93oiMgzcR9C9oDcamrB4DHEzRgZWZa1eb+aqUl0zWyZpGYbc7byvtw2gc8O7ifR6i+6VBi8vEkQdi+Gkd+kjybwT4NHE4N42QXChCXQDqaDI6A3DqOlmrolnHpavjm9+FVn+MrL+r+HdS+O5H0azX0bWvhzYvDCYvjqWu7+p5NtU0oliKLrRMIwGMlrEaBKjiQDV1Bd0iZ64dzMHXQdE/aBWqmnoWNME8Gzlvvy+CzwLq7Qpw4JVAxYSGDpUHaZW3hkJH7sw7gwd/A66ZsLPGyDSNs26qtblVqlWyexsVjbXSwsPcjMzu6Oj2dmb0sYardepqhCj61h7Eah0u+AH0hXCpnzJ8QN5j3dQTU3TFEWVZTWEHNhACeQKEOIw8JiwUaj4caRfXsuwoyBDPxZ4iGF0STORBsqj1jZU2TAU3VR1hDSito1cXro1v76alao6lQ1dBjvt9aawklAmgLFIghevsyuE4wYyjHB/xcNFP6vA632x9620dwI8YpiEAAKYzTQMUzOwYqC2aTQMmm/RhzvGtbHcV4PrXw6uXp3ITS435rPmvYwxOl+5PJr7anD3q0guNVdfL9GqSlRD00H1AUNHGD1g+iABPAeg0uP5MRhxcI9mGCoyZChBV7GuU1WnbZmubQmL54+7n12gCyu02aY6bKFgCuAJ9cBe6e8yE3JUNXWweEgLgEeRWo1qvVLI7dbT25VHi4W529mJyeK9u/LONm1IVFOIrsGKiIN5neczh7vEs/d7yeD+Ti49q1lfDlr0BdpH313nWeCApmqKrCltVVd16E8aqFOwwKurFwrrHiJOYe4HIZgBFHoX6IynTtD7YN0crLM7GF6FLSUQ7pnRoxnwkwxtw2zoRktHLR0DGbiqmGu55g+j969MLt9LNyoykU2qdXW/U9fihBvFGkBxj7DzQsPOgMno15JCRh68f7fQkIcHI1GozZ6Cr0duOfKxV93w/Iu6cu+2t515J8ATyp2YHQR7Bx0AD5J0ulmi4/db30SKX1zbuTS6N7uhbUhGzqB7Gn2YVYZvV79N5P55rfDDWHVuwyi0sXCrAXOFHqFigB8ZC+Vfh35xDNgctDtcOmhuGKbMPuAhqiaAZzP35b82f/uHzOdf04dLtNnsAo8hrLW33VgvfR7MCRvQaQF4wNUmNaWaVKlVCvW9TH1jvTg/n7t5q7qwYOSytN2gmkx09eXAg/rY1//sd4IuL3lof916+RB4QDCEHPTOn2d6HBDxYTBPYqiGrgAZimqouqEKdQT6jkgQQwq/iwAbLBpGuLo7HPHRi4a73jO6BRgwGwMUhqOZvZ4ZuutCuyo8ajpqG0TSaV2jUkg6LZk4o5L5vPqP2Pzvvp+6MLp8f6tV06mKqIjEPGVFDlfrmE9d4CEE5qJgL2xBAnjEhAB85YQh5SWXDf0Z6oa3CY8eODMhpiPsbiK2MLTkwntewOMeooTN1BeSKKp48HJad2g8+Pye/P8kdGW+5SPwWFdhpASWI00nCig1qNgiD7b0gevFzy7nvo7uJuYqjwrGnqaVTK1imFkJ31lTvx/K/r8r6S8ThaH7re0qasF3kQphLgj2cNJ0QcJPHE7gaKD3wnOeIyHo4auruq7oelvXm6oug+KnqURukbWNna+/Xfntf21+9gV5uEgaEtFgZwMoUANbXJCq62+f4PH9SdN0VSisKsJtQ5eUdq0pVaRKuVqo5bOV7c3i4mJ2bq66uGiW8kRpEk1GmtJtgv5+fzjf/4j3LK8dYXvIAE1XQ1JCfhw0jQaZ83SIAzDoiz6ia7qhIxQKtgAhpa3LTbXdUuu1RqVSlqRGQ2q3220IPxC9V7BXOyqFh4p/9kF0P3iWCT20208NaD+jWpcq1XqpVOlRuVzNVdvpmr5d0YCq2lZNX6/rD8vGxEbrLwML//ubmT/8ePvbsfW7W1KxTZo6aRhEhj7+65PQxHS92WrU6/V6TWo22howx4DBoytC4v3FkHK4r3TPv+SypijlYrFUKEj1uqYoYPGAQ09vtWRZ0VR4UPc1QmHtfTzuxULe924RYymMqOGg2jvfE/te5rjC3vq5dwI8mtCvZHHURJPCRE1Lx4UmuflQvhjP/uVS9qvE3sRya1syCmq7rrckVa620HqODExW/++13f+JFi/fbC4XQOxknag6MTUiZNo4wB7IdCfPFUAnADdZ6ycia0RWiSyTdou0m0SWiFwncgMgp90CmFle2f3ywuZ//G7375+R+/OkViFtncgg5kRRiaIIkg8y4ce3c1SJoh0iWTACfs7NQIputGW5Xm/XKkqtIudz7Z2d1upa/d68vLxCCgXSahClReQ2vDuQ8jLqvubBe7385ndzVYWmbGtwVHQ4qnp3TZKiY0XTlVOOkG+9/73TB/aAB4m93bHYAl7TSVMm2Yqxvtde3KxNzq0PT85P3924u5jbKShSG2kmVg1d1RUFIhJOlWAU7GqBJiiIOrgkZB3vVdXhmeUrowuXRhf76NH3oyv/Glv719j6v8Y2/jW+8e34xtfj25+PZv6WzP7mx61/v7z9HwNbv/1x4Z/Da7NbckEnRZNIEBF+yuq8pM5IBPWplUphe2fzwYP5ra0tSWro4HeDmHMdhnW4B1bLwdPEmwmVR8yHmXBd1SDUR6i6utqNFAw/NiTp/t27M1NTG2vrtXLFBAMI7m212oqsQLVUuVmvNhtSQ5G1UFlWNV38KaAdCHDVxGdV0QD3DfikqhCJCDq3gnXFVDWp0mhIiqrjEC+FM0QFiBMOxL73h3q9lPrufa3ZdwI8iqG3DL0pjjBBqOuaMDdwtkZu3G1/cS37xx9zX6T2ptfb2Tau6ZoCy/GVlow3cuTKjeqfr+z+8Wr+28nGgyyRDgGPiTQNaQrSVKSqRNVIWyE1iVQbpNYkpTpQWTpMdVKuklKZlIqklCflHCkXxccyyefJw8XyVxd2f/Pb/F//h8zcJJk0yUukIJFijRSrgsqkVCDFIimW3jpVSLGfqqJWNTgWqiRfJoUyVKlQJNkc2c78/+y9h3cbR5Y36v9yz3nvnX07szvfzMgj2xJlezxjr6OCJZFgAggCzGCmmAlmELmR0bkrdUTyv/GdWw1AlKzkJFkW+9zT6Fhd8f5uqsIP+eIP6dwPhTKcSv08az8oP51knvgb3us/yH0yfpAxkMZ+0BkcqAQONPqDQn5QSQebPzhdWfJXHT5vd2J94OH2rnaz8UODy3CK+cNuho6sZAKxVHA1P7GWC63mQ6vCowSpkx8gogxYn8v1/darVAFnu7521YIoafi/2x+Q+8NOUv0muH9jMP6PkdRl+nAkddOn0dTN0fRHo+nrY7m/jxb/Mlz904j8fybxP2bI30KlD8aSD9eqeyWv5P2AAQx+uXjR4aDiOA7J51MPHtx79OiRriPQRzyn1QIW7ziebbm27YGBgTNz39jg28oAih233Wj+0Om0IUgd6gmetmGSlMXY+dn53s6uWK0xQnyd3DZtSpgHbzWILh/tbS/GZnPlomAuVq0AACAASURBVOXY8KJlNyENDzNq2hYkCOZQF1IH5xxoS4xSx6RNx/2h4bRdUxfFucn5tdVdSSMOGHIciJR3Hc9xLMtyHECsXl35Gl43hr4fTH/p4FWa9+c8856fide7txoeaXiYE214ludZjmebXquiddYOnNsT9U/D8t1FcTtvi3YHex3H81rQfJ18vRPeoP8OSx+HpQfr+LDawl7H8jqw6pjbaLlOyzNbHml5tOOYHdOyShVx/1Dc2EXbcW1tR1/bwY/20cYeWt8z1vf0jT19Y1ff2FbXN/X1DbS+ToA2yfq2ub7dWdnwwlOVW59K/+eacvNjbyxkLS5Zq3vm2r65tsvWd+j6Nl3fpOurb4LW6Pr6k7RB13u0tkFWH6lrm7JPy+vqwpo2v6zPLWoLy9rSmrG2gdY3jfUtY337eYTWt/H6Nl57TGRtm3Jiq9tvmrbY2uYl2mJrOxQaZc9c38cr23htl67vk/U9Y22HHZx1ymIHs5b7erv5W/C1rrXSA9Nys+F2HLuDrU5G6kzua7cXi8F9vJbtrOU6k/vmd7PFwVUxXvZUt2N6HeBc8Er7VUrJ+a//rSbMEvdarNmR3M5qAn8+kX5/tPynMONk8j2+NoE/DKEPg+qHQfWDoHI9qF4LaX8N4T8H2f9EW3+Z7fx1rv23qPl+SPx4ojC4Ut4tM9Xxgaf5Kvl5/jMdz2u5ruO6WCgkv/7mi6WlFUXRMcaaJuuaIomiIBTyOaFeF03T9rym43iUWqIop5KZVCpTKVcxAjOaa9vYMLCBwGZnGJqiYMOwGJNFsZAXKCYME1WWxZoo5IR8RpBFhRFcLxfWl+YmQsPb8f26KFqMuabJCCmVyyfnZ4lEolIqYU3zTOa5NsZYktRqtZ7PZTKphFyr29iwsS6kLgL3AhPB6UQqrxqK45ie62DNKAhC8iKZTqdFUSSE2Lbjuk3grB4X12Hf+hF1Q/ueX2M/884bAR6n4ZlNj7U81naBWp7puLbpdYpqZ2GXfR2q/zOi3V+T9yvNmtPBXsvmooXjdopyZ3rX/nJaHwhL99aNg4qHGz7wtJqe1fIoRx3S8nDHMjpIQoc7yYd3E//8pPDpP2sDn4g3Pu7RLfHmgDhwqz4wUBsYqNwaqNy6WR24WeOn4sCAenOAfHQT//Xvxv/z/zr/8R+NP/+3/bdr5KMB9NEn+o1P1BufSDduSTcGpBsDys0B5eZN5eYN+cZHQDdvyAMD8sCAdPOmdAPIP4Ur/FS6cZO/Am/JN4CU3hX/FPY3u2/1X+kmcrOXSP+BmwPijZvizZviwIDk040BmVP95kDt5kDtxk3xwxu19z+ovX+9eu169foH5Q8/Kn10o3rjJtz66GX04Q3xKfrghvhmieen/uHN2oc3azcGajcG6jdvcfq4fvMyfVK9+akw8Fnx9kNrc78j6233Cnkuswl/nQLOa1zAA9fpWHZH0jqbJ/jBfHlktXRU7YheR3Q7+0Lnu+ncF9OFlQSr4o7d6PCq/Bn1CR91vIbZ7Ih2ZynBPp8UboSUa2Hv/Wjrb9H2f0daf442/xJp/m2ycS3sfRD2bkwAXZv0/jbp/XWy+T+Rzp8jnT9FW3+OOn+PkvfD0s3J4uB6/VjAzPLtTqCOgTbw/A0yAXlvuLBSQ3druM2m12l4bQ/6iSIIiW+++XZhYUfTaV0U11aWwhMTs9MzQ0OBO3fuTE5OCoJg2zZjVjKZjkSmBgcDg4OBoaHA6upqPp8/ih8uzS8kTk5VURKy2dj8/Mb6ejadebS+vrq0LNZq2DD2d/fCwVBgcGhiPLS6snJ6crK+uvrtF1/cunnjX998NTM/Kwh5VRIPDvbD4cnxYOjh/ftDDx9sP1pXpVq9VtrZ3o5OTkfCk0MP793+7suJsbHE8ZGQSc5EJm78Y+Djgc+/+vru4uqiWK8qori1sTk6MuZncjIcSZwnLMuh1PJVNz+MnnNZCHMA891vvL0R4HEbntP07JZrtV2z45ptj3meaXmtgtaZ38NfTVT/FdUfrCt7lUbF6WC3adqO53i20ynInald88tp7WZYvL2m71c81AWeZg94KIcf3LGNDhaVg41M4PvsF5+VPv2kfusTceDjHt0SBwbEW7fEWwP1jweqPap9PFD7eEC8NaANDOCbN63rH+D//E/nP/7D/dOfrGvX8Ac3jZsfawOfqAOfSAMfSwO3pIEBZeCWAvsBeeAmpwH51i35FtzyyT+9fIW/cksZuOXDCX8dTnkiAFryAKRw+ZUfJ9J7gBekW5ZbIv+un44EpYO78sCA+OFH9Q8+qn/wYe3GjerNm5WBgdotyJ76QtIGbukDH//eSBv4WL31sXLrE/nWp9LzSfz4n7WP/1X89PPK9wF397CjovbP4JO/8fB7o8k3QLrn5LhNx227XoeanYrYWd5RH8xVpnaljNoxmh3d61yIncBK5fMpYf4IF7QOAxsDTP7h9FML0XBc7wngCUofhr0PI+33o52/Rjr/E+38Jdr5P9HO3yKtf0y2Pgi3Pgy3r022/x7p/C0C1wF7op3/nPT+FKZ/CWvvh2ufhFLTj3I1EQHr5Ijix2715+I8lcWXAI/jep7Mged2LHag6rRcKUcnw/fv3VuKLR4cHCwvL09MTOzu7kqSVKvVZ2fno9Hpw8Pji0QqFlsKBoP7+/upi+TC7Nz89MzJQXxrfT0SDh/s7RcFYWVpeWoyUioUJFGcCIYi4fDZyUlRECqViiRJ+Wx2KhS+/c034fm58/SFKIuJxFk4HF5aWk6nMonTs6lIODoZukgcV8vC4vz84P3AyuLS4cH2xlpsNBBYjcXy6cRxfOfbr24HBkObm/u5Qk6Wxfj+fnhicmlx5fT0fGtrJxyOrK2tFwplxiwujPlIA3ppj/wKczxem0/V3q9y+kaAxy8fn5vs2m3X7jRYw2O21yhq3vye9mWo+O+I9nBd2as2Sk7HcDzTdlzbs6yOIHWiu+SLaWUgLN1eN/arvsbThsgT1225Fje1mS2Ptl3ScbBZzmj7j/ByzFlcbC6tNBf7tNxcWmouLzeXl5rLi42VyxRrL8c6i7FObL4zNoYHBoz//rN161bn4WBnaq4TW+7EltuLy43YUiO22IjFmouL7cVYe3GhFZsHWoQrnGKNGFDvFB6G01isDa8AtWKxVizW7l3xT2HfTaH7yjMSefwVeMZbjHlLiw1OTT/NxUVeNChge3GxOT/fnJ9vzM83Fha8GDzsrSy1l5Y6iy+lxc7i75CWOovL7dhyK7bcjC01FhZ/TG5s2VpcIUtr9u4hmNqI2QSGcrX1awC84A4n223absvxOph28kVvdq0aWBCXzlgBdwwPKKd3wtvSN/PFqT0lK3WI+8uAp6fxrCTIF+HcraB4M+wMRBo3AGmaf480/xZt/i3a+GvUuxbx3o803p9svj/Zen+yfS3S+TvHpP+Z6vxXtPNfYevPIe39cP3TcDqynq6KBvhd7C4avgB7esADgWSXqgMibC9pPBfffHNnaflQ0UipXJiZiobGx1MXSYxxNpuNRqMzMzOlUimRuBgaGl6MLWcyuWKhvL8fDwQCsVisWCgc7R+Ex4OjQ4HweHB9da1aKsuitLK0HA6GCoIg1uqjgeHg2Fji7BxpYM0zbQvp+v7mdnB0bPfsWCVI1uTVteW739/b2t4plSpCLre+ujQcuL+zvVYQ0rH5+fHRUDaVJlipVXKz0anpyXAxn64U0kMPhmemFgWhii2syOLSQmxkZGx//6BUrJycnPlImU5lTWb3kKYPOf6BXyu/JfC4b2DzPACdpsfDjZoOOMRaruV4jZLqLe7L34SELybVhyviTskTrLbqeMy2XdthppcX25Ft9PlUfWBSvLOqganNaztuy4MpCB7MQnAcTrbnmJ5nNizsKmJTFNuVWrsmtupyqy43a1KzJjZrdU61Vq3artd6VGnXy+1auV0ttcvFdjyufn+/8I/r9S+/aj/abOcKfjptUWzXRXilVuFUbtdKPSr3Lvq3Xsu+XmmL1bZYA+qXBY6r7XqlXa20i4WWILQEoV0stCu8gHALqPVC4slWf3/7Wlust8V66xJBo3BqidDinig6ksRkxRTlJjU9iFe92vo1APYkB/AGyHIaltO03TYi7XzBnV2tDsXqy+esgNuG5xluQzDa0R3lm2lhfL2cKHvIaoODwLVc1+6n+GoHnuc1wcfTaMt2+9EF+ip88fGIcCukfTyJb4XJjQnyQZhcn6T/iJBrEXwtgt+PkH9E6D/C1vWwe33SuzbZuhZp/zXS/u9I8y8Rdi2ifBAp3FspxHMYE3D4Q4QBh5P+6gNPZQxK7rqgdrku7xOO69oePwQUcj3PsTxXEYTU119/v7h0KKu4UBRmp6Pzs7PVSgVjXCwWp6eno9FoJpPZ3t754osvR0ZGl5dXl5dXfY1nbW1NrNVLeWEmEvn8n5+NDA6dHB5hhDBCa8srwbHxoiDoirq7vRMcGw+HQmvLK4lEQlFVSRR31jfCodB+4kynuCpWp2emvvrm60h0amPj0fLi0ux0dHRkMB7f8oFnJjpXLpRsE4l1YXFufiYSKQmZeiU//HBkdnpJkgzLs2rVSng8dPv23bm52PLy6uzswuRkZHZ2oSCULMvhleFXyVN7lzcuNPNvsb33WyT6sjSbrsNDzwB7YP5M23aaNoR1VNXmWty4M1H8ckJ6sFjfEpw8a2le0/Qc17Go5WXqjYlHymeRyseT4r1V/bDqA0/bc1p8BlwD4rIhzJPXGsARmGzbjte2vJbtNXkIt2d7nNyGBWOuZVptZrWp2aasTWmb4jbBbYzbCLXTGWloJH39RvGb2+39eFuU25jAk6bVNs0Woy1G2kD4MrUYeTG1KXkxvfj1p+42GWkw0jRJ0wJqm11qWaRp4ibDbYqbSG/oWkvX2hjBp03atphPLYu9gJom/b0Sa5pmn1qW1bbtS+S0HLfheLAKDESucIfxy/rlu3S/y2UcgB8AZdsBaxum7XzBm12tBnrAo3ue7jYKRnt6W7s9VZrYqAHwsJ8MPE63BcCzYntN1mipTnvjXP0qePZx4OJWsPxpWPx0Qvw4JA6ExBsT4gdh8Xq47hMch/TrIXw9RN6fMK9HvOtT3l8myd8mxJtTlTuP6psFq07bpgPucT6VBRDEd/P8uE2fBh7Pcj3LA+wB1OoCj6MJ+TQAz+ITwFOrVBlj5XJ5dnZ2amoqnU5vb+98/dW3kUh0b+9gfz9+sB8/PDzM5XIYoWJemJ6MfPXvz0eGAkfxOMGYILy2shIaHy8IgkmopihH8fjC3Nzo8Mjs7Gwqna6WK4+WV0Jj4/FkwjBJXazNzc3cuXd3bn7+YP/g6PDw+Ch+fLRfqwhFIRdbiM1Oz5eLJdvEYr24HIvNRiNlIQvAMzgyN7MkirrlOaViITg6eu/e/dXV9Xj88OAgfnAQv7hIaZrhAPAC5sJKffzgEg794YCHqzs+8LRgIUCn1bS8ht103baotR/Fyffh8lch8f5C/VHWybO23mgzz7NcF1utVK0VWpf/FRL+HRFHHukJsUG8tg2x033sAV0KxhJ0JQdcQ3wD+Q5GV8NyGqbtcXIt23W44ONLQE3Hgf9kcKy2bbYts81oO5OtPAwkPxzIfXeneXjUVo02tdqm3bJhsLq25VqmB8Q8i/rk2syxzRcTTMx7Ib349R/ftW3TdkzHZY7LPKdLrsMchzo29UziYMPWNFdTPYQalEKebQvWSHlryRdRQcJwbNfpco0n7QVw5sAcC85NQMC92vo10K0TnwuDuG83XAdEL6Hozq5VhmP15TNLwG3Na6tuu6C3Z7b1e9Hi3I6UF5vMbjsOKAqvjud8PLrc2MmBx2vqTns3Kd0Lx/93/PTTYPJfE5l/h7KfBTP/DGY+DWY+DqUHJpIDE8mbE6mbE5kbweKH49UPxsT3x5QPwuijKXxtovbhRP7ehriSNwXSNpy2BYFtMDujbz0DHPnR9iTwOC6wlsvA4/JxYQj5zNdffb+4uC+rRrEozE1PLczN1SpVy7Iqlcrs3Oz0zEwqnTo6Pnn4MLCyslap1kVRVhRNlmRDN8S6GN/bi4RCodHRSCi0MDtXKhRkCFJYiUxOlotF2zSxgXRFzaYzs9MzIyMjBwcH9Wp1c2UtODa2fXxoMCKr8vLy4lAgsL2zU61WDcPQdEVRRIK1clFYisUWZmOVUsU2iSRWVmKx+empSiFXr+RHhoZnpmPFkogoFeu1mWg0MDR8fHyiKJooStVqXZJUvjQfjA4eX909eH3A47z2DXofdMOWa3dZvWU7lu3ZdksxWocJd2S6/tV4/ZtweWoXndZbktXSbFe3W6LeOki6w7PVb8az30+XVk9wxfCo2zQBBRowcmyY1UbdBnI95LnYtajLTJfZnCO7jgl8lnN8z+bc2TVdh9ouMV1iucRxsesgz0FNG7Us1KJaK3VRfvDg7KPrF3duW8cnLR21sNky7abtAGpZNmAPhxlg/V2y7Jdt8OiP0ePSlZcn8eQnTMfkxEyONK5NL1OTEUdX7bpIc4JZrnoG8kxAR9tmvTz3M//0geNYbwtxPmhf2oOV4LX37rfjgyBwXSbgva5rt6jZLNa82Gb9/pQwtY0uxJZotiS7lRJbE6vlu5GL1f1KVXaZ3XId23G45PZqJfZlHJt/1nQ96nrI9UoyWj9IT2+mwzvlyZ3y1HaXotuVyE45vCuEd4WJ3WJotza2JT9cU7+Zkz4cK10LCO+PZD8cT3y/VllNUcFoaU6LOq1Xy0i34CA4OrbtwrwWANEu2VwUMy2mZ9Kpb765uxhbURS5VBTmp6YX5+Zr5YrtOMVyaWpmZmp6Op3NCoXizNx8KBzZjx+enV+cnp4nzi4KQvHi/GJ+dnphbvYwvr+2shQcH9/Z2q4US8tLS5MT4UJe0BTl5Oj45Oj46OgoGo2OjIwcHh7KdfFwZ3dsZHRqcSGVz4mieHgQDwaDU1NTh4eH6Wzq6PTo4uIcqXK5ICwtxBbnFyvFCiNYqldWYgtL87NiRahXhHAwNDYaWl/fTuVyolg/PNgfHx9fWFg4OTk9O0scHh7ncoJhIPBgcOEbJPR+HXQPHD7w7Ves1Z/62Hs/9YVf/jxEyQPwNF0HcMK2W6bjmLbn2C1EWtlia24DfTMufjVeGVpUNpMtQW3VUKuKWhel1uIOuR8ufzteCK4qJ6WmajWpC+jBOzQIwbbjMdcjrktch7kW+xHwcAUFdBSfNTs2sRz8AuApPbh//tH11N3b9slJy0AtarbAdOM4tg399ucBzyWMeSYC/SzgAdQxHezY2L1EnkNcpDGpTkpF7SJp5PKurnkWaEL2y4k5rvk7JdDnOD0jh8xxKdf/qAPyBOmeAoj+VgPpl4+L15mCz2c9mNgIBCKU6biWZ1kNUW0+iktDM7ngUimeb5Rxq2C04rnm8Gx+cDobv9A13LKdpsslEuBar7DZDgh9ME5BFACMM11oFcN0i7KZk+y06qZUN6O6WQUoo9gphV2oiBNJqPax2NwSvGgc/Wsy/ffv926MHj5YL+6Um3nUUu0WdhomsMtX2nplfybwwEXXsS1mlEul2dnFw8NTw9Aksbq/tX2wvaNKsmVZNVHc3Nra3Nqq1uuKpp9fJKdn56NTM3PzsbnZhbWV9fPTxMnR8cbayvnpsVivpi4SK0tL+zu7tXLl8OBgY3WtWi6Ltfqj9Y3ZmZmpqalIJLK2tiYIAjGQkM4sLiyEZqY2d3dK5ZJYq29vbUWjkZnZ6YWl2MJSbG9/V67XZY5Je9t7Yk1khBqqcri/e3Swq4gVQ6nt726HxkPhyant/bgiS2KtsrW1NTU1NTMzOze3sLi4fHaWUBUdtFbQeHqw+8TBHxJ4uGrPbV9gXObdseHa4GsQ5db+uXsvIv7vePF2tB5+ZG6cOcdC6yDjxXbR6Fz99njhbri0fGzmtRaCHmxargmxB7CB8m+6LoNebvProO7YcAGugX2pZxwDdcimLwOeROnB/YuPrmfu3HZOTloItUyr+yneXAB0T1uruiLEMxvTv/jS8fGCd595C2QT4BzAZ12HeI8JexaydYnUKyifU07PtXTGVdWmxWuoyw18nvAW7XlruswFRZa+jJ4CnpfW/TvxgN+LPNtucPIsC4YRV24N5B1dqMFY5kH0dGFXPhJa+1kntqeMzGWj6+WLIsVWC8xXgPoWH7kvrzGbow43OHRHgAVXXNNtGmZLt1qq4ymupzqezklzXM21VZeqLlVcU3Zd0WmVSGsvb34bOfrnyFZgJbNXNGu2r+u4Fs/My/PBn+iV/XnAA9y34ZoEo3Q6X6vJpkkxUhUwUdUowpZlIUIq9VqlVsOU2K6raEahVDlLXBzED/f2DnKZvCprsijVqxVDU+BtXa1VKvVKlWIii6JYqzFMTEqLQuHs5OTw8PDs7KxSqSDDsDBBsloUhHjiLJFKqqrqua4iK+l06vD4MH58eHx+IhQEhrBFmVQXa+WaoSHXdmzGFLEuVkvUUGyqK2IteXGxt394kckjQzcJkiQpnU7H44fx+OHFRVoUJcasZyk6fQbzhwMen2ODrsNlHwt6scfD0lqu3SK0la+1prfwt5HC5+PCt1H5wWxtfFkMxMr3pwq3J/IPpspTj4yjQrPOWtgltoscIH8YWJYL5MAYMh0Am8cEayNc8sq8OvAkP7yev3PHPT1tYeTatgVjDvYcM52GbT1JdsOGsj2PuI7/hGjRb+r+AZgOX5l4gnwgO9R1SNMmrR55JrJ02ZLqqFSQEgkxfqScJ82q2CC0YVke5LzLet6iA470HCYBe/o6jQ8wl2AGYMl80k74iqzpj/9Yn/n63cyzTNdknKhpuqLmbp5I44sXY7Hs+GJhfCk9unAxtSnsZYyK4TJwRFuuQwF4oCO/fHsKePg73FYA8NNibpOB7dvmwiIMUeZQYiNiacTSsG0gCxuWI2EvIaCxhZPoWuooj+ukhRywPrg2aVgGCJGvtvXL/ixTW29gQteCTFgmBO95XfnWciwwRjDLpJbJLFjbE5yrtkstG1NT0QzDQCa1QA4ESyRzLI62Nn+RmY4Fi+3A3gKvpGNaGMFGKWWMmcy0KfNMeFi3GLXBDOjydW4oJYgggyCDImpS17Q8Hq1hEtOGyfe+ImnaFDkMuRZyLEpgtQWEiAW8CozqNqVU1w1CmGnaXPd8nq7j19BvDDxPOgtezxm3UcEqRI4JjQP9F/5N3W444OxpKqS5LzQiu8q9hcq30+K3kcI3k6lvw4k7kfT96Wz0kbiX9XJaU3Ga1EOWo9iOZjsY+kPX1QH94VnWLKtrHwP3jOU/YHPzFHOI6VDbIY6NXBs1bNQ0UZPozeRF8f795Acf5O7ccU5Omwg7NgQPUNsyHTC1edaPyYEwqueTL1e+2HUCseU/hXiFmjyugTYs2vTJJC4xqCTSSllOpQp7h6XNo1o8ifJ1VzfBIsm8htnwrMcEpz+60jAbfXrq7uV3X9uxC1ER3GYGvdV6Pj3tr3o9nfut+Io/ELiPAzqwazKHEYdhhyHTNBFrZkVvJ4nmdmrh1cLkWmrxoHAgKDnD1OyGCfydODaxbcuCQfDyzXJg1PCoG/gy/7plOTCImONxAjHB8tk+PMBsG9m2YtuKZevMQtQiBrXKEts+q54VcB01qd007SbwDQi8NFyLvjwf/Ik+E3Bsy3JM/63HFdLNHoNF2WBBhyYEXTuWP0/D4zEVzLKYZTLbYrbFgccxgY8ACEHpuOLImbfFsYc5JnOguAA5/ocgkt1r2MykBBb9bjQajsOzw8CC4zgOBrWLh84Ac/SNYb5HxrZgcTfmAD75kAOeBogQAOmBOAx5Nm26UMmM2dR0LNN0GLWYCauLQ2o85opXNQfEfqb6deAf2NwB/FOt/q/YCPZ7r/rgr/lcv4RQcJNXOFSi5QHwWK5hNku0eS43V5IseoCCm9XRNSG4np/era6dqSclu4iaotk0HJs4yHQM20G2Q7jwwSyHWTa1oEuAuMErFXgTfARYFGdY0DNsh/MsCzoFY4BYzAbPPHFt4tmkaeEmMZrJZPH+w+T1D3O377on501EHBBw4BuXknpSqn5TznjwOcFAdm0IsWvAaGQOMki9Tosl+SyRW9vKLe8Utw61ZMFRkEtsj7kN0+N8HKYuOCbfW3DFNTlZXsP0+Fp6sPeP4e4boG7wSDeEBDyC0JQv65VPwdLLHn+X7vcHIRxYzDGxYyLHNJiJDWaLuFFBzbziZiQnK9t5zSogVjWZboNVC3aADa8KPBxgngIeGIAWSIhgmvAJWCxvVpALLZACHccn4oBc6OjIqmmWiDzdbDIHgMditsOoZ1LH6kLIC9sQyup/gnceC2x0wBxsfspvQR7AdMXTcT2YGQiyvwv2GeDWjuMw0zQty7T8Pa8E/qplQZEsBkKpv1ybY5q2z2A48Lg8bp0zH9B4AB34qp3dKBjbtih1mGlbII5DTm2bq1W+H4GHQzi81plpQw5sADmeKciYyWyKHQoxVZ4DHIqZDgMOa/pMzubIA5oVg79hgFLxDHNvNS80B87eqS/VvbA6f8HNNwI8P86vAy49y2XMJBRDHKHj1pxmjjQv9GZSayZkL6m4Wd0tkYZkN1WnadiWYSKd6KZDLeiUPECLg4dlEcviOolpOSY0gL/x4OKneh63x3EntcmlFge8PuD7gTkxBHHgGUxd/yh/+17j5KKJqAfxBNCdoMOAz/QNE8hsoJr7GempeibzTJjm4hgGrtZQTpAOjrMLq5m5lcLKlnaWbCiaR02P2Q2ASfCn+hogrM7ejevh5eLBTv4DoJu/yejrx+jui2m94fHjAfOCKz/ueFdXoAag21vYsZBlGsREyCTIcWijib2G5ji600CNpuG6qsMM26TAqh0Q4PtD64W16NsWfI2ny+YvNR7Hnq6BgucEMIAby3miji9L0QaIQjYzLWqByESdBnPBKGAy2wTxHzL0wlz0WZiWvQAAIABJREFU0r7EW/nQIVxcg7HMNTlgxyDqm4wxRqnJHSHAgvnAAN3Ct1nxu9TfuBYEnJ+/CJAA2pJ/zkzXhhgqf6oUBFNxsDHBSmf7iTDGOJzB613dppcUZIJv/qrSfpIc3AD0GPUvdy1jNsU2oA7zLFBxuIgMdjsb7Htmo1dBJi8b6D5vdHuPo+Ab3/mVCZBMGbEcS3eoZNtVyytbjZrTqNkN0XIk2+VmNVs1LcOk1GbYIsxmps11X4vrOjYxTWyaBFRhuGNavooJWATWAbMnBFsWHIOaY7sUIotNC0xoxCfPxA1iNJLJwvcPk9c/yn13zztONAzictRhDMQNkBcgJrlnR3jtB1YvhhoC2iBGrZspkJIYa1Bqq+D3lM+Slc297MyiMLVQja2jo/NGXW4g2qC2ByZJFySjXlK8l3IvFlhGeIQGdzyD7/kN0o8nPv2czPgy3xvv7b+XDJh2d3DYfpSNiUyTUJsS20S21SdsO8R1kG3qJkYW8+epgZXp1cphcpMUtUEYpF3zFLzpj3nLt07w6/wiWC5g/UrLxZaH+di0LdMDZ61FGaNgmvD4mPUNzHxSABc7X5adPpPpHpi2aXYHDWAolIjjQZ8h8/wAHvTYNKgIpmlijCmFVacJ33zAgILwzbFtk1KGCRSD2yK7oNSDWxMgDTauOMFHe+nDl3xgQAgx5mtd3exY/JbZ2xizKDUJgSwDF7JsmxKHUZsTmN0gVhEiFgEIbavBo/X6RfMPXlZjv+H93x3wgPnUNonNDNvWwXvTMJyGYbsGN/pi2wbiEMFsiwKL5TonsNzLPZx7/kyOLb3aYzx8GFQgTv7NS8Bj2RZ1XgF4oPOxXifu6RjPdio909P0K17kMhs3L4KtGrofDBM+Uhh1kWHKoprL1g7iheVVITIrRueU+RVj+8DOFBqKAcADAhGYp0FttGz4xw+uA0GIOthAweDMqwj2vmoFo+lNEDeXcrsIz/PPysMV8PQGw9O/IINZFgXmBvBgEtuk0M0ZJ265Bnc6o8Csgct1PQZPp/PscxiqfdTxZbbnAg93YViuhOyyaqrUYzwKCSZc2CYhFCRN22WQXcgH2Cm6Xf+ljdsbs485gGUC3HCjCACPaT5lr+NP2rDv6Qf8+DJg9GHDBwZef4BOIMdy4PEtVlBjvN78qvPh46nK8hHuMsD4g7k3pJ9+HD7CyQce7lkABdAPauDZ9scL4JkfFtFP8Km0Xv/p7w14API5QTv5M018hPCPWU++8UUc4JO9Hsw7kI89fVjgHadXqf67vD2gV/gIxNUcUBfANWhR92XA0wCrFLS3/1k+BHmf8nv/69zzgceVNjBI+92ah3JD5B0lyDY0Klbl1EV5c1OYmy+EI/rUHJpfMta3yWmyISoNYnl8QPl1S2ybcA+kDd5mPp67SmGvIbh5+Yn67lbw00P69/pMrytc/fIa6DcbMDufWXJUAO7V5Z3UsgnIgt2t59W41MC9Wy/6Nbntu6uRvxR4LAtZblGl5wWlrJgU4i75/9s4YL8ApwXIQCBnQjwZJ7/3vygHcK9f3O4Bl1gvA0+/mP2U+q/4V/zT/t1nH/Tf6R/4QnF//+zXfvLVfvJwAIzIl7xNX6vslssvNX+UK24/+Su/1Qu/R+CBGEbOR/1C+34aZrkg2gPwcPmLV/Pl3sQfNvkggQ50uVn4uLJ8Z6jfR33g8WUZP0Ff3fk5wPPkty5/9zUcQ4H7ZgpuIwbHqMkQNqgi4kpJSpwWVldzU9Ol8KQRjRpz8/rqBjo6sytiAxOP2wqxRcGzbFPEsAk2fDBsOb6Ya4G98gl7JrCh3wP9VkPi3Um33z99eY2LcX5zc8kKKsIP1emPp8d103/38aUXHvm91NeTLsuLPzK1wcg1LDdT17dO8qmCTO0GqCTgKvFstwGzXX3149cEHvgoA53vqe2pUvqnTz3z9Gn/nf7B00/8Ouf95OHgWcDjV7P/sf7Dv863f3kq7/Vshm/2F3xlnLrZ4GpP/xj8NE890M/uc2884wV49lJSYFcAkyrfLLAuYMfEFieXIQ/rXvKi8P0DiGr79q57fO7pmCvkXCfvZamfgdd/0Ms7/HI1Eexk1GKIGJomGmLVKAm146PC0lIqNFEMhZRI2Jib05ZX9d24I5Q83fBAFmWIYmRSkGxhcgJYKbmX6HHlXP7Q1fEfpgb6PfaFJYIYrh8Ppld790UJ+yk89YR/UWf2ebG+uHN6nCwSWA3RZNA9LfgjH1B3umYRMLeBt5Ub3F+pt/Zz/fjjj48eF/MZj/F8PvnsU1nvnT7v5d79X+v36e/4FQHhEL3W6jM3/skuu3vO3V8rV6+azu8EeF41u7/uc34b+GlaJuERpU8Dj8CBJ/8M4Pl18/JLU+uORcfGJjGQqipVrVZUcunCznZubjY1NlYKBTnwzKqxJXljm56nPFH1CHOYSRlDfGSzS13WD834pdm6ev+qBn56Deimc14UF3fPjpIFwjzw2hMEUcA8GggmM4CgBaFDfvQQj455ks3+9I/yNy6z5cvs4Wcm9zpf851DMBH1OdvvqmxXwNNtpbcfeHjHsy3MsG7IiliWi3kxmchtrKWikeTIcDk0rkUnjdlZdX5RWtkw4qd2pe5hmDcAITqMwuynK+B5zqC9uvw6a0C3vERZWd6/OE6WQONhjGHEYHo/n7dzBTzPaoy3DHj8EMB3cw8yVK/kJsM2QzZDJieHGi7S3ItE/t6D5D8+zH1zxzk6czVkUQt6/+P3eu+/6V/TZBCgb5oIG5pSl6sFSchUTo6TsVgyFEwGhorjo1I4qE9NaXMxZXEd7R6ZQtnRsU0oxQQTQnmAv18noLBToP5p/+BNF/Tq+3/8GtBM97wkL+9dgKmNuSaFFWo4s7XBCQk9HTprr4ualNm8q/7ymul38/7BL0/z95JCv0j9gzeYs/fe4Lff+Kf9BvCz0Qce6zLwJN5C4EG6rtTVSqGeTRbi+4m5ueT4eHp4pDg2Wg+NK5GIOj2nxFbR5gHLFCxFdzE1CSV8RgBfMKoLNhYfzf7Y7u/7OP3G2+4qA3/gGtBNN1GSV/aTx6kSMbvAwwNenSvg+dnt3seb/sHPTuqXv3gFPN067AOPTZHFEGg8huYmEsK9B8n3QeNx3xaNB+m6LGqVQj2ZKOzunE9Pp8bHcyNjlfHxWnBUnggr0Rl5dklf2yXnGbuuuBjERX86GzUZ9ZfU4OKkzbGnv/cVoF/e565SuKqBF9eAbjoXADwXfeCBOUUQVOBiE6SgK43nxRX4zLt9vOkfPPOx13PxPX8O7bu5hwnGvZKbFFnUsKhhE8OEA93RVef8XLh3P/X+B7mv7zjxU0c1LGrzCcP993rvv+lfQjFhmDJsGLquSHqpVD85yS0vnwVD6dGx/Mh4cXS8GhwRQyFxIipPx7TFR+jgzCnWHZ06pGtl002qm9TghQP7BgGyOZnkcV296bJeff8PXgMatc4L9cW9s6NUAZk2I9iiJl8R2iHUoTDB1TT9ifuEmqCxW/B7tb09NXAFPN22euuBhxEAHop1XdXEuiII9Xg8H1u8GAtmR8YKw8EyBx4pFJJCUSkyry5s6NtHdrbsyIZDwG3FTKaZVLsCnrdn9P5Rc9oHnsMe8Ng+8FAAHlg+4Qp43vK2vwKePwLwQLgpBx5CkKrKcq0qZjK13b38zFxyeCw3PFoaDtbGgrXgqBgMSqGIMjmvza2rG3v0POvUVQf+4wNWROwCD5cdrzSet3xov8XZ7wNPPFUwehoPLJB1BTxvcas+kfUr4OlWx1ut8cAyt4wSRhDWRbFeKxUqiYvS+kZucioVGBUCo5WRUG0sBKa2YFAORtTwnD6zqq3uocMLpyQ6BvwfIjGZbjGdR/UBDF2Z2p4YKVcnr68GngE8BJZVY8S+0nheXzP8ll96z19g9d3cM1h0sLsxYphEN4luYZ3BgWZrin12lr97P3ntg+xXt+2DE1vRTWKBSQv33+u9/0Z/KQXUgRk8SKvVKqV8Tjg5yS4upYITqcAIaDwjwcrIeGVsuDY2JgUn5dCMOrUsL20q24d2rmRrCCKqGdjZNEYRA+2JEcYwNTGxODH8uK7eaFmvPv7HrwGVmGdCbXH3NJ4UDGbBwhqYWdSi2MLEpsRimPdRjBkmjMAfScPv1fb21MAV8HTb6q0GHgLAA9ijGZpYq1TTmeLBYW42lhoNZQKj+eGRwvB4CYBnpDY2Lo2H5eC0Fl2U59ek9R2WzNqKxgyDMqYxH3go4SnC8OZjGoY1B57fF96+PcPs18gpJjDb6qWECEH8sceP8ksYJmtRRCmmlFCIRYE2pvxReIASWDmJYkT4kzzH/GPdNud9whfVKCYUU9IlSKrfLyDJ/gnx89ErPKRAXgkfesBzFk8WDGYTjECsgr8aYIhYiAt/cAUSpATDRQ48/hf6+96HX/LrVynp5c4HMPjLA5DnIL9QoEul6qf/vIPHbcQrya8djKHKL0usfmNAJfkJ+dm8fPySjL/Nt6+Ap9t6bzXwwN+DMIoZVjRZKZfFRLK8uZeNzGRHgsLQqDA0IgTGCiPjlZHR6uhYfWxCDk4Zk3PazJKy/IidpeyayFSVMaoyrDFicM5BCQWlB/Q7kCd9kfIyT3mbu/3bmHcfUS7vDUKeJKoTqnHSCUUcSAyDIo1gjeoG1THVGUOUwF/J6BhjbBCCMCEawSoxVGqoRNOJjikigEOQOuIcl2IMD2JK4W2KCEOMGZToBCNY6w9wiGMOI5heVj3g8V5l+1z8VVRnhVinBXFx9/wgWdSYzZFQxxTrhOrU1Kilw0cQAClhOjE1YumYIUQQwCZ8h17KRd9i1MvIU79+lWKOMX6sHPHLzf+ozbdwYA7nl8EJRgbIes8gjCmCSiKIEcQwACQGUEeY+mDpIxPTKTMA3BDX27q5eleAB7rfu7rBcOqVnWIduC7WTKRROFAtVbZOT3N3vr+4dj3z5W1r/8SSNYZN6FbQv39PGwwLpBpqtVat5XLl45P88sbFWDg/GuLAMyoExoSRMWEkUBwNVEdHpdEJFJ7C0/Pq3DLePzQLBSLXYYU3CtwHEYQxRsBq4N+uKMKM0+Xq+j0V/p3MC9EwUX5EMiYSJxkRWaeSTkWNiiqRFVpXqWwQjVJkIKQZRNWppCqKoSkYyRSLRKtjpY4klSiI6sTEiIH2A7wWGVhVkapySALswYQawDQtg1oapgZAFCAUcFGQ7B9vBsE++SOGa1OP7z7vSMLWiSAv7FzsX5RV/gkNI51SFVOVWhIQk6ghUSJSKhJWJ6ZiEE0zNNXQNN0wDEiZ9glg4IlsdT/sZwdhbEB/hz9284EEgAfAAjYL/tQNI4R0jBHXgsDS7oOcj3P9z/QOECIGIgbGBu0R4vWAOACR7udARtBB4TEu5+4Vq+h5Vfe2XH/vbcnob5HPy5z0rQYeLixhTVcr1VIlkykeHGViK8nRCWEkVBweF4ZHhZHx/MhodmRIGBksDwek0TE8EaZTs/psDG3t0lwOSzUdKyDwUh0RHRHE+QUxCGCzjz2Xq+u3aI6rNF9YA4gzx94egEd9khRMHgMPJgrHHlGlkkIVmYoqlXWqIYoMQlViycgSDVo3SM0gVYSrxKhiVSIS4BNVEdONrgiCqKFTHfoFQybVKdZBe1KJpVJOxNQoNShoOjABzF+BCXoNkEGIDgTw8+qbjK2TvBzbSR5w4AFNDROdMBUzhZoSEJMolijtEVMxNQysabqqqpqmGoZGqIGpAaod9GcdYa7jPZEJH5q4lMXBoA88CBsIGVAEbnxEyDCQhpDBgccEnQ91sacHNo9RDlDqaeDpDigOPFAZvCmvgOeJxniHTi5z0rcdeCiBGTzVSqmSShX24pm55dRoWBgOFgJjwvBobmQsMzyaHQnkR4aKgcF6YBhPhGhkGs0uqGsbKJXCUlXHskZVAziahoihE26iIVzs5dhzubreoV7yOy2qgYGTXiLgsH0o0jAG+xkiqkZVheoyVVWq6lTViSEbRDSsmmHJXHuoYauMrDIxa2BrVXSqGP6TVDOIoes60jTwohCLIotoFjYsnVgKtUROdYNJiKigNXA7FzfH9dkx8H4wCPJ7Pha9Qn0qyDrLS0vbF4eJkk6sLpcnTENMJUyltEtw3D014L+oqaZpqqqoqqTpEqU6twWCoZFgDSPtR1+mEJ0AAOkrPcZj4EG6YeiGgQydItCFYIacb7LjLh9u2obATwChfmF7B08BD2A113gIBx6NYLBQEgyG0SuN50eN8g5cuMxJ33bgwcjQVblaEAqnZ7lHO6nphfT4ZB94ssNjuRFAICEwVAoEaoERLThuRKLq7Hx1eVk+P8ViFWFF7wEPxobBgUcFwzofeHxU/RSx9R3oQK+viD6LBH9Bjy4btPx89OV34JPgawGvjGEQrFKqUKxSTacKAA9iVdUSJCtdYakyTZZoqkZzqllBTAPermGqGkgF/QHpCrByHRvwtxmqalYrtFAkaQElyygtUkEFAKsjU9SxqhnY4OEL3K/h59MAM203q77qTCFXL9k0ZCZztdXts5NzAVYtAPhCFHPDFQb2DYYwSJYZmGmgwFH4MiIqwI6kqqJhyIxCkKpJuiZ0+myNx+TAwxUjUET8aACCCQKNB2GEQJEyDJ2b2rg1rudDojy6tQc2l+GnC2NPmNpA+YOig8IIhCiCPBtQEOMyI3pXTG3oHd4Igp7lb8BmkUoQ97DyA1OVzJOTzJ1753+/nvrqO3P/2JRUiro+TMPovfkb/PbH5fPSxjznl/aGoalyvVrKpoWDeGZ5NRWZTY+EsoPjwtB4PjCaGx4FU1tgOB8YLAQGK0MBcXRMCUekmblKbKm6t0PKBaZJzIAawEhFSNexAUcEBEUEjlJu6H5ehq6uv94a4JYgYI1dAtsQ4+EEXJiGwABq6sg0DGIgBKoQ1oiqEUVBpCybJzm2eihPr2YjsXRwLjW3Udk+w9mqKWsmRKJhSUdVDaka0lXDUFWkq6aumtm0vr9fi63kw3PJieXs3G5t/VxP1swqMkVsygaMJm5kAi/hpbgHYOOX+urTNXX5ln+sGuwiW13ZOj05EzAyCTf7ceCBlHSuvOiYAEJiKhMiETAygianIVHVVHDzIEJgQWtw1/CgA/DHoMcGSvBkAoFCg8DtpfMDXnsw/HxrGDyj64amqYoiKYrCkQdwk9v0NE3TeWGeKAE/gWYB0xwn7iCCT+uQrj+qdGJgcARxDsS5EDzP0c5/9+la+oOdv/cHK89PKs4zgcfnvASpPvCk79w7uwbAw35nwPN4PMEA0g1VkarlUiop7Oym55dS4alUIJh9OFYYGhcCo8LwSH54OBsI5AKDQmCwPBSoDY+Kocn61ExlPlZ+tGFkUqYimrraw57HwKMD3wBvKxcAf1IFXz38a9WAzxlB7vbJwIaO0SXC4IKBmGhgnXBgUFNDpq5T4G3A8nSs6kStq/Qkgxa2quOLwvhcKjSXHZnKjEznplZq+wmzIoLtiGBJxSUNKTrSdeCMVFXMkoA3N9LRmdPgVGJkKnkvcnEvmhqOCY8Selo0q4apgkfEAIcQmGkNamCmc03EwIBGnK8/szoArp4k1WAJDjzHPeCBIvmRYRx4VIy5VZHKhIoceCCmAhFRJ7LODVuY6YjqiOfCP+DeGhUTmRDFd7M8ATyGj0NdmyA2VFUtlSrpVDabzeXyuVw+U66UVVX1g890XQfY0X3geaJYfll8idZHJANhHyO1x8CjURBd/fv+65eb+LeUap/I7Bs7uQKebtX3NZ63B3g4IPDhgg1NV2SpXComznObW6mZ+eR4JB0IZh+MFkDpGc0PDecCw9nh4ezQQyEwWBoaqgZGquOhWmS6OjdfXFuVz0+pWAWxlis9gGTY4HZxZPimjSvgeWODFMw+fch5PvAAx/P5nc5ZvakZVNcIMDgIsdKxrmNcrpP1/fLwdCIwl17ZF3fOydqhMblUHpnNx3bkVIFpBkMQxFZVDUUzdB14INEUs5DXVldO5xbPFh8Ja3F1eku6P525E0lEN4XTAqrqpkp84NF4aKTODMM0sAnY83OA5zxbXd46PToXDGxyuy9MQ0KI6hjcNQA8hHB1B4CHYwl3cPHAGN/8VZe0mqSpOtER6xImKsEyQQpBoG9wTOV7X9vg6MbD7xRVzufzS0srExOT0ejU7OzMysry8fFxpVKB6gD7WN9W8nS3uAw83ZYDmITwBxW8Sb5ZRaMgOXSBh6utl5v4HQAe4x3eMHgPuxsYlgzFJ8QPmCKyk5PU7Xun1/6R+vJbun/ERIUYvs0X6xC0+QY2v5tDhzUMrBtI0w1VNVRFrddEQRBOjlMrq+fhqcTIRCYQzA+OCw/HhKGR3FAgOzSUCQSygYf5oYfFoaFKYLg6Ml6fiFan5krLy9LRIatXmaYwnVeCrulIV5HvYOWGB24AeAMFvvok1IBuGNpl0pGuIeMJ4t3BMDQNaTJGMgRN64auAnYYWNN1VceKzlI5Y3L+4u5YPLRSOskRQWLpGluJa0PT2fHFwkEKSQbTMVKQpGiGqiOVaz26ShSRplO181TtQkCJEtu8YBPr4t1IKryWPxZQ1WAyaGE64V2I6grTNabpTENUh5xdHmtPNSniXhTozz1SDHaaqy5sHsfP8hpihq7zcYp1g6gIKTA+kYKxgiB4vI6xhLGCsUaZQYB0wmoay5a1/VPhIFG+EJSCyKoKUxBTuLVNQxA2ADsDcJlXL9QSODYNQBRdVy8uLu7e/f7une+j0WgsFlvfWD09PSmXy2CGgxXgdUVRVFX1jyVJEkWxWq2Koshlti5jIZQqmlYVxYqiyQZRwGsmYU1CqqyIdUmUFIWnALm53MRviLk81TC/5el7v2Xiv/e0Lw+Gtwt4kIEwdFSIHtUURVUkpVoVcznh8DAZWz4NRhKBYGYoWAgECxx48kOBXCCQ4aa2/NCD4uBQZWi4OjxeC4Yr0ZnC/Hx1exsLOaYqTFOIrhBdg8HFB2U3cuoKeN5kd77MlQCBLgOPzuUDQBld0wxFQUodaXVkKJqu6Kpq6JqBVF1TVFyX2MGJOBw5uTN+NL+n5OusZrCiyjbP8MOpzPfRzNqpUlbBXa9gTdGIAn4hSB1pmCCmyKSq4LLC8grbSbPgavXOZHJyrXgq0DrygUejADwy06EjMQ2w55WBR+8BD5J0cpQuz24c7p/leWQ3OPc1brDikIMAWTH2g8frGIsce2RMJURrBqvqTFBYPKONzx9+H3o0Oh9f2i/GM6og46pGJEQVhDXkA8SzgccwtNPT0//94qtgcOL09DSXyxaLQq1WUxSlWq2k0+lUKnVwED84OCgUCiDvnZxsbW2trq5ubm5mUilZrGsKhGWUyuXj09OVra2Vrb2j82ShVK6WheTZ0cHO5tbayu7W5vnZmSiKUMcArX4onb9/k73tNXz7Cni6lfy2AY+BdPgDBI46iizW5XJJzGSE/f3kXOxsNJx4OJ4dClZGwsWHY8LgsDAUAKUHNJ7B3OADYXCwHBiuBsaqY6FyOCpMz5bX19XE+WXgwXwscL2KR+2+SGZ9DR31Hf/Ej4HH0IAXIxAQDKxzvQTkEE2VdLWKtCrSRV2XkKZwP41qaKpO6zLbPZQeho7vTZyunBJBZHWdlVW2myQPZ4R7U8L8gZyqIIUw0Cd0pmpMg0ATaHuKMTJgcmlZZVmZrZ6iwbncdxPnczv1RJn5wKPrKgFdpw88KtNgzYRX03h03uXAvy4Z7DhXnd883j/PK5iphlGoVrPFckoonabTp+n0STpznMmepnMn6dxRJnuYyR6n8ydp4Shd3L0o7aTEzZQcXM998mDl/a+m3/9q+p9Daw9m40sHF4fZSl7UJZh5izWwGrwIeL788uu5uflKparDBtODFEVJJM5m52bD4chEeHJ+fv74+Hhvb29mZiYSiUxMhAKBwPzcTC6T0hRZEPKbm5vBycnA5ORodHp2ceX0/Pz85Gh1aT46MRYNDo8HBsOh4OnpKdQx7htf3omufgU8bxnw+MZlMAdoIMR2gadekwuFeiJZ2trNTs0nhycuHozlHo5VhsOloWBxaEQYDAgBCC5IBx5kAg+EQKAYGC77wBOKCtHp6uoaS1wwsQ7YY6hE14iug2kDqAs8ugHmgKvtTdSAbiCFm9q6LaAhpCKsgA2NaBqTFVqrGQVBzuelfEHOVKRcTSxLkowMmDMC1iFNN6iksN1D+X7w+H70YiPBJMwUzCoK20vS7+cKn0/mo3t6qsZkwhSCJUiWqQqPvoL5xODdUAkrqexYoNOb5buTx4G5890LLS+zGsywoeAfQSqoO2BnQ5yMlwKPX58cdUDHVhCpaiyeqcxuHu6eZRTMynXxJJFZ3zmaX9mZWXk0s/JoeuXR1PLmzNLm9PJmdGUzsrI5tbI5vbIztXowsX4aWDm9u3T6r/Dx/3y38v9/vfz//Xvmz1/OfPD9/N3o8tzu6UVZrGu6inTjWcDDDW6GpikXFxeffvrZyMjY4eHR6enp2dmpIAjlcnFr+9HtO7fvPxxcWl45OTnNZjLHR0c7OzvxePwwfjA+Ojz08MHp8YFcL8f390LBUHBicmN7fzN+8mg/fpa4SF8kDve24jsbp/ubi3NT9+/dWV5ZKVSrKsY6F/XeEfx5j4P5O7pDOpgn/A3pCtJlnwx+QOU6PT5O3b57+vd/JL/8luwd0rqMddKXLnuvvtZfcFf6rilNU2VFlWVFlsVapZ7LVQ5PcitrqdBUciiUejCWuT9SHAoVB8c58AznhwKZoaHU0P1M4EEuMCQMDxf44qFCMJyPTJUXloyDOC2VYJK7oWFNxZrGuZpOVUS4dH2ptl5rka8+Bg4aQwbSFTgGkxqSdQJTPVWqKLRSRYmL+uZmamHxOLZysr6fOkwVCjVRMkBVgdmLuqIbWJTpdly6Fzy6O3m+nqAlGRbVqSj0IEXvz5f+DcCDknVax1TCuK5QWSaq7OsPLobMAAAgAElEQVRT4O/TEJIRTZXp8kF1eO5icOZ8brd8USYVg9YMCMMHZ7mhEU0hsCYP4j1Hx2AXfDzQnteaELmtQyC0bJCSSveS5cjq/vZptq7TiqhcZMs7R6nV3dON+PlG/Gzj4Hz94Hzj4GL94GL14Hw1frERT24dpjdPhNXTytxRZfKgdHe1cG1w77++Xf3TV4vX7q/+O7QV2TjZT1cFCRxg3ehAiLgAEyUnmEPARzfol4lE4tatT/71r89HRkYnJkLR6OT+/l4ul9naWrv/4H5kajqVzkmSJEtypVzOZrOJROLoMB4Jh+7e/nZva72YT60ux0ZGR1fXN/PlWlFUc+VqTYKxWsimUqcHqaOdjaXZu999NT0znSkUZC4a+PNWX6G2nleLb831K+DpNtVbBDwQX2AYsDZIH3iqlWoqXdjdT80vJscmUw+D2YfjmfsjhUHw8RQHh4XB4fxgIDM4lObAkw0M5YeH84Hh/Mh4bnwiH45W5hbkzW2azVFZ5muPdIEHJh1yDoK4rf+t6dd/tIyquiF1sQfgByZrwjoTML2RahqtVPDBYWVm/mQstDUS2ozG4ltHmWJVkg0D8YVdkaEaBqrLdOugfnv88LvQ6copKspU1GlNo/Ek/X668EU4H93vAo9MYeUcRaWqjCCOQVcRePVpTad7CRRcSAVmEtH1QjxHiwqtISqBl4IDD8QX6GDG8k2BPSYKrN0ABv+8DelKD3hoRaMHqWp09WDnNFtXaV026irOV9VcRRVkXZA1QTLyIiqIWBBxTkJZCQkSKYpUkGhWpgmRHlXo1Kn8WeToH/fXb41sDa6m11NaqkIAaw0+TRps1T7SPAN4FEVOJpOfffave/fuLyzENjc39/Z2UqlUPp/d2lp9ODS4uLxaLFUgvkBW8rnc1tbW1NRUKBS8/e3X//v5Z1uPVnLps4W5qeHh4e3dg4qkSQatKrqs6eVScX97c2FqYiY4NHr/u88+/mg8OHqRz0kaxPMg8Nf5GXtePf1Brl8BT7ch3y7gAUUNgAfUHUWS6tVKJZnKb8KCBanhiczDYO7+eO7+qPBwvDg4Xhgczj8cyg8Gsg8HM4Og8WSGh3KB4fzwSH5kPDs+UQhNVacXlNVN7eSUihLMMNBVxDWeK+D5fQz0p4FHBY2Hr7wGi69RsU7PM8b2QWV9K7++ld+OF0/TtUpdVng0NKwsBrYlTZTJ/qn8fej0y5HjqR0pI9KKSosS3YqjO+HsN1OFmSM9JdEquOhhZTdZpQp0BFXVdB3BgqNnBTq7qT6MpMIrxe0ESlcBdUTQhPiUFljSzOCQA8H4mo4ATDj5B68IPDWdnubE+Ufxg7OMrFPDIIquSbpW17S6odaRKhq6xHMo6bQOK87ROl8Pta5CiSo6FWS6lxfH1w5C66fricpp1cgrUCJYNUiDtYB8uwVXcZ4BPKqmpFKpr7/+NhKZurhI5vP5arUiy3KlUtp4tDI0PLS6/qguyrICqDMVjY6MjCwtLW0+2picCN65/fXWo+Vc6nR6KjwUCOzHj+sykjGVEa3LyvbWVjg4vhAN760ubK/Of/flZ8HQ6EU+I/mzUd8d4NHe4Q2iwnrFNzTZ0CSfdH5ApBo5Okp+d+fk7+9f/O83eDdOahLSMCyCqxmwFOGb2HyDuA52NlmWJEWS/i97793VRtIu+s6XvGvd+8+96+yz97v32fvccTY2QWRQBJGDicLGIIIA5dDqHCp1lDB8m7OeaklgjD3zztiz7TG9ntW0mlaH6qrnV0+okuc4jGBUb6iHx803m+LskhSfV2JzanxeT8ybyQUzOacnU1oypSaScjIuzyTl2RRPrZ7T5ua1hWVreY2sb9mZfS9fvGbOted9CPx2K2i3YPT6FZ8/5ZLP+/vf8cQP12y1Wn6r7bZaHmy0eJS7fem2Lr02zEbQbl277jVxr7F9jQkIca6J+8HxYAx/+BKvA/+y1XKD67p8PbepRNLlxXdmWbvWnWtBv97LkukVNfnWfi9+ULxr07tW6KWOLxG79GAKv7YTtP0P1woK3ua81BszvqJmTt2afq3Qa+ReIzdw23xSaGgYl5cw08F10Lry2pfQototjwtUqc+/zEs4yg9abbd9TVvXNRXvHp9f1ASvBcZ9y/fbLUjm89utUEKHYwCF0AYvZOvSCz64/qXjtanXosElDq5lEljeNfGvqf/B9tuX7WvIJgCT7JLfCM89Bx0ARcrb9Qe+huTzer0eiYy8Wd/UdYMx6rqO73uEWAeH72bSs4fHp5AL7QdCo5GMJ9bW1jRNMw39/bu9qYnRo4O3uiLsbG3G4ons8Smmrh1cIttVNP3N2vpieq5ZLnmWpgvFdHJqZWWpqSsOTG4KUTx4TJC/+fLL3/z5vvh494LnQ9DBTw88tf8A8Fz/heBpcyLeXoeVEdZh1mU4Da/n+o7jUWqbOilVtLcH4sq6ODOvJOfVxJwSn1UTaT0J5g5QJ5lUk0k5mZRnk9LsjATZ1Wk1PafNL6DFFboCRo+bu7gm5Np1P/juJTTwgA8SggEdl9A+Q/limf7Bf/ZO3rtEqAs665CC3YPAIf8Hr/Ojfg3yF7ly7DxAAKnSlyCQr3bleR+8ALKfPe/a869BC4OdEsAbbAVXQcDB0w7a1zq63nyvT81X5jblw3yrKl3nSsH6rjrzRnlz6hasaz24lshVQXTPK6QmOci9ci+vbQ6DQsNOb8iT81JyVX9/3i42r2vSh6bcljSH2D5k34eqk1vLPkeCe+l7bd9rBx5khX12gaAV9Pz8Vhc8VRXvcPAw12v7fuC6LRjP2pm8s93JPIbW0LrksIPxbGCaeb7vep4HoL50g0vX/+D5l77fDvzWJYymhZE63Q4nvyzcFNxbAGMTwj4l1LpKpRKJjGxsbOq6DrEcDziDkHVw+H5+fv7o+IQyx3GcpiAk4vGlJUhOKxYKM8nkyHDkYH/P1OXjo8NEMjm/uHyeLxbKtfeHR0fHJ4sLC3PJmVo+r9Yqh7ubE5GB1ZVlUVfdVgsa2bdtZZ8t/7/+Hw/g6ZT5Zcv70HI/tNwrDp4PLTcEjzQxVfuP/xKHxq7P/jqLJ2wQN7DhlgdMnRW0Lvn6GpJv2i3f9R3mWhYTm+wsb25mlLlFJTWvJefV5JySnFGSKSWZvC1yMinNpMTZWREy3Ga1NExngOYX2co6W9+y9g9aonhtsyvfvQxAEYDeAKUB/WXeHfsWGv/Tx21zPev31u2WH/7WCiRngdzuM/z1reb7vGKvvrRBe7edy5bDLXjvKvCv4A22W+0r17+uNoPtd/rskpCcq8ws1GYWK+mVyuY7rSh+0L1rs3Vd0VubB2ps/mQlUy2KruVf6+6HquZu7kujqcJIsjw1V51ZqqWXy0sr5Y31yvFhU5YIKPcOcj74rUtul3h+2/Hbrt/2gnZYhe4puu7rh/rWbrW9Flg8FY1sHxcuqpIbfIAxMZ4L3Y42dIF4igU47S55ToAPdtWlz+ewuefsH+3qFVG48VFlBkq32p7nU0oZY+VyeW5u7uDgAGMMeGu1XNc1DD2XO81kdkulsut6tm3rur63txePx6empmZmZqLR6OLiYqlYQJYpiuLW1tb4+PjgYGRqOra2/qZQKBwdHc2n08nJqflobGUmnY7G97Z3FEN3L9seZIB8ySj86FF+8A8P4Om8wB8UPJ5NHFNnQh1nj/W1TWVmTknOqsm0mkzLiY+QE+JHTibFVA88M+psSoVpQ9NsaYWuvDEyGbdSuWbs2nUuA3B9hMK9/K3gW6n7rubpOBlCqNxQh+OnxWPT4Ihot0J/yEda4wdvhl/l9ntatQVOubYbcGm1w/cIc2d6fttvXTP3WlKvT8+8zU1xbb26vlF5fyTXpEB3rlEbLJ4GvtrLWVPzRzNvzguyL9mXsnNZVN3NQzm6VJ6aL8UWSvMrlfmV4sp6eeNN+SgrSiLz3A++dx2A4XUbPEAdv+3/U+Ahrevyx+CBbgdE2z7w+RcuwQvcMVvA8uN5F20gxxcEjIleEd0DnvAdQNwGxn62GGOiKBqG4fv+JcyUCoN4XNdFCOm6DjRqX7ouhGbCI8vlcqPRUBTFsixCiOuGFhKq1Wr5fKFYLIqSRAjBGIvNZrVUFms1XZQ0ScYYu5ctpw0dXv+nqdS/BD/xAr7j7uPDe+fywXf5tnPl0KtSSRyfqv37fzWHxq5yhSvqXsIvMbaDAKz/b7fATPQfC7hUuLT5mmd9BoHrOBhRVcaVkvluX1tcVZIzciLVlSRnTwrca12RADxJcSYlQmp1SuFipGbIwiJeXrW2d9xC4cqyrhzW9t0g8ELxW77XCrxW278psK/49J8+bqt36e5G7xju/AMXYO/VfcU7+aFP1Ssi/ps0LdfriOfB64P/wg+Otq781hVhV7pxpWlXunalaZcWvqLeFWtfWcGV7n0Q6VW2xGbXL5Yz5are1r0PVvtKdT80zKuKelWRr2rKlaBeSfqVrH0QxUDX2q5z5ftXnnfleZceWC0tXmF8fg9wA34LoNf2wRt2p5S79+22A4hKucEVDq5KKt46KpxXRbB4PLB3uaMVDH4fGgechbfflh+04ed3OleEU9wr4e87fNyq7t5JSJcQMDx3x+vt8UIi+b7XXSDy1tUCfEYD6rpu+Gg+Pyw8g+u6tm0zBo658HjHdR3XCVwPslJ9CF5B1wDMHT5I9U7p/E0/PoCn82J/LPB8aMGsoB6jtmlgsWkW8sbunr6wxGM5KSUJsJHiCQBP6rPgkWdSSgokBA9ZXsVbO+zktK2oIXha3OhpAX6ghfEGf09b/dNNo6t5bmj7KXggYNGVy47O+dMX/tudoFeSXGFyde+1fLfVclttL7iEcEnQ9vxLZreYfem64IRrcxS5rSu7dYVbHyyvLeP24bm1tFV4n1NlfInbbdJu4VYb+1fYuyL+FQuunNaV27ryWle2c+XYH7gz74Prtl33jt4PuyyB3wpAs4I77nZ/D95A96bvAc9FVfK4q+0DTEgIVi94ncGu4bUB7CjYDFHnt+Aqn5XedW4q0t3KHGYwuq5LKQUi8NRRHuDxQgsGrCG+8MweN9wZTlMdrsMzhEzqHnvzN6xvgMBuYnkLMiNa4eAseJRPsfy3q6PhAz2Ap/NifyzwgOXvui7GTFNxvabnTvXNbS29EIJHTqWaicTvAY+WSmkfgWcbHxwGtcYVo1ceKIIPHW9b2FjBA/0NGkJX83ykETrGVtfk8nxQo6FagU7uT9NCf395hzZ4R7OHZQr8CbjfrXXptj64oPxbXstzPdvxbBeE+YHrtDwnCOygbbevsNuSdO+Qp2ULSkDcK6ft2W3KWjbz26zlswC667bvehAO7yZ88FkDeQelQ5o7Zsct8Ny1Vruv/0vggfmyPwIPXI878ECLA4B+u2Z2r/NRNfuoeENshCZNuB3OARraPbf9oeHPIoRHhsi5urqCzlF3uX0w/13Ujy7U4o9zFZ6Ffx/yGbodq2/Rxj66/Hfw4ZcbHP98W+F8M+Fzt3ynzeXSc/i2/cEmH4pFcXyy+u//KQyOfsgVPhCnDRkyPNjJfcHfqMzAAOdL0LkYvyRMBtrdH8D8bDayiCzhalXLZuXVdQjwxJMqJLCl5GhMjsXleEJNpOR4IhQpkZASCTGRkFIpOTWjpFJqKqmmknpqBs8v4qVVvLGN3h04xfIHjD+AOnLD8D4MVQW3ACj+7i18zb+u73t+i0vgBV5XHL/leIHj+o7nux4cA3cBh4HvplcYX/NOfvBzhfUl4EUFhRqWpBv4XDy35botxw1AHN9xXOY41PGY4zmO5zp+wK2iS4Q8UcSqygiFUQN+y3F9zMVxfAbi2Y7vuPAL0wF/b67nOz4AzvcCl3v2fC/w3I7A1b3Ah9+kBrlbhTqV3HdacGDg+B+w/6Go4K1s/rwiuv5lC/x3btsDeAVBJ0WNN0K/BdZ4p+b8jncHlvvHcvdLEB/zvBAbIUR62Li9ER4QOuXCmFC73b5jAN1mT4iurpeO6w4AN9CyV5EBB92bu3tbf7vPD+DpvNLvCjzgI/ahrUKdhpSeTuX0fN/xfYc3Y9dhzDKxKOJSSd5/31xckZJpJZFSUzNaPKlOx5RYXIkBeJR4IpQQPFIioSThMPVj8KClVWt909p7h3MXHwzzg+Nc+h4MoGjxcarg44aW8m2aQFf5gHbicPH9oOX6geMFttd54lBncPg9gOf+1xAWI+hDn9MlZEx3bbsB48LZ4wPReT6+43kOzP0CBd+CTEa3xbDjMCfwvFbgtnw78HHg4cCjvkc9n4Vf9AK3Qx3eOfDBn+d7geO3XB/CSx3CcfwAUiDCwevznXvvvvsvg8dpw83cBg8kS7Sgkfx+8Ny58j0fQ/CEEZ2QFuBQ45kCvaNDotxmSRjOsfkC7rL7ljDw0ztVCKHwnL0AUu8Sf/uNB/B0XvF3CJ6wrfbA4/F+qxOAGgZl4DBmGrjRMM7Pm7uZ+txiMz4rJ2aU5Iwan1GnE0oM5Avg4X62pJZKGqkZNLeAllaNtTfGdsY6PP6gqB8o+wBJO+FEpKF9903sDOgFg36D3I7OIMJORpsXeE7g2S3fhbA4j0603KAFceT2TUfxb99G/4kH7Cl21w96mAlh01uHPHDdwPXg55xBPM/xADxgILWgswFxPfClwR6HC70Bj8f48Y7vu6Hu9wLX7Vg8gddy/Jbtt2yv1buiG5pcXxU84DGEW/024HEcJ7R7erS4nTjQ81SFb6ZHKcdxwjy32zGekEPdmUYAN+HXe9/9yAz6J971j33oL73H/gk3wilnwgcHBcel7dp8m10yfFkoNMcmK//4z8bAyOVp/hLbLa8d+i9gSNk3W0AT+J7twzr0l/T2UM+1W4EN84IioihWpapkj6rrb6oz80J8VoynpOSsHE8p0YQUi4feNjkeD0WMx0MJs934kNKEmkxoiST8YE96QZlfMjZ29LcHXqV2idClbUMXFnRTt5Dgdr7yAsadHXBpBU7Au9Gg0ALPDlwWuLTtO5ccPC3HA53mAHt4wXzlO/nxTxdWFg/AAD4x+rEwx7e5uA6vWiE/emuf+8Z81+k5yfg2sD/wWODRwLM913ZBPF7/Iark8lOFJ+Tb9scXpeDT61yuU5nvlHPXI2gHvL7b3iXyLgsy2sxenJVFx2sHkLRgt4BfMINBmKUXuHBtuDx494Cid077TT+GQAovEWYf3LlcaCfd+ddt46l3fLgzzFbo7fzbbzyAp/OKvy/w8IYaggf6U10O2T44O+xWQB2bWCYSJaNYEt+9L6+sVVNzIXjExIz0EXg61JG71BHj8U/BoyVnpNSskl4032xrO+/si8Klpl/a9qXncs97eBe3Sf3VmgYHj+fbAadOADECz21DUrvd8qGjfRnYlwFYPBDxsd0H8Hy+6G+DJ2TMp+sQA+Cz5VYO+NlC8TvGTWji9PATxomgNxZ4rudCpx7MJZdzCjQ/d//erN0u3nqX7nHuW4AHQoK/Ezy/B013UPH5or75z+//So8xN1+Gea9gub3nZ9j+ecETttFeXfwN8Az+tRYPN3dC8EAD98D6AYGep88Cn9gMGZopNPV8Qci8LS2tVFNzTbB4kiJkE6SUWEKOxaWurSPHYTs0d6R4XEnwHIREUkskuCTVxIyUnBVTaWt929h+S0/Pg6Z0yQA8bQ9iw3z5JuDhHh4e2QGfm+dDt5r5HgsC6nvY91AQUBha5we+47oQ1fYD91vdyQ/e5u+Ax3X8UHgqAVgeoXgOxPCD3wEeKGoQMPPdACakDScIDDh7eko/VP18DX2m3oV6l/MdXoVgTttPiji8aQ42sPBt/67F43OLBy551+KBe/ud4LnT3j+5i86On5ABnyuKb7r/JwXPp7WQ1/vQyRZ27jquNmFssvyP/6wPjrRzf5Grze1ShwUdb1vozQidHYT72k2GLUMzG4J2eiZt7Qrzy43ErBifEeOJUCSgTkLivOmtO362eEKLJ/V40ogndA4eNZ5U4jMSZ4+xvKG/2SXZ01ZDvETk0rPb4AXjeWXfrCbymbA8L/BBs4Hasm0PMRvbjm27DiT+QhjctQPXhkAXDCwKefzN7ujvcOKQLpCNchcGHSB5fie0w582jPQ4nmdzCc0gH4I+HYEAkOu1ubRCI4M7YUOadNahTzj0rXXWHqSIQG8BAko8lPRJ6fL2CB0tl4PH8j9ytfmu2wIHuMsZA3kLECjx4IxdVxvczydnfdjx/ZbAL6Gh97Otw27b7af2IZzAwjX0uF3aZqhdKNRHJ4r//r9qgyOt04s2YgFkpPJYauhyuH2Kr7QNHX4u1O9sgGfdc4nvosDFgWe4topMXVW1alU6PBLWNhszC434bDOebMbjoUixuBjrbPd2dv4VT6ixhB5LmLGEGU8Y8YQaT8rxFMSHEml1fkVb27beHbJCuaXpbZe1wL9vu963emAHHtZhng2lD4/sQOn7NvMC5rW5tGAESdCmQUCCgAWB7ftOx0XxlQr9b3cax+1Unk7Zesz27DsCRO+4zly+wQf3QAin9655eAWGhXbEcSFpwfZ8TicX8rD50TdrXlfDGttd+x9/5f6y5pXddlyPem3Taxcka+PwPFdq2m7LcxzeNh2X5+fZ0AADn3/g9SBM4IP5bB6WH6UEHsDTeVPfOXhYFzyW76qMKJahq4parjT3D2tL6/XkXCM+88+Cx4olUCxhxRJqDMAjxVMwtWh6UV1+o23v4dPztmb8BeDhoLWRw5DnWq5vOoHOAo21LbdtOW3TbpsOiOG2da6SkN9ikCz8QJ4vKRkHWM464jPmM/se9sDwnTBTgJPHsT3HhjCO10uFvrMR8qZLFDgeBgB9LPwk4ak6JwxtqPBbn+sxPIDnS6/zb/e/B/D8GOCxPZf6Lg5cDODBiqnriqwWikLmXXVuuZGYE/558JjRuBmNG7G4GksocYgMqYkZbW5RXVpV32xb2eNAltsua0M2A/zszzeq/LbrYI8Ztt0wSU6w3hWUnZyynbN2cs7uWbB14m0csb28na17Bb0tc/wgGCTyAJ4vvhCwbwgXypFzH3i4+QJOTBCwGyjYmh71AgrmZsA8nxtMzs3at+mNOOyTl+DcXDe8OrkFPDDc/xh4WmFqAwwnBpPrweL54rv/Af75C/ymxM+3QODg46cGB49DPYf6DnVhg7So1crna6PjhX/8r+rAcHBy3rKo74Rjvj3b/vj7X+8Tcx3mwk0QD9bMdSDO4cAG8RxkMxVbiqaqTaF5dl7d3ClxP1sjlhJiiWYsKsSizVhUjEab0Vgzdo+IsbgaTWjRhBqLyVxgxE80pURTciylpNLq/JK69kZ7t8/qVZ+iFneAOe63emDbcSzHUZlXENHKQW1i5fR16vhlsvAqVXs10+xLCa9TjdGl2tw7Zb/qNVhLtlumEzCHF8rXK/a/3ZmY62LXJbwqQZ2yXcbuissrG/zLcRzbcZlr8z0ec2GYKHPDPTbfH657J3EYpHrA7xDy+Xc6a9exP7nK7a90KvOnpe1BBWe24xK3ZbitvGi+OTjLFQUG8/NAYr0PDkDIB2edBG3InvOgbYRJ4nca9KdXeNjzHZXAA3g6L+P7AQ/HDDRp3uxhbQMmbcexbYcRRkxkqqqk1qvN46PK2ptickaIpZqxZDMWb3LqdMDT3e7t5BuAIikWV6IQBBLiMSEea0IKXFKJJuVYSk2l1bkFdWVN2d6xznKuqbZcGnjMcUPUfn11b7suclyd+RcCSu9UBmaPHkWP/3Oy8F/Twn9Fpf+alh5Fm69mK9Et4bDearKWzFqm0/r5wOM6wNrflDDqAp423yG+A8Ey33Z97kGDOgQ9CC68Q8MhQZhLOHts22V2p4cBF4Ij+WF297r88vw0vN1wre/y88M6gAvdaDebd5u60ALk3PrnzWHh1pfB40Pg7wE8dwvtx/38AJ7Ou/t+wOM4TmCDm8PjnUg+MZYb3p5vU0YsbKmmLKjlfPPtTmVhrpyIN8HWiTejMTB0uLkjwcZ0MzZ1W4TYlMBNIr6OCbFYIxarxmO1OGwDjWKQV62m5+WlZfXNBj0+8pVGy7ZaHnWgL+wx9yuDx+aWHHVsi/nFBlrcqQ6mT5+n8o9Sjf+d1P930vr/k9ajpPwiXYrvNE6ElkxaOm1Zdsu+a7L+uG3w99x5aKKDdfE5gd5/J5HZAx44rGXTls1atttiQYvBxDcO2OutrvgcDIx5mHmW7WI+dRuYHRDo4X2dHikg7MMzCnhSAdQBjqjwYEiC82Gmgo743dwDh08DR12PuuF8cK7Lgz73PvBvgof3vR4snnsL78fb+QCezjv7YcCDTWwollRXCrn61kY5PVuNx8UoUIcjZ7oZmxaj03J0WoxOibEb6RIIyBSaPiF4anHATzMWk6McPHEwerSlZXVtHR2+94RKi+gt91uBp9diGPVqdWvrbTW5ej6+fDG8UhhYqb1eFl4vNQYWiiNL53OZ2rngaqRl0Ra1W1z/9r79t9/4Y+BhLdtuMbfFIB/DD2kC7AF3MfisOs40yEHgFg/rsucOeMBW4TRiYHlwpy+4xDp+PMd1wNzhhHNbDBKifT7uLJxSlLo+dWFi0TAPwfuMj/QBPH/7Snz7AX8JJ7b72dYwPuTjZ3Zt6tnEtQn8pids4ICYwcVFdWS88I//qPYP+8dngUk8G8aYgEuCffz9r/oJVAKFqUmY7VJYO3B7jHgUUVPDqqTXSsLRQWVluZxK1WIxeSrWnJ4WolPN6KQQm2xGJ6XopPiJNKOTzeg0F4gACVFATp3bPUI0Jk/HlGhCiSaVeEqdX1RWVsx3e7R4HhhywJBrM2qDD/6rPiiczIECZS51TZWKkl0W7DOBngg0K7jvG977mntYpdkqvhCoggKLBIRAthb/3le/l+/2hGGFdXm1vX8N6OikS7u8SGmYy+YzOxTXpjYIRHuo41LHpo7D6zojLqUOtR1iO8h2MPynE9axuYuXOTbjO6lrUx68luoAACAASURBVNcmtkMYF9umvEoAsHzmBDBHjwtzufEBAbbtUdsjjkfgcnxMFp9w595SduGicDbsBLoTXDSNN+9zp4UGtX0H3jeFButAZh7lj+nakLXgMnhWnjhxp0Hfe5GHnd9LCTyAp/MmvnPwODZ1GXaJRXWFKqJSOK++3S3Mz5Xi8frUtDIRFac+Ac/0hHiPTInTU+L0tDjF2RNSJxYTozFlOqZMxZXphDydUNLzyvKKur2Jc0e+LATY9BilzP524AlsJwBtFVA7QE5guoHuBqodqCzQKYhBA+oElNiUUJtS+5uS/3tpnr37+APgYeDeApXMPBZ2qhDnCqUOI1CZKOGCXYoBPNh2LNsx+RrbXNF3Io0A+bDDAQRiDoMzwNoGgHG979gAGx8EHLLgk4WuHRAuZBuFE4CHju/vPdfNxpfBwxN/INb5AJ6bIvuRtx7A03l73zl4bIc6DDvEoqqCRKGZO81vrF+kkoWpqer4hDIx/XvAI01NSFNTXKalqag4DUaPEIO1BNTh4JlKKNMJKTkjLyyJ62vG4TunXvZNzaNhZ/nrWzw2zE4QDnOEwHbYDYendW3LcZDjURYQN0DQqwa7i8Gd0B+50f2Be/9j4OGhlRvwAFeYg4hLscesG/DYAB6XMMdyXJPxY27AA242OzSnQOk7kCqHXM90fcsNsAMdBWYHDgy/5lOJgrkDw4dcm9k2R5RLiIu5RRUaUvc//gN47i+Xv+neX9hPuUB/uSthAXR6gdARxKD0GPKR4Z+fV0fGCv/6H5X+iH+U8w3s8jbFmEPpNyw4lzCPMJsyymwCWpZRmzCbMGJRRcGCIB0fXaws5qLRwsRkdXRcGpuUJqfEqUlxGkSanpSnJuHjZ2VKnIqC0TMdFaZhLU1FlcmYPBmVJqalyagcT6rzC+rqqprZpcVzV5Ecghg8clhskGAXCt/zZ4sCus6UuNCNhsckFFOGiU0ww4ggQqAsKCOMEUaJzXiRwM/Y/zwLNzSYA+bG56Wb9eyAS5SGDjUGfAELB9m2yhyF2BZyiOW6RiiOZ9m+xXwEQRubuIQ4iNgYKp/NHWzMBgOTuYT6mPgG8zXbV5yOaI5v2j6yfWL7FFgDFhCYTwzqLIO3RbFDiA1C7U4FuvPaeJUCI8pmhDLbsuESF4K+vp87KdQt4rLQ1QdVzoU74al4DmMuZQ6YvrDJ1/ed+Kahf5UaA/WQV0V4us9I5zY+h4w7d8kYo7eW8L+973568B/bY9s3j9+7GrRnvvyxc/6Zb/2k4AmLzLmlNXvg8SgGP0QXPLUQPK8jfvavBA91uUOJMt4cQdeCOiaWiSUZVWrS+4P8/OzZ5GR5YrI+Ptkcm5QnJuXJSWlyIhR5ckL8rEyKk5Pi5HRzclqYnBamYC1OTsuT0+L4pDQ+KY5PKrG4MTunLS6qW5vk7MRTmi6xGCW8wLj/nztSwljXn6l/4XdtIAq2Ge5oH2JRCnO1EWJhbBBiOgyB6qSYUcLV6p+/5o91ht8Gj8N/TRQMxlBNd9Ydv5rDLGYrHDzEsl3D8QXDLSqkIJJKkwmKq1i+RlwEqe0UKhsjXf1KKXz0CPMlxS803LOGeyI4xwI5EVBOMKoqUQnQi0A8EtS8S0HJhcK7Cb06zLsunxR8aBc5DN+AB3LrO+AxsAPp3ownen8WPLebcu8Cn0K6968/vEEpJRQawhekc/IePD7duHP5Hglotz/b+8qdI//wxx54bl8rvFzvX3/45H/giw/g6RTa9wse3s+3CDKxaRqaJQhGoSxk9vIzqYuJycr4ZGNsUhqbFEfHm6OjwujI75BRYXRMGB1vjE7UxiYqY7BujE4IoxPi6KQyMaWMTarTcSM5o8yk5dVV83DfFWoutqDjC+rso+D2LXb/gerX+Qql3MqhYMqETdoOI9g2phRRhhwbjCEbDoA+Wq99/vFL/mDf/N3guWsPURvsSEyZSZlBmIWpryC/rvnvzrTVd43V3cabXWHvUD6vkIbhacwzGDMptohhYRMTsDvB9KSeZvqHx8ryVmN+S5jZqqe2Sqmti9nN3N5ppaoQi/mY+YSP2YG8BXCzAXv+W8DT1a2dQuMjWkMI/RNvPVTHn9Q0SggmBN0LHvBNAP9huX2lHkXCjdv/CreBZt2lB4PPHfzp13t7wgcPP96Lk+5F4G+3lL6l66Z3Z59sPICnUyTfL3jA3GEaNjVkGJpiVGtK7ry2sVmIxUtjk7WxSQGoMykMjwiR4UZkqCf14aFQGiORxkikPhLp7onUh0fqkZH68Gh9ZLQ6Mlrh69rIqDAyrkxMN0fGlcmoHk/Cz2MvLKF3b/1G1UcWeDa4u4MPBezg5+uAh1FCCY/ehD6au04M8DVyoeADciio1xvXwSe1+u+340vggYyzrjAGqWmhdBxRUG6E2ghTCyqS5V9USeZIm1uvzK5VFjaEhTfCzHJldU/MVpiAfNX2DUYxQ5ghQjtiEV9U/bUdYWKmODFXn1oVJldL0fV8ciO3fVwpyUS2PIv6BKaEcxlcDojj8A3eX+gQ6F4l93UtnlCfcg3LoJ8E99MzfX5XxQjPECruUFOHX7u1B3M8fFRLIVR5M7mq23Og9S7ZI0F4fozDk0BHijF2Bwk9VvW+/psbIUt6RAl/RPX2t0K8YYzvXOsTuN7+0rfa/qXHvZ9wA7rw3ccGXzRFDkUugbVDLc8yvLOz6vBo/l//vfJqyMvmPAM5lGeegveh+81v8NfBxMHg7QAPFPT5iYJN2dQUWVKKxeZhtry0WpyKVkYn6mCpjAsjY8LQiDAUqQ8N/T4Zrg+N1IdGakMjlchIOQLrSmSkMTImj00JkVF5bEqbimuJlDY7b2xu2vkLT9ccTMDzz3VcrzHfKsI/XhDwmLeEFy1k0X0qhDqYy1e57h+/47/6m5BR8VnpmRUUAimY2RYXzGzMzWVGCeHRMos5Ddnb2m8mlvOxxfLmvv7ulO0ckMRKbWqptPJeuZAd2fYMyGmGhGnHRo5t2jY2sddQvMUteXpRTG2itSNvJ+9limy/jHNNXDNcCXk69jD1ICmbQ4tRZHNrFTPSe7n3NpowEmRTxCgmlJnMU6l3Lmhr+6fH+ZqO7M4b5/wIKwCFjDrqAOB6JdNrymA9YIwxAt1OMOcajzr9Zp3pVTjgvONQQjHGkMrphDYcxK0IxgTOS6ATxmyw1bkuYHBP/EgOjfAeQhXfM2IYY5ZlKYqCEEQuQwaEiOrcM9w3gKGn739/RbNtG2OsqqppmoQQnkTo9G4gPA+UCoJy6S13Dvj9l/uTRz6Ap1OA3xd4CG9UlHdWGYBHQrpkKLIoNM/PqplMfnauND5VG5kQRjh1hseEoWFhKNLogqcxNCT0JDIkRG59hP3DwtBIA8AzWomMliOwrkRGheExaWRcHBpVR6f0iagRTRiptLa6io6PbEl0EAJbg3fQIO+BL3+y/oVfh5wBHkHq5A9w2+dePcv1josB/zeK5qvcw/d9kp56/Rg/PBrD1StAxu6Cx7Btw7Yt2+YuIUAWpRhTbBA7X6fzG8WR1PHMtnRS9yqqd9HwVt7qY4vF+GZtv4IF4hmOhx1m28Rlhks1xpCBvarsLWxpk4tCasd6c+Ydit6R7OVUr2Z5AvYAPMRDMPeOTRkiDBykUHMBQn8ePPyNd8AD26QHnl5Vgdp4o6+BtJhw32049AjSHXiN+lK16ZWy5zjYQs2GINTrhm6A35dB8AwGO1GGTUsWxXq1KksSxZjxiBgjhBtWYd4lECtESFivwjA+QqhYLB4fH4ui2FP9PYOjx54eeEIH3B3j6XMV1bZtQRCy2WylUgnZwxgLr9Jrqg/g+Vzp/aX7v0OLh1d95hDqcXeSY9uEMYsS0VCbmiwKdeH4uLi+kZuaLkeGhchIc3ikOTzcHIqE1BGGhnrsuQFPj0D8MIGvm4ORxtBwdQjMnRKXSmREGB4VI6Py0KgSGdNHp4zJmJWY0RcX9b0MrleJaUDvERKmIBmA3teOe023pyC/1NBv3navW+rcy5uu6cOvD9lXkFV48+2//xb077uFAH1rLhDzAp5gXuq85x3axzrBKsUmIyaYy6H6Ajzp2H5/oYzOZwdmj9aOScn0ZMcTkLef98ZWGpHF2nrWLGmexsEDAR5Lc7FOCdKRV1W8hV0xMlcaXWlOb2pz79HKKdktOgXZE7GnMk8nrkkdSP+AeFJHCDO5ueNgZnNf6j2v6rcsHgdTbkvx33ggfJtQN6xpYIIAbh3eZcEcLgyi/wQ6Ro7jQkJ3x9zpNXf4amgsgVehK5A1QDglCaYYCY36QnpubnYue5DVZA3sGx7BwRaSmsLe7s58enb/bUaVJYaxTTC8DEowskIDKKRI72lt2yaEaJq2sbERi8XOzs4Mw+hRIfS23bjCwLVAkWmBacW3KSbIhCCrw2yKwVbq1f7Qt+Y4jmEYp6en8Xj87du34clDD15IndAACsFjmmbP7gmx17vPv2zjl9v+vp9tGzJ3us/MCLKJZRPLwbC2iemaupvLVSLgaiu/GnIPT13dskmYHAr9qW+xgFOEtyQX2hYY7Qj0BZIMVZCbzVql/n4/Nzd3NDJaGhhqDAJvhEikORRpDEYag0PC4GBjcLA+BCIM3hE4PpTmQEQcAPDUuIet3PW21YdGGgMRqX9YHhhRIuPq6KQxnVBm0/LGhp4/R7pqQ+4ZRRSynDGFVnqnEPj999oybPRK+M6Rtz9CfAfbNheeMn33S9yhwXVM9zDQEj/REpYraDP+0F1lCR40ihBBiLt/eNI9ZmDu6DbTCdEJtTiQoLAokw2yc9QcnN0fSGc3L1gFuaLtCsg9LLlT61Jksb56YORlVyauyc0HiiwbmRgjDbkVxZ3dLD+LHb5InQ8uViLLlchqJbbdeJu3KrqrMFclroqZSRGiBuGCqYFAKKI2+nxd4OoewVABgjChBnUV4p411LV3J0cXVc2yEXERDAWCNtHZ5kqeEXB5YQKp95hgREzCoDCAxQSHWcqhOfiZaogxRaFANIsggqFqU4yQqefPzvpf9z9/8jwZT5XyZchQIDbDTFe03MlxPDr94tmzmWSiWikThCAASQmyTMvQDcOwLOuGIvyFIb7Isry6ujoxMXF2dmaaJrdDMbIsZIX/76wxf6OWbpi6bug6Rgg6oAibuo4ME1kIBlp0Kz+lFCGk67okSdlsNhqN7u7uapoWosU0TV3XTdMMIffRZfiHcH/3ZH/d3wfwdMr6ewOPQyGB1GYcPMgSNVkQ61K12HiXOUnEj4YihddD9f5IYwDYIw1GBA6e5gCAJ5TmwKB4S5oDQwI/LKSONBBpDg6Dty0yUuVSi4zUBiKN/ojwakjuj8iDI3JkXJ+Myolkc2VFOTlBkmgTxGyCKOL6BYGmoAT1GgFv3zdKMUzK/a3KHOpU8BSF4MGU8sQhUARdAVc91y4Opi4fgP+TgSdEDg/1Q5ngsKQhrReGOEHmGUK2aVJVR4qGRAOJiKiY6JSh0AqgDFNb1Nn6+8arRGYgffCu6gJ4qCtY7vuCM7HWGFyorB6oedmRsGOE427AZwaxEp24Dd1d2quMrF2Mb9US75Tp3ebAUn5o8WJmp3jcQCJzNcfVbNu0MWIGprcExgHYPGR5q6LcqhW/HzyYuRZ1LOogSH5EUBu7RYEJQsjAxAIKU2IRKkiyICmqjhBxgHwUIkjgfoMFqi7t1q5eNbsBj2Xkz8+ePnny5PGT133925u7umpRuCBtNpq7W9ujkeEnjx7NpmaqlQpYWJioslzI54+y2aOjo3K5rOs6QohSallWo9HI5XKnp6dHR0czMzPDw8Nn5+cWQqZpCo3GRe7s5Pg4n8/XarXQRYYQkptis9EoFYrnuTOh3tA1vVGvnx6fHGWz5WJRV7VeUSqKks/nj46ODg8P9/b2xsfHNzc3VVXVdb1Wq52enmaz2ZOTk2KxqOu6ZVk9x13PuLn1Kv66zQfwdMr6+wEP9wLQLngYIkizdFEVRbEqFc9qm29yU1NnQ5Hi60GAxACIBMAYqvcPCv39ja5Ig4PSAIjYP8BlsDkQ6VFH7odvcVxFakMgjcFIfWCo0T/UfD0o9Q/Jg8PgcBufluMJYWFR2T9wmpILUUtiMmRQZDHoLVqU91S77eAPWDy3wMOj4SF4oKd+IxS0DLDHwcRFoUOne8m/rrH8N14J89LQCQ3F4roSrB+gDnYUGZVL4tFx8e273JvN/a13J/mGImNbZzD5GriIAOuujNztE6U/lYnMvcvWnRpyZeqKhnuQJ+NL5f70+ephs6Axmdlm6MLi8QtEiUFtGbl5gbyto33ZzeruvuguHlnDi+fjiyeZvNwgruq6qsN0G1kMDB3MjR5GDBhwCUN0eObifUX42+ChLuJigTcPHHoIWBvaUBSDOUURBnPJIkSntm67TYtkC43VzEm2KJdku2HCsxvUtgizCDeUPqUORxEDmCGMzPz5+csXL6Ynp0cio6lEulKsUQTmX/48P5dOzySTUxOTc+l0rVJBFioXS2srq1MTk0MDA0NDQ+Pj45lMRpIkXdfz+fzc3NwgX8bHx1+/ft0/MHB2caHpeqlYXFtemRgdiwwORYaGpqen9/f3q9VqLpdbnF+IR6OJeCIRi2e2dzbW16cmJqbGJ8ZGRsZHxzY3NoRGA2MsiuLOzs709HR/f38kEhkdHe3r69ve3pZlOZfLxePxCF8GBwdnZ2cvLi4Mw+iNRuglzt33Tr75vl9CU+vnXHOLvPPoFFsMmwybNoI1w4ZjaE4uV46MXPzPf5T6Bp2DE0czGbYxZmCif5Qb8tXKD7y3EBglkFUEBjU1kaUaqqg0G7VCfn83m4idjI3lI8PlgcHGwKAA64Fm/0D99UDtVX/j1eva69fV17BuvLoj/Y3XAyCvBhp9/UJff6Ovv/aqv/K6v9wPUnndXxsYaAwMCP0DQKzBiDI8qo1MNCemKslkY3OLlSuOBd4Mg4KYFFkEGRTrFJvg6IBC4F5pcHX0hO/+jfLhPc0wIE151hDC2Lot/PTgAwmzfBl0+n+qBWGiYbBhFL7WMDHCtC3TRLqGGw3tLFff2T5eWNhNJNfmVvey+YaEmEYdK5zOkzmIOTJy3p4bkdm3A8nd3TO1gRyFOqLhHFygyaXSQPps7VAoaVSBoTzACwp5AtTg15YREwy7iJw8dorYOdOc9RM0vnQxMne4nWtWLVtmjsKwxiyD6ojqmBgUGwwbPNWAZ8hA7bhn6doZUIkQJjpxZOLk6srK2+PDi4psUAM7BnJ05KimrVpMtahmEd0Et5NhYR0xDcFOxaKSxQTkVCy7oLHtnDSQ2Hk8sjaQfLv4rpatoppqSSbWwCUHbjUMdfYjCf1sFCOMwOJ5+fxFKjmTTs1NTUQzO2911ZJF5W3m7WxqZnVpOR6Npmdm69Wa1Gyura4NDQxsb26Vi6Xj4+NoNDo1NXV4eNhoNDY3NycmJlZXV7PZ7NraWt/Ll6/7+y/yeUlTtzY3pycmtt5slPKFd2/fpVKpubm5s7Ozg/fvRyPDQwMDmd1MuVgSGo3cyenRYbaULxTz+eXFpYnRscODA0mSDg4OotFoKpXKZrOZnZ3x8bH+/tc7O7uyLOfz+bd7e7lcrlwuv337NhqNrq2tNZvN0AfYM3dCd989b+Ub73oAT6eAfwM8r/5a8PAZRhhoV6RbhqTLgtwQqoXC3vbx1ERueLg4NFQdHGgMDgiD/Y2BV0J/X+1VX7Wvr9YH6wqXGv8Y7qny/bVXr0H6Xtf7XtX7XtX4YeW+vhKXcl9f9fWrxkC/MDAA1tLQsDI8og2PNccmKtFoc/2NXSo5ps4YMqllgCADWzpFGmcPZwH3ZYB/ho8A4fi5X9ncrdagB6AjCgIa4XPSA9vvO+3dy/ywny2u/BVMZC4qgIdA38eCODHTNNwU8Pm59P6wnNk73zssFQVTQlQlNszO1hUFOQd5a2L+cDCZWT9slDVQ8U3d2c8Z04v5sfmznZxQM4hCKWhnzExiG4RphCgIK5g1TaeGnCp2asQ5k5zNEzQ2dzqxcJg5ExvIkSlTKdKpaVIdER0TGIfKsNVLcCOfBQ8E82HQahc8EnFO6srS2+P3FxWNOIpFa5JxUZZO8kKu1MyVG7ly/axUOy/VLsr184qQKwu5cvO0LB5VpPdVNVNSNgtKItP4dXL/f/St/Y++tX+PbLyI7axkjk8rYlNHBqFAuU5Ex6IYbpXfQ9hhQhjp+Ytc34uXS4tL+3v7yXhqPr1YLlZK+fLS4tJcOr25sRmdBvCUi6X8xcXkxERsOloulAzNUBUFyDEyurS4eHiYTafTqVQql8tpmlatVGZSqeHh4fN8vlyrjo2MTE9MnGSPpKaYv7iYn5+fmpra3d19t7cXm5hcTM+BOYUsZFmqLGuKIklSo97Y3NiIDA7t7uyGVBsfn8jsZRRFbjYamczuyMjw5iZYPJqmSaIkKbKiqrlcLhqNptPpRqPBM7l5zJRQqxNbCnuMYaJ4uP7mDeUBPJ0iDsEDqUDQfTcpNhwTLJ5SZOTsX/9RfDVoH/4VFk8nBbOba2MiSzYUQW2Wm9Xq+Wl5fa0wPl4aGKj0v64OvKwNvqgPPG8MPBcGXtZevSj3vSj3vaz8bqn2vax9LPVXfY3Xr4SB182BfnFwUI4Ma8Nj0uh4czqqrqyy3KmjSjYxLWIY1DSZpRNLo0hjIBbh09wgxhUNxBa4QRki5JvX47/7BULwyJhIXAA8hIOHW5rgrbSQI6tOQ6INiQqKLelOE1GZ2Bq1DS46dVTs5Ko4tXYWSe7Nb5fOGk5Zds4q+M3bejR9ml67OCxWmxZSEJZMVFFQTWcSdRRCDeZoxKnKTllyqopT051cw1ndl0Zns9Glo/281LCYQpjGkE4Ni5qALa7KGUK/Dzy4Bx6DOBJxsnVl4e3J24uqiOyarL3N5Re29mNL29Gl7ejyRnR5Pba0Hl9aT/B1bGkjurQ5tbwzubw7urI/tHzwein7KHn2/w7s/98vd/+vZ5v/T9/GP0Y2R2Z2Nt4XS02TYxVx8BCKDYo7fafONGwEE6TlL3Kv+16tr70p5ovLi8uxaPxg/2D/7X56dnZnc/Mom51NzS7Oz9cqlfNcbnQ4srSw1Kg2LN0ydSN3epqIxtKz6UxmL5lMzS0slAEhSJakpaWl4ZGRi0I+Xy4NvO7ve/osmUjMpdPRaHRkZCQejx8cHBzu76ej0Z3NDVkSLejgWY1aLZPJrKyspNPp0dHR/v7+na2dWrm2urw2MTm9f3CAkGWoysnx4dj46OZ2RpJEoVE/2N9fWludX1xMJpNDAwOzM+larcFdNR1/BBRBNzPllpOi5wn6ho33ATzfHXj4sDfuv8bYQKakyw1FqDXK1eNsaWWlMDpW6u+vvn5V7e+r9XPw9D8TBl7UX72o9L2o9r38p+QOeMKPgJ/+19zuGdIiw9LIWGNiojmbNvffOo2qjTREdJMaodHTAQ+kVsHIDRg5AoM3HsDzdVHIVQAxuaFjcCckmDthXhJXHxRhx0IOD6Q7JnE0YosYyRSpYI8SjWCNAHjKkrP2tjaaOogunu1k9eOCs5fVUku5WPrkzV4jL2gyshuKlSsKmeNKtqjVdMg1UInTUJ1MVtjYq2WyymGBbWX1xGp+NHWQ3jg7rmocPOQz4GHhkJ4vWjwfgUekzkFDmds/zeSrDcwaul6WpHyjmas0TqqNk2rttFrNVeq5Sv2s0jirNHKVZq4i5irSaUU5qhkHNfS2gmb2lEeT2X95tfn/vVz7dWJvbCmXORUKTSSZto6IBdYV4vkG94EHa/mL09d9fZtvNhu1xv7e/sT4RCKaWJxfSCUT2cP3udNceja9MDdfLpbOcqcTYyOryyuNumDplqaoJ0dH0ampudn0/rv92XQ6vTBfqpQty5AkcXFxESyeQv6sWBgaGBgeGNre3MrswrK/v5/L5arV6vHh4VIymdnaVBXJtHSp2VhfWx0fH19cXMxkMjMzM5FIZHNjq1Kuri6vTkxF32cPAR+acpbLTkxObGxl6o3aXmZ3Ymw8mkxsbm9tvHkzOT6RSs5UKjXTRD3G/HeCh9fdn3RFeMGHD08gZmFAzAIZGDZ021Dt09Pi0Ejuf/6j8GqQHRzbqkERQzyBtWulfpOi440CeiOGZUiqJIj1cuG8uLd3MZvODw2XX/dXX72qvuqrvnpee/Ws/upp49Xzet/zysvn1ZcvqoCfPyovX8AZXr7gps/rZv+AMjgkRkYao+NCPKFubpD8ma1LBKkWMXRs6IQbPXxtIUItyizaywngxWuBr+Bh+fol0KsjGNJxLcu0eJUk4LEysKVhSyU6CDYUbIEgqhG7odknZbS0XY4v5BLzufRyPjl/Gp/LrmyVsxe6oDPVskt19c1ebno+M7eROy6jumFLll2V7I1MOTb7PpY+TCyexJdOY0unc5uF/ZxSVqhEbJVSjSKdGCbM82YgZBJkUQtRqBKQZwa+rfuWTq8bmTyzGOvYFqn9vs7Bc16um0SxLMXSVWQpCFyNErZkYqk82KViqiKqQpjH1iwQybIbll0x7EzeGps/eR17NzKXnc9U35eMhmorlm0Q27AwT2Hm2QjQ2FWCNLjbjosYYaTkz0/6XrzcfLPVbIgXuYvZ1OzA68GxkdHV5aVKuZg/P59JzsykUsV8/uLsbGpiPBVPFvNFXdUbtXpmZ2didGx1afn46GRhcSmeTJ7mTkVRKBfzqVRqKBI5y1+clQqjwyPjwyPv9/cr5XK9Xq/VaiJfTrLZpUQys7WlKJJmqOVifnpyYmpqKpvN1uv1ra2tkZGRN2tv6tX61ubW+MTkdmZXUeVmtby1ufqq/9X6VqZSLa8sLQ0NDm7s7lRqtePj49h0NJFIlksVXbdCKwchwmsOhlAtt3turcM39Q0b7y/31YSfZd93C57eCzAsQ1FFUahVcyf5jc2zWDzfP1h+9SqM2VT7ntf6ntX7ntZfPqu/fF57sA79uAAAIABJREFU8bz28kX9T0jl+fPqCxA4z6tXzdf9kA43OCyMjDanotLSkpXN2pJgWxrBhsnBY8CM2SAwCQhXMQ/g6b2+r7oR6udw1E5HV/OkahjGYVmmCapYJ9Qwkapbqo5Ui6oGUVWsyZYhWyaAh9oSAtV8Vra29utzy6dzy2cLqxcbu+WTvF6XbBXZOrKrTWtrvzSe3ptePMwWrKpqNy27odpH5+r6dnFx7Wxu9WR+M7fxvvr+XK0ptoJtldoqoxrFGjG/AniI/b4qze8d719UJZNamFjYsjAyCdVDvEGIkYZihl2dTpyImogqFhEtkqtpa+/ymweVbEkvyVQwmUVsi9iIz/QOaVs4zMg0CdIJ4If/BAekx1nYUi7OTl48f/5m7Y3UlJr15sb6Zv+r/pHI8OH7fVNXy8XSTHJmbna2lC8I9frSwvwoh8FJ9iSzs5uMJ1KJZPYwW6vW32xsTkxPraytvNvfW19bHRkZAVdbsVATmytLSxM8FHR8fJzL5bLZbD6fr9fr2f39xUQis7XVbDZUVakUC9OTExMTE3t7e9lsdm5ubnh4eGdrR5XV/f33sXgylkq+29/bXl+bGIs8e/50fXO3Xq+trSwPDw6tbW2enuXW19ZHhodTyVSxWOajjKA0Q7mPOj29+ACer9qCeyfrFTAE3L4ni8eC3qtlYrB4VFlU6tXa0VF+ZS03MVXo6y+/7Ku+eFl98YJD4knt+eP686f1F8+5/Fnw3GLPy3rfK7Hvldg/KEZGhLGJRjKlZTJ2o2abKsUwe3FYex/A06tR32wDczubIWRD0ARsbiBQOGEgIdhCpmVpYG/CP00L4nA6ZrpJdA2ZimXJJpIsohJbhRGa0PGvNnGpZpaqVqGM6k0mazbkjMEYHCYZ7OBCjK1mk2vHxxWzopG6gZsGFTW7XCf5spWvWIWGVRZRXWUqsjUwd2yVEAUMka9h8RD7sCot7B0fXNRUE1JOuOOSIsh3YCYhJiXmrXR7yOvvlAk1MVaxJVuoplkFUa/rtmDZImIyphaGH3q6mXADM2IxwnMzCTIhFxuogwhwXCmX8nOz6YP9A1VWDc24OMsvLSytra5WyyXLNBq1+tbGVmZnV6jXTV0v5M+XFpdmU7PpVDoVTyzNL2TfHygQ2ldPc7nFpaVYIra0tLA4P7e4uLC0vFyuVWVDKxeLywuL8VhsJpVaWlpaWVkJbZqL3FlmY/MkmxVFUTN0VZYz2zvxeDyVSi0vLy8sLKTT6aPssWWiWrW+sbUdSybiiVg6lZifm0mlkvvv4YsnR9m5dDo1l15aXoJlcSmzuyc0RMtEv0Wdnl78luABHfezLh0nBX98bBnE0jG4jnQEGxrTFXZyUhgaPv2f/5bvG6Dvj5iiE4taFrEsbIJr41stpmGalqkjSzVhnhyxVKi928+nF84iY4UXr0rPX5SePi8/fV5+9rTy7Enl6ePq0ye1Z09rz56BPP8npPr82Ufy7Fn12bPKs6dVOMmL+ouXwouX9Rev668H65HRejSuvHnDSkWmKRQSWU0TmQaCtYlMZGEMKoFgE4NY4DjhHqBvWVLf6g18b+cllsUssysWszr1MHSShBaPhiFPGAL7CMPaIvBedMtUTVM1kQqZxJAbrSOiIqIgrsQxMyymmUw1oHYbmKkmqUvm3kkl9Sa7tl/Ii2bDpKIJ6QaqxROXTaaYTDaZZDIFgaiIgbWFkAaX40nOyICOk2Xx2+nUCp6fdU/BdhUhfMW0kIaYiNlBRZzPZN9elJsm1jHWMdIxDjPKVUI02MZGV/gz8we2iIGwhrCKkARCJMQk7qBTeaHAnNtAFoIshDtiYsvgRnvXCrBM01RUWSxcXDTrgqHpyITITaNeF+oNQ9Ms09DV8GNdV1XTgI/lUunoMJvZzeztZi7OzhRJggGihqnIykU+//7g/eHhQS53WiqVKpWKqmm6aaqKUi6WDvb3t7e39/b2Dg4OSqWSqqqKLAuVmtQUw0kHkGk26vXjo6NMJnOUzeYvLkrFUlNoIguZhlmr1w+yh7uZncP9dxcXuXwhX2/AF8WmcH6We7e//3b/3enpaalYrtcbqqqDZuEtlr+fG9OnRyO+wdsuuG+/VeP95Z6K8NPs+m7BA68dWZplKroqNmqN3Gl1azcfTV28Hi4+f1V68rz85FkJ5En5yWMuTypPnlT/tNSePq0+eVJ7+rT29Gn96fP6sxfCsxe1py9qL17XB0fq41PS4jLL5ZgqMwvyZQ3cAQ+yTIh8A3WAyl15AM/XakvkhjohfoA9vaLmagLpCMFLAQULYvE/yLCQgUBCFlkQfsEqxgpobZ6ugIhmElUnsoY0C6sGLjfU7YOLpczJYUmoG1jEVIaACtIwvwYAhvBxM0yxKHj04CM2+WKZoQEM1AHNzmtF2B35J8HTnM9kMxelugkRHQUjFQQrBO5cBbm5Hx3BQ5ncBjdQyB6LH8+/hSwVWToUCrXAXgRfGkQeO07i3g3f3tCwpYd9KtASnc4VKOw7H3v/Mg3D0DRd1TRVNTW96w6AJAbTNDXYrRqGYXZ7rGB4wGkhC04URUVRQszwpg/AtoAQfDHgurqqis2mqqiWAf8IKxb3slqarimKoqmKacDsOPz/4Rc1RYV0alXVNc3kU+f8Hur09OIDeL5W+/34PL0CtqCRfEcWDzhOMFJNU1QkoVKqZ7OVtc2L8djFi6Hyk77Kk+eVJ8/Kj5+VHz8pP3nE5XHl8ePqn5bakye35Gn9ybPGk2e1Jy9qz/rqr4fqo5PN1Bw5zDKxyUwNY9MiFjQdBC32ATwfV66v+wlzE4d+vP4IPKYJ4OkgBsHontDj1lsb3BQCY52zB94fCLxBEyHogBuGbsG4oKainpbq2VKtpBoiIhLGMjJVbGpY17FmYE3HhopMlSt0g2faAehCP2NHm3eo88fAIyGWLTcXM9n985JogAuih9MvbfBHA40NT6QbcLdckG4gHYxyPgQZXGqAQ9SNTt7mzd3tT0kTgueGK7xAu/iBPhcB5psEzCn4yPkCGLinQpiQ4hAWXJga0nXVdrpuIe+QCTEuOCE0OJiLrqe4usd3RrN33gC/EgIXBPT8uImDTZOY8FOSHel2DXt9xDsbDxbPPa/rq+3qvb/vDTzQDbJM0dCaYrNezNf29yvzKxdDk8Xng7XHL2qPn1UfP608flZ59Ljy6Fcuj6qPH9e+pjypPX5Se/wU5Mnz2pOXzb4hcXhCjKVw5i2r15iuYmRAXgw2URc8CPrgPW0Itf7B1faVKiviBRsW7+11T7lxBdPxjUBH9XPg4eoII3ht/M111LQJ01taug45I6ZuGqKqNg1dQh1TQ8MmJDECchQDywasVRO0OfTGLXC0duxc2ACzAPHhcGABc/8fOGB/v8UjYXZUaSxnDg7OChrErwxQ0DylnFsqPFMyDEB01lAOocXDwWPwe9N7awsBvPid8OgQDI5FoIm/ZPSE/+3a752zdx8THpoDjq/xrY8YTJXQdwdnAMulK6EBE67DioH43HK3gcH394oTngvS/QDskHzW40NIhs/VLj7/dAc8/Jhenemd4Msb3x48t8viZ9tGvDMQPjUydfiRTxN+6tOCDZVqMj0+zg9GTv/l3y5e9pP9LJU13Ok4IG40f6sC0w1DMXRBVWqNWhV+gOdtMZ7O94+VnvTXfn1R+/Vp7den1UdPq48eVx/9yuVR7devIo9vnedJ7dcn1UdPKr8+rT160XzRLw+Ni1Nx880WLRSpIiNTNyzDBGcbF4j2cL110x653Q8Bq4flT5YAeLDuk1D7AXVCLw7f0E3TsJAFeYe3RLewATNTcrcUxFOg+huWaViGYelcNA2phqXBtqlr2FCxpSKsWciwLAPIpOlI1pGowzSksmnxPGdoLDo2jfBi4Tw23LvHRyUYBINAL+XGd/RxYXS8P9DXMgzTUi0qYpqt1JYy++9zF9x5pCJQ5dyA6Kr728/GTw5FweNL8ESmpZtwwo6EscheUIjAZHIWNrpVt1eH79m4qc23SfPFbcM09E6jMKGAwft1VzpFED5716fWK5dukfCLA9a5t42/MHi4jiXTO/y+DU678Lq3K88Xb/zmWcM7Cr9+39n/9L5f/vQZfuATfOfgaShypVYpnZyUNrcuJmL5l5Hy41f1X1/UOXhqj57WHj2uPfq19ujX6h+lTv3XR7el8ehJ49Hj7h4AT+3Xp+X//bj+63P5Wb8yMCYMT0lzS9bxCZWa2AT1BJ07UDoGegDPN2wKAPX7JNQjoZrobQMmEA6hwjUf0MXk8OiAB8IgnD2dTABgDxeuumH8GDJ0IA2GocIm5ZdG/CSKwcETUgeZCnjgTA3MoQ7lujGlcDgcTNj2T4Onien7am1hrwce5S54+LX4kCGTwDN0DLfwcSBFoRtDv3VXmI/QCxMSEGRlfhvwYNOy4MyhFv+a4LmFXu5C+4361qPdnwHPb1zjD//7ATydogstHmxqxOANyVSpChZPcTCS+5d/y7/sp3+VxWNwb/v/Ye9N2JpIvkDv+Xbvvf9RQUR2ENkUEVzHdVRcEEVRURQFWQIJJEC2XmvvPQG9H+p9TlUSwuI6bjPSz3k61d3V1dXVdepX51R1xyuEzHctYuuryczE88zNO9r5q2joEh28wIbOU0DCWTIE1EFDQ/bQ17OnysTZYTMBdcC0Aovnorhwzbt8y7s54jx8Ei0l/p/g7wohTGGCTiL0q+HDbWAOyqlUpa7TvsXz1Yq548SPgKfUOYUnsWW+hMWNYLPoFzfgGYWy519QLiCo4f7/k/KuGCgjI4IueiECtMlRd9lqFwqRHKZ+D6Of0nVUKL6TNIoKG+HGhi+p478v+O8kfspWRREMKyBByY8lwfNeVo+SjbXj3lT3/l0RrISN4kYkLZ4UYpOLyeWsHhY3CwWYpA3JSj+ajF8ysBRXpC21UdjYiEBgZp0yeioWz0YRrEBZPlAnVVdJzoz5HKNnRxw1l3PHzqrNEszVcFtlhsCOmy5tfsDiUQMzMIdAQrTk1lPDS5X+xd4p7r1XsadMwy3LZsee3Z2bXcbY3ul/8d4/Cr/xslEowFwUuWwUws1CsFkI3kWw3iz47333/dqacf1m5niP9te194nV926wqTr3hY0I/vDpuyzgZ4siN/SJw03b1BLxzPiT1cvX82cu2YMX6OnzdPAcHQRI4KFBPHTaBgHwfGs5i4fAz4aHLuAzF9n5y+Lide/6HX571Hnz9j3G76PAD72oEBULMHYLk4Ci9wUon0r/uQCNl/xrrO9SUr9RotCH3iWqnGE2b6EQRTBrSUkYFYNCEV4bjYpBUIz8jUKwUYigQQ42C95mwXlXEO8jsVlwNgoe/N3YRjEE+6YIfzMGY3abG1C2EbjvCnLKArxiABkAB1YRLrdR8DcL3ruoJJugNdAP2Yg2NqH5BwypDMuXFKCRl5vgxdvx3IAIcCzchLpUDAvvxcb7lE1fLK4sZ3QfdC1Q8wPA3wcifVkwYwBEZhXODItRtUTFEBIrS1QM4fMHG1BEBRjGkgz9mrV0OsKJoZTd6UAhlBgIBfixRd37x+NU1GmzUKyEP37KrkuCE7NKMSvJ7AjsrmNfeJ1dF/7Qjn3wlErm1wFPoVAICpEbephjU8/psYX8w0drFy7nhy7Yp8/hgbNk4AwZGKKnh8jgAB4cQEMDaPB7WDxn8NBZNHgODZ6jZy7wc3+JC1e8Kzf533ec56/eG9Z7z4sCD2Zwykot3ePv9sHzIU37Z/u/CDxRVAT2REUvlK2tv1HwN6BdLhT9YtHdLDibBfFOrjcLbqHoR8UojCKYDOxDRwK8ppH880t4uAASJWBNyJZ6Ewwk/13kvY/891H4PoL5bjDVQCJnO2lKgx3bW71thfFJ8IShXwaPahn3BM826sjJw6rTU1pHxcjbiBR7Kkd3tLsA30+LAk8oaR7sxZ4yeKSbbdut7tr4IvBU5/argFCdwGeGv+o6u25z94598JTK5GeBJ9q5hFEUeJGHHWJa+dxqIjv5PHPjVubMef30GXvgDBoYpAOn2cAAOzVAT/XjgZPWwElz4JQ9MICloFOnvp0MoIHTeGAQDwzyM+fd85f8v6751255Dx6/T6y85/yd524WggI0cyHwR/VcS93SUk903+LZrXVfvgesyu1SaTh2WzyAi6gYBRuBtxHJ7+UUyp39MCp6xaIn7R4ghwoATmA+tXxpGSxXSLxiQyhDSlo50WZ5ivI7gE34Poreh4X38IWEzXdlW6cQvS8WwPYt2yTg51KurjJ+thXAZ4EHZg7A9ElVCGCalVMvWzx7gmfrQsAf2UuSFRX2wwsvZdOkbKBsY9VeVVdltmLK74wvwVwArx9oQenRbGViV+gzwfONmv9KnakEvlHCu+7rkzv2wVMqol8KPG7BwwKZRia3vJB9+iR39Xr+9FlzYMgeGLQHTpOBAX7qFO/vZ/0n8KkTFshJ+1Q/kmL3n1SCTp38x9KvYIYHBujgkHP2QnjxcnTlhnP73ubs3HuM3rt8E/w5fggSSZVWqqRqdkU/P1kP9yN8vASqS7XSaqjADvDAO4RRsRgWC95G6G1G7mbB3YQwsEf6owrSr7YZRYCN8osuMHdNvmYpP9yxWShshMUN8FxthOEGdCwK4AoL4V/nwi15H0bv4U/ZNpW8Ux458LjCkL/KRsX9VcWebTer7u0jrjaweBR4JM/knICN3eApexpLLsdt15Ab4GKrEphu8ZXgqe5U7cEeOYVtb/Ds8NCre6/oiUprR873vNiOOJ+3WfZNABGV7Mj85yXzLWL9sbPD/TttF6U7Qd0xdBDBEPc3QUP9jch75znvVlf16zfSx3vyF6++i6feOf4G9PnATxyG36akwp1LEIY+D4VJNC2bzMZmcuOP8leu5U8Nmf2Ddv9p69Rp3H+KnuznJ0+yk324v9fq7zX7+6wyb6z+E0rwqf5vIafwKSmnT9PBIe/cxejKdefGcDT58p2Wf0ftzdANC25QdINCEMKr25XRhoIsIHDhfJuS+q1TqZTq1khOeUinVM5Q+CCRGtbwCwW3GDobkRJ3I3SLkV+At0RDaG2KxXADPlQA6+JmWNgMNjY8GOoBKslORAiRo6AQyCfrF8ra8S7wpQTvglAKJAKfqZGpbUg2gY7A6EoYwCCTDyKrB4yMAh+2Lere5PhLWIgKQfSOF98lLfIitpxIa3KcygMPGECi9EYovOkawuzujRBIUtZjVdkq621XkXG2BsFCiamSLaZYDQZRJKtrJYXdVbfyIKqrd3V8FYavEEiBBCv5K21U5UslB+fAgytLVQTl8lQnbkVQF98e7TO2VEYq6903u/t+PyPVr4qyD55Ssf0y4IGvXwifmyiXXV1cm36xdv9u5uIlbWDQ6j+NSuDp5yf7+QlgD+k/gfpP2LDux99VTp2ip0/zM2fdvy67126ET56+W029Y/hd6MKAVAG+3x7Ihu+r6uH+Sd+sBOCzkoXIL0budvHBJVpqrmEiQbgB/52gJNjYCBR1pK1Uth3CqACtpmwPixFMU9gM/Xclqdg9CjylNYAH8LAhG9MgKLphUUhxIhi7jGBywvbls8ADpldRfjsBen6FqKgsMblzQ/UFt6f6q2yVSQXUqKJaKXvq6I/K6+5ey4+68q7r7IOnVCS/FHi4SywznV2eW3kxvnLrRubcRfPUEDo5iPsH8alBenKAn+wXEjy0/wSW7Pnu4Onvx8CeQefcRefKdXF/NJybfYeMd9CrdqOCGymL5yv7Yrsq5v6Ory2BEngKHwSPbKY34B3HEng2CyH44ArQsm+BRw7cAXjCguqRy/lxETjwwG8HHjglGzC5ukpk+gVpfnkSPE5YdEJZQ35D8JRnaewwL0pPV4HnRynNrwSenZ6e32kbPEPl+y2EfjH0iqG3EcC6GLqbrthMpbRrN9Kd3fmLVzeXkpvCK4KuFUPo3pfP/Ge/8AW/7YvneYIhlF/Nzk/HH44sX7mSGzpv9Q/hE0P0BLCHnjjF+k7xvpPsxAlyog+f7EMgJ9HJ/u8quL+fnBpgQ+fYxUvoxk3x4sWmlt30eTF0osiNQh8+hPjPSmP/7H9eAkEU+lHoRaFb2CZeVPBDmOsWQAUGiUIY9onCYhhEIXzdMpSdckBNEBYC8HpFcCQKAvj4JaRaDN2y+EVQmaAYFAtVAqlJrQoiP4hcv+AEBSeI3CDyQkgMKLbjHuVOmH8n8xH54SYrbK6Y+PnCcjydd8OC77vlC21K2BXBnxgEcCdBoRCo2ynsSPZX3dymIured5bI98p6yRurfLJy/b2u9Ml0//hkjP9whF8NPH55cbFF0sn89KvEveHkxb+M0+fRySHWN8T6BunJQUmdEnjoiT5gT18fAQj1Vwv+xxzCJ0+SE9XST/tPsdND5Mx586/L/PH4Zj6z6bHNQBRCF97qCYJ99Px0ffkQeNwoAvYUFHtK9mm5DYKvJ4dhoPrhMLFS0ssvrQE8wJ7IiyL4gqAkmlcAuvnlFCqNmmpFAwkezy+4kjq+RBcwZzcfPgs8USCtsX8ZeCS2P1YjPhM88tl8LJ3PO1Z5RpXA5533HWLtg6dUqL+IxeP7vuM4wtJRMp6enFi6dSN1/oJ56hzpP6PAw04O8r5TrK+f9Z2gfX20rw/39eK+Xtp3gp3oZyf66YmTSrYzo5ofXxDGkH5JSN8JfKKfnDqNB8/q5y5ad+4Vl+ObLt8MnELgFgIv2gfPd1DRL02yAh5P2j2VtQ/vhxWl3SMNGrBporKUzJrKIPae4JFWixNFIoociST5HwBgElXSATopuChW+QVfEkjZTOVj22/pvwoeRR2w8j687IPnw2Xz3z2yp8VTDKArV3G15a/dWO/szv91dTP+XVxtsqtZ9lAFgeu6FCOcz1iLC5nxx8mrV9eHzhv9Z8iJssXTN8B6T/Hek6y3j/b2bglA6ATtO0F6+5Tg3r5/LqScCKQJ4DmJ+k/R02fg29jXb/qTLzcZ2/TdYuAWYfaT6teG0vApd5P/u/Xnl7ozeP+zynUsW70qHig8FAqe9KgpVMBfuMBLY0HZsgnlNDaYm6DAA4nAVAXpigO6BH7ke5HnRp5XCEpShTcf/HGRLw0m1ez6YCqBD085mKpzWCk9tbMY+gWwuiIvAldb0iQvFuSstrAY+B642mBGt3J0g3tQutqCIjgEi8r/VknwFwlI5+Un8rJngex5zjYP3Z4xPr1TXa16/elzvlOMP7aPL/xeW6qHru45Aj1yI+i5uyEEnA2Xb6RSuWt/r3Z2Zy9eKS6tbHC3APNDZQP7jYpK/UMUtNTw14O+oBQZhrmWMt7O5EZG0uf/yg6cyfUNoN4B1nua9QygnpO0+yTr6SM9PbQspKdHSi/p+faCenpRTy/u6cM9fejECfvkSTIwSM9coJeuBQ8fb1how3FkK7RVLn7ge4Hnh74f+qVb+0bFtZ/Mh0pAOsOUmVFyjJXIX9oHjXoYhV7g+wF4Rf0wcAPPCT0Rek4UOBGM1DmF0FF+NBlBeXgUOfyg4IcFJ4xYGNIoYIWQFUJeCEUU8ijgYSDCwAkCJwxEBCoEjtcg8OT/n5VVRtXyve8ggrh+EIROuMGijaRBXswtJ9Y1LygGrlcIfKl1cnI3kLBQCsFNFoJgQ15i75T39/6CJbAPntJD+RXA43sexdjSdSuZMKZe5ofv5IYu6CcHrd4B2nua9wyInlOk+wTt6mXdPVSKCgCEYLP3ewgB6pTAY/edsE6cJKdO8zMX2MWr3siDjXRug9KNwK8G8j54fryq7wZPtb0jnaBgeHiB64fQJ/BCX1GHh56IAhGFApxogA1HQUCO1ynDJQgLflD0wg0RFFgY0TDcJlHAwhJ7xD54fvyz/xdecR88PxM80AeNwAvhBeBt81wX20jL5ozFRf3p0/y1G/n+s0bPadQzQHtO8+4B3tXPuk/yrhO8q5d29/DunmrwsPKmYtK3WpOeHtTTY3eDmD09Zl8f7R8QZ86zC5fE8J2NhTgYPYEn+5zg7ZEFCrbOvsXzIxuET4EngsxIm8ILQrBdgoIIijQo8mhDFDZYuOEUNnaBR1lNURBtuP6G8DaIs0GDbUKCDRwUaFQUhaK0mQoiCr+DxQNvoJZeZ923eH5kxfo+1/qjPJHqd/wNfT8o33fou5HvhL4T+U4AAVF0WDGZzF69nursyly8XFhcLjIn8gu+H8k2tXzmP/iVuJFvjDqO67qCc9swsmvr+dm3mfujmQuX872njeP96Pgp3HWKHu8H8HT1Cwke1tXFu7pYVxcF6ZbSQ7u+vZCuHtTVbXV1WV1dRleX0dOD+07y02fo2Yvk6t/ui6liNld0HXg5HeYuyRKVrjYv8MDhVinif1BQ+6d+sgTKoK8iPgy5lETWWPCyeVB7i65fJKyYMfx13c/ZkcGKtigSvygKkShEMDsenqCMDuZR6HpFRMKc7q3nvYwRZSyQNEiwbnk5GtpeEfsF6kciKnDwucnTfd+Fpx+VVeZjVSGEuJ7vB4DDsLii4+dzifha3vULvuMWYDQqiAKVFIw1lUJwY3BH8hKfLKSviPCxPH9FcvunqBLYB0+pJvxM8ASBcB0hBKXU0PT11Grm9dTqndurg2ez3SeN4ycwsKefdvSJY32864TT1Su6unlXlygLh80e3tX7PYR29QJ7jnej491WV7fZ1YN7TvCTg2zwIr54jTx6GqXWip5TBO3fB89Pa1g+AB41IVodhLaaiwiTSNf9eMJ+/CL5cCI5/jL1OqYn0iJPIhz6olD0C0VPkQOo4/lhQKi3um7PzK4/fpZ4+CTxaCL14NnK6LPl0WeJ0edLU7FcMsctUbB4RP2Ih9B3A27968ETfKsu5k+rFr/qhffBU3oyPxA85bFd2RuFThyAR3IH2VY+r6WSuckXq9evr/afznT2au1dtKcfdfbijm7W0S26ehR1qDR3WNnoYV3dbKe5o8yg7rIZVNncGWBdPawUKDXlAAAgAElEQVS7l3X3lmPuNpu68fEufLzL7jxudx5n3T3ixCnn9Dl69pJ2/VYxsVwUAr7IBc4QGCBWYzz7Fs+30nqwPfYQGMGXb32GYblfHvpgGch5KnAKzO0oSShfFC1yt7iW86dm9bGnqdsPFkceL999uHT/YeLxZGZuzc2QIvaLLpgTvh+4fiCk+Ji6iRV94sXSvQfTd+7PjIzF742vXn+QuHh37vpI7NlMdtXwbCekXkGEAB4RAngqef6ccviYxeO64BbwfS+IhBQXTB+1gA0Hr6eW7So1mqWKoJwBpXHlMlJ7y+eXfz3fd8thv+xeguKs7Py6gPJqqCdSSUGlX9n8DQN/eL/xEnieX759NcEngDk+wvdE4PGCoIWVlcyV68nOrvSFy9FiokBF6EWeF4IL6WsX3/MDL6hI6IW+53GHCm4TW7ey6ezifGb8UerixbWeE7mObqPtOOnqRZ3dqK2THTvOO4+zzk7SeYwc79wmsPN4RXDncdLVVZLjxwlIeXPnfnUU1rjzQ9KJO0EskGO0q1P09YmTp/ngOf3y9Wh2rsBowfMAoeDM8VwQV8lWEX9tie2f50NFlYW6tfbALyULVzbynuuBeK6rqrQQwnNd6ewsdQA8L3S9gkULk7P6jdHFu4+TM0sksR7OxcX4s+zwWOrRjJ3QC6ZTEEEoE3M8X3g+9zyP80C3nETSnFvMzi3qi0lnatEZmczfeLJ6Z3z19aKdtn3sBdyPeBDwwOMBPH3fc0PIsOP5jsrdRx5l4Dk+3IHP/QIJCssamphNLK3mHC/yHMf3PBe+YRiyAIQHgePDCcIPuB/yIBR+KBUT3OelRWppyd0rLTgonnI57sqJvNny3jIJAg/0Hc4rH/niX5WUOs2Vi+d5ANHfe9kHT+n5/3DwhAEgB1wSnucKlwhuUqSZ6eTqzMvk8I3kwOlsV6/V2W23ddrtnVbHMdTWQds7eEcHOdaOjrWhY212laBj7fhYhxJ0rMOuEqu9DaSjzT7WvqdYHe1Kqs+qDqPODtx5DHceszuPWZ3HSGcHPd4Jo0p9/bmzF/TR0YKpFzy3BJ5gizqu7+6D5xu1MIoslfVWqsrqgQbeBcNZHaCEUkJ8aIx9eAjQcobcL6R0//bTxOWRhWczVpYUbLegk8LbmHPrUebms/zMWpBnBQpdq9KFJAxc1ws5jwgvEBZaJDRIIZEvPHyjX3+ceD5rrZkR8gosUPaRLyRDPAkeqAvfEjwBC0B44Eu8eRw2QxKG3AscT03el2+ewFRutyww1CgVTeZGEmur+EqhPcETel5BHnd2xf/gDkUX193JKngxXC6eB3OJPnj+73FgHzyl5/yjwAMKAG8swL93FmBCgxtCj9LBnOvEypirS6tTT1LXL62d6NM6O+1jnQTkmH2sHXe0kfY20tFGjrWhjlbU0abE7mizjrXZ5c3K/m8ZONaGAWztqLMddUIGaEcbP9YhurrR0Dn95q1CNl1weOS5flUfe9/i+aZtSAU5MiCNIDUZEr5wE0bcc5lwKBdceFx4jDuucKHBldTxXc/xQuIV5lf5tYfxy/eXpuLC8gokLFiiEEsGN59oV8a1qaSbpQUCtHI9HyyKwIUWPgQbSLbCQYF7BZMVYunw7mT6zuT667ido5AOTMsGzvjK0pCWPdi/gK5/bPHAv6wHoQPmTsACnwVeWQIiwUN9YA+Dm4YWP4D3Vn2YMa76d2Aywi1xz+MuCNRUqKyVZQs8ruuGIfj2kI0ti2KMCEG2bVuWxTmr2CvKeyaEcOTMIHWWet0SPgAhp3d6nqeOqoDqFihzRwjBOfd9PwyhBfjdln3wlJ749wOPaiLKFcv3gTqheu3bdyN4hc/zuCCUaHY+lU/MJZ6NJi+fW+/t0jrazbZW1N6GwF5pRR2tuL2FdLTgjmbU0VLNFUkdiFAlJSxVR/v6MIAHhEihx1pZRws/1uYeP05OD+nXroexuQJFkedUg0dq+s5+X7kc9n+/sAQqACkFZBMPb/rD92884IHHXV+4oeMVHK8g3NBzZE/f9TzH9aBFDrEovE2wq/cTV+4vv1nxtsCT8m4+068801+uiCwrUPi6p+v6wvN4KHgEL5iCe9mXrT/3Cmu692zWuPV09eG0vpQVhlMAmyNyRAAGbiDt+Ioz+TuBR1k8LAioBA/xA+YFDPiq0BCAP8ET8DJ4CPoGb2d7Pnd96nrU9bgn87r1ELaBh3Nu2/bk5OSjsaePHo09eHB/fHx8cXFBN3TOuXKYua5XcZ2pS4ZhCPiR3yEBuriubVm6rtu2LZ2g0h51XXBHyxMcIVTkrVxI5//v4Ib7o2IY/oYBv1J3wCMNnTvf5WrtuzziJFpezly5luw4vn7+UhhLRIQHbui60oH92eWlBjvK0T3PDWDiqAuzGTwnhMs6HqPIMjLaWiIz9zr24NbKuYH17k7tWLvV3oo72lB7q9XegjtaUFszbm/C7c2ovdlub90uLXZ7tew4+o82AX4d7aijHXe00/Y22t5K21tYR5tz/DjuHzAuXSLPn/laNnS454I3X/lnvKriLd/+/u9XloDjOY4nyuI4UNA+dNuDyPUiLkLEPBu7FnIt27NwaGPfFeDpLLWOruO4AebRmxi6cm/p6v2VmVRguREJIktEsTXvxoR2dUJ/kWBZGrEgEp4jwHXHfQHjNbKthNnOXhAhHs0toztPkjceJ58t4JTlm26IwSwS3BcuqIeczVaq577nOq4nXBdeGPjI4rsCYgISIuxHibz97G18MZUVbuDCGE/geoHjB8z3me8xX+oqBHzqBwR2wmCPoybhwfuxgax+IgjUzHDw+HLHo46HuYu5y1zfAbpWFgcMIbk4joOxlUwunz9/4fr1Ww8fPnz0eGxi4vnS0qKua5Rh13U5dzAmFBN1Cszfc+XcBM/zXddxHPB0IpyIx58+eTK/sKCMGxiBk4NwnHPuOJzz8tOpZANotnvn1uH/SmgfPKUnqcATuDyU7AnK4MleuZbqOJ4+fyla+ErwgN6qyiQrVBV4Qs8JXOG7jkuwaWpr+eWF9ZfPEjcvJ0/1ZY8fMzvacXs7kQ09bm9VQsoBtB08Vnur1bFNtmPp68DTgtpbcLu0ujpgfAgf62AdW0I7OtGJk8a589b9e8FqMmLEd4RfHtNWxP0dtOi7twaAGS6FlQNAeMf1hRMKJ8I4WF9n8/PZ129WJ6eSM3PZ9QzHCKqe7E27nidcLyAimomRq3fjl++vzKxFpgNNvMGjhfXg1oR+6XH++RLL0IgCeFywd0CgiXe9QH7WLWAiWtfCZ9Pm9YfLI5OZuXWhOZEdRDTwhM/dAAxc2a9SvatADvR8HXisZ2+XFlMZ8Be6jiuE9JV5QuYHeoi+C741P6A+DPm4gZzQp749Jy2cAPo/0MyDXw1mVsA0PVmOLgfDCEhW9eCcMhrhJELt5ZWloaGhkXtjyWQql8tqmo4QogxjinKalkgk597Ox+fmV5NJhJAjKaJpmpbXcplMIpGIJxKrK8mpiRd/X7029vjxcjJp27YrHIJJJptNrCzPLy0mluL5bJYyBriWevL7qMw+eH4keISsXhWdhLFPV8CgMEGGlk3mFt+uPRlLXD6f7OvOdXZYVeAh7a3VoiCEAAlbUk0aVOZThVh7BqpP3yvcgtqbcXvLdounnbYr6SDtnain1xwa0v6+JhbmItuKXPDqKP35fbSoqv36XkFp63DHY1IEWDxu4LghFyEXkY2CZNJ++SrxcGx65OHrZy8W4wkTociFz3mqYTff9SPuRgsJfm0kfvn+8lQyqIBnbj28OWFdHTeex3maRDiIuBdwmIwQUM+lnsuh/Y58N7JxNL/s3R3PXn+YfDpnJYzA9CA+hYos3VffEjyLi6mM4wXQNeMOgEe5/0o4dOSUu4B7vgD3ow+jOdLMkl9bDFzH58JlrsdA62A2mzTFJIiAxjCnteppVYPH4xwlk/GzZ89MPJtCNnZhqkXgOC6heHU9+fzly/sPxkbvjz24e+/+3XszMzOGYRBCZmZmHj96ND42dv/B6PjTJ68nX47cvDU0MPDX5UsPx8bi8bih6UtLS4/Hx8ceP34w/vj+3XvPnz3LZrNuGXq/j8r84fzGi+c4YBXLxXO47zDfYYFc+w4LGQ4Ticzlq+BqO3cpnI+HmPlO4Di+A46Pz118eQJcyOUCfuSsGrl2hQ/eKeEQS8uvxTMzU6uj91bODK52deY72q32NtTWhttaSVsr3i6orfWTok4k8vQ9159MAbW1oLYmBOBptZW3DSywinSQ9mPoeJfVf0q7eIG9fBVqeij7fq6QniFZTJUS/tzy2o+3VwnAm14uK4sQriecQJo7oXBChINMhizFszOzqamZ5OzC+loaIRQ4Tii9O9I57IXCDeNJdmNk8dLdpcm4o/MQuaHOwqmEe21cu/QoNxlnaRzCGzluSJwQuyFyPeQ6hDuOCB0WZvLhxGt848Ha3Yns21Unw0LLDZHnE9cRHodJBK7jOz7MS3B8F8RzHQHccGAQ/iOL53CI6bgMEgzjOevZzFIsmQHiQKVyIGEH5gUASzyHeYy74DGTaBFSkz0uXOFIHjth3mRrGlozmc4CJELqhA5YPjAHvdy+V2dHlHMITknG7GRy6czZM3fuPIjFlhKJRDK5CvZMPjP5cuLm8PDY+NNYLD499Xr41vDw8HA8HkcIjY+Pnz9/fvTuvanXrxfj8WQ8/uzh2JW//rp5e3hq+s3q6ura6trY2NjdkZGXr6dmF2OPHo7duTU8NzfHHTlFQTZH1Y1Sdf7+Y+F98JQe6E8Bj8N9wVyHcazn8smY9vpl9s6ddH9/uqNDb23DbW24tQ23tqLWFrJdcGsL2i54ewTS2kJbW9hHZXciO9KEzbYmuW6129rstjbU2ka2SQft6CK9J+2hs3RsPExnQyYAr/vg+dbtxMfBw0RgI8e0uW4yzWQGEjZ2uQiVB0f2fMAD6jhhOsNHx1eu3l16PI3TVmiyMG2GE/P86uPM3xP52TUvx0LTCUwW5FGYp6HhhLbr2UwwJyQoTKyG98a1a6OpJzPmqhWaTogcnzgecwEK8N4PXKwEnnIX7YvBYzthPIueTMcXVrKYujBTDbpsHrDXcZmnhnk483zqBdj1seeAGsEQToDcEPmhxsO5NfLgTXJsNvNixY5pwRoCygovdB0/AKMckFi1bAMPZdZKcvHMmaHz5y4/eDD28OGDJ0+eLS4uJhPx8bH7N28Nx+IJyh2E0KtXr65evTo9PY0QGhsbO3f27PTUlG6amFFsmHNTb+4OD09MTsIejGPz81evXr1z9+703Oxicnnq5avrV66Oj49rhsHl7DcYyKvqDVdl778W3AdP6Yn+LPBw5nBCrVw6G5/LTDxNX7ue6e3NtrUbra2oRUkLam1GLV8spKX544I/nWYTagWxW1vM1lZTZgm3tG5JcxttPUaP96L+09atu+HyaoiZ6nYq/dmm2v813fmh9wMfVQKjB6guw6o1hqEbaf2AgxMaZbAYwCbgrg+zDzzmukxlVL5ZEpp28GrWuPFgeXg883LOjCXF1AIemchef5J+OIuSOpBGZ34ibU/OZd6uWBkCHEICmnXDYK/n0Y3RleHHq9MrQuNgGzFXzVF2HBgVEr7jBDvA434xeEwnjKWt8deLCytZ7oSO8BgVCDHNQCZiJuEmEzqjOhMadXJU5CjTCNOwyGF3nYSrNFyywqdLeHBktvPa8/67M8NT2clluqJhk/lMBGCQyZkFVY9wG3gYuNrA4vn7+u2pqdczM9Ozs3PJZCo2Pzd6787o6Oh6Ouu48J+Ny8vLly5dmpycNE3zyZMn169dSyaW1Rxrjkl8Pnbv9p3nk5OIYKDU5MsLFy7cuHnj/sMHY+Pj448fD9+89fTpU03TADyeuw+eqify3w1Wdy6+H3jAdFe9GBf8BU7JBQGOCEf4nDkUEz2zlou9zTx+lP7rcvZ4t9baZjW1oKZm3NyMQJrwlwtpbvqkfE6ywLzmFrssqLkFpKkFg7SSlmPsWA85cRpdvRUuLIc2DaS54255Mf+7FegH3plETsXVBj7bMooUh6CGCfBIOcyT7ltow7jjERDJI8flXDiI+fF1Nj6VGX68fHssdu9x/PbY0vCj+MPXmelVlkGhKcIc8l8v5O6OLz6YTMbSQmchFiHjQTaHnrxcvTG68GByNZH3LCfEAB4PzBzpVgvBH+eEwgsEGD3SOearuv/Joqp2tVlOuJRBT6aXYskcd0LB3HzOWF5Zm12IT88vTcfib2Lx17H4VGz5VWxlMrY8uRifisWnFhKvYsmJWHo8pj2Y0668yLRcnfrz9NihM4/ar74aGpkbfRlbSGkG4mCKway2aof5NvA4Dkmm4ufOnR17+DSX0xijhDCMSXJl5eH9ew9GH2SyOcf1GGPxeLwCnmfPng0PD68lk57nwauihC7NzY/eG5l684Yypuv61KtXFy9evDtyb+LFi5evp95Oz7x5NbWcSNiWJaQrcqut+GR5/csj/KFepv09164QpZeJhXAF8wT1BPXl2hM0oCiIx9OXr660d66d/SuYWwoQ9YQvBJj8X1BilWs4TJ7lyRQ8IXzBPYyYZVnZtZXM9FR65P762Qv5ji6jqRU1NOPGZtTYiBob9hTc2PBPpaGBfFwaG0lTE2lqxk3NCATwYzU32wqHsKcVNbeTjm7aN0AvXA+eTwcZI6AcCrb8nvYXFNR+1A+VgMM5jLNg7iJYQ5hx2EmlMOFwITi8kygEc5RwiFwl8u1ShoXQiLeUJs/nMmMTyw8nVsYmV6cW9USWZmyhc24KP4uCqXlreCx+d3wltiYMElARUBZkcmhyZm1scvlNXMthDzkBAe8W5w53BA+ECNSauwEHHLmgLEFZXyraBvncvbiQay6EQ53AFMFiBo+/WYol80wEBIm1tfzb2cWJyddPXkw9npwaK8mbh5PTo6+mR1+9Hns5NT755tHk29FX8XuvUzdfrQ2Nrx+5NPXn2Wf/G3xUf+FZ99+vbozPTcczORMzIeA10i3tVyWnMgbjLcIhK8ml8+fPPhqb0HUD3vVkghC6tro2OnJv+NatxaU4IjSv669evbp27drs7Kwa47l27VpyZUXdHSc0Njt3e3h44vlzXdcNw1hYWLh27dr4k/H4ciJvGKZhZNfTpm5QQgTfu1h2F9R/Y88+eErP8WeBxzSxntcyy0trE8/Wb9xa7x/SWjutxhJ4ZLvftOeaNjX9GKkGjzR9toGHNLfT9uO0ux8NXuIj40Ey4yNS0ukKcf8buvJT70KSRmGGlqkDLb6USgfK4eATUwaOkIjClbVwCBeUCkHcIE+DlOGtZHkiw1bybgYHOgtM4SHHQW6QJ8H0Ero3vvJgIrmS9RANGA84DzDx1nWRyKC0yZHjYdelruAOEw5zATkyEhfBtwEPHX+dmIvnmAg4DTASec1ezxmrWT2V05M5fSWnreSM5ZwZzxlL+fxyNp/MaCtZczFH5/LiTcYdjdG+e3ONl581XBjvG359Y2J5dkVPGwRRMNJggva2pURuWZQOF+Bqu3Dhwvj4C00zGIM5z5yLfF578fz51atXR0dH5+bm3kxP37179+HDh2tra5TS8fHxK1euxBeXhHSIMkIXF2J3b98ZGRmZnZ1Np9Nra2sPHz68c/fuy6mpxXh8MRaLLSwYeU0w+ODEb7Xsg6f0uH88eMDPxj3DQNl0Jjk/u/Lwwdqla5meAbO5wzrajBqaSWMzbWr+EF1YU9OeIuN/7MQPJbj3/sYm2tis2IPB+9ciXX9gAGGQVtbUzls6WWcf6j1Lr48Es3HfRB4F2w56sLL7+Ftp1He6WbApADNMChRstYCfCPrvMASkJlwzcLuVQCUcKoUIhwiHU9e3ncAQgcF8jfmaCHQRGMKzhEDCsaiXNpxXc7n7TxMvpjN5K+DSknFE4HgBghNdWzjY4dShTKbsgLeAAZqAOs4/B48lgqUMffIGwMPh02/w4gHjLhPwBihxpTgOEp4tPFN4hiOQEIS7CDaDvAgyLHidItfG587en7o5EXuxlE/khUE8LDwOL7Ryx6HKRiw/r53gyWRSo6Ojb97MG4ZFKZUGiUMJTaVST548uX37NsxmGx4eHR1V06k553Nzc48fP15LpRihrhCUkMx6+vnEhIo2NzeXy+UWFhYePHx499694Tt3Ru/ffzo+vrK8DOD5zZY/4B3a33VxOIfvJckF9JETlxNPrl1OfGL78fj6pSsr7Z2rZy/6s4u+TVzucQ7vLZfP+4zfyjUElbFdmYJcM1fXrfXVtfjbN8sj95JnLqQ7es2GNqu+CdU3ksZm0tj4IaGNjXuKjN9EGps+dOIX7aeQgSbSCH4/3NiCGlvsxmYbfIBqTytvbOONHbytGx0bsM/ddCamPd3yKfQPicOJ4BD66AI9yY9G2D/IwdPDmWBlUZuCCSVOpUYx7lLhSXGYIEq4IFIwF4gLQhyOHNd2PJMLnYs8dzXhGkLYgmPmWNhZzeIX06kX0+n4KrWJz8En7AoOc6KJ69guxw4jAjOBuYCHLLWG+oxLET5zYJ4Ddx1QFr+sLxVtY3s+UIdTwRnnggjf4H48Q8bfLM0vZxiXM7NB6QR3XCoc4jgEvHKcwbd1XeS4SJ4MWIY9vs19k/mJjPUylpyKrydypk4czH0qfArmoICPwQsiuNJHlR3G4epcVkb4R0ZCzHR6zTAIk7GkxQO3QAjJ5/NLS0uxWGx5eXl9fV3XdUkm+MqObdsEYw4PinNKGSG5TDYml3Q6TQixLGt1dXUxvjS7MB+Px9dWV23T5HTvMtmzoP4bO/fBU3qOPxA8Jf8I5y6jjq5byVRy9s1k7PbNxVODq63HjaMtdn0Trm+kjc17ooU2NrLGRt4Awkr4AbtkuzTRxoZPyd7o2nVRAI9kz07wkMZW3iDZ03Ict/VbA1fw6ISbN3xwHWwDT6XV2aE2ouwu2mfPjpLZsSmRQ8ssgWYQPFxKoFFW4jHuQfMK4pYpxTi0gkyyB3FhU4dgh9vCsYQwuNC4qzue4YAdw7iLiJs3+EqaruZ9E/uKHNK8EoQRmxGTEZsiyhXMdoDH8SlQ5x+CxxJ+PGc/nY4trKxhCnTlBMb3CYUWmghOwEYgXIgyhygr9ergWzSEO4g5NnPyiJic25xIdggqXOq6xHWoC0M2slgqxbwFHgEjZphzQil1YJqeKyMptS3VU4yxZVkYYwofASfQM2Cl2YMCHgYMAqsTOAAIFsaALkz+YEJsgpFtM0KAOvvgqTyH3yFQ3RpWwOPKBrNi8axdurLc3rl67qI/97UWDxQldOup1Bmw8EtdfIaJZWiZ9cRC4sV46trVZE9fpqldUYccbSIN1dJIGraEAnKaGPjBlOygDmxWx98zTBsay6dX0tkZkCdCNrAU1NhUEQzZa+YNzaKhhTe3o9ZOq3+Q3Lnrp1d92TBBl1LqqeqQl0p7O2EqffXS7u1Hf4dK+Ln3KGjZcIGhGnmWqkhqXSnICoR2GeXQ1NoAHo4IJ4QzAo2yYwGBXARuOHDTEeYi6trMR9ynYK+AiS/dfILBKSWBLj1kiVWu50FU4TH4ODa0vCDw5ijYJiXZ+17VYZdTR1o8VMClk1l7YjoWW0nD98wAnbJ1pmB2QZMOjkSVqoCJfHI6X+UNUDl9G6abw/VhXXo9EwZ2YNP5UHbKHxBwpfVTMoDgyhTQAt62KpeYuhkFFRUWAr59AzPT5AJDnHAKLGoOGvy9vVxUfNUuVMK/VWDf4ik9bgUe5TcQkj3K1bZ66UqiA8DjfT14St16wgUWQnkJZG+L2HZez6yk56bio3dSQ0Nr7cf0o834SCOpb6RHG8lRSZqjTRA4KmegqZ1qXd9APi7VkfcM1zd+IoX6RtzwMSENjby+URxt5I0tVlNzvuu4cfmCPzflWXnCCbhOpNpVGkU5OaisX9sPqWbyk3658sm/4S/l4BqqyO4SqFjSlUClxZeBEniwBIZqER0qXOy4GEY85FNyPMpdmL0gv5FQdimrCrx3p6BysQ8F9j6tKvsqdRd83UxA5nzM/VTGfgYWT5oJX87gY64a5AEPnnyhqdyuSwMFprNUJfmVwco4S/X5YKNIY0WSpxJl221V9qqPtqnT1R8fVMKVONWJ/7bhP1Sx/p5r6EaV71ww4jAsGHYY5jLgYctbWlr960q8/Vjq7EV3NuZZ2GEuY470tZfP/PSvkKc4mDmIOwhcy5RyQhkyzUwuubD2eiJ++/rKyd50c4t5pIHWNdD6BtoAgo/WSzmKj0qpb8BSSP3RTzGjAdcf/bh8MhE4XV33Q+v6o7y+gdc3iCaY6pY71p47P+S8eubpacoQ4YzK8i3dvyxttQfKbPshIYtx6+inS3U/xo4S2BoCqowFbQ8wxglj8i97YCYCTLuGGdlyuhuT40Vlx6eq4dX6UbqWHL2o+PAg8M8XlaYDCkg5ZNGzmJfIWo+nF96upJGA12UcBuDxmAOvJCi3o/JaydGUL1fJvXNdwcDeh8v4UdF2xFGYqd5ZcqyVd+3YLO/+TX/3wVN68D8SPFhQwgkmZj6XWl14s/ricfLG1fXe7lxTMz7SwOuOsiP1pL4e19fjo0dAVBhAUgLPx4nyLY9+CDlHS1SzamrZUQAPbmrW2ttyp0/ih/ec1WWGLUWRcrMCbQeHZq+safvgKZfEZ/zubvB3Y4bLAv7Iuvo6kCCMnZQhwksN+o7Tq0+BcKUP4ajO1M7jX7NdriFb4DGZt5S1Hk0vzKykLfD+MYdRlzGYWlAGD4zgc6hR4AH84r7g1+Rz/5xvWAL74CkV5vcET0lhCVg8AgmOOSMMW5aWXV9emZlcGR+NXzq/evxYrqFRgqeeHamn9fWkvoKceizDVVbOUWmvfPf1xxlG6o+i2jpW38DkzDe9rTXd26XfvEaX5gWyVMmWm5V98PwTtd3BA1WoO9hTQXrlQrvPqhyqPJwdcXZE2Cvj4kQAACAASURBVLm5Azzfz+JR4Hm7kraFR3eBh4LXumJPc/ju1Lexvnbe7/72dyqBP9Tg2O+5hvmO5TvnFAuKOEWCIiYDLjLdxcXUX5eX2o8lz1xwZhdcEwnqUCooOMu+aGHgXGMCMQbXoAQhS8utr6cWl6cmlkZuL5w5vdLRnj3aYB85Surq6QfAg4FGP1RQff2HRNlhkNv6oxSGoBrNlpbVY+2ZS+fQ9JTQcoIyJkuYyyITqrRViTNKZGDbIZj680Wl+jtHhhq1XXaU3ScjkJ2lvSOBvUp3R6KfccZeqWzfp9IUoICEUYapa1I3njEfv1mYXV5H3KVQf4igFP7Zm4IDl1KOeKUKMU6BQttT3d/6pUtgHzylx/M9wQPzMhmDt8YJ5ZhQGyPD1DPp1NrKQvzJ2NLfV+b6ulOtLbl6AA9W4DlST48cAQIdqWdHjpB6JT+UOuTD1EHS+0fqy8bZ0Xra0ICam7NtreuD/ezJYzeddREgWtFEtZGqncIM2I7lhmp0vkn79Uvr2X7mPlwCe4JnKWOOvy6Bh1AAi2DwxioH8IAqIdmpYcCkffB8uHB/1SP74Ck9me8JHuj5l8BDGCEUIWwaenY9tbr0Nj52f+nSX/OdnanGZq2uAR2WFk8dNOjsyBG5rudAIBC1+SPXinxb67K9VSZivag7QuvqpCl2FDU2ai0ta33d9p07bnwFDER48wKwUg0eZVFWg+dX1Y79fP2IEtgbPGmjGjxAG0Zh9kEZPFB/pJmzD54f8ZC+9TX2wVMq0R8FHk4IxYjYmq6tJtfmp1fu31s+e26ppT1d32webqCHG8jho/RwPa8D3pSkTgbqjoi6+rIcEbD53WUrDzIzbAuBR7i8ulN3hNUdwfVHyJF6u/6o1tSY6e40rl5zZ+ZczXQwvBpHGTh1lBBp7iC+zeL51rV6P71/Uwnsg+ff9LS+UV5/a/BUe3jUuI5aU3AF2Q4ynVgsefHSUlvHypkL4u2CA2M8aoAHDJfPXAjB8p3rreEMZCIzm0svLaamJlO3bq2cOLXa0GrUNuGao7SmHtfWk9ojpLaO1NTSujp2WEktO3wYwrVHWG0dqz1Ma2pBag+z7VLaX1Nb2c8P11WLTATOouVEKjErgXLitfTw4Wohhw9jKeQwnA7xZR5QXR2pO2IfqdcbG7Ltrbmhs+LppLOecxAW8ObfVlFhShGlNoO1KsKqg1vR9kO/VQlI9kBvhEL1cAzqxNa0sZezs4k1xBwMyoa5HOZhMDYILmtZf+B7BoJQBgNA+/Xo31Rl/qXg+TaVrDqVHwAe+DoG+JyYbdp6OpNeWEhNPE1eubpyvDd9pAXXNLFDDaymntQcITVAHVJTU6EIrTlEYbOG19TxGtncK/DU1LLtUjmF1xxWsiMCq6mt7FeRd0eoJAJwqhJSW4trQACKUrhcI6BRHTpSbzY05Jqb1vv60cgjJ5FybPi4CfwbI5WNh6QOUH0fPP+mVuK751VawzDwJ8EjADzr2uOphS3wEMyIxEsZPBBV0mYfPN/98XyHC/w64CGyB6zWe9xo5bCsbNXz0faI/EW7VMrfDzwyM4wRLjttMBfHNMz82tr67Gzy8aPkhb9S7V3a4WZ2qEkcOsoP1bOaOgpSq0hTChw6REFqOGCjltXUsEMg9FANPbhN1H5WjgmRZczqdSmR8v4dKdCDpcThlF1UU+CpUGcbeOqOoKNHzcambGcv+vueM7fsmMihFP5+ESPFHqTMySrwwNeuvuiB7Uf+2hKoKNHnF3j1KbvDH8+Iiv/xOFVHMZXgwZSZ1FlYzcMYT2LNZgIRRAm8cg3DOUSqEmyVFngVG7p01d3I8rH931+1BP4gv8SCCUFVAr6p6qX6MIbxeU7kKD1UVCUEPtX3yQW63VVCpBcMK18YsakURmwCAUvYhlhYWLlwabGtY3noPJ+ZF4bNy5fGO/P4oYtTMHQwh5d3EHzoCtlEz+fXlxMrUy+XR+4tnx5abz5m1zbygw38YD0/WMcP1fGaOlZzmB6qrQg/VPsrCKmptWtrkbR4WDlL5FAtqgXBhw+TI/Wovllv7rKGroqpmMhbAhEbwaIKCMHnEYlFYV0pwurwh8pxf/8/LIFqJVLKphJUGrFn4rtPqdZSVPUEq09Xqlg5t/rQR8Ol9DAhBuHzyezjqfm3iTWdMN0yCCIMPkzKOIYJ11VKXGoBPpry/sFfrgR+Fni2VR1ZjT5WNJVKLOvm14Cn0sbtuHDlqhQ+vAvs+ebgUdThiHME7LEtlMtkkrH5+PNnS8M3F3t61xpa7UMN/OBRfvAIP3hYAHgOgyXxrwDPwRpysAYr8NQepkfqyZFG/eixTPcQf/RKrOWFjfYAD6E2objcDdgHT6UefjjwoZr74TO2H5FKRBEpCQZ7hLDyM1CB7WdAz2AHaXZsSrXClGxJBUaVc3ekKXt78OirhGCCyoIRwQbhibQxOb88n8pqhOdtC9tQYzimCjzQ3SxXnjKEdl9nf8+vWwI/CzxfViKVSvwV4FHn2lKFduBHZUJZPN8PPAwDcgTizGbYJqZhZdbWEm9nFscfzV+5NN92LH2k2Qbq1IuDR4QEjzgE4GGHtuRXMHf4IRjaQXKMh8q88YO1/GANO1hDampxbS2pPSynujXY9e2Z9pPkzrhIZoRl2wjhsoVYsnik3VN5HPvg+TJ92Dt2tZbsYY3sPqzIrxJTENqR8I5TdlCnfA2lQJU14KpadqRZ7WaoioYx2RKL8HUDxdNGMm9rROiYIBsTGzNEGSo7ObbbPbuvsr/nVy6BP/DPWRDG1bJ9Y1eWEMZ2WRCmGDMMawK+X6UNUG33XmyMLYxNgi0CAVvGUpUcy0yolGUsiEIhlkWwyU2dz8+vXPgr1tqeGDrHpue4brHypWVbuvcVt+8lDDFug1Cb2RY2DSudSsanX88/uD977tx8Y0u2rhEdrOcHjvADJT8bWDzQskObXpLyeEz1UM2PD+NDNaimBtfA2BI7WMMP1vA/D7EDh8ghubPmMK+t4zX1uK4l09StX77N5xPctCxkA3nkUn4cyMIIBn5AoMQrEcoR9393lEC1vuwZhmpeJdbuSDZGFcGkpDNQ3eWldqtQtd5VFLA6sPsSlVM++kB3nLfjTiE/ORPlLJq1mYaZSZhl2ti0JXvAZAOtrybVh9V/Z9L7279GCfwU8KjGR1V4WNuYWJhVxMYUKmZV065qswVqA4PUZfBAAKblliriHiWKytTRwX4vsaeiEuVGUGIJW0giZwd4kv8YPBQxZoMQmxomymt6KrG0+OrF7L3bb08PzNXV5w4ftQ/UAXUOgAGxZdxUqFM92v9TCaQAQ+SkBgUedgDAQw/WEDkTASbdHayntU3p+o706Uv89SzXDQtZkjHwgKDMiW0SyyKlAoe/1NoHzx6Vt3qXqshbKqP6SdvXOsZbgrC5I7aNbRt0zbKwaSHTlri3MOgFqEb11crhMkVsCyPVaaumjgpX1FYFpGUCT1lp2W6YQdq2CVXANqns51FkUwQ6XxFk26ZlazbWMDUoszD44RgiDDOweFCVcYSJMqfLWf5WvwqN3yq1/XR2lsBPAQ9STTzGJsLQk7EwMqH2EwMzA1MLUROUA1RE1jeMIKgbGOUxy2C+ZrKcxS3MMWKlTjNUcyIrC1TKaoNGmTtKu5SCKaNHdbR1gpWYYM2ruNBtpNjgpsbn55MXLsZa2+Ng8bzluvkVFo8aF5V+Nqpp5uraeiL2dvHZ+PzVy/OdxxN19bmaOvtALTtQw7cL2DoHQKBZ/0myY8JbJRtq/1YOD0EO6aFaAM+hOlrTmKtrTR0fIGNPeWrVRiYC+0a2RohI3tu2ZJA0Lvds9HbW1N98G2Ebyb6RXNtys7IH9AhjYwd4JGnAxCkRiCCLWBa2dEvTzJxpG5gwm3KDco0yC5QGwVBLyXoAdiBpIUlFNE1sWhQZmBiYGpjoCGm2pdmWjglYJISZmGi2bWAYkJEPF1KjNsWISaZgC1kWsmxkYYilY1tn2GTQG6x0BUsPGSHbsi0dWSYhOYTWLVuzsIXBcWARbkvY2NJ2sy2EFet2pvGJ+lJpIsrxJGQh47JoJWclNWW6UBIlQWWPoPoTUhscyXsv0CRJke4Z8NBUbg+eiRLYVY4F4S+8jXLu/3W/Pws8JWPDxoZFDJPAtBUJAKYjatrUsrkUZiEmH5FhEz2HcZrwhMVn0ziRYxriCJfAI702xAI/MDxFsIEgBHpkgWIQExMAG4GwVR7HNAjRaEl0qZZSew2MDYZ1bub5/JwET1t86KwEj/EV4IH/x4U5OaBiuZyWTCZjb18tjo0snB2KNzWv1dVrNYftg2A3sAOHOEiNXB+C4RNlTxw4RA4ewj9cyMFD9MAnROYQpl8r8LCaOnbwMDt01DjckmrtsW7c4UtxgsBLAiM9oN0UwWNSnWLoyEtDtKR81Sr4r9Ol75phWWJgr0iB0lMNr9ojwQPWS5k9pnQkAHEkPMCmNwmShqapI023NDBDGbcY1wjPYq7LTwhKm0M1kWDhIIkQCxs6ymson0N61sJZi2UskrFw1sY5hPKEaBhL5CBd2jIWgd4kPGkbM4thqaeg8AgsLcu2kG1iZGJkUGJRuBV1O9VrZCHLwKaOrHXLms/kZxKpxbS2ZrE84TqmsqtC4S+tVENS8aF/3jMgoJIgUN/Aa4cJzGkABFI57iR7whZ8YgTDX1QDdWRhIMmZcicXWbZt2R9cylchBDEplXEBBE+j5ILBpOTCUViq2Iqfdyf/2lh/7A3r77vXRpL2CJk2Mkys69jUsK1hpGGq2cSwqGUy02KmzUxENGTpyNRsc9VEsTyZiOfuvoq/WFhPm8xEDKZM2ciGqVNgQEEHCJIHwXAEmQgZGNY6BlFhU+7XMMoRlJWiEdPAho10JIUijRk5NjebPH8h1tq6OHSGTL9lmk4RRQis+w93dHaUnfQZQjtBYXQnnVlJLC1MPY2N3Fo43b/c1Jg+fFg7dBAdPEAPgLADB9ifB9ifB0Gg0T+ohBw4+FOkkoEPBg4CFKVNdogerKWHDsP64BHjUONyfXv27CU289bWsiYyDGSaCNk2sRBR5W/Bc4NHVelOqsCOEtzfRKUabSujQdbuStgCvxlUcKjpqvbKALTyUsVsS6qAgS0Dg7pZ1EQUjI88IlnE1myWslkWURPBzHdiQ/WWFwTFsuCp6RrSskhL22baousWW7dB0oilEc0glLWtnGUYSDeJaVITLgFKZBLwXRDoaiBiQVYMEMu0wZVhE2jLTWjRIeuQp7KAE9ZE2MAoY4LWv4iv3nz0YuzNwuy6kcYsj5kOjniYnqfYCKOI1hdUE1y6U0WUimlnItui8EUrjGwd2KPMRVjLmPIKQBrTskwTBCHLtj60lK8Cui+FKLRShMDHSEzYC7cBO+QV1HP+oAn1BXf4y0f9KeCBp0hshKHRMS1kmFC5bak6FGFmQf0lli0rIqUaxnnM0habTdOHc/pf4yun786OvEqt6ExHrPzMSrW4BB4TagSWCqn6WTZcCCqn5FTpsegYaQTlpWjENL8XeCBvloVy+fzqaio+P52YeLR048pSX0+6sVGrrTUPAngAOYo6/yuD589D7M8SeD7Y7pfJ9J0isAMHPy4VX5zCD0wBP1jLDtShg0fTdS25vkE28ZymV20rZyDTgPIHV6olWyKlYRWtrgR+ea35CRmUsJEWA9RkJCszwEMGZL9L9ba21gpFkvWl7pdtYKjkFrFs6I0zHbM1ky1m0UIWpU1kI4siU751RVCp02bpyNCwphEzi6x1G62ZLKmzWBovrKF4li3n2ZpFcmBnWQbSdKSZWDexZmFNgsemJvgeZHlB5k1kGrapm7ppwxCUgcBNZ1JmSNEp04gUoAvNEprGbMVij2PZU7df9A+/GH6VnMuypMlyyn0H4CE2oQDeL2muy0jYCR6C4E1VigiydEps2zSQZdqmKYsZIsMCQ1SmlstpmvYV4CHwqR9MqU2pSQmi4IbbB48q2e+/xghBlQEKQH+t3L1CSL7XjkxsmdgG8DCdsixiSY29XWWj0/q5h6nuG4u9w/G7r7PLBssjZpc6C7JxlxYPVA3wMcDIkayQJQ2U/upSz0ViD5nQsbGlsVXSSbvcZ6S2xoy8tHjOx1pbl/6BxaP6dYaNMrlsKpWIv32VGLsXu3BmsbMj29Bg1tSigwdJydCR5s7/DrD/SYunZPf8TPZ8nDpw9OAhBhaPNM4gXMMAPGD0aLVN2fYe6849thInZtbEpoEBPLKvoAxH1cUuPZR98HxE8yRjDAvpFoLJGmWBvpTqTklSVCcAvTop0CSrDQPbUreQCeBnaYPNrppP5tMTi9mVHKghRTqAB2wUsERMZGkAHj2PzSxCibz5Jp578jo58nT+zuP5hy9WXsxnFzNmBmGDIAPlDaSZwB4FHoNYFjVxuYsp+5dSs3WEsiZKmzRtQocSTC4kxWZJKSmLpUxAzrLF5jR2f8E+fuNN86UXJ+/O357Kvl2Hs2CSEQxNwRWActW3/qnwR8ADh2Cs2DD1XGplObmyvJJYXkkk1lKrWj6vrJ1UMvl2enpleVk3wXP4oaV8lW0WD4EXqRCFUWQ5twKU4bcEzwc9lN/zAAaHC8yvkbNXrJLj2sLEItSmxECWgSyL6jZNGzSexm/i+MFr6+KDtb7h5LFrK1031+6+1uMGzdhUjR6Ay0ZCxpJuNzkKa9m2YdmGLQXZBrFMasHwkRJi2ZYN/S/ZEzdNW7dBDGTryNaopVEtT2ffrpw/N9/Sujg4RN5M07xOYLAC/GyQ989aIGOGbectaz27vrwcW3w9sXjn77lTfYstzbm6I/ahGgJWywH65wH6Pyn/9wD930GQPw/CTinkwIFv7mqTzr3/0QP/UEpOQiJdhZJAh+iBGnrgsHWoIdvYnv/rCl2YI/l1yzZ08JET26LQxMnp7TDgJvuN0luqfKafVay/WSTLgsqcL4su3VamadtSoI6VC0QVpC1HHwzwI8hhCFCGLSF5g2Tz+M2idv/V6uVHseGXydiaAc/G0jAMXMgaDvHNvK3nkZ6z7bRNXsWSw4+mb9x/c/vh3N/3pq/fnbn9aOHpzHI8Y+QRMmxNt/OGnTdQ3kR529awaRDDJtCLNGxbM2zDAJKhVN6eXdZexYwX8+T5An0aI48WK4IfLaInMftpzBqPmY9jZGSWXpww2q7HGi6/bb46e+J27O6r/MI6zRswO0Kz4UpZqbrlEvj0LyrN75P1DbgtfYow5QEKFNnI0LLJ5aXRkXsjd+89GH0wOjIy/ujR3Nu36fX1TDb75vXrkbt337x5k9c18wOLBU6c0gAcsmAAWQo4HGWrk7etvA1jWBaGRwRDoDLf5keHjT59a/+WGH/88IxaMABpGSCmSWD6mvL6wxwAasnRfwPZhmFZOKORuRR+MpO9/Sx74V721O1Mz61c27W1YzdTw1MAnrRNdZjfD7qllBCGXoAMoGVgzoPiGRioYxBzp0AX3NTA123lsQlr29JtS0OWRg2N5vN0dmb5/Jm3rc2xwUHy5g3VNPCAS7X8cLlV8lKuQwTrtp3R86n11PLSXPzF4+Xrl+I9x1NH642aw/jAoRJgKtT5vwcosOcA/d+f9M//Qw/8f1L+D/3z/26TA/+XfgP5B9T5838UpJyNUuBPfOBPiTTAj334SP7UAJ16RbNrtqkb8KTAiarEhsIsiVK8j4/WfrjM//NHFDg0285L0Sx7G3tkL0iWLpQE9I1gjFOWNfjVpKBSk4YMk66m0duF7O3HS+dHYoP34jcms7E1yzKgv0UAYjBsLgc8rTw28tjKIhpLGSNPY1fuvhl5uvwmZr+YyY8+W706Ehsej00n8nlMDRjG02EN50ICUu9sYucxoCFvIEOzraxpzy5nbz2aO397fvB26tTtzInb2Z47me7b69131rvvrPXcSfXeSfXdWe4ZjvfcSnTfSnXdStdfS9VdTR29lmy+tnji7vLtV/mZlL0OL/qQnC2nNnxuRxAKqIyEvcBjwFtnhpZdmJs5e2bwrwt/PRgZfTAycuvGjZG7d9/OzKRSqZcvX/79998vXrzIZLO6AU2VYRqGCcNXlmWZBvRmDUMzDR0oDgNbqjAQxNOyej6Tz63n8+v5XMbI5828Yeh2uSNbbjT+6zX6R4Pn/2/vSriaSLr2/LpvRmZTFMFlZhx3RQVlJwuREAgEMICQkJC1s/Zeay84kAX+13dudYiMAuK7jM689HlOU6muru6+faufe28tQD8LaCRyLexwIj79MKPDG3wG/YkUbCcbXqKrGO5GFvljhVezxech9WnYuBdCt3zaL8FqcAuV6K5q7cJwGot7rOPpHvTuwFBMYlnM7jAc2WXEpdQ5BpfSIxCXAhxKLEYshm12RDw76drLoezNG4Vnz4B4SId4xHCG01TjQ+JhFgfLkWJNr9cLO5U3i5VXz8u3b6pXrlg//rz7/U8AcHEE33isA/vvdy9d2u35VuD/dnv+TyS+2+05N77/DnjrDEBVl/5dAB2Kq/R8K2hS8ND33wtH7Sfnp5+Nu3fp4tJureJSLF6Qa70nnl1LEE/X4juy30+T7f9yfpd7QOUF8XS5h3OwuzyXpvMB9r6tHsl3iAeOQLaB3J2sGlvNTUeyL0KFwXDNv4EKMlhsgnhgzIeoziZgkVHTtmTsrqeV6XA6EC1s5qw62i2puxtZK7BUm5rPxtOyjBy4PLAO8xJcRA7A4LNMF4jHoDZFtqUxeyOnvgpt/z6S+G2idHtCuTmhD0zq/ZOqgDwwKfdP1q5PlPvGpGtjpWtj1Wtj6tUpsy9A+oOk36fcmio9mS2HNpS8AV8Aw9qlMCfjM3Tjk8TDKMpn00PPn80EXmczOalQWI5FpyYnYktL5XI5mUwGAoGNjQ3DMEyEKrVqJpvN5LI7mUyhUNBVlVNCCVLqtUqpVC1VpFwxt1OolGrIMKipIUMpFDLpnURqO5HZTuXTWaWuUsrEA1wQz2e8x88oKrxaYluGI2w3zjHnFDKhV0aso8JgOo8LM/xdWXPi2+pkJDUZLU2tklfL9FGE3g4YtwNV/5ZZpLuqvYvgs06Z4B5YnEXEGGygNBgu4DK6y+guJR6OmAYoZ5d4YLukC7oLbCRYh+BdE++m0+rwUOHGDWnwPfF4obbTn/lD4uEwjIdyipFWl7Pb5cW50rNHpYF+9afLFlDOES79tNvFdz/ufvfD7qUe4J4Ovj1KdHM+lfgkqbyv/PSqPlnJ95fecyEwkOeWecTzs/PDZeXGbdUf2C0WdgmEcWD6KO96PEfEI0Zbe+4OTPQ4Xbj/20c8agHPhoPOd4mHHYWUvc9Wx28UIwg77o7wYzzicVXN2k7VV+NSJC6PzFefvK5Ox1FBhjVyBfFAjKhLPNjlpm2XNWtxrTz5OhNeraYruyrdlfFuurwbjhvjkezCRrlQJ9D7JKxAajNiExFtQy5Hu9x0LROIx2LItlXmrufRi5md30bSv02rv0zjW9P8ps+64eM3/LSDABkI4H6fcX0a9U3T69N2v9/uDzj9QftmgN6cUm9PSPcD2bktNas4GttloFSfoRpnEY8ItVmc5LPpZ0+fLEWXDd2kBKe2t3zTk3PhcKFQ2N7eDgaDHvFUqpXY8nJkYWF5dSUSiczPRzLplGlouqqsx9/Mz83FoovRSDQciixEosVcgWiyrlTfvo1HY5FYLBpbiEZnI1sbCVXVjgI3n/Mkn/HQX1fRb07rGfsv5YuuOMy5zrlJuIk4QpwQzikMPhODAqhjE4sTTrGjm246by6/rcaSxhvJfZ12BxfJ7YB621/1vdXyxFVsF1mEcEw5obzj6sJfgjgxHUpcQlyEXGSKPXKNY9CRq2NXJ8eAXcg0O1BMdyupPnpU6R+Qnjy1EwkHwXKFnckIpwqIwdN0AK43Z5RTwhHSK1LlbTwbmMo9uFfo66//eJn+eNnpuez2XHYvXXG/6wV82+t+e9n99mf32x/db39wv+1xvzvCtz3ut9+fF999754HZ1d4nhou9bjH0fO9e+kHt+dH76GsS1eqvQPS82ErmXQNU4ykdjhzKXcZzGaE+D+HqYlgsQphcX5Gd+2pMv8fOeDplYjncOrpPIEID2gbDPGl0I0GQ8eYhTEhhEKjEvoKjYxAx6nNbYScSoVkc+ZW3p5aVh7OSJOrRr7ucpgdihxKOGOEMwJrB3DkcI1ZuSqbnk2P+DKRuJJXXI25CnGzNTeyZr6cSc+uSrkqxcwl3CGcE4ti6NFBnJsOQy5DDkecI8I54o5C3dU8eTqTvTWS/WXavOnjAz63rwOnz2/3+e1rfvuq37rq530Bpy/g9vndGz53wOf2+92bAffGFLk5qV0fLf4+kZyNA+dR8nlKY8GQJgAwOJA1B8MVwuyMU6GIDOez6aePH0XC0XpVrlUr8dXY5PjYXDicy+WSyaTf719dXS2VSssrKxNTk4uxWDaXja+v+aanF6PztUq5JBVeh4Ijw8NL89Gt+EY0EhsfnYxFF5WKpCvV7eRmMr2ZzaYTG28Dk77Z0FypVKHs/fv9xyv0X008QqCggYwjzInJqQ69bDbhDvXW5aCOhTknjBILYbeq8GKNFxQ3j9xYwR1eIr/5lF99Vf+GKhFXs1xiEeE2CfISUwQ4pdAhipFLKa/LejpjJtMokSKbKbax7YFvJD+GtZG0RT4VezeecF9HKr/8WurtKz9+am8lHYw43KensafpxgnEQwhCulrLZ3OrS1vjI1t3f0/3DZQuXzN+7kU/XEY9V3DPVdJzlfZcZT29vOcKv/Qz/+5HfukH2tNDei55oD097FIHIr+HwNFTgXt6zsYZ53YPnV0D7umhH4F//wP58ScMtNpr/tgr9Q7knz5H6+uWoliEw5BF6gDlAOu4FnMsBp9Hr70LmZ4+Tug0kf/z8xnn8EkXYPC17Jg2FhVrfBBim4Zdq5FK2ZTrRFWIpiJkIui7FiNhOBVheQ8QhQAAGG5JREFUZwtWIeAUzDBddwuK+3pDfzor+eJmQXHFIgTEpoQdIx4MwTErX7WmZ7MvfflIXCtorm65KnOzdXd+Aw8H0uHVcqHmCOLpcA+GTlpomCL2QBwIbHjEA4wFxBPK3hrN3vYZXeK56ncFgHuu+a1rfn7NT/sC1hHxOMA9fvdG0L3pt2/5yNXRSv/QxthcKisplGAgynNvnyQeSsx8Lv3wwb2Rl2OxxdhKLBYK+oMBf2Jrq1qtJhKJQCCwurqaTqf9gcDY+PibeDyZSm0lEtNTUwGfL5fdkYr52dBMwOfLp7NI0fOZYig4GwnPVUt5gvVavSJVCsV8NrW15RubHB+bzGbzXm+RMCHO/SR/24JfgHgYuACglQa3VO4oHPhD5y7iLmFeVwt00IHmMhtR16RwVOFuvOiORPHdaeX36WpwQy8RV7ddCtYeuEgQcgPiYULnkYMM19S1ZDI57dseHkk/H84/GZIevZAevSh28Lz4CCABIF96NCQ9Gs4/fpl5/DL7+GXl4bBy72m1/3b9yvXK40F7K2ljDEv3fB7xMAj3IkOVa4Wd9NZSdHns1dLd31dv3Ny6PpC9PpDt7ctd6ctduZ7r7c/1DuSvDBSv9BcvXyte7i1cvpK/cjl/5WeBn44S3s9P73O9P38SZ9eZu3KOGnp/zh9DofdysfdyrvdKvu9q9ebN8s2bmTt3ciNjxtZbJtfBLxUuDhdz6MUEdhjnc9zLuaCdkz4mFLwFABhl4EUD99hMOI6EuoZpSQW09bYaX83H3+S3EpV8UdV0g8NKobCIAaw+Y8HyBQ5MTHEYcRlxq4YbiiuDswX/OpI0mKQPs6iF4ylsQwbXs22T2lLN9s1mh33FyJpR9IiHuzkgHjIExFORag7pjBZyKXcwjPsGirM4g/nfHHOGxLA8IJ54gQ6+zt0ey932A/Hc8Ln9nsfjd/v8Tp/f6gvw6wAq9g44Oj7rlg/cnZt+99eA82sA947k7/pSc+ulcl1HSOUUnSS3k/POIB4xIIkTYuRz6Qf37z59/HRibCIYCETmwslEol6raZq2tbXl9/tXVlYSicTY+PiL4aFAMBiafR0IBoeGhoIBfw56fDJz4dlwKFQrVTiitYoyH4mGZkJlKaepteT21mIsuhCZnQ0Enj16Oj42mclkwXHr+K4n3/Y/KfebU0YD/veyKWZMx1ZZwduStinpW2WcqJJkhaTKJF3SygrSMdAO2HiMgSXDmMkcjTlreWd0wbw7Kd+dqsxsoBJ2NO6AeeYFBo72jGKGsWNqjlbR15bTzwczv93JDtyqXb2hXRlQewfkqzeOQ7l6S7n6i3L1V+XqHbn3buXqvWLfvfz1e7Wrd2vX7sjXftUvXy8/HGSbCW6aMI3bm359qoQog1t+D0yQbmrVWiW5nVyKLsxOTYRfDL5+/CD88P7Cw0dLjx7FHj5cfngv+vB+9OGjxYdPYg+exB5CZuzhA4H7sYf3Yg/vxh7e6WLp4Z3FM7F0rHD3rA8S/5FKYg9/F/d2V+whvfjgzuKD31ae3E2MPMlODxfDgfKbFVzMWZpiYcwoOxrADpPzxJgfysV77swGP1Ww/8sHMGOagMEYEtrFGExthNE5lDiqwrNpcyUmhWaSoZlkJFbY3FFqOiJilSIIvTEMy4OIgTMWg3XaOHbqihNeVQZfF/3rqKDC5FKHMhviPRApw4yaAAjf1ep2MJId9uXDb7S87KjMqWMnXXZCK/rLmUxkrVaswXwfC0P3DqaOyRwMET/RFQUNEzOKMGUmseuGvV6gz17nbo3nbvm1W356y2cLJ8a+5QPc8Fn9fnZdoD/A+wN2v8++NcVuT9m3pp3bU/adSfzreOmOPx1OqFmZaYgwqjBqnF8/OEig04zFp14Yw3CTMLeVERh7ls/tDD557Pf50tvbhXy+Wi7rmmbqhizLm5ubwWBwZWVlc3NzZGRkbGxseXl5U2zxeDyV3pblelHKv34dmpudrUgliki5XA/PRmaCwXIhk04lxyfHpwO++MpSfHlpfPjV+OjEzk6GEO+jQc//IH/fkn898TDMrKrOVpOlyUhq+HVmOFwajkjDkeKrSC64kktWzBrmMDxeEI/3KjB1DOq8zTrjEeP+pHx/qhJaw2Xk6NDqYJCit1GhOEA7FFGkcbWibG/mQoH8yEjxxVBt8IXyBCAPvqgPvqgBnov9UG3wZXVwpDI4Wh4cKz0blwTUJ2Pag+e1G7/WL1+XHj5hmwnbNG1v7jWsl3Hadpx4KGUMM6IahlSpbKbSseWVcDA4Pz0eHnsZfjU0/2o4+mp48dVQ9NWLyMjQ7MjL1yMj4ZGRyKtX84CXxzA8/+pPiIwMn4U/F/7gXO9n5NWZNYwMR85RibhD727hhqMjL0XlL2ITw29Dk/nliJxYN/MZKlc5Mhj1Jj5Aw2fgnXrtHz5MECrxliE5Ta7/0/nC+mIm2GDMmzviyRBYhxJH16ySRBLJenxNiq+VNlJyumxWTYxglgj4MIwRmyGbGg4xbEpsalvYkTUnHK+/COd8a1pOhiGfsOAArP0Jy1hhYpmUw/Uoqyv23JI0OlOaidXSZadmOFXdSeadYFQbfZ2PbWmSbGECgQpGGekQjwMTGkTXExAPMTFhBmI1ja3ljcHQ9q3xxMBkbmCiPDBRGZgodTBZui7QN1m6Nlnum6r0Tdf6puXr0+Z1GGXArk+aNyYqv03ngltq1nBk7FBw/1QhmfOqyJHiiWVvoH/sI+IhplTIDr14FpkLlyWJYEwxZphgjBVF6RJPMpkcHx/3+XyZTAZGuJmmpmm6riFkSlIhFAqGQ6FSQTJ1U5KqodDczEyokN+Jx1eeDz1fXYsbaq0m5WeDofHRiXT6gnjO+/r+xXKY2TXTeZOsjc5mBv35J/7KI3/5cVAaDOZH5tLxvFbFjkc8njqID7ljUmcza49HzAeT8oOpyuw6K5uOQRwGq9zaHOJyYLFgTjAjCLjHtJnJDdmqlpxS0ZGKTlFyCgJFyZE8FCAf0mWBiiMdQ77irMS1x4/Lff35R4/51pZjmjDbC+IH5yUewhi1uGaaUq22lcnG198uLkSj4dDcjC/sn4z4pyL+qQX/VNQ/OReYCgV9M0F/KBgIBwIRfyDiC36EmYivgznfzNnoljwjcXYNc0fXOqOGiC/0ZwQj/uBCMBCbnYnPh5OrMSmZUKSCqckUIwaWAfSGwzgQIUPoEBcW8QXxfKo5CRsGWIcK0cFKLuDxCCBsm8hRNbsmM1Wz67pdQ7ZMmAkLCVjCMAO30qaGLYjHIowhS9ac+bXKq9lUMC7nZSAwGznMtJHuaJojq5asEwOiDlzW7Fi8OhkqBhdKW1leVpyy7GykmT9S8c0XNzJmTbMxJZRhSgmFGaSOWDxHrJADPi5hBGFMTExlk21K6mg0+SD49o7/7R1/0sNv/uRvPsAvvsQt39bN6cSN6eSN6e2Bqe2+idS1cenaeL1vQr4+Xv49KM0kcEqxa9QxId7IuKUxjj4lwPfHzyIeuFvGiCkVcy+eD0bnI3KtxoBUO21e1/WNjY1gMLi2tpbNZiORyOjo6NLSUi6Xy2azyWRSkoqaphQL0MczGwpJ+SJGpCTVXr+OhEKhXD79dnP96bPB2cjczvbm2vLi6MtX4+OT6dQOAatMtI/3d/qPTX0Rj8fRsLOV0Xzz+ZGQ9CJYfRYsvwiVR8JSYKmwVUQ1E9x9YJ2jiBVm4LxvZI6IZ7oa3rDKpqML4oFFcWGxDo7AcgbiAaeHYWoRJtYXhSU/MHIwLDrlwcbYxqb1HtjCAC/TxqaDTEc3nXSyNjSYv3E98/iRldh0TN3xZuWcm3hAjTnTTLNcr6cLxWQqvbG2vrK6AhHeaCQajSwuzi8vza8uzcdi0ejy4sLyUjQWiy3FYovLsaiHlVjUw2os+ubrQzwWPYaFleXo6pvYm7XV+Nrqm8TbTSmf12TZhCglbKJdc3gxHRlSQTkXHs8nPzG8Izwo6Lk73gA22EOEDIJkMEKHiY8+rEnDLYNZiDJMGCEU7DFiCGBsYmzSmsyjb/JjoY1wvFKqgw3HkYMNp1azM3mylVKSmUpdN03GFeQkM/rr+UIgnF3ekHOSnSni2HrNP5eNrEg7ElIMTigmDK4GY+o84vHm9UDUgjLwFjAiDDG7htlmWVuvmBt1c6OOBehGjQHqbL3O43UrXrff1J2lMp/dMSbWKveDudvjmVujO/d8mdCmuaM4dWKZMIpcmIDCMfukBLsFTiMe6H32CIYiqZAdeTUcf7OqqQo4bkcwTXNnZycajW5vb8uynM/nQ6HQC7ENDQ09f/58ZWVZ05RqpRxbii7OL5SLEkGkUpaXFlcWF5fK5UJRyvuC/uGRkdGXzydHXwZ9vnA4ksnkMAbiEcx9FMPp3vE/LvENdKf8pRvQgmGQclXPFNXtopEo4kQRJYsoVUQ5ydAMjgm4L4RSfAST2iq14xlrNKLfn6zfn64E3+CiauswBse2vOHXwtzqngIzij3PH1wO6g0n9T54EMOFDa4AHUIUi4ZBLUIsgi2CLIpsgmCc0M629PL5zs3+zNPHVmLT1lVGvbHbXg0nCu74jYvb4dQwDVmRy9VquSQVs5nMTmo7mUgmNpPJre1UMpVKplOJZDqZTG8nU7ClU+l0aif1HplU6mtGNpU6jkw6ldnZyeSy2WKxWK/WDFU3TOi44x25Q/RGoPsWkHgR3hs7UaoXmczTWO/DJGRpUViFBgZWHwFyOAYtNik3GDdBXYGwoEWBCEEhDdNUddMwab1urMST/tnl6GqmWqecQmtSDbtYsZbeVKZmNkORt9v5qoKZQe2qaq1v1vyvU9MzSd/Mum8mFpxbD8fSyR2lrjAElgOBQIOYyg9dRGIJHQLzIjhclgjmASWwCGUmtWVkyZQqlKmUq9RSCbRxldoKtRVmy8yuc1ux7DKy4zuVF765+69Cz6aW4hm5Ylg6tQ2Yx8ShpwaWxRaXPbeOMG8sOhH6JiQDPhlFYg/zMhjFBBuqXDc01ROu+JaA7AkhXkjNMAzgUow9+hENN5XNZuv1KnAwwbqqGqrK4SqcEktRdFVVqaljDF+DSq2qyRWtVlbrsqroCIHgqDgRBsL/07e/nnhAogQTE2EDUQ0xFXEVMQ0xHXETdb9OoEldYGrr1F7L8JGIen+qdneyFFw1gHhEU+Ew6aDzorqnfOaLA+3ipMM9jCKLGrap2TtJ6eWLnZsD2adP7ETC1mGCMQKcvXXvopPAGBuGoWqaIstyrVqFYf6SJBUlqViGrVQuS96fcrlcAVQq5Wr5PUSed6RzXCxd6C1gWBHF3+87hyqVqodOlUend/MrndOrcLUP8RmVHK9QpGteTrVardVqiqwYumEiEYk5EltXQCLDo+qjV3hU5uLvSRLwJOcd6XwMjxWDHLCrSJfavTKM0femEoS8EMGEy4qRTO4sxlbX3qardQOLNT5VBGPY4ptaMJwKzm0mM1UZUWTZGrGLFfpms7qwnItEk9HlzTfr6VSmUqubCEZPW9BcvUgbsB0QDyEWJfDNFXs4DsYgg3n9FApwMPrgJAbp42AWtmxswYA62SBvtzOj04FxXyi2lqiqCHXOhX+xIBjEwtCx9Hnbe3G8P08Maur89CxYqPWDksdZgXhsirGuA6koiqKqqolMcO1Ix9ICY0s8L7AJIQzyMfRGA9VhIRoKkcjOAxx/v+/v7J+X+jLE87lyxNQ2qL2eoeML6v2p6n1feXbdlDRbw94aHceVo9PSzn0JRmAmHqyVI6ZJQHMRxKPbpmLvJEsvX2Ru3Mg9fWonkramMQp2EfpAGc99MYSQJjZVVWVZVhRFhw06JEWisxNFdE0zBHTRY3n8+H8m7V317P2/cCVN0wU6T2QYBkII4+Ot+tzyuij4b0mg2xa6CU4puCXibViEWrpuynVZUQ3NpCoCT0LFdlW1U1k+O78TjiZzZUNGWKNcwVZVs4p1WqySikzLNaMmG4YB32FvqAgBbwA+rRRooOuNwdJlAt02002c8WwM/lUXtzClqm6kdjKRhej6xmZdVjF4EwBvxjgRLt2/QDxnXFscOi8BeLrtuT5EbEhsx/npz9f6XIr889n/lF/feML6i/dYzKvu2gvHX9uJd4II14i1tmOMztfvTVXuTkmhuFpQLY1wz44AB5ggca6n/SLjxLr+nAkuMVgeHBYIRRATEOECgxPV0mtWaqs0/CJzYyD35Im1lbBU1RKnw6zwc2+eqnhBWvClMUYIGYah67rnrR+ZTZ4Yzrv39Pvj0l7+X7b/+AaO53RfsSet7ns/t/AuCv47Eui2heMJj3hg7G6ny5wyhJmOWF2nKuIKskp1vrYlB8OJ5bVsRUUqMVWCDG5pxFIxtESTCIcGvBxYEIp5noew5o/o5/gVRZxbBKnO+TBi1QUOXUaE6iYqV2s7mVy5WtPhM086IBQdw2c1yXPexnmKdY2q7iQbr4FfqPrZ0vsyxOPdU/cL1f2GnnaviEB7WM+Z4wvVR1PSo6lcaLVWVGERdooZDL4GH9/Tva7Gn1bZ8XzvFI94YHJel3gY9ohnszz0PDswkH/yxNoUxAO2FmznZTbBKl3zp3vtrnae04L5oHPx+FlnHDrOed1ix8/tprtHvUQ3v5v4ZIFuyY8T3ae+SPy1Eui2BUh4i+hA1At6PCG2g0Q0iDOORNBbMZmCqIp5sYZWN4rL69lcSdMJ1ynSCTEo1wmsc4UILBLXWSdOBAjAyxHVdmv+M/38K8QDAyLEokCEcoSJgbCJBOUcI5uvgXi8Fypmf3So5699xX/Xq33T+su35tF2/ivvt9pu46BquusZsriFljb1TNXi7w4arYOD5sFB4+Cg2W63mqLCdqvl4TzVd08R9TQP2s12u9lst/YPmu8O95xDTbZiS3hqis4vHMrK4bt3h02ovSWucZ4LtFqtZtO7ChT3Hr1xbDtnJX+vYu1Ttr/XU/z977bbFk5ONFsHrVb7oN1utQ72W4d7zYM/Wu0/Wm37XdMg70y2u7vfbrQPGwet/VbrjwZgv9FuNNqN5kGz1UGj0Ww0Wk1oFwft9kFb1HnUBr3rHrQ6meeXaLvVPoBbOzj0Es1W20Oj1T4R79vY+S/ynyvp6fuB2P5ztf6Ta/qSxNNsNr0v8BETnao8+63WbqOlUnenSjcLeCunFxXL3jsUxNM+hMbRbn028bRBlzsvt90G1hHE02q2W42Dxt7hH+6hptixJTLZJZ4/DkX5U2/0JFXpPl030Wg0PDby9t7P7tF/RqIriQ84qJt/kfjvS+AEvmk2wbISaDVbB42GaALtg0brcL91sNds7TVbfzQPdvcP3b32XvNgv9VutJv7rdZ+s7XXaHjEA7YZcI/ggEarKdBqtdttYLKP8NnE02i2GkdMA1cRP0/km27mZzXJ/4bku3r+36j8n1fnFyCezxVis9XaF4aYtddA9p5h7Sv0Hbabzt5Bo9luN1qCeD7W+I+vA83liGk6R5vAVx1jCloOZDdbQDz7h3vuoSbbsUUyOYUj84d1+fDdH23BEsLC+7j+i5wLCXxVEviYAz7MaTRae3v7LXBf2sAureZes7HXFEwjfjZaDYFWo9UlA2HitdvQXKDFfBKfTTzQAv9MNp7rs9+AezgRX4p4ukYkREHE9lVpwFd7M38L4gFV22u13zXb71qH71qHbvNwt3G41zxstMBrOWi0DxoH7Q8bwMcyFyxzLBv0WzQnT5WP/B/gp8NG43Bv91CV3dginZzkCwuHtfrhu3ft/f1mo+Gd+KV0/dgTXCQvJHCGBD5BCR84KJ5W7zcbgBbgiHUglnbUUrwm06WbT1xClPuXiAcIRtBPE/ZewO3oHk7gni/VGI8H0s94ExeHPpDA34J4OmbOPtDPwR+twz9ah3siMtDoeCteoOyDNvDBk57w8zTiOWg0D/cah657qNTfLUatiQk7EjmsVA4t6/DdXmu/4blFX0rXT3iSi6wLCZwggQ9axCd/givThP4aoBxv73GPyPRiA16Zv4Z4jhFME66+/2c36Ljrc9EYT3j/X3HWN96Isq9/byJkIKQjoooRODpiBiIIIYxg8Q9sMgQ/8TF8+pm8Or0BMyaCOa0mQsg0qKqjrETj6zjor979tdbbW//9d2NqynzzRsvmkKwi8S9vofDFdiGBr1cCx5vDGeluw4EnwcjEyPgIpjgfpgIch3j04xknpilCVJx3XkmJhokNmGN+Xlw0xvMK9+so97chHiEu0+MeA1EDUROagEc87D9FPF7DY6qmbCRTL0eTd35N9V6u/vhTsa8/8/u99OhE7W0C1WQK/2QLcLFdSOArlsCJNPBx5nviEcdOJx6Ykv8n4oEW+GHGx0UuiOcr1pEvdGv/Dy0lukItMb+wAAAAAElFTkSuQmCC)"
      ],
      "metadata": {
        "id": "qUfowH4fq_tR"
      }
    },
    {
      "cell_type": "markdown",
      "source": [
        "## Importação do Modelo"
      ],
      "metadata": {
        "id": "GviFgh1ssiLb"
      }
    },
    {
      "cell_type": "code",
      "source": [
        "from sklearn.linear_model import LinearRegression"
      ],
      "metadata": {
        "id": "S1Ajf1Gvsni1"
      },
      "execution_count": 214,
      "outputs": []
    },
    {
      "cell_type": "code",
      "source": [
        "reglin = LinearRegression()"
      ],
      "metadata": {
        "id": "p_AdiUM3tVv4"
      },
      "execution_count": 215,
      "outputs": []
    },
    {
      "cell_type": "markdown",
      "source": [
        "## Treinando o Modelo"
      ],
      "metadata": {
        "id": "lpsxP4lntaC6"
      }
    },
    {
      "cell_type": "code",
      "source": [
        "reglin.fit(x_treino,y_treino) #Passando os dados que foram separados para a maquina ser treinada."
      ],
      "metadata": {
        "colab": {
          "base_uri": "https://localhost:8080/",
          "height": 0
        },
        "id": "XtFT0ASEtY7Y",
        "outputId": "49b78797-7227-4e62-f111-d4e385e13a72"
      },
      "execution_count": 216,
      "outputs": [
        {
          "output_type": "execute_result",
          "data": {
            "text/plain": [
              "LinearRegression()"
            ],
            "text/html": [
              "<style>#sk-container-id-7 {\n",
              "  /* Definition of color scheme common for light and dark mode */\n",
              "  --sklearn-color-text: black;\n",
              "  --sklearn-color-line: gray;\n",
              "  /* Definition of color scheme for unfitted estimators */\n",
              "  --sklearn-color-unfitted-level-0: #fff5e6;\n",
              "  --sklearn-color-unfitted-level-1: #f6e4d2;\n",
              "  --sklearn-color-unfitted-level-2: #ffe0b3;\n",
              "  --sklearn-color-unfitted-level-3: chocolate;\n",
              "  /* Definition of color scheme for fitted estimators */\n",
              "  --sklearn-color-fitted-level-0: #f0f8ff;\n",
              "  --sklearn-color-fitted-level-1: #d4ebff;\n",
              "  --sklearn-color-fitted-level-2: #b3dbfd;\n",
              "  --sklearn-color-fitted-level-3: cornflowerblue;\n",
              "\n",
              "  /* Specific color for light theme */\n",
              "  --sklearn-color-text-on-default-background: var(--sg-text-color, var(--theme-code-foreground, var(--jp-content-font-color1, black)));\n",
              "  --sklearn-color-background: var(--sg-background-color, var(--theme-background, var(--jp-layout-color0, white)));\n",
              "  --sklearn-color-border-box: var(--sg-text-color, var(--theme-code-foreground, var(--jp-content-font-color1, black)));\n",
              "  --sklearn-color-icon: #696969;\n",
              "\n",
              "  @media (prefers-color-scheme: dark) {\n",
              "    /* Redefinition of color scheme for dark theme */\n",
              "    --sklearn-color-text-on-default-background: var(--sg-text-color, var(--theme-code-foreground, var(--jp-content-font-color1, white)));\n",
              "    --sklearn-color-background: var(--sg-background-color, var(--theme-background, var(--jp-layout-color0, #111)));\n",
              "    --sklearn-color-border-box: var(--sg-text-color, var(--theme-code-foreground, var(--jp-content-font-color1, white)));\n",
              "    --sklearn-color-icon: #878787;\n",
              "  }\n",
              "}\n",
              "\n",
              "#sk-container-id-7 {\n",
              "  color: var(--sklearn-color-text);\n",
              "}\n",
              "\n",
              "#sk-container-id-7 pre {\n",
              "  padding: 0;\n",
              "}\n",
              "\n",
              "#sk-container-id-7 input.sk-hidden--visually {\n",
              "  border: 0;\n",
              "  clip: rect(1px 1px 1px 1px);\n",
              "  clip: rect(1px, 1px, 1px, 1px);\n",
              "  height: 1px;\n",
              "  margin: -1px;\n",
              "  overflow: hidden;\n",
              "  padding: 0;\n",
              "  position: absolute;\n",
              "  width: 1px;\n",
              "}\n",
              "\n",
              "#sk-container-id-7 div.sk-dashed-wrapped {\n",
              "  border: 1px dashed var(--sklearn-color-line);\n",
              "  margin: 0 0.4em 0.5em 0.4em;\n",
              "  box-sizing: border-box;\n",
              "  padding-bottom: 0.4em;\n",
              "  background-color: var(--sklearn-color-background);\n",
              "}\n",
              "\n",
              "#sk-container-id-7 div.sk-container {\n",
              "  /* jupyter's `normalize.less` sets `[hidden] { display: none; }`\n",
              "     but bootstrap.min.css set `[hidden] { display: none !important; }`\n",
              "     so we also need the `!important` here to be able to override the\n",
              "     default hidden behavior on the sphinx rendered scikit-learn.org.\n",
              "     See: https://github.com/scikit-learn/scikit-learn/issues/21755 */\n",
              "  display: inline-block !important;\n",
              "  position: relative;\n",
              "}\n",
              "\n",
              "#sk-container-id-7 div.sk-text-repr-fallback {\n",
              "  display: none;\n",
              "}\n",
              "\n",
              "div.sk-parallel-item,\n",
              "div.sk-serial,\n",
              "div.sk-item {\n",
              "  /* draw centered vertical line to link estimators */\n",
              "  background-image: linear-gradient(var(--sklearn-color-text-on-default-background), var(--sklearn-color-text-on-default-background));\n",
              "  background-size: 2px 100%;\n",
              "  background-repeat: no-repeat;\n",
              "  background-position: center center;\n",
              "}\n",
              "\n",
              "/* Parallel-specific style estimator block */\n",
              "\n",
              "#sk-container-id-7 div.sk-parallel-item::after {\n",
              "  content: \"\";\n",
              "  width: 100%;\n",
              "  border-bottom: 2px solid var(--sklearn-color-text-on-default-background);\n",
              "  flex-grow: 1;\n",
              "}\n",
              "\n",
              "#sk-container-id-7 div.sk-parallel {\n",
              "  display: flex;\n",
              "  align-items: stretch;\n",
              "  justify-content: center;\n",
              "  background-color: var(--sklearn-color-background);\n",
              "  position: relative;\n",
              "}\n",
              "\n",
              "#sk-container-id-7 div.sk-parallel-item {\n",
              "  display: flex;\n",
              "  flex-direction: column;\n",
              "}\n",
              "\n",
              "#sk-container-id-7 div.sk-parallel-item:first-child::after {\n",
              "  align-self: flex-end;\n",
              "  width: 50%;\n",
              "}\n",
              "\n",
              "#sk-container-id-7 div.sk-parallel-item:last-child::after {\n",
              "  align-self: flex-start;\n",
              "  width: 50%;\n",
              "}\n",
              "\n",
              "#sk-container-id-7 div.sk-parallel-item:only-child::after {\n",
              "  width: 0;\n",
              "}\n",
              "\n",
              "/* Serial-specific style estimator block */\n",
              "\n",
              "#sk-container-id-7 div.sk-serial {\n",
              "  display: flex;\n",
              "  flex-direction: column;\n",
              "  align-items: center;\n",
              "  background-color: var(--sklearn-color-background);\n",
              "  padding-right: 1em;\n",
              "  padding-left: 1em;\n",
              "}\n",
              "\n",
              "\n",
              "/* Toggleable style: style used for estimator/Pipeline/ColumnTransformer box that is\n",
              "clickable and can be expanded/collapsed.\n",
              "- Pipeline and ColumnTransformer use this feature and define the default style\n",
              "- Estimators will overwrite some part of the style using the `sk-estimator` class\n",
              "*/\n",
              "\n",
              "/* Pipeline and ColumnTransformer style (default) */\n",
              "\n",
              "#sk-container-id-7 div.sk-toggleable {\n",
              "  /* Default theme specific background. It is overwritten whether we have a\n",
              "  specific estimator or a Pipeline/ColumnTransformer */\n",
              "  background-color: var(--sklearn-color-background);\n",
              "}\n",
              "\n",
              "/* Toggleable label */\n",
              "#sk-container-id-7 label.sk-toggleable__label {\n",
              "  cursor: pointer;\n",
              "  display: block;\n",
              "  width: 100%;\n",
              "  margin-bottom: 0;\n",
              "  padding: 0.5em;\n",
              "  box-sizing: border-box;\n",
              "  text-align: center;\n",
              "}\n",
              "\n",
              "#sk-container-id-7 label.sk-toggleable__label-arrow:before {\n",
              "  /* Arrow on the left of the label */\n",
              "  content: \"▸\";\n",
              "  float: left;\n",
              "  margin-right: 0.25em;\n",
              "  color: var(--sklearn-color-icon);\n",
              "}\n",
              "\n",
              "#sk-container-id-7 label.sk-toggleable__label-arrow:hover:before {\n",
              "  color: var(--sklearn-color-text);\n",
              "}\n",
              "\n",
              "/* Toggleable content - dropdown */\n",
              "\n",
              "#sk-container-id-7 div.sk-toggleable__content {\n",
              "  max-height: 0;\n",
              "  max-width: 0;\n",
              "  overflow: hidden;\n",
              "  text-align: left;\n",
              "  /* unfitted */\n",
              "  background-color: var(--sklearn-color-unfitted-level-0);\n",
              "}\n",
              "\n",
              "#sk-container-id-7 div.sk-toggleable__content.fitted {\n",
              "  /* fitted */\n",
              "  background-color: var(--sklearn-color-fitted-level-0);\n",
              "}\n",
              "\n",
              "#sk-container-id-7 div.sk-toggleable__content pre {\n",
              "  margin: 0.2em;\n",
              "  border-radius: 0.25em;\n",
              "  color: var(--sklearn-color-text);\n",
              "  /* unfitted */\n",
              "  background-color: var(--sklearn-color-unfitted-level-0);\n",
              "}\n",
              "\n",
              "#sk-container-id-7 div.sk-toggleable__content.fitted pre {\n",
              "  /* unfitted */\n",
              "  background-color: var(--sklearn-color-fitted-level-0);\n",
              "}\n",
              "\n",
              "#sk-container-id-7 input.sk-toggleable__control:checked~div.sk-toggleable__content {\n",
              "  /* Expand drop-down */\n",
              "  max-height: 200px;\n",
              "  max-width: 100%;\n",
              "  overflow: auto;\n",
              "}\n",
              "\n",
              "#sk-container-id-7 input.sk-toggleable__control:checked~label.sk-toggleable__label-arrow:before {\n",
              "  content: \"▾\";\n",
              "}\n",
              "\n",
              "/* Pipeline/ColumnTransformer-specific style */\n",
              "\n",
              "#sk-container-id-7 div.sk-label input.sk-toggleable__control:checked~label.sk-toggleable__label {\n",
              "  color: var(--sklearn-color-text);\n",
              "  background-color: var(--sklearn-color-unfitted-level-2);\n",
              "}\n",
              "\n",
              "#sk-container-id-7 div.sk-label.fitted input.sk-toggleable__control:checked~label.sk-toggleable__label {\n",
              "  background-color: var(--sklearn-color-fitted-level-2);\n",
              "}\n",
              "\n",
              "/* Estimator-specific style */\n",
              "\n",
              "/* Colorize estimator box */\n",
              "#sk-container-id-7 div.sk-estimator input.sk-toggleable__control:checked~label.sk-toggleable__label {\n",
              "  /* unfitted */\n",
              "  background-color: var(--sklearn-color-unfitted-level-2);\n",
              "}\n",
              "\n",
              "#sk-container-id-7 div.sk-estimator.fitted input.sk-toggleable__control:checked~label.sk-toggleable__label {\n",
              "  /* fitted */\n",
              "  background-color: var(--sklearn-color-fitted-level-2);\n",
              "}\n",
              "\n",
              "#sk-container-id-7 div.sk-label label.sk-toggleable__label,\n",
              "#sk-container-id-7 div.sk-label label {\n",
              "  /* The background is the default theme color */\n",
              "  color: var(--sklearn-color-text-on-default-background);\n",
              "}\n",
              "\n",
              "/* On hover, darken the color of the background */\n",
              "#sk-container-id-7 div.sk-label:hover label.sk-toggleable__label {\n",
              "  color: var(--sklearn-color-text);\n",
              "  background-color: var(--sklearn-color-unfitted-level-2);\n",
              "}\n",
              "\n",
              "/* Label box, darken color on hover, fitted */\n",
              "#sk-container-id-7 div.sk-label.fitted:hover label.sk-toggleable__label.fitted {\n",
              "  color: var(--sklearn-color-text);\n",
              "  background-color: var(--sklearn-color-fitted-level-2);\n",
              "}\n",
              "\n",
              "/* Estimator label */\n",
              "\n",
              "#sk-container-id-7 div.sk-label label {\n",
              "  font-family: monospace;\n",
              "  font-weight: bold;\n",
              "  display: inline-block;\n",
              "  line-height: 1.2em;\n",
              "}\n",
              "\n",
              "#sk-container-id-7 div.sk-label-container {\n",
              "  text-align: center;\n",
              "}\n",
              "\n",
              "/* Estimator-specific */\n",
              "#sk-container-id-7 div.sk-estimator {\n",
              "  font-family: monospace;\n",
              "  border: 1px dotted var(--sklearn-color-border-box);\n",
              "  border-radius: 0.25em;\n",
              "  box-sizing: border-box;\n",
              "  margin-bottom: 0.5em;\n",
              "  /* unfitted */\n",
              "  background-color: var(--sklearn-color-unfitted-level-0);\n",
              "}\n",
              "\n",
              "#sk-container-id-7 div.sk-estimator.fitted {\n",
              "  /* fitted */\n",
              "  background-color: var(--sklearn-color-fitted-level-0);\n",
              "}\n",
              "\n",
              "/* on hover */\n",
              "#sk-container-id-7 div.sk-estimator:hover {\n",
              "  /* unfitted */\n",
              "  background-color: var(--sklearn-color-unfitted-level-2);\n",
              "}\n",
              "\n",
              "#sk-container-id-7 div.sk-estimator.fitted:hover {\n",
              "  /* fitted */\n",
              "  background-color: var(--sklearn-color-fitted-level-2);\n",
              "}\n",
              "\n",
              "/* Specification for estimator info (e.g. \"i\" and \"?\") */\n",
              "\n",
              "/* Common style for \"i\" and \"?\" */\n",
              "\n",
              ".sk-estimator-doc-link,\n",
              "a:link.sk-estimator-doc-link,\n",
              "a:visited.sk-estimator-doc-link {\n",
              "  float: right;\n",
              "  font-size: smaller;\n",
              "  line-height: 1em;\n",
              "  font-family: monospace;\n",
              "  background-color: var(--sklearn-color-background);\n",
              "  border-radius: 1em;\n",
              "  height: 1em;\n",
              "  width: 1em;\n",
              "  text-decoration: none !important;\n",
              "  margin-left: 1ex;\n",
              "  /* unfitted */\n",
              "  border: var(--sklearn-color-unfitted-level-1) 1pt solid;\n",
              "  color: var(--sklearn-color-unfitted-level-1);\n",
              "}\n",
              "\n",
              ".sk-estimator-doc-link.fitted,\n",
              "a:link.sk-estimator-doc-link.fitted,\n",
              "a:visited.sk-estimator-doc-link.fitted {\n",
              "  /* fitted */\n",
              "  border: var(--sklearn-color-fitted-level-1) 1pt solid;\n",
              "  color: var(--sklearn-color-fitted-level-1);\n",
              "}\n",
              "\n",
              "/* On hover */\n",
              "div.sk-estimator:hover .sk-estimator-doc-link:hover,\n",
              ".sk-estimator-doc-link:hover,\n",
              "div.sk-label-container:hover .sk-estimator-doc-link:hover,\n",
              ".sk-estimator-doc-link:hover {\n",
              "  /* unfitted */\n",
              "  background-color: var(--sklearn-color-unfitted-level-3);\n",
              "  color: var(--sklearn-color-background);\n",
              "  text-decoration: none;\n",
              "}\n",
              "\n",
              "div.sk-estimator.fitted:hover .sk-estimator-doc-link.fitted:hover,\n",
              ".sk-estimator-doc-link.fitted:hover,\n",
              "div.sk-label-container:hover .sk-estimator-doc-link.fitted:hover,\n",
              ".sk-estimator-doc-link.fitted:hover {\n",
              "  /* fitted */\n",
              "  background-color: var(--sklearn-color-fitted-level-3);\n",
              "  color: var(--sklearn-color-background);\n",
              "  text-decoration: none;\n",
              "}\n",
              "\n",
              "/* Span, style for the box shown on hovering the info icon */\n",
              ".sk-estimator-doc-link span {\n",
              "  display: none;\n",
              "  z-index: 9999;\n",
              "  position: relative;\n",
              "  font-weight: normal;\n",
              "  right: .2ex;\n",
              "  padding: .5ex;\n",
              "  margin: .5ex;\n",
              "  width: min-content;\n",
              "  min-width: 20ex;\n",
              "  max-width: 50ex;\n",
              "  color: var(--sklearn-color-text);\n",
              "  box-shadow: 2pt 2pt 4pt #999;\n",
              "  /* unfitted */\n",
              "  background: var(--sklearn-color-unfitted-level-0);\n",
              "  border: .5pt solid var(--sklearn-color-unfitted-level-3);\n",
              "}\n",
              "\n",
              ".sk-estimator-doc-link.fitted span {\n",
              "  /* fitted */\n",
              "  background: var(--sklearn-color-fitted-level-0);\n",
              "  border: var(--sklearn-color-fitted-level-3);\n",
              "}\n",
              "\n",
              ".sk-estimator-doc-link:hover span {\n",
              "  display: block;\n",
              "}\n",
              "\n",
              "/* \"?\"-specific style due to the `<a>` HTML tag */\n",
              "\n",
              "#sk-container-id-7 a.estimator_doc_link {\n",
              "  float: right;\n",
              "  font-size: 1rem;\n",
              "  line-height: 1em;\n",
              "  font-family: monospace;\n",
              "  background-color: var(--sklearn-color-background);\n",
              "  border-radius: 1rem;\n",
              "  height: 1rem;\n",
              "  width: 1rem;\n",
              "  text-decoration: none;\n",
              "  /* unfitted */\n",
              "  color: var(--sklearn-color-unfitted-level-1);\n",
              "  border: var(--sklearn-color-unfitted-level-1) 1pt solid;\n",
              "}\n",
              "\n",
              "#sk-container-id-7 a.estimator_doc_link.fitted {\n",
              "  /* fitted */\n",
              "  border: var(--sklearn-color-fitted-level-1) 1pt solid;\n",
              "  color: var(--sklearn-color-fitted-level-1);\n",
              "}\n",
              "\n",
              "/* On hover */\n",
              "#sk-container-id-7 a.estimator_doc_link:hover {\n",
              "  /* unfitted */\n",
              "  background-color: var(--sklearn-color-unfitted-level-3);\n",
              "  color: var(--sklearn-color-background);\n",
              "  text-decoration: none;\n",
              "}\n",
              "\n",
              "#sk-container-id-7 a.estimator_doc_link.fitted:hover {\n",
              "  /* fitted */\n",
              "  background-color: var(--sklearn-color-fitted-level-3);\n",
              "}\n",
              "</style><div id=\"sk-container-id-7\" class=\"sk-top-container\"><div class=\"sk-text-repr-fallback\"><pre>LinearRegression()</pre><b>In a Jupyter environment, please rerun this cell to show the HTML representation or trust the notebook. <br />On GitHub, the HTML representation is unable to render, please try loading this page with nbviewer.org.</b></div><div class=\"sk-container\" hidden><div class=\"sk-item\"><div class=\"sk-estimator fitted sk-toggleable\"><input class=\"sk-toggleable__control sk-hidden--visually\" id=\"sk-estimator-id-7\" type=\"checkbox\" checked><label for=\"sk-estimator-id-7\" class=\"sk-toggleable__label fitted sk-toggleable__label-arrow fitted\">&nbsp;&nbsp;LinearRegression<a class=\"sk-estimator-doc-link fitted\" rel=\"noreferrer\" target=\"_blank\" href=\"https://scikit-learn.org/1.5/modules/generated/sklearn.linear_model.LinearRegression.html\">?<span>Documentation for LinearRegression</span></a><span class=\"sk-estimator-doc-link fitted\">i<span>Fitted</span></span></label><div class=\"sk-toggleable__content fitted\"><pre>LinearRegression()</pre></div> </div></div></div></div>"
            ]
          },
          "metadata": {},
          "execution_count": 216
        }
      ]
    },
    {
      "cell_type": "markdown",
      "source": [
        "## Previsao"
      ],
      "metadata": {
        "id": "D-fPh0nj0Pyr"
      }
    },
    {
      "cell_type": "code",
      "source": [
        "previsao = reglin.predict(x_teste)\n",
        "previsao"
      ],
      "metadata": {
        "colab": {
          "base_uri": "https://localhost:8080/"
        },
        "id": "XioK8zWI0Q5e",
        "outputId": "c8cf764e-c758-4620-dd21-84824e91b051"
      },
      "execution_count": 217,
      "outputs": [
        {
          "output_type": "execute_result",
          "data": {
            "text/plain": [
              "array([5623.1281873 , 4754.95165695, 3574.21355134, 7415.52487912,\n",
              "       2937.23821214, 4481.95243387, 3609.51174034, 3084.8023071 ,\n",
              "       4351.44451592, 5094.74934516, 7198.74102952, 3904.90559751,\n",
              "       5849.64713958, 6988.33276087, 5792.16939218, 6851.50974743,\n",
              "       3145.91450098, 5513.20509734, 4802.057227  , 6145.77335985])"
            ]
          },
          "metadata": {},
          "execution_count": 217
        }
      ]
    },
    {
      "cell_type": "markdown",
      "source": [
        "## Avaliacao da performance"
      ],
      "metadata": {
        "id": "zQNT5t8H49w1"
      }
    },
    {
      "cell_type": "code",
      "source": [
        "from sklearn import metrics"
      ],
      "metadata": {
        "id": "P0i3e9d-41FG"
      },
      "execution_count": 218,
      "outputs": []
    },
    {
      "cell_type": "markdown",
      "source": [
        "**MAE**"
      ],
      "metadata": {
        "id": "GZXj8PkX-J8N"
      }
    },
    {
      "cell_type": "code",
      "source": [
        "metrics.mean_absolute_error(y_teste,previsao)"
      ],
      "metadata": {
        "colab": {
          "base_uri": "https://localhost:8080/"
        },
        "id": "7a4wu4xz5YGt",
        "outputId": "7c75fa62-b78d-403f-a05f-8fb1a1f900e1"
      },
      "execution_count": 219,
      "outputs": [
        {
          "output_type": "execute_result",
          "data": {
            "text/plain": [
              "22.78326973384219"
            ]
          },
          "metadata": {},
          "execution_count": 219
        }
      ]
    },
    {
      "cell_type": "markdown",
      "source": [
        "**RMSE**"
      ],
      "metadata": {
        "id": "tTgGM--T-MTD"
      }
    },
    {
      "cell_type": "code",
      "source": [
        "np.sqrt(metrics.mean_squared_error(y_teste,previsao))"
      ],
      "metadata": {
        "colab": {
          "base_uri": "https://localhost:8080/"
        },
        "id": "zOKoRJAA5dFD",
        "outputId": "405081e1-4183-4535-e489-504b1680ba25"
      },
      "execution_count": 220,
      "outputs": [
        {
          "output_type": "execute_result",
          "data": {
            "text/plain": [
              "31.423389583773105"
            ]
          },
          "metadata": {},
          "execution_count": 220
        }
      ]
    },
    {
      "cell_type": "markdown",
      "source": [
        "*O tipo de avaliação MAE e RMSE são os mais comuns e usados. MAE lhe dar a media de erros entre o que foi previsto pela a maquina e o resultado no y_teste. O RMSE ele tem o mesmo conceito so que elevando a raiz quadrada, assim dando mais peso*"
      ],
      "metadata": {
        "id": "u3PwlNUL-l4K"
      }
    }
  ]
}